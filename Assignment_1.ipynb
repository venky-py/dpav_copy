{
 "cells": [
  {
   "cell_type": "markdown",
   "id": "bcad9969-ab05-4583-892c-df953748625f",
   "metadata": {
    "jp-MarkdownHeadingCollapsed": true
   },
   "source": [
    "<h3>Statement 1</h3>"
   ]
  },
  {
   "cell_type": "markdown",
   "id": "5d1b8b54-0bef-4e28-a8c3-95258988e821",
   "metadata": {},
   "source": [
    "Create two Numpy arrays, a and b, of the same size and filled with random values.\n",
    "Then,perform the following operations on the arrays:\n",
    "1. Add the two arrays together.\n",
    "2. Substract the two arrays from each other.\n",
    "3. Multiply the two arrays together.\n",
    "4. Divide the two arrays by each other.\n",
    "5. Take the dot product of the two arrays."
   ]
  },
  {
   "cell_type": "code",
   "execution_count": 7,
   "id": "bfb675a1-b140-4c04-a2de-3fb891a2f859",
   "metadata": {},
   "outputs": [],
   "source": [
    "import numpy as np"
   ]
  },
  {
   "cell_type": "code",
   "execution_count": 9,
   "id": "b82831c5-fe8e-4adc-8d90-d37753829f11",
   "metadata": {},
   "outputs": [],
   "source": [
    "a = np.array([0,1,2,3,4,5,6,7,8,9])\n",
    "b = np.array([23,24,25,26,27,28,29,30,31,32])"
   ]
  },
  {
   "cell_type": "code",
   "execution_count": 15,
   "id": "28775421-add8-4e9a-8405-c87a9224415d",
   "metadata": {},
   "outputs": [
    {
     "data": {
      "text/plain": [
       "(array([0, 1, 2, 3, 4, 5, 6, 7, 8, 9]),\n",
       " array([23, 24, 25, 26, 27, 28, 29, 30, 31, 32]))"
      ]
     },
     "execution_count": 15,
     "metadata": {},
     "output_type": "execute_result"
    }
   ],
   "source": [
    "a, b"
   ]
  },
  {
   "cell_type": "code",
   "execution_count": 17,
   "id": "a6975288-52c7-4073-8fb3-1f4b7b7d644a",
   "metadata": {},
   "outputs": [
    {
     "data": {
      "text/plain": [
       "array([23, 25, 27, 29, 31, 33, 35, 37, 39, 41])"
      ]
     },
     "execution_count": 17,
     "metadata": {},
     "output_type": "execute_result"
    }
   ],
   "source": [
    "sum = a+b\n",
    "sum"
   ]
  },
  {
   "cell_type": "code",
   "execution_count": 21,
   "id": "f647593f-d081-43c8-b826-4fde7b5ad0ac",
   "metadata": {},
   "outputs": [
    {
     "data": {
      "text/plain": [
       "array([23, 23, 23, 23, 23, 23, 23, 23, 23, 23])"
      ]
     },
     "execution_count": 21,
     "metadata": {},
     "output_type": "execute_result"
    }
   ],
   "source": [
    "diff = b-a\n",
    "diff"
   ]
  },
  {
   "cell_type": "code",
   "execution_count": 23,
   "id": "0235ad49-ffdb-4d39-9261-d5a3c6c9d83a",
   "metadata": {},
   "outputs": [
    {
     "data": {
      "text/plain": [
       "array([  0,  24,  50,  78, 108, 140, 174, 210, 248, 288])"
      ]
     },
     "execution_count": 23,
     "metadata": {},
     "output_type": "execute_result"
    }
   ],
   "source": [
    "product = a*b\n",
    "product"
   ]
  },
  {
   "cell_type": "code",
   "execution_count": 31,
   "id": "9e445098-62cf-4854-9a0e-20e5053a2d5e",
   "metadata": {},
   "outputs": [
    {
     "data": {
      "text/plain": [
       "array([0.        , 0.04166667, 0.08      , 0.11538462, 0.14814815,\n",
       "       0.17857143, 0.20689655, 0.23333333, 0.25806452, 0.28125   ])"
      ]
     },
     "execution_count": 31,
     "metadata": {},
     "output_type": "execute_result"
    }
   ],
   "source": [
    "div = a/b\n",
    "div"
   ]
  },
  {
   "cell_type": "code",
   "execution_count": 35,
   "id": "c5827ffd-b9a4-463c-9909-00eee759db2d",
   "metadata": {},
   "outputs": [
    {
     "data": {
      "text/plain": [
       "1320"
      ]
     },
     "execution_count": 35,
     "metadata": {},
     "output_type": "execute_result"
    }
   ],
   "source": [
    "dotproduct = np.dot(a,b)\n",
    "dotproduct"
   ]
  },
  {
   "cell_type": "markdown",
   "id": "5c85c219-58f4-416a-95ba-ea8d984a3f7b",
   "metadata": {
    "jp-MarkdownHeadingCollapsed": true
   },
   "source": [
    "<h3>Statement 2</h3>"
   ]
  },
  {
   "cell_type": "markdown",
   "id": "6084fd3c-8caf-4be6-afdb-44fb81f5b9f5",
   "metadata": {},
   "source": [
    "Given a numpy array a, perform the following operations:\n",
    "1. Find the mean, median and mode of the array.\n",
    "2. Find the minimun and maximum values in the array.\n",
    "3. Find the standard deviation of the array.\n",
    "4. Normalize the array to have a mean of 0 and a standard deviation of 1.\n",
    "5. Find the element-wise square root of the array."
   ]
  },
  {
   "cell_type": "code",
   "execution_count": 62,
   "id": "77b9a6ce-57a7-4daa-a7b4-19415b4957f8",
   "metadata": {},
   "outputs": [],
   "source": [
    "import statistics as sts"
   ]
  },
  {
   "cell_type": "code",
   "execution_count": 64,
   "id": "972c0b8d-997b-4cd9-9823-970ffe995a27",
   "metadata": {},
   "outputs": [],
   "source": [
    "a = np.array([45,64,76,12,36,38,91,72,33])"
   ]
  },
  {
   "cell_type": "code",
   "execution_count": 66,
   "id": "db05ec3c-7f09-4a1d-af97-17a835ce9dd8",
   "metadata": {},
   "outputs": [
    {
     "data": {
      "text/plain": [
       "51.888888888888886"
      ]
     },
     "execution_count": 66,
     "metadata": {},
     "output_type": "execute_result"
    }
   ],
   "source": [
    "a.mean()"
   ]
  },
  {
   "cell_type": "code",
   "execution_count": 68,
   "id": "f04fe43b-aef9-4640-bf33-09be0faca171",
   "metadata": {},
   "outputs": [
    {
     "data": {
      "text/plain": [
       "45.0"
      ]
     },
     "execution_count": 68,
     "metadata": {},
     "output_type": "execute_result"
    }
   ],
   "source": [
    "np.median(a)"
   ]
  },
  {
   "cell_type": "code",
   "execution_count": 70,
   "id": "234bc613-5dd0-4831-b52d-e7b53beb6663",
   "metadata": {},
   "outputs": [
    {
     "data": {
      "text/plain": [
       "45"
      ]
     },
     "execution_count": 70,
     "metadata": {},
     "output_type": "execute_result"
    }
   ],
   "source": [
    "sts.mode(a)"
   ]
  },
  {
   "cell_type": "code",
   "execution_count": 48,
   "id": "c85efce0-bc20-492a-83e5-943edcd676e6",
   "metadata": {},
   "outputs": [
    {
     "data": {
      "text/plain": [
       "12"
      ]
     },
     "execution_count": 48,
     "metadata": {},
     "output_type": "execute_result"
    }
   ],
   "source": [
    "np.min(a)"
   ]
  },
  {
   "cell_type": "code",
   "execution_count": 50,
   "id": "10474c22-8d18-4956-9c5b-bba6229e6e21",
   "metadata": {},
   "outputs": [
    {
     "data": {
      "text/plain": [
       "91"
      ]
     },
     "execution_count": 50,
     "metadata": {},
     "output_type": "execute_result"
    }
   ],
   "source": [
    "np.max(a)"
   ]
  },
  {
   "cell_type": "code",
   "execution_count": 72,
   "id": "9d42640e-1014-4cc3-af30-65c7901a27ca",
   "metadata": {},
   "outputs": [
    {
     "data": {
      "text/plain": [
       "23.811502563277852"
      ]
     },
     "execution_count": 72,
     "metadata": {},
     "output_type": "execute_result"
    }
   ],
   "source": [
    "a.std()"
   ]
  },
  {
   "cell_type": "code",
   "execution_count": 80,
   "id": "c8c8eda8-29fa-461c-a6da-0769acf8f645",
   "metadata": {},
   "outputs": [
    {
     "data": {
      "text/plain": [
       "array([-0.28930929,  0.5086244 ,  1.01258251, -1.67519411, -0.66727788,\n",
       "       -0.58328486,  1.64253016,  0.84459647, -0.79326741])"
      ]
     },
     "execution_count": 80,
     "metadata": {},
     "output_type": "execute_result"
    }
   ],
   "source": [
    "a_standardized =(a - a.mean()) / a.std()\n",
    "a_standardized"
   ]
  },
  {
   "cell_type": "code",
   "execution_count": 86,
   "id": "9842d71b-3f77-4fc3-a7c7-5e7d392b375d",
   "metadata": {},
   "outputs": [
    {
     "data": {
      "text/plain": [
       "1.603655480014115e-16"
      ]
     },
     "execution_count": 86,
     "metadata": {},
     "output_type": "execute_result"
    }
   ],
   "source": [
    "a_standardized.mean()"
   ]
  },
  {
   "cell_type": "code",
   "execution_count": 88,
   "id": "89a296be-a2a0-4ee1-ad0b-4eef9b065d1d",
   "metadata": {},
   "outputs": [
    {
     "data": {
      "text/plain": [
       "0.9999999999999999"
      ]
     },
     "execution_count": 88,
     "metadata": {},
     "output_type": "execute_result"
    }
   ],
   "source": [
    "a_standardized.std()"
   ]
  },
  {
   "cell_type": "code",
   "execution_count": 90,
   "id": "7e160d5d-a0d2-4bba-bc5e-428c9bf3ad81",
   "metadata": {},
   "outputs": [
    {
     "data": {
      "text/plain": [
       "array([6.70820393, 8.        , 8.71779789, 3.46410162, 6.        ,\n",
       "       6.164414  , 9.53939201, 8.48528137, 5.74456265])"
      ]
     },
     "execution_count": 90,
     "metadata": {},
     "output_type": "execute_result"
    }
   ],
   "source": [
    "np.sqrt(a)"
   ]
  },
  {
   "cell_type": "markdown",
   "id": "35ae5fd9-1977-4724-8d49-cc70f4a58409",
   "metadata": {
    "jp-MarkdownHeadingCollapsed": true
   },
   "source": [
    "<h3>Statement 3</h3>"
   ]
  },
  {
   "cell_type": "markdown",
   "id": "88a21155-0017-4c7c-8989-6858a77c7677",
   "metadata": {},
   "source": [
    "Given a numpy array a and a scalar value b, perform the following operations:\n",
    "1. Add the scalar values to all elements of the array\n",
    "2. Subtract the scalar value from all element of the array\n",
    "3. Multiply all elements of the array by the scalar value\n",
    "4. Divide all elements of the array by the scalar value\n",
    "5. Raise all elements of the array to the power of the scalar value"
   ]
  },
  {
   "cell_type": "code",
   "execution_count": 94,
   "id": "9dcf7772-1e42-4755-885d-3a820c44fa01",
   "metadata": {},
   "outputs": [],
   "source": [
    "a = np.array([12,17,19,37,63,77])"
   ]
  },
  {
   "cell_type": "code",
   "execution_count": 96,
   "id": "3712b7de-5de4-42eb-92e9-fe4c4d4c4ad7",
   "metadata": {},
   "outputs": [
    {
     "data": {
      "text/plain": [
       "array([22, 27, 29, 47, 73, 87])"
      ]
     },
     "execution_count": 96,
     "metadata": {},
     "output_type": "execute_result"
    }
   ],
   "source": [
    "add = a+10\n",
    "add"
   ]
  },
  {
   "cell_type": "code",
   "execution_count": 99,
   "id": "f0715f23-a5f2-4449-95ba-af53b9db6a06",
   "metadata": {},
   "outputs": [
    {
     "data": {
      "text/plain": [
       "array([ 2,  7,  9, 27, 53, 67])"
      ]
     },
     "execution_count": 99,
     "metadata": {},
     "output_type": "execute_result"
    }
   ],
   "source": [
    "sub = a-10\n",
    "sub"
   ]
  },
  {
   "cell_type": "code",
   "execution_count": 101,
   "id": "6b707990-29ac-4d9e-952f-8fe40f445333",
   "metadata": {},
   "outputs": [
    {
     "data": {
      "text/plain": [
       "array([ 84, 119, 133, 259, 441, 539])"
      ]
     },
     "execution_count": 101,
     "metadata": {},
     "output_type": "execute_result"
    }
   ],
   "source": [
    "product = a*7\n",
    "product"
   ]
  },
  {
   "cell_type": "code",
   "execution_count": 103,
   "id": "f3c4ad35-dac9-4f28-b3bb-5009eb875654",
   "metadata": {},
   "outputs": [
    {
     "data": {
      "text/plain": [
       "array([ 4.        ,  5.66666667,  6.33333333, 12.33333333, 21.        ,\n",
       "       25.66666667])"
      ]
     },
     "execution_count": 103,
     "metadata": {},
     "output_type": "execute_result"
    }
   ],
   "source": [
    "div = a/3\n",
    "div"
   ]
  },
  {
   "cell_type": "code",
   "execution_count": 105,
   "id": "65cdc410-707f-4aa2-8e4c-ea4d9c26e9e2",
   "metadata": {},
   "outputs": [
    {
     "data": {
      "text/plain": [
       "array([ 144,  289,  361, 1369, 3969, 5929])"
      ]
     },
     "execution_count": 105,
     "metadata": {},
     "output_type": "execute_result"
    }
   ],
   "source": [
    "pow = a**2\n",
    "pow"
   ]
  }
 ],
 "metadata": {
  "kernelspec": {
   "display_name": "Python 3 (ipykernel)",
   "language": "python",
   "name": "python3"
  },
  "language_info": {
   "codemirror_mode": {
    "name": "ipython",
    "version": 3
   },
   "file_extension": ".py",
   "mimetype": "text/x-python",
   "name": "python",
   "nbconvert_exporter": "python",
   "pygments_lexer": "ipython3",
   "version": "3.12.4"
  }
 },
 "nbformat": 4,
 "nbformat_minor": 5
}
