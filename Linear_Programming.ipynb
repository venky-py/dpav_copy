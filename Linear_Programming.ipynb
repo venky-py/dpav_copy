{
 "cells": [
  {
   "cell_type": "code",
   "execution_count": 1,
   "id": "8f9919c3-16ff-45a1-8595-ee39943306f4",
   "metadata": {},
   "outputs": [
    {
     "name": "stdout",
     "output_type": "stream",
     "text": [
      "Collecting pulp\n",
      "  Downloading PuLP-2.9.0-py3-none-any.whl.metadata (5.4 kB)\n",
      "Downloading PuLP-2.9.0-py3-none-any.whl (17.7 MB)\n",
      "   ---------------------------------------- 0.0/17.7 MB ? eta -:--:--\n",
      "   ---------------------------------------- 0.0/17.7 MB ? eta -:--:--\n",
      "   ---------------------------------------- 0.0/17.7 MB 1.3 MB/s eta 0:00:14\n",
      "   ---------------------------------------- 0.1/17.7 MB 1.3 MB/s eta 0:00:14\n",
      "    --------------------------------------- 0.3/17.7 MB 2.8 MB/s eta 0:00:07\n",
      "   - -------------------------------------- 0.7/17.7 MB 4.6 MB/s eta 0:00:04\n",
      "   --- ------------------------------------ 1.5/17.7 MB 7.9 MB/s eta 0:00:03\n",
      "   -------- ------------------------------- 3.6/17.7 MB 16.2 MB/s eta 0:00:01\n",
      "   ---------------- ----------------------- 7.4/17.7 MB 26.2 MB/s eta 0:00:01\n",
      "   ------------------------- -------------- 11.3/17.7 MB 72.6 MB/s eta 0:00:01\n",
      "   ---------------------------------- ----- 15.0/17.7 MB 93.0 MB/s eta 0:00:01\n",
      "   ---------------------------------------  17.7/17.7 MB 108.8 MB/s eta 0:00:01\n",
      "   ---------------------------------------- 17.7/17.7 MB 72.5 MB/s eta 0:00:00\n",
      "Installing collected packages: pulp\n",
      "Successfully installed pulp-2.9.0\n",
      "Note: you may need to restart the kernel to use updated packages.\n"
     ]
    }
   ],
   "source": [
    "pip install pulp"
   ]
  },
  {
   "cell_type": "markdown",
   "id": "43eec872-c9e0-4eae-91c4-1194b56350af",
   "metadata": {},
   "source": [
    "### Problem:\n",
    "\n",
    "A small bakery wants to maximize its daily profit by producing cookies and cakes. They have limited flour \n",
    "and oven space available. Here's the information:\n",
    "\n",
    "Profit per unit:\n",
    "    Cookies: ₹10 per cookie\n",
    "    Cakes: ₹200 per cake\n",
    "Flour requirement per unit:\n",
    "    Cookies: 1 cup per cookie\n",
    "    Cakes: 2 cups per cake\n",
    "Oven time per unit:\n",
    "    Cookies: 10 minutes per cookie\n",
    "    Cake: 15 minutes per cake\n",
    "Available resources:\n",
    "    Flour: 100 cups\n",
    "    Oven time: 240 minutes\n",
    "\n",
    "Objective: Maximize the total daily profit."
   ]
  },
  {
   "cell_type": "code",
   "execution_count": 63,
   "id": "04f5c04c-c25d-4cce-90c4-196314c07f43",
   "metadata": {},
   "outputs": [],
   "source": [
    "from pulp import LpProblem, LpVariable, LpMaximize, LpStatus"
   ]
  },
  {
   "cell_type": "code",
   "execution_count": 65,
   "id": "4903c603-3910-4ea3-beb5-6e1fdbee4073",
   "metadata": {},
   "outputs": [],
   "source": [
    "# Create the optimization problem\n",
    "problem = LpProblem(\"Bakery_Profit_Maximization\", LpMaximize)"
   ]
  },
  {
   "cell_type": "code",
   "execution_count": 67,
   "id": "1b7a9f2b-bae9-4a9a-863f-2d8b30840197",
   "metadata": {},
   "outputs": [
    {
     "data": {
      "text/plain": [
       "Bakery_Profit_Maximization:\n",
       "MAXIMIZE\n",
       "None\n",
       "VARIABLES"
      ]
     },
     "execution_count": 67,
     "metadata": {},
     "output_type": "execute_result"
    }
   ],
   "source": [
    "problem"
   ]
  },
  {
   "cell_type": "code",
   "execution_count": 69,
   "id": "b110f117-2839-4fa9-a505-304857ff511d",
   "metadata": {},
   "outputs": [],
   "source": [
    "# Decision variables\n",
    "cookies = LpVariable(\"Cookies\", lowBound=0)\n",
    "# Number of cookies to produce (non negative)\n",
    "cakes = LpVariable(\"Cakes\", lowBound=0, upBound=10)\n",
    "# Number of cakes to produce (non negative)"
   ]
  },
  {
   "cell_type": "code",
   "execution_count": 71,
   "id": "cfc82570-b24d-45a5-b454-1c7f67ada27e",
   "metadata": {},
   "outputs": [],
   "source": [
    "# Objective fumction (maximize total profit)\n",
    "profit = 10*cookies + 200*cakes\n",
    "problem+=profit"
   ]
  },
  {
   "cell_type": "code",
   "execution_count": 73,
   "id": "a29f88ea-7425-43b7-a62b-489e276d6a2c",
   "metadata": {},
   "outputs": [
    {
     "data": {
      "text/plain": [
       "Bakery_Profit_Maximization:\n",
       "MAXIMIZE\n",
       "200*Cakes + 10*Cookies + 0\n",
       "VARIABLES\n",
       "Cakes <= 10 Continuous\n",
       "Cookies Continuous"
      ]
     },
     "execution_count": 73,
     "metadata": {},
     "output_type": "execute_result"
    }
   ],
   "source": [
    "problem"
   ]
  },
  {
   "cell_type": "code",
   "execution_count": 75,
   "id": "655843a5-bbc5-4d0b-88ee-1f593cff392c",
   "metadata": {},
   "outputs": [
    {
     "data": {
      "text/plain": [
       "pulp.pulp.LpProblem"
      ]
     },
     "execution_count": 75,
     "metadata": {},
     "output_type": "execute_result"
    }
   ],
   "source": [
    "type(problem)"
   ]
  },
  {
   "cell_type": "code",
   "execution_count": 77,
   "id": "aa190da7-34c2-45fd-aaf8-33f4e20cefb6",
   "metadata": {},
   "outputs": [],
   "source": [
    "# constraint 1: Flour limitation\n",
    "problem += 1*cookies + 2*cakes <= 100\n",
    "# flour requirement per unit * number of units <= total flour"
   ]
  },
  {
   "cell_type": "code",
   "execution_count": 79,
   "id": "7814b3f7-fb30-48c8-9804-594141919843",
   "metadata": {},
   "outputs": [
    {
     "data": {
      "text/plain": [
       "Bakery_Profit_Maximization:\n",
       "MAXIMIZE\n",
       "200*Cakes + 10*Cookies + 0\n",
       "SUBJECT TO\n",
       "_C1: 2 Cakes + Cookies <= 100\n",
       "\n",
       "VARIABLES\n",
       "Cakes <= 10 Continuous\n",
       "Cookies Continuous"
      ]
     },
     "execution_count": 79,
     "metadata": {},
     "output_type": "execute_result"
    }
   ],
   "source": [
    "problem"
   ]
  },
  {
   "cell_type": "code",
   "execution_count": 81,
   "id": "367ee35a-eb14-491b-bd5e-a02e1c5db172",
   "metadata": {},
   "outputs": [],
   "source": [
    "# constraint 2: Oven time limitation\n",
    "problem += 10*cookies + 15*cakes <=240\n",
    "# oven time per unit * nuber of units <= total oven time"
   ]
  },
  {
   "cell_type": "code",
   "execution_count": 83,
   "id": "90a82f45-2799-4a2a-ae9b-1077c46d52bd",
   "metadata": {},
   "outputs": [
    {
     "data": {
      "text/plain": [
       "Bakery_Profit_Maximization:\n",
       "MAXIMIZE\n",
       "200*Cakes + 10*Cookies + 0\n",
       "SUBJECT TO\n",
       "_C1: 2 Cakes + Cookies <= 100\n",
       "\n",
       "_C2: 15 Cakes + 10 Cookies <= 240\n",
       "\n",
       "VARIABLES\n",
       "Cakes <= 10 Continuous\n",
       "Cookies Continuous"
      ]
     },
     "execution_count": 83,
     "metadata": {},
     "output_type": "execute_result"
    }
   ],
   "source": [
    "problem"
   ]
  },
  {
   "cell_type": "code",
   "execution_count": 85,
   "id": "bf8f96e2-bfa6-4b99-b80b-e9c6c392de7b",
   "metadata": {},
   "outputs": [],
   "source": [
    "# solve the problem\n",
    "status = problem.solve()"
   ]
  },
  {
   "cell_type": "code",
   "execution_count": 87,
   "id": "3f0ed94a-5a88-4c5a-86e0-d36fe0fee851",
   "metadata": {},
   "outputs": [
    {
     "data": {
      "text/plain": [
       "1"
      ]
     },
     "execution_count": 87,
     "metadata": {},
     "output_type": "execute_result"
    }
   ],
   "source": [
    "status"
   ]
  },
  {
   "cell_type": "code",
   "execution_count": 89,
   "id": "705e6298-0311-4c84-8844-0103857e3ec7",
   "metadata": {},
   "outputs": [
    {
     "data": {
      "text/plain": [
       "{0: 'Not Solved',\n",
       " 1: 'Optimal',\n",
       " -1: 'Infeasible',\n",
       " -2: 'Unbounded',\n",
       " -3: 'Undefined'}"
      ]
     },
     "execution_count": 89,
     "metadata": {},
     "output_type": "execute_result"
    }
   ],
   "source": [
    "LpStatus"
   ]
  },
  {
   "cell_type": "code",
   "execution_count": 91,
   "id": "d23ec6bf-b30f-478e-b8b6-9a26fd0af956",
   "metadata": {},
   "outputs": [
    {
     "data": {
      "text/plain": [
       "'Optimal'"
      ]
     },
     "execution_count": 91,
     "metadata": {},
     "output_type": "execute_result"
    }
   ],
   "source": [
    "LpStatus[status]"
   ]
  },
  {
   "cell_type": "code",
   "execution_count": 93,
   "id": "bcf90b2e-0db2-4564-8c52-dbeeb8bf107e",
   "metadata": {},
   "outputs": [
    {
     "name": "stdout",
     "output_type": "stream",
     "text": [
      "Optimal number of cookies: 9.0\n",
      "Optimal number of cakes: 10.0\n",
      "Maximum daily profit: 2090.0\n"
     ]
    }
   ],
   "source": [
    "print(\"Optimal number of cookies:\", cookies.varValue)\n",
    "print(\"Optimal number of cakes:\", cakes.varValue)\n",
    "print(\"Maximum daily profit:\", problem.objective.value())"
   ]
  },
  {
   "cell_type": "markdown",
   "id": "4a484771-c384-4ede-a67a-ca4532f612e2",
   "metadata": {
    "jp-MarkdownHeadingCollapsed": true
   },
   "source": [
    "### Scenario:\n",
    "\n",
    "A juice company needs to produce two types of juice blends:<br>\n",
    "    Blend A: This requires 2 units of orange juice and 1 unit of apple juice per litre<br>\n",
    "    Blend B: This requires 1 unit of orange juice and 3 units of apple juice per litre\n",
    "\n",
    "    Orange juice requirement for blend A: 200\n",
    "    Apple juice requirement for blend A: 300\n",
    "\n",
    "The company wants to minimize the total cost of producing a certain amount of each blend while considering the following factors:\n",
    "\n",
    "    Orange juice cost: $1 per unit\n",
    "    Apple juice cost: $0.5 per unit\n",
    "\n",
    "    Production Target:\n",
    "        100 litres of blend A\n",
    "        150 litres of blend B"
   ]
  },
  {
   "cell_type": "code",
   "execution_count": 180,
   "id": "2d1a2a19-7d87-4ed2-9fb6-63490ce3c1fb",
   "metadata": {},
   "outputs": [],
   "source": [
    "from pulp import LpProblem, LpVariable, LpMinimize, LpStatus"
   ]
  },
  {
   "cell_type": "code",
   "execution_count": 182,
   "id": "194c96a6-7aff-42d5-8009-620bfc855c94",
   "metadata": {},
   "outputs": [],
   "source": [
    "# Create the optimization problem\n",
    "problem = LpProblem(\"Total_Cost_Minimization\", LpMinimize)"
   ]
  },
  {
   "cell_type": "code",
   "execution_count": 184,
   "id": "16c7329b-c4f2-48ae-835d-5b3554c5b07d",
   "metadata": {},
   "outputs": [
    {
     "data": {
      "text/plain": [
       "Total_Cost_Minimization:\n",
       "MINIMIZE\n",
       "None\n",
       "VARIABLES"
      ]
     },
     "execution_count": 184,
     "metadata": {},
     "output_type": "execute_result"
    }
   ],
   "source": [
    "problem"
   ]
  },
  {
   "cell_type": "code",
   "execution_count": 186,
   "id": "9fb4fa71-2622-424f-a3d5-6f5b4e00c95b",
   "metadata": {},
   "outputs": [],
   "source": [
    "# Decision variables\n",
    "blendA = LpVariable(\"Blend A\", lowBound=0)\n",
    "blendB = LpVariable(\"Blend B\", lowBound=0)"
   ]
  },
  {
   "cell_type": "code",
   "execution_count": 188,
   "id": "a1759b46-13be-4c7c-8fc3-e1c04e8cd501",
   "metadata": {},
   "outputs": [],
   "source": [
    "# Objective fumction (minimize total cost)\n",
    "total_cost = 1*blendA + 0.5*blendB\n",
    "problem+=total_cost"
   ]
  },
  {
   "cell_type": "code",
   "execution_count": 190,
   "id": "0e96d1a6-5032-4d5b-b09a-8c32268ded01",
   "metadata": {},
   "outputs": [
    {
     "data": {
      "text/plain": [
       "Total_Cost_Minimization:\n",
       "MINIMIZE\n",
       "1*Blend_A + 0.5*Blend_B + 0.0\n",
       "VARIABLES\n",
       "Blend_A Continuous\n",
       "Blend_B Continuous"
      ]
     },
     "execution_count": 190,
     "metadata": {},
     "output_type": "execute_result"
    }
   ],
   "source": [
    "problem"
   ]
  },
  {
   "cell_type": "code",
   "execution_count": 192,
   "id": "9182b7ed-fff6-4026-b1e2-2881b2218745",
   "metadata": {},
   "outputs": [],
   "source": [
    "# constraint 1\n",
    "problem += 2*blendA + blendB <=200"
   ]
  },
  {
   "cell_type": "code",
   "execution_count": 194,
   "id": "7c9b89f5-b4ff-446b-bd36-b294dda4b669",
   "metadata": {},
   "outputs": [],
   "source": [
    "# constraint 2\n",
    "problem += blendA + 3*blendB <= 300"
   ]
  },
  {
   "cell_type": "code",
   "execution_count": 196,
   "id": "29bb4a63-9d71-46d6-bd22-16c4cd154842",
   "metadata": {},
   "outputs": [],
   "source": [
    "# constraint 3\n",
    "problem += blendA >= 100"
   ]
  },
  {
   "cell_type": "code",
   "execution_count": 198,
   "id": "6b294fea-91f7-420d-bb08-0736098e9571",
   "metadata": {},
   "outputs": [],
   "source": [
    "# constraint 4\n",
    "problem += blendB >= 150"
   ]
  },
  {
   "cell_type": "code",
   "execution_count": 200,
   "id": "18671bd6-6cc5-4626-8bd1-531ee3d1709d",
   "metadata": {},
   "outputs": [
    {
     "data": {
      "text/plain": [
       "Total_Cost_Minimization:\n",
       "MINIMIZE\n",
       "1*Blend_A + 0.5*Blend_B + 0.0\n",
       "SUBJECT TO\n",
       "_C1: 2 Blend_A + Blend_B <= 200\n",
       "\n",
       "_C2: Blend_A + 3 Blend_B <= 300\n",
       "\n",
       "_C3: Blend_A >= 100\n",
       "\n",
       "_C4: Blend_B >= 150\n",
       "\n",
       "VARIABLES\n",
       "Blend_A Continuous\n",
       "Blend_B Continuous"
      ]
     },
     "execution_count": 200,
     "metadata": {},
     "output_type": "execute_result"
    }
   ],
   "source": [
    "problem"
   ]
  },
  {
   "cell_type": "code",
   "execution_count": 202,
   "id": "e0be795a-db3d-4a71-acfc-1131e5267a88",
   "metadata": {},
   "outputs": [],
   "source": [
    "# solve the problem\n",
    "status = problem.solve()"
   ]
  },
  {
   "cell_type": "code",
   "execution_count": 204,
   "id": "c6c875d1-c64a-4b62-ac8c-6dbbab4b0e74",
   "metadata": {},
   "outputs": [
    {
     "data": {
      "text/plain": [
       "-1"
      ]
     },
     "execution_count": 204,
     "metadata": {},
     "output_type": "execute_result"
    }
   ],
   "source": [
    "status"
   ]
  },
  {
   "cell_type": "code",
   "execution_count": 206,
   "id": "2974a731-6395-4b1b-a8b0-4fbf8d761467",
   "metadata": {},
   "outputs": [
    {
     "data": {
      "text/plain": [
       "{0: 'Not Solved',\n",
       " 1: 'Optimal',\n",
       " -1: 'Infeasible',\n",
       " -2: 'Unbounded',\n",
       " -3: 'Undefined'}"
      ]
     },
     "execution_count": 206,
     "metadata": {},
     "output_type": "execute_result"
    }
   ],
   "source": [
    "LpStatus"
   ]
  },
  {
   "cell_type": "code",
   "execution_count": 208,
   "id": "89b6d56f-d8f7-4d93-b8bc-e98f5d24a781",
   "metadata": {},
   "outputs": [
    {
     "data": {
      "text/plain": [
       "'Infeasible'"
      ]
     },
     "execution_count": 208,
     "metadata": {},
     "output_type": "execute_result"
    }
   ],
   "source": [
    "LpStatus[status]"
   ]
  },
  {
   "cell_type": "code",
   "execution_count": 210,
   "id": "d49ec6ae-fc17-4637-be52-51ad2a5eb42e",
   "metadata": {},
   "outputs": [
    {
     "name": "stdout",
     "output_type": "stream",
     "text": [
      "Optimal blendA: 100.0\n",
      "Optimal blendB: 150.0\n",
      "Minimum total cost: 175.0\n"
     ]
    }
   ],
   "source": [
    "print(\"Optimal blendA:\", blendA.varValue)\n",
    "print(\"Optimal blendB:\", blendB.varValue)\n",
    "print(\"Minimum total cost:\", problem.objective.value())"
   ]
  },
  {
   "cell_type": "markdown",
   "id": "08d04bca-4829-4ef5-bc16-329fb188e03b",
   "metadata": {},
   "source": [
    "### Problem 3"
   ]
  },
  {
   "cell_type": "markdown",
   "id": "fbda9d0f-b3fd-4dfe-93cb-7d548d88e9d1",
   "metadata": {},
   "source": [
    "A company produces two products, A and B, the profit for A is dollar 40 per unit and for B dollar 30 per unit. \n",
    "The company has the following resources constraints.\n",
    "It takes two hours of labours to produce 1 unit of A, one hour for B\n",
    "The company has a total of 100 hours of labours available\n",
    "The material required for 1 unit of product A is 3kg and B is 4 kg\n",
    "The company has a total of 120 kg material.\n",
    "Determine units required for maximum profit"
   ]
  },
  {
   "cell_type": "code",
   "execution_count": 244,
   "id": "77444667-e7db-4f43-ac1d-8b0ba54e9084",
   "metadata": {},
   "outputs": [],
   "source": [
    "from pulp import LpProblem, LpVariable, LpMaximize, LpStatus"
   ]
  },
  {
   "cell_type": "code",
   "execution_count": 246,
   "id": "c6f60150-c86e-47eb-bba7-6d972537acd7",
   "metadata": {},
   "outputs": [],
   "source": [
    "# Create the optimization problem\n",
    "problem = LpProblem(\"Profit_Maximization\", LpMaximize)"
   ]
  },
  {
   "cell_type": "code",
   "execution_count": 248,
   "id": "65a0cb17-fd8c-4322-b00d-6ef85cd56b03",
   "metadata": {},
   "outputs": [
    {
     "data": {
      "text/plain": [
       "Profit_Maximization:\n",
       "MAXIMIZE\n",
       "None\n",
       "VARIABLES"
      ]
     },
     "execution_count": 248,
     "metadata": {},
     "output_type": "execute_result"
    }
   ],
   "source": [
    "problem"
   ]
  },
  {
   "cell_type": "code",
   "execution_count": 250,
   "id": "93ade352-dcf3-4abd-9384-2f9cb929558a",
   "metadata": {},
   "outputs": [],
   "source": [
    "# Decision variables\n",
    "prodA = LpVariable(\"Product A\", lowBound=0, upBound=20)\n",
    "prodB = LpVariable(\"Product B\", lowBound=0)"
   ]
  },
  {
   "cell_type": "code",
   "execution_count": 252,
   "id": "d933131c-f7a1-4fa2-ab10-5666c5d1f937",
   "metadata": {},
   "outputs": [],
   "source": [
    "# Objective fumction (maximize profit)\n",
    "profit = 40*prodA + 30*prodB\n",
    "problem+=profit"
   ]
  },
  {
   "cell_type": "code",
   "execution_count": 254,
   "id": "0226a5dc-34c1-4aea-9156-ce3da513391b",
   "metadata": {},
   "outputs": [],
   "source": [
    "# constraint 1\n",
    "problem += 2*prodA + 1*prodB <=100"
   ]
  },
  {
   "cell_type": "code",
   "execution_count": 256,
   "id": "de54eee0-b206-4e7f-bcb1-6a8bd8f0a9a5",
   "metadata": {},
   "outputs": [],
   "source": [
    "#constraint 2\n",
    "problem += 3*prodA + 4*prodB <= 120"
   ]
  },
  {
   "cell_type": "code",
   "execution_count": 258,
   "id": "bd3555e3-9956-4a67-956b-b356bbf45c09",
   "metadata": {},
   "outputs": [
    {
     "data": {
      "text/plain": [
       "Profit_Maximization:\n",
       "MAXIMIZE\n",
       "40*Product_A + 30*Product_B + 0\n",
       "SUBJECT TO\n",
       "_C1: 2 Product_A + Product_B <= 100\n",
       "\n",
       "_C2: 3 Product_A + 4 Product_B <= 120\n",
       "\n",
       "VARIABLES\n",
       "Product_A <= 20 Continuous\n",
       "Product_B Continuous"
      ]
     },
     "execution_count": 258,
     "metadata": {},
     "output_type": "execute_result"
    }
   ],
   "source": [
    "problem"
   ]
  },
  {
   "cell_type": "code",
   "execution_count": 260,
   "id": "f6d80ef9-d3f1-47f7-a6d5-979f2db7e180",
   "metadata": {},
   "outputs": [],
   "source": [
    "status = problem.solve()"
   ]
  },
  {
   "cell_type": "code",
   "execution_count": 262,
   "id": "68483420-07ad-41ec-bbc5-2050bd9a4ef4",
   "metadata": {},
   "outputs": [
    {
     "data": {
      "text/plain": [
       "1"
      ]
     },
     "execution_count": 262,
     "metadata": {},
     "output_type": "execute_result"
    }
   ],
   "source": [
    "status"
   ]
  },
  {
   "cell_type": "code",
   "execution_count": 264,
   "id": "267fb3a9-e6f8-4a9d-8864-3d118d619925",
   "metadata": {},
   "outputs": [
    {
     "data": {
      "text/plain": [
       "'Optimal'"
      ]
     },
     "execution_count": 264,
     "metadata": {},
     "output_type": "execute_result"
    }
   ],
   "source": [
    "LpStatus[status]"
   ]
  },
  {
   "cell_type": "code",
   "execution_count": 266,
   "id": "1b049420-9441-4d5b-a3b1-5dd5b1c1f593",
   "metadata": {},
   "outputs": [
    {
     "name": "stdout",
     "output_type": "stream",
     "text": [
      "Optimal number of prodA: 20.0\n",
      "Optimal number of prodB: 15.0\n",
      "Maximum profit: 1250.0\n"
     ]
    }
   ],
   "source": [
    "print(\"Optimal number of prodA:\", prodA.varValue)\n",
    "print(\"Optimal number of prodB:\", prodB.varValue)\n",
    "print(\"Maximum profit:\", problem.objective.value())"
   ]
  }
 ],
 "metadata": {
  "kernelspec": {
   "display_name": "Python 3 (ipykernel)",
   "language": "python",
   "name": "python3"
  },
  "language_info": {
   "codemirror_mode": {
    "name": "ipython",
    "version": 3
   },
   "file_extension": ".py",
   "mimetype": "text/x-python",
   "name": "python",
   "nbconvert_exporter": "python",
   "pygments_lexer": "ipython3",
   "version": "3.12.4"
  }
 },
 "nbformat": 4,
 "nbformat_minor": 5
}
