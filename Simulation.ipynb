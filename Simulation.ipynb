{
 "cells": [
  {
   "cell_type": "markdown",
   "id": "c0f978f5-e4f5-477a-9b01-e4e21a746fd0",
   "metadata": {},
   "source": [
    "Generate data from standard normal distribustion"
   ]
  },
  {
   "cell_type": "code",
   "execution_count": 4,
   "id": "4c2e92aa-8043-4081-9569-607a7a17b95d",
   "metadata": {},
   "outputs": [],
   "source": [
    "from scipy.stats import norm"
   ]
  },
  {
   "cell_type": "code",
   "execution_count": 5,
   "id": "46574bc3-bfcc-470b-aa18-b562dd36b25e",
   "metadata": {},
   "outputs": [],
   "source": [
    "# The following code shows how to generate 100 random samples\n",
    "# from a normal distribution with mean 0 and standard deviation 1:"
   ]
  },
  {
   "cell_type": "code",
   "execution_count": 6,
   "id": "5f3e3b40-665c-4f3d-a79f-2ca259eecc10",
   "metadata": {},
   "outputs": [],
   "source": [
    "samples= norm.rvs(loc=0, scale=1, size=100)"
   ]
  },
  {
   "cell_type": "code",
   "execution_count": 7,
   "id": "d01cf813-2012-4112-929e-c5d1946f6e50",
   "metadata": {},
   "outputs": [
    {
     "data": {
      "text/plain": [
       "array([-0.22654466, -0.10722637,  1.29300627, -1.52129713, -0.1956513 ,\n",
       "        0.87591874,  0.16320372,  1.12668887,  0.90271374, -1.05055291,\n",
       "       -0.53275555, -0.60521154, -1.54671618,  1.39105451, -0.08306654,\n",
       "       -0.23787232, -0.15015412,  0.14854367, -1.58623743, -0.321527  ,\n",
       "       -0.72260453,  0.32629108,  1.33825051,  0.00905127, -1.08613555,\n",
       "        1.70444669,  0.80456258, -0.61352862,  0.27787744, -0.55700047,\n",
       "       -1.75249815, -1.69426984, -1.64209038,  1.11727714, -0.29081859,\n",
       "       -1.48776606,  0.72208583, -0.92925183,  1.26110084, -1.55232717,\n",
       "       -0.3053174 , -1.73760729, -0.10576999, -1.93269405,  0.06193842,\n",
       "       -0.97857549, -1.71784544,  0.19787426, -0.58703531, -1.75405633,\n",
       "       -0.2501172 , -0.25956811,  0.97387439, -0.21152371, -0.11351464,\n",
       "        0.85245306, -0.31670865,  1.12512656, -1.32452356, -1.31323417,\n",
       "        0.34341117, -0.49630962, -1.1834786 ,  1.29717057,  0.95276   ,\n",
       "        0.34623762, -1.0379681 ,  3.02600387, -0.73297525, -0.40845098,\n",
       "       -0.07393973, -1.91828317, -0.07095782, -0.62686533, -0.40918874,\n",
       "       -0.49633844,  1.84777673,  0.22368435,  1.12031696, -0.75070638,\n",
       "       -1.66230999,  0.22531072,  1.30902468,  1.40649608, -0.67879578,\n",
       "       -1.89284815,  0.13976251,  0.70077521,  0.55629197, -0.18413981,\n",
       "       -0.40142922, -1.14696881,  0.73749915, -1.08999135,  0.29628134,\n",
       "       -1.11396011, -1.49503518,  0.36341891,  0.59520931, -0.67229849])"
      ]
     },
     "execution_count": 7,
     "metadata": {},
     "output_type": "execute_result"
    }
   ],
   "source": [
    "samples"
   ]
  },
  {
   "cell_type": "code",
   "execution_count": 8,
   "id": "6a611576-a57a-4bd8-910c-7e9029abb905",
   "metadata": {},
   "outputs": [
    {
     "data": {
      "text/plain": [
       "-0.19783663923308048"
      ]
     },
     "execution_count": 8,
     "metadata": {},
     "output_type": "execute_result"
    }
   ],
   "source": [
    "samples.mean()"
   ]
  },
  {
   "cell_type": "code",
   "execution_count": 9,
   "id": "95e0b63b-c6d6-44c4-b455-6f7b8f8ce139",
   "metadata": {},
   "outputs": [
    {
     "data": {
      "text/plain": [
       "1.0128817681345743"
      ]
     },
     "execution_count": 9,
     "metadata": {},
     "output_type": "execute_result"
    }
   ],
   "source": [
    "samples.std()"
   ]
  },
  {
   "cell_type": "code",
   "execution_count": 10,
   "id": "ee3f3762-3ea7-498f-8773-331fd94cebac",
   "metadata": {},
   "outputs": [
    {
     "data": {
      "text/plain": [
       "100"
      ]
     },
     "execution_count": 10,
     "metadata": {},
     "output_type": "execute_result"
    }
   ],
   "source": [
    "samples.size"
   ]
  },
  {
   "cell_type": "code",
   "execution_count": 11,
   "id": "327918f8-2645-4167-a526-acc96de27d42",
   "metadata": {},
   "outputs": [],
   "source": [
    "import seaborn as sns\n",
    "import numpy as np"
   ]
  },
  {
   "cell_type": "code",
   "execution_count": 12,
   "id": "5e916394-e4f4-43a2-872d-4c5989f683e3",
   "metadata": {},
   "outputs": [
    {
     "data": {
      "text/plain": [
       "(-0.19783663923308048, -0.23220849249334535)"
      ]
     },
     "execution_count": 12,
     "metadata": {},
     "output_type": "execute_result"
    }
   ],
   "source": [
    "samples.mean(), np.median(samples)"
   ]
  },
  {
   "cell_type": "code",
   "execution_count": 13,
   "id": "037c262d-2192-4420-b4a6-25d7c1696317",
   "metadata": {},
   "outputs": [
    {
     "data": {
      "text/plain": [
       "<Axes: ylabel='Density'>"
      ]
     },
     "execution_count": 13,
     "metadata": {},
     "output_type": "execute_result"
    },
    {
     "data": {
      "image/png": "[encoded data removed]",
      "text/plain": [
       "<Figure size 640x480 with 1 Axes>"
      ]
     },
     "metadata": {},
     "output_type": "display_data"
    }
   ],
   "source": [
    "sns.kdeplot(samples)"
   ]
  },
  {
   "cell_type": "code",
   "execution_count": 14,
   "id": "01478ed7-e7c8-4b87-a6a7-ca717e7ae8ba",
   "metadata": {},
   "outputs": [
    {
     "name": "stdout",
     "output_type": "stream",
     "text": [
      "Help on method rvs in module scipy.stats._distn_infrastructure:\n",
      "\n",
      "rvs(*args, **kwds) method of scipy.stats._continuous_distns.norm_gen instance\n",
      "    Random variates of given type.\n",
      "\n",
      "    Parameters\n",
      "    ----------\n",
      "    arg1, arg2, arg3,... : array_like\n",
      "        The shape parameter(s) for the distribution (see docstring of the\n",
      "        instance object for more information).\n",
      "    loc : array_like, optional\n",
      "        Location parameter (default=0).\n",
      "    scale : array_like, optional\n",
      "        Scale parameter (default=1).\n",
      "    size : int or tuple of ints, optional\n",
      "        Defining number of random variates (default is 1).\n",
      "    random_state : {None, int, `numpy.random.Generator`,\n",
      "                    `numpy.random.RandomState`}, optional\n",
      "\n",
      "        If `random_state` is None (or `np.random`), the\n",
      "        `numpy.random.RandomState` singleton is used.\n",
      "        If `random_state` is an int, a new ``RandomState`` instance is\n",
      "        used, seeded with `random_state`.\n",
      "        If `random_state` is already a ``Generator`` or ``RandomState``\n",
      "        instance, that instance is used.\n",
      "\n",
      "    Returns\n",
      "    -------\n",
      "    rvs : ndarray or scalar\n",
      "        Random variates of given `size`.\n",
      "\n"
     ]
    }
   ],
   "source": [
    "help(norm.rvs)"
   ]
  },
  {
   "cell_type": "code",
   "execution_count": 15,
   "id": "6ec5873c-d088-44bf-b108-4e94032d0108",
   "metadata": {},
   "outputs": [],
   "source": [
    "samples1= norm.rvs(loc=1, scale=3, size=100)"
   ]
  },
  {
   "cell_type": "code",
   "execution_count": 16,
   "id": "db67c4dd-4739-40f7-9e13-e75237104c46",
   "metadata": {},
   "outputs": [
    {
     "data": {
      "text/plain": [
       "0.1491558127228458"
      ]
     },
     "execution_count": 16,
     "metadata": {},
     "output_type": "execute_result"
    }
   ],
   "source": [
    "samples1.mean()"
   ]
  },
  {
   "cell_type": "code",
   "execution_count": 17,
   "id": "2a5a77d1-d61a-40a6-aee1-d1b18c3c9476",
   "metadata": {},
   "outputs": [
    {
     "data": {
      "text/plain": [
       "2.838160959280629"
      ]
     },
     "execution_count": 17,
     "metadata": {},
     "output_type": "execute_result"
    }
   ],
   "source": [
    "samples1.std()"
   ]
  },
  {
   "cell_type": "code",
   "execution_count": 18,
   "id": "ad7123c7-726e-4565-8ff5-e1a194f6e151",
   "metadata": {},
   "outputs": [
    {
     "data": {
      "text/plain": [
       "<Axes: ylabel='Density'>"
      ]
     },
     "execution_count": 18,
     "metadata": {},
     "output_type": "execute_result"
    },
    {
     "data": {
      "image/png": "[encoded data removed]",
      "text/plain": [
       "<Figure size 640x480 with 1 Axes>"
      ]
     },
     "metadata": {},
     "output_type": "display_data"
    }
   ],
   "source": [
    "sns.kdeplot(samples1)"
   ]
  },
  {
   "cell_type": "code",
   "execution_count": 19,
   "id": "9bce82f4-db78-4bbc-8524-fbe2ca0d01b4",
   "metadata": {},
   "outputs": [],
   "source": [
    "samples= norm.rvs(loc=10, scale=5, size=100, random_state=0)"
   ]
  },
  {
   "cell_type": "code",
   "execution_count": 20,
   "id": "bcde2bce-b8de-4018-859e-747fa4005efd",
   "metadata": {},
   "outputs": [
    {
     "data": {
      "text/plain": [
       "array([18.82026173, 12.00078604, 14.89368992, 21.204466  , 19.33778995,\n",
       "        5.1136106 , 14.75044209,  9.24321396,  9.48390574, 12.05299251,\n",
       "       10.72021786, 17.27136753, 13.80518863, 10.60837508, 12.21931616,\n",
       "       11.66837164, 17.47039537,  8.97420868, 11.56533851,  5.7295213 ,\n",
       "       -2.76494908, 13.26809298, 14.32218099,  6.2891749 , 21.34877312,\n",
       "        2.72817163, 10.22879259,  9.06408075, 17.66389607, 17.34679385,\n",
       "       10.77473713, 11.8908126 ,  5.56107126,  0.09601766,  8.26043925,\n",
       "       10.78174485, 16.1514534 , 16.01189924,  8.06336591,  8.48848625,\n",
       "        4.75723517,  2.89991031,  1.46864905, 19.75387698,  7.45173909,\n",
       "        7.80962849,  3.7360232 , 13.88745178,  1.93051076,  8.9362986 ,\n",
       "        5.52266719, 11.93451249,  7.44597431,  4.09683908,  9.85908886,\n",
       "       12.14165935, 10.33258611, 11.51235949,  6.82838953,  8.18629417,\n",
       "        6.63769776,  8.20223419,  5.93426859,  1.36858699, 10.88713071,\n",
       "        7.99109532,  1.84900827, 12.31391128,  5.46350818, 10.25972698,\n",
       "       13.64545281, 10.64491455, 15.69700342,  3.8258709 , 12.01170821,\n",
       "        6.57594955,  5.64601425,  7.10575168,  8.44223734, 10.28082671,\n",
       "        4.1742508 , 14.50413243, 12.3283122 ,  2.31878157, 17.44126097,\n",
       "       19.47944588, 15.89389786,  9.10037582,  4.64623689, 15.27225863,\n",
       "        7.98411527, 16.11222535, 11.04137489, 14.88319518, 11.78183199,\n",
       "       13.53286584, 10.0525001 , 18.92935247, 10.63456046, 12.00994682])"
      ]
     },
     "execution_count": 20,
     "metadata": {},
     "output_type": "execute_result"
    }
   ],
   "source": [
    "samples"
   ]
  },
  {
   "cell_type": "code",
   "execution_count": 21,
   "id": "7af32cb9-60bd-4ac3-a340-e5f259fadeea",
   "metadata": {},
   "outputs": [
    {
     "data": {
      "text/plain": [
       "10.299040077672425"
      ]
     },
     "execution_count": 21,
     "metadata": {},
     "output_type": "execute_result"
    }
   ],
   "source": [
    "samples.mean()"
   ]
  },
  {
   "cell_type": "code",
   "execution_count": 22,
   "id": "b5e2f208-0d6c-4ed5-823d-cf8609c2df5c",
   "metadata": {},
   "outputs": [
    {
     "data": {
      "text/plain": [
       "5.039411223582898"
      ]
     },
     "execution_count": 22,
     "metadata": {},
     "output_type": "execute_result"
    }
   ],
   "source": [
    "samples.std()"
   ]
  },
  {
   "cell_type": "code",
   "execution_count": 23,
   "id": "ca0aa302-889d-4007-984a-8dd328b50811",
   "metadata": {},
   "outputs": [
    {
     "data": {
      "text/plain": [
       "<Axes: ylabel='Density'>"
      ]
     },
     "execution_count": 23,
     "metadata": {},
     "output_type": "execute_result"
    },
    {
     "data": {
      "image/png": "[encoded data removed]",
      "text/plain": [
       "<Figure size 640x480 with 1 Axes>"
      ]
     },
     "metadata": {},
     "output_type": "display_data"
    }
   ],
   "source": [
    "sns.kdeplot(samples)"
   ]
  },
  {
   "cell_type": "code",
   "execution_count": 24,
   "id": "c7cb5931-63a6-4053-8466-7677c596704a",
   "metadata": {},
   "outputs": [],
   "source": [
    "import pandas as pd\n",
    "sna= pd.read_csv('Social_Network_Ads.csv')"
   ]
  },
  {
   "cell_type": "code",
   "execution_count": 25,
   "id": "511e97f0-2349-4002-92fa-ec92fcdbee6d",
   "metadata": {},
   "outputs": [
    {
     "data": {
      "text/plain": [
       "count       400.000000\n",
       "mean      69742.500000\n",
       "std       34096.960282\n",
       "min       15000.000000\n",
       "25%       43000.000000\n",
       "50%       70000.000000\n",
       "75%       88000.000000\n",
       "max      150000.000000\n",
       "Name: EstimatedSalary, dtype: float64"
      ]
     },
     "execution_count": 25,
     "metadata": {},
     "output_type": "execute_result"
    }
   ],
   "source": [
    "sna['EstimatedSalary'].describe()"
   ]
  },
  {
   "cell_type": "code",
   "execution_count": 26,
   "id": "e2301808-b89f-425f-9a01-b13a17881677",
   "metadata": {},
   "outputs": [],
   "source": [
    "%precision 2\n",
    "samples2= abs(norm.rvs(loc=70000, scale=34000, size=400, random_state=0))"
   ]
  },
  {
   "cell_type": "code",
   "execution_count": 27,
   "id": "7cda94db-1840-43fa-af00-1a21c2f29ccc",
   "metadata": {},
   "outputs": [
    {
     "data": {
      "text/plain": [
       "(32823.98, 69399.96, 379.49, 151026.92)"
      ]
     },
     "execution_count": 27,
     "metadata": {},
     "output_type": "execute_result"
    }
   ],
   "source": [
    "samples2.std(), samples2.mean(), samples2.min(), samples2.max()"
   ]
  },
  {
   "cell_type": "code",
   "execution_count": 28,
   "id": "7a26a87b-1c80-4860-9dc6-efe68460b5eb",
   "metadata": {},
   "outputs": [
    {
     "data": {
      "text/plain": [
       "<Axes: ylabel='Density'>"
      ]
     },
     "execution_count": 28,
     "metadata": {},
     "output_type": "execute_result"
    },
    {
     "data": {
      "image/png": "[encoded data removed]",
      "text/plain": [
       "<Figure size 640x480 with 1 Axes>"
      ]
     },
     "metadata": {},
     "output_type": "display_data"
    }
   ],
   "source": [
    "sns.kdeplot(samples2)"
   ]
  },
  {
   "cell_type": "code",
   "execution_count": 29,
   "id": "084ef6a4-0cdc-497f-9c9b-2b683b5e3fc9",
   "metadata": {},
   "outputs": [
    {
     "data": {
      "text/plain": [
       "count    400.000000\n",
       "mean      37.655000\n",
       "std       10.482877\n",
       "min       18.000000\n",
       "25%       29.750000\n",
       "50%       37.000000\n",
       "75%       46.000000\n",
       "max       60.000000\n",
       "Name: Age, dtype: float64"
      ]
     },
     "execution_count": 29,
     "metadata": {},
     "output_type": "execute_result"
    }
   ],
   "source": [
    "sna['Age'].describe()"
   ]
  },
  {
   "cell_type": "code",
   "execution_count": 30,
   "id": "64854271-c9d9-4148-bad8-e2847cf6f3c3",
   "metadata": {},
   "outputs": [],
   "source": [
    "%precision 2\n",
    "samples3= abs(norm.rvs(loc=38, scale=10, size=400, random_state=0))"
   ]
  },
  {
   "cell_type": "code",
   "execution_count": 31,
   "id": "bddd55a7-2478-446a-bf4f-50ff7959526f",
   "metadata": {},
   "outputs": [
    {
     "data": {
      "text/plain": [
       "(9.88, 37.71, 10.27, 61.83)"
      ]
     },
     "execution_count": 31,
     "metadata": {},
     "output_type": "execute_result"
    }
   ],
   "source": [
    "samples3.std(), samples3.mean(), samples3.min(), samples3.max()"
   ]
  },
  {
   "cell_type": "code",
   "execution_count": 32,
   "id": "9aa53a6e-c43d-46a4-a7bb-453d1ab1f58e",
   "metadata": {},
   "outputs": [
    {
     "data": {
      "text/plain": [
       "<Axes: xlabel='Age', ylabel='Density'>"
      ]
     },
     "execution_count": 32,
     "metadata": {},
     "output_type": "execute_result"
    },
    {
     "data": {
      "image/png": "[encoded data removed]",
      "text/plain": [
       "<Figure size 640x480 with 1 Axes>"
      ]
     },
     "metadata": {},
     "output_type": "display_data"
    }
   ],
   "source": [
    "sns.kdeplot(samples3)\n",
    "sns.kdeplot(sna['Age'])"
   ]
  },
  {
   "cell_type": "markdown",
   "id": "924092a0-d2e7-4c90-a14e-b031b3849526",
   "metadata": {},
   "source": [
    "Generate data from standard poisson distribustion"
   ]
  },
  {
   "cell_type": "code",
   "execution_count": 34,
   "id": "2edb2686-820f-4680-8d43-ea0996c8fb0b",
   "metadata": {},
   "outputs": [],
   "source": [
    "from scipy.stats import poisson"
   ]
  },
  {
   "cell_type": "code",
   "execution_count": 35,
   "id": "f58765ac-fe72-4c90-b1b5-8bb9cf3f76b6",
   "metadata": {},
   "outputs": [],
   "source": [
    "mean_customers_per_hour = 5"
   ]
  },
  {
   "cell_type": "code",
   "execution_count": 36,
   "id": "23cc51d2-a955-449d-b8b8-1ab6b4461150",
   "metadata": {},
   "outputs": [],
   "source": [
    "# Generate a random sample of the number of customers that\n",
    "# arrive at the store in one hour\n",
    "number_of_customers = poisson.rvs(mean_customers_per_hour, size=10)"
   ]
  },
  {
   "cell_type": "code",
   "execution_count": 37,
   "id": "53ef1326-07fc-4ab7-90ef-ae5f8ac5d926",
   "metadata": {},
   "outputs": [
    {
     "data": {
      "text/plain": [
       "array([8, 5, 3, 2, 4, 5, 3, 3, 5, 5], dtype=int64)"
      ]
     },
     "execution_count": 37,
     "metadata": {},
     "output_type": "execute_result"
    }
   ],
   "source": [
    "number_of_customers"
   ]
  },
  {
   "cell_type": "code",
   "execution_count": 38,
   "id": "3dbf99a4-8e17-4f70-ac12-4c50cf6c3120",
   "metadata": {},
   "outputs": [],
   "source": [
    "number_of_customers = poisson.rvs(mean_customers_per_hour, size=100, random_state=0)"
   ]
  },
  {
   "cell_type": "code",
   "execution_count": 39,
   "id": "e575cec8-9dbf-4447-9abc-53b6a32ccd7b",
   "metadata": {},
   "outputs": [
    {
     "data": {
      "text/plain": [
       "array([ 9,  5,  6,  5,  5,  8,  4,  5,  4,  3,  3,  7,  3,  3,  4,  5,  2,\n",
       "        1,  7,  7, 10,  5,  8,  8,  6,  4,  4,  3,  1,  5,  6,  5,  5,  4,\n",
       "        1,  7,  2,  7,  6,  2,  6,  5,  7,  5,  4,  5, 10,  6,  4,  7,  3,\n",
       "        2,  2,  6,  2,  5,  3,  6,  2,  4,  4,  4,  8,  7, 11,  3,  4,  1,\n",
       "        4,  5,  1,  2,  2,  5,  5,  5,  7,  8,  4,  6,  4, 10,  3,  8,  5,\n",
       "        7,  3,  8,  2,  1,  4,  4,  4,  4,  6,  4, 12,  1,  6,  3],\n",
       "      dtype=int64)"
      ]
     },
     "execution_count": 39,
     "metadata": {},
     "output_type": "execute_result"
    }
   ],
   "source": [
    "number_of_customers"
   ]
  },
  {
   "cell_type": "code",
   "execution_count": 40,
   "id": "11e8a136-222a-4fab-ac90-32faf6120e3e",
   "metadata": {},
   "outputs": [
    {
     "data": {
      "text/plain": [
       "<Axes: ylabel='Density'>"
      ]
     },
     "execution_count": 40,
     "metadata": {},
     "output_type": "execute_result"
    },
    {
     "data": {
      "image/png": "[encoded data removed]",
      "text/plain": [
       "<Figure size 640x480 with 1 Axes>"
      ]
     },
     "metadata": {},
     "output_type": "display_data"
    }
   ],
   "source": [
    "sns.kdeplot(number_of_customers)"
   ]
  },
  {
   "cell_type": "code",
   "execution_count": 41,
   "id": "80a2e065-7fa3-428b-affa-579352700002",
   "metadata": {},
   "outputs": [
    {
     "data": {
      "text/plain": [
       "4.84"
      ]
     },
     "execution_count": 41,
     "metadata": {},
     "output_type": "execute_result"
    }
   ],
   "source": [
    "number_of_customers.mean()"
   ]
  },
  {
   "cell_type": "code",
   "execution_count": 42,
   "id": "743c4755-1e66-421c-ba44-8d0a4c75645a",
   "metadata": {},
   "outputs": [],
   "source": [
    "import matplotlib.pyplot as plt"
   ]
  },
  {
   "cell_type": "code",
   "execution_count": 43,
   "id": "43c67690-728c-45d7-a990-305b763737b0",
   "metadata": {},
   "outputs": [
    {
     "data": {
      "image/png": "[encoded data removed]",
      "text/plain": [
       "<Figure size 640x480 with 1 Axes>"
      ]
     },
     "metadata": {},
     "output_type": "display_data"
    }
   ],
   "source": [
    "plt.hist(number_of_customers, bins=range(12));"
   ]
  },
  {
   "cell_type": "code",
   "execution_count": 44,
   "id": "456c2efb-f363-4e5d-a111-c0d7fdc4f673",
   "metadata": {},
   "outputs": [],
   "source": [
    "custs = pd.Series(number_of_customers)"
   ]
  },
  {
   "cell_type": "code",
   "execution_count": 45,
   "id": "150b1b9c-d575-4e31-8439-b0a198ba9774",
   "metadata": {},
   "outputs": [
    {
     "data": {
      "image/png": "[encoded data removed]",
      "text/plain": [
       "<Figure size 500x500 with 1 Axes>"
      ]
     },
     "metadata": {},
     "output_type": "display_data"
    }
   ],
   "source": [
    "plt.figure(figsize=(5,5))\n",
    "plt.pie(custs.value_counts(), labels=custs.value_counts().index, autopct='%2.2f%%');"
   ]
  },
  {
   "cell_type": "code",
   "execution_count": 46,
   "id": "5a3698ea-3196-4872-934b-194266fdf4aa",
   "metadata": {},
   "outputs": [
    {
     "data": {
      "text/plain": [
       "1      7\n",
       "2     10\n",
       "3     11\n",
       "4     20\n",
       "5     18\n",
       "6     11\n",
       "7     10\n",
       "8      7\n",
       "9      1\n",
       "10     3\n",
       "11     1\n",
       "12     1\n",
       "Name: count, dtype: int64"
      ]
     },
     "execution_count": 46,
     "metadata": {},
     "output_type": "execute_result"
    }
   ],
   "source": [
    "custs.value_counts().sort_index()"
   ]
  },
  {
   "cell_type": "code",
   "execution_count": 47,
   "id": "68965f25-1cfb-4cbe-92ca-4df338d910cd",
   "metadata": {},
   "outputs": [],
   "source": [
    "data = custs.value_counts().sort_index()"
   ]
  },
  {
   "cell_type": "code",
   "execution_count": 48,
   "id": "64ae1092-ff0a-443f-9b2b-c6a006ecbda5",
   "metadata": {},
   "outputs": [
    {
     "data": {
      "text/plain": [
       "[<matplotlib.lines.Line2D at 0x1e11aa08da0>]"
      ]
     },
     "execution_count": 48,
     "metadata": {},
     "output_type": "execute_result"
    },
    {
     "data": {
      "image/png": "[encoded data removed]",
      "text/plain": [
       "<Figure size 640x480 with 1 Axes>"
      ]
     },
     "metadata": {},
     "output_type": "display_data"
    }
   ],
   "source": [
    "plt.grid()\n",
    "plt.xlabel('Customers per hour')\n",
    "plt.ylabel('Probability')\n",
    "plt.xticks(range(13))\n",
    "plt.plot(data.index, data/100, color='r', marker='D', lw=2, mfc='g')"
   ]
  },
  {
   "cell_type": "markdown",
   "id": "c478bd23-b77f-456a-90ad-85eb6d6c37b0",
   "metadata": {},
   "source": [
    "Simulate classification dataset"
   ]
  },
  {
   "cell_type": "code",
   "execution_count": 50,
   "id": "53add618-c5b1-4361-8c20-b1a9eb9305d7",
   "metadata": {},
   "outputs": [],
   "source": [
    "from sklearn.datasets import make_classification"
   ]
  },
  {
   "cell_type": "code",
   "execution_count": 51,
   "id": "e020f43f-186c-482e-80a9-921abe0a4d27",
   "metadata": {},
   "outputs": [],
   "source": [
    "data = make_classification(n_samples=1000, n_features=10,\n",
    "                           n_classes=2, random_state=0, n_informative=3)"
   ]
  },
  {
   "cell_type": "code",
   "execution_count": 52,
   "id": "575d2e29-4eeb-4023-af46-fc5550e40a74",
   "metadata": {},
   "outputs": [
    {
     "data": {
      "text/plain": [
       "array([[ 1.62, -0.43,  0.16, ...,  0.2 ,  0.54,  0.21],\n",
       "       [-2.34, -0.88, -1.49, ...,  0.6 , -0.27, -0.59],\n",
       "       [ 0.98,  1.63,  1.37, ..., -1.07,  2.73, -0.07],\n",
       "       ...,\n",
       "       [-1.39,  1.49, -0.28, ..., -0.31,  1.27, -1.92],\n",
       "       [-1.44,  0.73, -0.41, ...,  0.36, -0.19, -1.12],\n",
       "       [ 0.64, -1.27, -1.24, ...,  1.23,  1.4 , -0.83]])"
      ]
     },
     "execution_count": 52,
     "metadata": {},
     "output_type": "execute_result"
    }
   ],
   "source": [
    "data[0]"
   ]
  },
  {
   "cell_type": "code",
   "execution_count": 53,
   "id": "0e404c1d-716a-4e62-b1c8-c3cc8f1524b6",
   "metadata": {},
   "outputs": [
    {
     "data": {
      "text/plain": [
       "array([0, 1, 1, 1, 1, 1, 0, 1, 1, 1, 1, 1, 0, 0, 1, 0, 0, 1, 1, 0, 0, 0,\n",
       "       0, 1, 0, 1, 0, 1, 0, 0, 1, 0, 0, 0, 1, 0, 1, 1, 1, 1, 1, 1, 0, 1,\n",
       "       0, 1, 0, 1, 1, 1, 1, 1, 0, 0, 1, 1, 0, 1, 0, 1, 1, 1, 0, 0, 0, 1,\n",
       "       0, 1, 0, 1, 0, 1, 1, 1, 0, 0, 1, 0, 1, 0, 1, 1, 1, 0, 1, 0, 0, 0,\n",
       "       1, 0, 0, 0, 1, 1, 1, 0, 1, 1, 0, 1, 1, 0, 0, 1, 0, 0, 0, 0, 1, 1,\n",
       "       0, 0, 0, 1, 0, 0, 1, 0, 0, 0, 0, 1, 1, 0, 1, 1, 1, 1, 1, 0, 1, 0,\n",
       "       1, 0, 1, 1, 0, 1, 0, 1, 0, 0, 1, 1, 1, 1, 1, 1, 0, 0, 0, 1, 0, 0,\n",
       "       0, 0, 1, 0, 1, 1, 0, 0, 0, 0, 1, 1, 0, 1, 1, 1, 0, 0, 0, 0, 0, 1,\n",
       "       1, 1, 0, 1, 0, 0, 1, 1, 0, 1, 0, 1, 1, 1, 1, 0, 0, 0, 1, 0, 0, 1,\n",
       "       1, 0, 1, 0, 1, 0, 1, 1, 1, 1, 0, 0, 1, 0, 0, 1, 0, 0, 0, 1, 1, 1,\n",
       "       0, 0, 1, 0, 1, 1, 0, 1, 1, 1, 1, 1, 0, 0, 1, 1, 0, 0, 0, 0, 0, 0,\n",
       "       1, 1, 1, 1, 1, 1, 0, 1, 1, 0, 0, 0, 0, 0, 0, 0, 1, 1, 1, 1, 1, 0,\n",
       "       1, 0, 0, 0, 0, 0, 1, 1, 1, 1, 0, 0, 0, 1, 1, 1, 0, 0, 0, 1, 0, 1,\n",
       "       0, 0, 1, 1, 1, 1, 1, 1, 1, 1, 1, 1, 0, 0, 1, 1, 0, 1, 1, 0, 1, 1,\n",
       "       1, 1, 0, 1, 0, 0, 1, 1, 0, 1, 0, 0, 1, 0, 0, 1, 1, 0, 0, 1, 1, 1,\n",
       "       0, 0, 0, 0, 0, 0, 1, 0, 1, 0, 0, 1, 1, 0, 0, 0, 0, 0, 1, 1, 0, 0,\n",
       "       0, 0, 1, 1, 1, 1, 1, 1, 1, 1, 0, 0, 0, 1, 0, 1, 1, 1, 0, 1, 1, 0,\n",
       "       0, 1, 1, 1, 1, 1, 1, 1, 0, 1, 0, 0, 1, 1, 0, 0, 0, 0, 1, 0, 1, 1,\n",
       "       0, 0, 0, 0, 1, 1, 1, 1, 0, 0, 0, 1, 1, 0, 1, 1, 1, 0, 0, 0, 1, 0,\n",
       "       0, 1, 1, 0, 0, 0, 0, 1, 1, 1, 1, 1, 1, 0, 1, 1, 0, 0, 1, 1, 1, 1,\n",
       "       0, 1, 0, 0, 1, 0, 0, 0, 1, 1, 0, 0, 0, 0, 0, 1, 0, 0, 0, 1, 0, 1,\n",
       "       0, 1, 1, 1, 0, 1, 0, 0, 0, 1, 0, 0, 0, 1, 1, 0, 1, 1, 0, 1, 1, 1,\n",
       "       0, 0, 0, 0, 1, 0, 0, 1, 0, 1, 1, 0, 1, 1, 0, 1, 0, 1, 0, 0, 0, 1,\n",
       "       1, 1, 0, 1, 1, 1, 1, 1, 1, 0, 1, 0, 0, 1, 1, 0, 0, 1, 0, 1, 0, 0,\n",
       "       0, 1, 0, 1, 0, 0, 1, 1, 0, 1, 1, 0, 0, 0, 1, 1, 0, 0, 1, 0, 0, 1,\n",
       "       0, 0, 1, 1, 1, 0, 1, 0, 0, 1, 0, 1, 1, 0, 1, 0, 1, 0, 0, 0, 1, 1,\n",
       "       1, 0, 1, 1, 1, 1, 1, 1, 0, 0, 0, 1, 0, 0, 0, 0, 1, 1, 1, 1, 0, 0,\n",
       "       0, 0, 0, 0, 1, 1, 1, 0, 0, 0, 1, 0, 1, 0, 1, 0, 1, 1, 0, 1, 0, 1,\n",
       "       1, 1, 1, 1, 1, 1, 1, 0, 1, 0, 0, 1, 0, 0, 1, 0, 0, 0, 1, 0, 1, 0,\n",
       "       0, 0, 0, 0, 0, 0, 1, 0, 0, 1, 1, 1, 1, 1, 1, 1, 1, 1, 1, 1, 0, 1,\n",
       "       1, 1, 0, 0, 1, 1, 0, 0, 0, 1, 0, 0, 1, 0, 1, 0, 1, 0, 1, 0, 1, 0,\n",
       "       1, 1, 1, 0, 1, 0, 1, 0, 0, 1, 0, 0, 1, 1, 0, 1, 1, 0, 0, 0, 0, 1,\n",
       "       0, 0, 0, 0, 1, 1, 1, 1, 1, 0, 1, 1, 1, 0, 0, 1, 0, 1, 0, 0, 1, 1,\n",
       "       1, 0, 0, 1, 0, 0, 1, 1, 1, 0, 0, 0, 1, 1, 0, 0, 1, 0, 1, 0, 1, 1,\n",
       "       1, 0, 0, 1, 0, 0, 1, 1, 1, 0, 1, 1, 0, 0, 1, 0, 1, 1, 0, 0, 0, 0,\n",
       "       1, 1, 0, 1, 0, 1, 1, 0, 1, 0, 0, 0, 0, 0, 0, 1, 1, 0, 1, 1, 0, 1,\n",
       "       1, 1, 0, 0, 0, 0, 1, 0, 1, 0, 0, 0, 0, 0, 0, 0, 0, 1, 0, 1, 0, 1,\n",
       "       1, 0, 0, 1, 0, 1, 1, 1, 1, 1, 0, 1, 0, 0, 0, 1, 0, 0, 0, 0, 0, 1,\n",
       "       0, 0, 0, 0, 0, 0, 1, 1, 0, 1, 1, 0, 1, 0, 0, 1, 0, 1, 1, 1, 1, 1,\n",
       "       0, 0, 1, 0, 0, 1, 1, 0, 1, 0, 1, 1, 1, 0, 1, 0, 1, 1, 1, 0, 0, 0,\n",
       "       1, 1, 1, 0, 0, 1, 0, 0, 0, 0, 1, 1, 0, 0, 0, 1, 1, 0, 0, 1, 0, 1,\n",
       "       1, 0, 1, 0, 1, 0, 1, 1, 0, 0, 0, 1, 0, 0, 0, 1, 1, 1, 1, 1, 1, 0,\n",
       "       1, 0, 0, 0, 0, 0, 1, 1, 1, 0, 0, 0, 1, 0, 0, 1, 1, 0, 1, 1, 0, 0,\n",
       "       0, 0, 0, 1, 0, 0, 0, 0, 1, 1, 0, 0, 0, 0, 1, 1, 1, 1, 0, 1, 1, 1,\n",
       "       1, 0, 0, 1, 1, 0, 0, 0, 0, 0, 0, 0, 0, 1, 1, 1, 1, 1, 0, 0, 0, 0,\n",
       "       0, 0, 1, 0, 1, 0, 0, 1, 1, 0])"
      ]
     },
     "execution_count": 53,
     "metadata": {},
     "output_type": "execute_result"
    }
   ],
   "source": [
    "data[1]"
   ]
  },
  {
   "cell_type": "code",
   "execution_count": 54,
   "id": "89fc347d-c767-4845-b5d6-ec65e726ba34",
   "metadata": {},
   "outputs": [],
   "source": [
    "df= pd.DataFrame(data=data[0])"
   ]
  },
  {
   "cell_type": "code",
   "execution_count": 107,
   "id": "c413f28e-9d64-4f01-af8a-55b83e2789b0",
   "metadata": {},
   "outputs": [],
   "source": [
    "df['class']=data[1]"
   ]
  },
  {
   "cell_type": "code",
   "execution_count": 109,
   "id": "e000b07e-c5cf-4056-be87-c38f8c7439d4",
   "metadata": {},
   "outputs": [
    {
     "data": {
      "text/html": [
       "<div>\n",
       "<style scoped>\n",
       "    .dataframe tbody tr th:only-of-type {\n",
       "        vertical-align: middle;\n",
       "    }\n",
       "\n",
       "    .dataframe tbody tr th {\n",
       "        vertical-align: top;\n",
       "    }\n",
       "\n",
       "    .dataframe thead th {\n",
       "        text-align: right;\n",
       "    }\n",
       "</style>\n",
       "<table border=\"1\" class=\"dataframe\">\n",
       "  <thead>\n",
       "    <tr style=\"text-align: right;\">\n",
       "      <th></th>\n",
       "      <th>0</th>\n",
       "      <th>1</th>\n",
       "      <th>2</th>\n",
       "      <th>3</th>\n",
       "      <th>4</th>\n",
       "      <th>5</th>\n",
       "      <th>6</th>\n",
       "      <th>7</th>\n",
       "      <th>8</th>\n",
       "      <th>9</th>\n",
       "      <th>class</th>\n",
       "    </tr>\n",
       "  </thead>\n",
       "  <tbody>\n",
       "    <tr>\n",
       "      <th>0</th>\n",
       "      <td>1.620947</td>\n",
       "      <td>-0.433527</td>\n",
       "      <td>0.162905</td>\n",
       "      <td>2.007343</td>\n",
       "      <td>0.060170</td>\n",
       "      <td>0.446299</td>\n",
       "      <td>-0.818487</td>\n",
       "      <td>0.197243</td>\n",
       "      <td>0.537695</td>\n",
       "      <td>0.207155</td>\n",
       "      <td>0</td>\n",
       "    </tr>\n",
       "    <tr>\n",
       "      <th>1</th>\n",
       "      <td>-2.336835</td>\n",
       "      <td>-0.884129</td>\n",
       "      <td>-1.489995</td>\n",
       "      <td>0.398259</td>\n",
       "      <td>-1.128671</td>\n",
       "      <td>0.055355</td>\n",
       "      <td>-1.027055</td>\n",
       "      <td>0.597032</td>\n",
       "      <td>-0.270654</td>\n",
       "      <td>-0.585551</td>\n",
       "      <td>1</td>\n",
       "    </tr>\n",
       "    <tr>\n",
       "      <th>2</th>\n",
       "      <td>0.975054</td>\n",
       "      <td>1.632019</td>\n",
       "      <td>1.368798</td>\n",
       "      <td>-0.081025</td>\n",
       "      <td>1.346979</td>\n",
       "      <td>-0.123379</td>\n",
       "      <td>-0.406592</td>\n",
       "      <td>-1.067364</td>\n",
       "      <td>2.727947</td>\n",
       "      <td>-0.069978</td>\n",
       "      <td>1</td>\n",
       "    </tr>\n",
       "    <tr>\n",
       "      <th>3</th>\n",
       "      <td>0.905750</td>\n",
       "      <td>0.826385</td>\n",
       "      <td>1.404151</td>\n",
       "      <td>0.248280</td>\n",
       "      <td>0.765889</td>\n",
       "      <td>-1.164785</td>\n",
       "      <td>-0.900200</td>\n",
       "      <td>-0.366282</td>\n",
       "      <td>-0.460534</td>\n",
       "      <td>1.094243</td>\n",
       "      <td>1</td>\n",
       "    </tr>\n",
       "    <tr>\n",
       "      <th>4</th>\n",
       "      <td>2.542487</td>\n",
       "      <td>0.404609</td>\n",
       "      <td>0.579403</td>\n",
       "      <td>-0.675938</td>\n",
       "      <td>0.850752</td>\n",
       "      <td>1.059687</td>\n",
       "      <td>-0.556996</td>\n",
       "      <td>1.490126</td>\n",
       "      <td>1.222022</td>\n",
       "      <td>-0.525303</td>\n",
       "      <td>1</td>\n",
       "    </tr>\n",
       "    <tr>\n",
       "      <th>...</th>\n",
       "      <td>...</td>\n",
       "      <td>...</td>\n",
       "      <td>...</td>\n",
       "      <td>...</td>\n",
       "      <td>...</td>\n",
       "      <td>...</td>\n",
       "      <td>...</td>\n",
       "      <td>...</td>\n",
       "      <td>...</td>\n",
       "      <td>...</td>\n",
       "      <td>...</td>\n",
       "    </tr>\n",
       "    <tr>\n",
       "      <th>995</th>\n",
       "      <td>-0.080486</td>\n",
       "      <td>0.214686</td>\n",
       "      <td>1.235329</td>\n",
       "      <td>1.521288</td>\n",
       "      <td>0.116248</td>\n",
       "      <td>-1.594663</td>\n",
       "      <td>0.341319</td>\n",
       "      <td>-1.257747</td>\n",
       "      <td>-0.527420</td>\n",
       "      <td>2.004805</td>\n",
       "      <td>0</td>\n",
       "    </tr>\n",
       "    <tr>\n",
       "      <th>996</th>\n",
       "      <td>1.658900</td>\n",
       "      <td>-0.570057</td>\n",
       "      <td>-0.521856</td>\n",
       "      <td>1.143842</td>\n",
       "      <td>-0.018065</td>\n",
       "      <td>-1.723951</td>\n",
       "      <td>1.093787</td>\n",
       "      <td>1.015624</td>\n",
       "      <td>0.271675</td>\n",
       "      <td>-0.878093</td>\n",
       "      <td>0</td>\n",
       "    </tr>\n",
       "    <tr>\n",
       "      <th>997</th>\n",
       "      <td>-1.385905</td>\n",
       "      <td>1.493746</td>\n",
       "      <td>-0.277011</td>\n",
       "      <td>-0.575595</td>\n",
       "      <td>0.737936</td>\n",
       "      <td>0.687173</td>\n",
       "      <td>-0.757177</td>\n",
       "      <td>-0.313214</td>\n",
       "      <td>1.268401</td>\n",
       "      <td>-1.921936</td>\n",
       "      <td>1</td>\n",
       "    </tr>\n",
       "    <tr>\n",
       "      <th>998</th>\n",
       "      <td>-1.438124</td>\n",
       "      <td>0.727925</td>\n",
       "      <td>-0.407381</td>\n",
       "      <td>-0.126802</td>\n",
       "      <td>0.190788</td>\n",
       "      <td>-0.281855</td>\n",
       "      <td>-1.424744</td>\n",
       "      <td>0.358668</td>\n",
       "      <td>-0.188708</td>\n",
       "      <td>-1.120475</td>\n",
       "      <td>1</td>\n",
       "    </tr>\n",
       "    <tr>\n",
       "      <th>999</th>\n",
       "      <td>0.639727</td>\n",
       "      <td>-1.270569</td>\n",
       "      <td>-1.236206</td>\n",
       "      <td>1.477067</td>\n",
       "      <td>-0.730314</td>\n",
       "      <td>0.181234</td>\n",
       "      <td>-0.154458</td>\n",
       "      <td>1.233091</td>\n",
       "      <td>1.397424</td>\n",
       "      <td>-0.832661</td>\n",
       "      <td>0</td>\n",
       "    </tr>\n",
       "  </tbody>\n",
       "</table>\n",
       "<p>1000 rows × 11 columns</p>\n",
       "</div>"
      ],
      "text/plain": [
       "            0         1         2         3         4         5         6  \\\n",
       "0    1.620947 -0.433527  0.162905  2.007343  0.060170  0.446299 -0.818487   \n",
       "1   -2.336835 -0.884129 -1.489995  0.398259 -1.128671  0.055355 -1.027055   \n",
       "2    0.975054  1.632019  1.368798 -0.081025  1.346979 -0.123379 -0.406592   \n",
       "3    0.905750  0.826385  1.404151  0.248280  0.765889 -1.164785 -0.900200   \n",
       "4    2.542487  0.404609  0.579403 -0.675938  0.850752  1.059687 -0.556996   \n",
       "..        ...       ...       ...       ...       ...       ...       ...   \n",
       "995 -0.080486  0.214686  1.235329  1.521288  0.116248 -1.594663  0.341319   \n",
       "996  1.658900 -0.570057 -0.521856  1.143842 -0.018065 -1.723951  1.093787   \n",
       "997 -1.385905  1.493746 -0.277011 -0.575595  0.737936  0.687173 -0.757177   \n",
       "998 -1.438124  0.727925 -0.407381 -0.126802  0.190788 -0.281855 -1.424744   \n",
       "999  0.639727 -1.270569 -1.236206  1.477067 -0.730314  0.181234 -0.154458   \n",
       "\n",
       "            7         8         9  class  \n",
       "0    0.197243  0.537695  0.207155      0  \n",
       "1    0.597032 -0.270654 -0.585551      1  \n",
       "2   -1.067364  2.727947 -0.069978      1  \n",
       "3   -0.366282 -0.460534  1.094243      1  \n",
       "4    1.490126  1.222022 -0.525303      1  \n",
       "..        ...       ...       ...    ...  \n",
       "995 -1.257747 -0.527420  2.004805      0  \n",
       "996  1.015624  0.271675 -0.878093      0  \n",
       "997 -0.313214  1.268401 -1.921936      1  \n",
       "998  0.358668 -0.188708 -1.120475      1  \n",
       "999  1.233091  1.397424 -0.832661      0  \n",
       "\n",
       "[1000 rows x 11 columns]"
      ]
     },
     "execution_count": 109,
     "metadata": {},
     "output_type": "execute_result"
    }
   ],
   "source": [
    "df"
   ]
  },
  {
   "cell_type": "markdown",
   "id": "50045b0b-556d-440d-9cb4-6ca8483da83b",
   "metadata": {},
   "source": [
    "Simulated classification dataset"
   ]
  },
  {
   "cell_type": "code",
   "execution_count": 112,
   "id": "5d15d0ba-b847-45b8-b552-9d111a6cf80e",
   "metadata": {},
   "outputs": [],
   "source": [
    "from sklearn.datasets import make_regression"
   ]
  },
  {
   "cell_type": "code",
   "execution_count": 114,
   "id": "38f76a5d-6cb9-4d6d-958e-e5c0d1c49164",
   "metadata": {},
   "outputs": [],
   "source": [
    "reg_data= make_regression(n_samples=500, n_features=5)"
   ]
  },
  {
   "cell_type": "code",
   "execution_count": 116,
   "id": "28e06b1e-3232-4dc6-8b8f-fc943682641b",
   "metadata": {},
   "outputs": [
    {
     "data": {
      "text/plain": [
       "(array([[ 1.49, -0.79,  0.84,  2.17, -0.79],\n",
       "        [-0.32, -1.4 ,  0.87, -0.17, -0.64],\n",
       "        [ 0.82, -2.14,  0.9 ,  1.17, -0.87],\n",
       "        ...,\n",
       "        [-0.63,  1.15, -0.46,  0.36, -0.79],\n",
       "        [-0.82, -0.92, -0.81, -0.46, -1.64],\n",
       "        [ 0.68,  0.67,  0.8 ,  0.15, -0.51]]),\n",
       " array([ 2.06e+02, -4.14e+01,  8.34e+01,  1.50e+02,  8.25e+01, -1.79e+02,\n",
       "         1.37e+02,  2.56e+02, -5.62e+00,  7.55e+01,  8.00e-02, -9.52e+01,\n",
       "        -7.64e+00,  2.35e+02,  1.75e+02, -4.03e+01, -2.19e+02, -2.01e+02,\n",
       "        -5.84e+01,  1.39e+02,  4.25e+02,  6.67e+01, -4.86e+01,  1.26e+02,\n",
       "         6.77e+01,  1.87e+02, -1.85e+02, -9.36e+01, -1.58e+02, -3.02e+00,\n",
       "         7.39e+01, -1.04e+02,  1.24e+02, -1.65e+00,  2.08e+02, -5.78e+01,\n",
       "         3.94e+01,  1.05e+02, -5.86e+01,  2.20e+02, -1.16e+01, -2.16e+02,\n",
       "        -6.27e+01, -2.64e+01,  2.32e+01,  1.67e+01, -1.35e+01,  4.15e+01,\n",
       "         1.86e+02,  5.20e+00,  6.56e+01,  4.69e+01,  6.52e+01,  2.17e+02,\n",
       "        -6.45e+01, -7.11e+01, -5.62e+01, -6.02e+01, -3.08e+01,  3.10e+01,\n",
       "         1.23e+02,  2.32e+01,  6.88e+01, -6.98e+01, -1.42e+02, -4.64e+01,\n",
       "        -3.63e+02,  9.75e+00, -7.00e+01, -8.88e+01, -3.22e+02, -4.53e+02,\n",
       "        -2.45e+02, -1.42e+02,  8.30e+01,  1.68e+02, -1.81e+01, -1.19e+01,\n",
       "        -1.00e+02,  1.28e+02,  1.20e+01,  1.23e+02, -1.10e+02, -1.06e+02,\n",
       "        -1.35e+00, -3.52e+01,  4.87e+01, -5.81e+00, -1.94e+02, -2.56e+02,\n",
       "         4.75e+01,  1.62e+02,  6.40e+00, -1.83e+02, -1.68e+02, -6.52e+00,\n",
       "        -2.41e+02,  1.31e+02,  9.03e+00,  5.60e+01, -1.01e+02,  3.97e+01,\n",
       "        -2.59e+01, -4.63e+01,  5.40e+01, -9.29e+01,  5.73e+01,  1.91e+01,\n",
       "         2.70e+01, -1.87e+01, -1.67e+02, -4.72e+01, -6.90e+01,  7.66e+01,\n",
       "         6.71e+01, -1.76e+02,  1.68e+02,  5.27e+01,  1.59e+02, -2.81e+02,\n",
       "         3.69e+01,  1.04e+00,  9.72e+01, -1.05e+02,  1.60e+02,  6.24e+01,\n",
       "        -1.25e+01, -9.30e+01,  2.06e+01, -8.81e+00, -1.92e+02,  3.11e+01,\n",
       "         8.55e+01, -1.03e+02, -1.49e+02,  3.06e+01, -2.39e+02, -1.63e+02,\n",
       "         6.33e+01,  8.55e+01, -1.18e+02,  9.98e+01, -1.41e+02, -2.16e+01,\n",
       "        -1.43e+01, -2.35e+01, -2.96e+02,  3.46e+01, -2.89e+02,  1.15e+00,\n",
       "         6.12e+01,  1.51e+02,  3.75e+01,  5.93e+01,  2.74e+02, -3.41e+01,\n",
       "        -7.45e+01, -1.21e+02,  1.60e+02,  7.10e+01,  5.45e+01,  9.31e+01,\n",
       "        -9.19e+01,  9.77e+01,  4.93e+01,  2.53e+01,  4.13e+00,  2.83e+02,\n",
       "         4.44e+01,  1.55e+02, -5.72e-02,  2.06e+02,  1.87e+01,  1.67e+01,\n",
       "        -4.63e+01, -9.61e+00,  1.61e+02, -1.61e+02,  1.02e+01, -1.03e+02,\n",
       "        -9.61e+01,  5.48e+01,  7.93e+01,  1.43e+02, -1.23e+02,  1.30e+02,\n",
       "         3.41e+01,  2.12e+02, -1.09e+02,  1.69e+01,  1.24e+02,  5.15e+01,\n",
       "        -5.94e+01,  9.09e+01, -1.68e+02, -6.17e+01, -1.21e+02,  1.85e+02,\n",
       "         9.67e+01,  2.67e+01,  6.51e+01, -8.17e+01,  1.06e+02,  1.08e+02,\n",
       "        -7.74e+01, -1.00e+02, -1.08e+01, -7.67e+01, -1.23e+02,  1.23e+02,\n",
       "        -1.64e+02,  1.26e+02,  1.90e+01,  2.02e+02, -2.96e+02,  1.51e+02,\n",
       "         2.79e+01,  1.05e+02,  1.11e+02, -8.27e+01,  4.63e+01,  2.39e+02,\n",
       "        -9.39e+01, -1.60e+02,  2.02e+02, -3.08e+02, -6.78e+01, -1.95e+02,\n",
       "         2.90e+01,  1.48e+02,  5.50e+01, -9.41e+01, -3.48e+01,  1.67e+02,\n",
       "        -6.78e+01,  1.48e+02,  1.63e+02,  1.26e+02, -6.43e+01,  7.98e+01,\n",
       "         4.26e+02, -2.57e+02,  1.37e+02, -2.18e+02,  9.18e+00, -1.12e+02,\n",
       "         1.52e+01,  9.42e+01,  8.76e+01, -3.19e+01,  4.32e+01, -7.53e+01,\n",
       "        -4.08e+01, -4.39e+01, -1.54e+02, -7.56e+01, -5.17e+01,  1.55e+02,\n",
       "        -9.30e+01, -1.42e+02, -1.12e+02,  2.59e+02, -8.76e+01,  1.75e+02,\n",
       "        -1.11e+02,  5.85e+01, -1.60e+02, -1.03e+02,  5.12e+01,  1.02e+01,\n",
       "         1.52e+02, -2.92e+02, -1.15e+02, -8.79e+01,  1.04e+02, -8.70e+00,\n",
       "         1.29e+01,  1.32e+02, -2.50e+02,  2.19e+02, -4.69e+01,  1.97e+02,\n",
       "         4.10e+01, -7.18e+01,  1.23e+02, -3.56e+02,  2.48e+02,  5.83e+01,\n",
       "        -1.84e+00, -2.12e+02,  1.64e+02,  2.79e+01, -8.01e+01,  1.68e+02,\n",
       "        -2.58e+02, -4.83e+01,  4.36e+02,  4.93e+01,  9.00e+01, -1.44e+02,\n",
       "        -1.80e+02, -8.14e+01,  9.21e+01, -2.68e+02, -7.32e+00,  5.99e+00,\n",
       "         7.47e+01,  3.21e+02,  5.83e+01,  1.68e+02,  4.83e+01, -6.91e+01,\n",
       "         1.41e+02,  8.89e+01,  6.42e+00,  9.10e+01,  1.01e+01, -6.33e+01,\n",
       "        -1.62e+02, -6.61e+01, -1.94e+02,  1.47e+02,  4.55e+01,  2.76e+02,\n",
       "        -6.68e+01,  2.61e+02, -1.93e+02, -1.92e+02, -1.30e+00,  2.14e+02,\n",
       "         3.24e+02,  1.95e+02,  7.71e+01,  1.28e+02,  1.31e+02,  3.23e+01,\n",
       "         1.20e+01,  1.33e+02, -2.13e+02,  2.98e+01,  2.08e+01,  5.17e+01,\n",
       "        -1.35e+02, -4.13e+01, -9.64e+01,  2.53e+01,  1.50e+02,  2.48e+02,\n",
       "         2.65e+01, -2.08e+02, -1.41e+02,  1.32e+02, -8.10e+01,  1.61e+02,\n",
       "         1.35e+02, -1.43e+02, -1.79e+02, -2.46e+01, -3.62e+01,  1.44e+02,\n",
       "        -7.18e+01,  9.57e-01, -2.78e+01, -1.15e+01,  5.01e+01, -1.84e+02,\n",
       "         5.71e+01, -1.13e+01,  2.86e+01,  3.00e+02,  7.84e+01, -1.29e+02,\n",
       "        -4.82e+01,  4.40e+01,  1.74e+02, -1.71e+02, -9.84e+01, -1.87e+02,\n",
       "         6.49e+01,  8.07e+01,  1.77e+02, -1.77e+02, -4.32e+01, -8.64e+01,\n",
       "         1.95e+01,  1.38e+02,  1.76e+00,  1.40e+02,  6.73e+01, -8.71e+01,\n",
       "         3.48e+02, -1.94e+02,  4.40e+01,  1.43e+02,  5.90e+01, -2.02e+02,\n",
       "        -3.50e+02,  3.87e+01, -1.97e+02,  1.13e+01, -5.78e+01,  2.07e+02,\n",
       "        -1.38e+02, -6.00e+00, -1.75e+02, -1.00e+02,  1.07e+02, -1.12e+02,\n",
       "        -1.54e+02, -3.22e+00, -1.46e+02, -1.09e+01, -4.13e+01, -1.13e+02,\n",
       "        -4.22e+01, -8.78e+01,  8.08e+01, -9.87e+01,  7.36e+01,  1.62e+02,\n",
       "         1.15e+00,  3.01e+02,  2.64e+02, -4.54e+01, -6.30e+01,  8.32e+01,\n",
       "        -4.58e+00,  3.97e+01,  1.95e+02, -1.11e+02, -9.23e+01, -3.37e+01,\n",
       "        -1.73e+02, -9.74e+01, -1.04e+02, -1.02e+02, -2.13e+02,  1.20e+02,\n",
       "        -2.75e+02,  6.99e+01,  9.32e+01, -1.02e+02,  7.03e+00, -4.62e+01,\n",
       "         6.41e+01, -3.09e+01,  1.17e+02, -2.82e+01, -2.08e+02,  8.58e+01,\n",
       "        -1.49e+02,  1.58e+01,  6.28e+01, -1.81e+02,  7.03e+01,  1.60e+02,\n",
       "         9.68e+01, -9.82e+01, -7.51e+01,  1.10e+02,  7.41e+01, -2.30e+01,\n",
       "        -1.17e+02,  8.33e+01, -3.75e+01, -1.08e+02,  1.07e+02,  3.86e+01,\n",
       "        -1.25e+01, -1.07e+02, -1.09e+02, -7.15e+01,  1.08e+02,  1.97e+02,\n",
       "         3.37e+02,  5.71e-01,  1.47e+02,  9.28e+01,  5.83e+01,  1.04e+02,\n",
       "        -1.67e+02, -1.29e+02, -1.86e+02,  8.82e+01, -7.04e+01, -8.31e+01,\n",
       "        -2.00e+02,  1.54e+02, -9.07e+01,  5.00e+01, -3.86e+02, -1.55e+02,\n",
       "        -2.38e+02,  3.23e+01,  1.67e+02, -4.96e+01,  1.42e+02, -9.98e+01,\n",
       "        -2.57e+02,  1.09e+02]))"
      ]
     },
     "execution_count": 116,
     "metadata": {},
     "output_type": "execute_result"
    }
   ],
   "source": [
    "reg_data"
   ]
  },
  {
   "cell_type": "code",
   "execution_count": 118,
   "id": "45ccfb6c-fabe-42f9-aa4c-88d53f5ffed6",
   "metadata": {},
   "outputs": [
    {
     "data": {
      "text/plain": [
       "array([[ 1.49, -0.79,  0.84,  2.17, -0.79],\n",
       "       [-0.32, -1.4 ,  0.87, -0.17, -0.64],\n",
       "       [ 0.82, -2.14,  0.9 ,  1.17, -0.87],\n",
       "       ...,\n",
       "       [-0.63,  1.15, -0.46,  0.36, -0.79],\n",
       "       [-0.82, -0.92, -0.81, -0.46, -1.64],\n",
       "       [ 0.68,  0.67,  0.8 ,  0.15, -0.51]])"
      ]
     },
     "execution_count": 118,
     "metadata": {},
     "output_type": "execute_result"
    }
   ],
   "source": [
    "# input data\n",
    "reg_data[0]"
   ]
  },
  {
   "cell_type": "code",
   "execution_count": 122,
   "id": "9451fd73-3202-41cd-b609-edc53a128475",
   "metadata": {},
   "outputs": [
    {
     "data": {
      "text/plain": [
       "array([ 2.06e+02, -4.14e+01,  8.34e+01,  1.50e+02,  8.25e+01, -1.79e+02,\n",
       "        1.37e+02,  2.56e+02, -5.62e+00,  7.55e+01,  8.00e-02, -9.52e+01,\n",
       "       -7.64e+00,  2.35e+02,  1.75e+02, -4.03e+01, -2.19e+02, -2.01e+02,\n",
       "       -5.84e+01,  1.39e+02,  4.25e+02,  6.67e+01, -4.86e+01,  1.26e+02,\n",
       "        6.77e+01,  1.87e+02, -1.85e+02, -9.36e+01, -1.58e+02, -3.02e+00,\n",
       "        7.39e+01, -1.04e+02,  1.24e+02, -1.65e+00,  2.08e+02, -5.78e+01,\n",
       "        3.94e+01,  1.05e+02, -5.86e+01,  2.20e+02, -1.16e+01, -2.16e+02,\n",
       "       -6.27e+01, -2.64e+01,  2.32e+01,  1.67e+01, -1.35e+01,  4.15e+01,\n",
       "        1.86e+02,  5.20e+00,  6.56e+01,  4.69e+01,  6.52e+01,  2.17e+02,\n",
       "       -6.45e+01, -7.11e+01, -5.62e+01, -6.02e+01, -3.08e+01,  3.10e+01,\n",
       "        1.23e+02,  2.32e+01,  6.88e+01, -6.98e+01, -1.42e+02, -4.64e+01,\n",
       "       -3.63e+02,  9.75e+00, -7.00e+01, -8.88e+01, -3.22e+02, -4.53e+02,\n",
       "       -2.45e+02, -1.42e+02,  8.30e+01,  1.68e+02, -1.81e+01, -1.19e+01,\n",
       "       -1.00e+02,  1.28e+02,  1.20e+01,  1.23e+02, -1.10e+02, -1.06e+02,\n",
       "       -1.35e+00, -3.52e+01,  4.87e+01, -5.81e+00, -1.94e+02, -2.56e+02,\n",
       "        4.75e+01,  1.62e+02,  6.40e+00, -1.83e+02, -1.68e+02, -6.52e+00,\n",
       "       -2.41e+02,  1.31e+02,  9.03e+00,  5.60e+01, -1.01e+02,  3.97e+01,\n",
       "       -2.59e+01, -4.63e+01,  5.40e+01, -9.29e+01,  5.73e+01,  1.91e+01,\n",
       "        2.70e+01, -1.87e+01, -1.67e+02, -4.72e+01, -6.90e+01,  7.66e+01,\n",
       "        6.71e+01, -1.76e+02,  1.68e+02,  5.27e+01,  1.59e+02, -2.81e+02,\n",
       "        3.69e+01,  1.04e+00,  9.72e+01, -1.05e+02,  1.60e+02,  6.24e+01,\n",
       "       -1.25e+01, -9.30e+01,  2.06e+01, -8.81e+00, -1.92e+02,  3.11e+01,\n",
       "        8.55e+01, -1.03e+02, -1.49e+02,  3.06e+01, -2.39e+02, -1.63e+02,\n",
       "        6.33e+01,  8.55e+01, -1.18e+02,  9.98e+01, -1.41e+02, -2.16e+01,\n",
       "       -1.43e+01, -2.35e+01, -2.96e+02,  3.46e+01, -2.89e+02,  1.15e+00,\n",
       "        6.12e+01,  1.51e+02,  3.75e+01,  5.93e+01,  2.74e+02, -3.41e+01,\n",
       "       -7.45e+01, -1.21e+02,  1.60e+02,  7.10e+01,  5.45e+01,  9.31e+01,\n",
       "       -9.19e+01,  9.77e+01,  4.93e+01,  2.53e+01,  4.13e+00,  2.83e+02,\n",
       "        4.44e+01,  1.55e+02, -5.72e-02,  2.06e+02,  1.87e+01,  1.67e+01,\n",
       "       -4.63e+01, -9.61e+00,  1.61e+02, -1.61e+02,  1.02e+01, -1.03e+02,\n",
       "       -9.61e+01,  5.48e+01,  7.93e+01,  1.43e+02, -1.23e+02,  1.30e+02,\n",
       "        3.41e+01,  2.12e+02, -1.09e+02,  1.69e+01,  1.24e+02,  5.15e+01,\n",
       "       -5.94e+01,  9.09e+01, -1.68e+02, -6.17e+01, -1.21e+02,  1.85e+02,\n",
       "        9.67e+01,  2.67e+01,  6.51e+01, -8.17e+01,  1.06e+02,  1.08e+02,\n",
       "       -7.74e+01, -1.00e+02, -1.08e+01, -7.67e+01, -1.23e+02,  1.23e+02,\n",
       "       -1.64e+02,  1.26e+02,  1.90e+01,  2.02e+02, -2.96e+02,  1.51e+02,\n",
       "        2.79e+01,  1.05e+02,  1.11e+02, -8.27e+01,  4.63e+01,  2.39e+02,\n",
       "       -9.39e+01, -1.60e+02,  2.02e+02, -3.08e+02, -6.78e+01, -1.95e+02,\n",
       "        2.90e+01,  1.48e+02,  5.50e+01, -9.41e+01, -3.48e+01,  1.67e+02,\n",
       "       -6.78e+01,  1.48e+02,  1.63e+02,  1.26e+02, -6.43e+01,  7.98e+01,\n",
       "        4.26e+02, -2.57e+02,  1.37e+02, -2.18e+02,  9.18e+00, -1.12e+02,\n",
       "        1.52e+01,  9.42e+01,  8.76e+01, -3.19e+01,  4.32e+01, -7.53e+01,\n",
       "       -4.08e+01, -4.39e+01, -1.54e+02, -7.56e+01, -5.17e+01,  1.55e+02,\n",
       "       -9.30e+01, -1.42e+02, -1.12e+02,  2.59e+02, -8.76e+01,  1.75e+02,\n",
       "       -1.11e+02,  5.85e+01, -1.60e+02, -1.03e+02,  5.12e+01,  1.02e+01,\n",
       "        1.52e+02, -2.92e+02, -1.15e+02, -8.79e+01,  1.04e+02, -8.70e+00,\n",
       "        1.29e+01,  1.32e+02, -2.50e+02,  2.19e+02, -4.69e+01,  1.97e+02,\n",
       "        4.10e+01, -7.18e+01,  1.23e+02, -3.56e+02,  2.48e+02,  5.83e+01,\n",
       "       -1.84e+00, -2.12e+02,  1.64e+02,  2.79e+01, -8.01e+01,  1.68e+02,\n",
       "       -2.58e+02, -4.83e+01,  4.36e+02,  4.93e+01,  9.00e+01, -1.44e+02,\n",
       "       -1.80e+02, -8.14e+01,  9.21e+01, -2.68e+02, -7.32e+00,  5.99e+00,\n",
       "        7.47e+01,  3.21e+02,  5.83e+01,  1.68e+02,  4.83e+01, -6.91e+01,\n",
       "        1.41e+02,  8.89e+01,  6.42e+00,  9.10e+01,  1.01e+01, -6.33e+01,\n",
       "       -1.62e+02, -6.61e+01, -1.94e+02,  1.47e+02,  4.55e+01,  2.76e+02,\n",
       "       -6.68e+01,  2.61e+02, -1.93e+02, -1.92e+02, -1.30e+00,  2.14e+02,\n",
       "        3.24e+02,  1.95e+02,  7.71e+01,  1.28e+02,  1.31e+02,  3.23e+01,\n",
       "        1.20e+01,  1.33e+02, -2.13e+02,  2.98e+01,  2.08e+01,  5.17e+01,\n",
       "       -1.35e+02, -4.13e+01, -9.64e+01,  2.53e+01,  1.50e+02,  2.48e+02,\n",
       "        2.65e+01, -2.08e+02, -1.41e+02,  1.32e+02, -8.10e+01,  1.61e+02,\n",
       "        1.35e+02, -1.43e+02, -1.79e+02, -2.46e+01, -3.62e+01,  1.44e+02,\n",
       "       -7.18e+01,  9.57e-01, -2.78e+01, -1.15e+01,  5.01e+01, -1.84e+02,\n",
       "        5.71e+01, -1.13e+01,  2.86e+01,  3.00e+02,  7.84e+01, -1.29e+02,\n",
       "       -4.82e+01,  4.40e+01,  1.74e+02, -1.71e+02, -9.84e+01, -1.87e+02,\n",
       "        6.49e+01,  8.07e+01,  1.77e+02, -1.77e+02, -4.32e+01, -8.64e+01,\n",
       "        1.95e+01,  1.38e+02,  1.76e+00,  1.40e+02,  6.73e+01, -8.71e+01,\n",
       "        3.48e+02, -1.94e+02,  4.40e+01,  1.43e+02,  5.90e+01, -2.02e+02,\n",
       "       -3.50e+02,  3.87e+01, -1.97e+02,  1.13e+01, -5.78e+01,  2.07e+02,\n",
       "       -1.38e+02, -6.00e+00, -1.75e+02, -1.00e+02,  1.07e+02, -1.12e+02,\n",
       "       -1.54e+02, -3.22e+00, -1.46e+02, -1.09e+01, -4.13e+01, -1.13e+02,\n",
       "       -4.22e+01, -8.78e+01,  8.08e+01, -9.87e+01,  7.36e+01,  1.62e+02,\n",
       "        1.15e+00,  3.01e+02,  2.64e+02, -4.54e+01, -6.30e+01,  8.32e+01,\n",
       "       -4.58e+00,  3.97e+01,  1.95e+02, -1.11e+02, -9.23e+01, -3.37e+01,\n",
       "       -1.73e+02, -9.74e+01, -1.04e+02, -1.02e+02, -2.13e+02,  1.20e+02,\n",
       "       -2.75e+02,  6.99e+01,  9.32e+01, -1.02e+02,  7.03e+00, -4.62e+01,\n",
       "        6.41e+01, -3.09e+01,  1.17e+02, -2.82e+01, -2.08e+02,  8.58e+01,\n",
       "       -1.49e+02,  1.58e+01,  6.28e+01, -1.81e+02,  7.03e+01,  1.60e+02,\n",
       "        9.68e+01, -9.82e+01, -7.51e+01,  1.10e+02,  7.41e+01, -2.30e+01,\n",
       "       -1.17e+02,  8.33e+01, -3.75e+01, -1.08e+02,  1.07e+02,  3.86e+01,\n",
       "       -1.25e+01, -1.07e+02, -1.09e+02, -7.15e+01,  1.08e+02,  1.97e+02,\n",
       "        3.37e+02,  5.71e-01,  1.47e+02,  9.28e+01,  5.83e+01,  1.04e+02,\n",
       "       -1.67e+02, -1.29e+02, -1.86e+02,  8.82e+01, -7.04e+01, -8.31e+01,\n",
       "       -2.00e+02,  1.54e+02, -9.07e+01,  5.00e+01, -3.86e+02, -1.55e+02,\n",
       "       -2.38e+02,  3.23e+01,  1.67e+02, -4.96e+01,  1.42e+02, -9.98e+01,\n",
       "       -2.57e+02,  1.09e+02])"
      ]
     },
     "execution_count": 122,
     "metadata": {},
     "output_type": "execute_result"
    }
   ],
   "source": [
    "# output data\n",
    "reg_data[1]"
   ]
  },
  {
   "cell_type": "code",
   "execution_count": 124,
   "id": "faefce23-0864-49c2-bce6-8ebcb30447a9",
   "metadata": {},
   "outputs": [],
   "source": [
    "df= pd.DataFrame(data = reg_data[0])"
   ]
  },
  {
   "cell_type": "code",
   "execution_count": 126,
   "id": "05685622-5c9f-4594-9257-1ddab4576775",
   "metadata": {},
   "outputs": [],
   "source": [
    "df['output']= reg_data[1]"
   ]
  },
  {
   "cell_type": "code",
   "execution_count": 128,
   "id": "cd0112af-535f-47aa-86d3-2e361defbd0e",
   "metadata": {},
   "outputs": [
    {
     "data": {
      "text/html": [
       "<div>\n",
       "<style scoped>\n",
       "    .dataframe tbody tr th:only-of-type {\n",
       "        vertical-align: middle;\n",
       "    }\n",
       "\n",
       "    .dataframe tbody tr th {\n",
       "        vertical-align: top;\n",
       "    }\n",
       "\n",
       "    .dataframe thead th {\n",
       "        text-align: right;\n",
       "    }\n",
       "</style>\n",
       "<table border=\"1\" class=\"dataframe\">\n",
       "  <thead>\n",
       "    <tr style=\"text-align: right;\">\n",
       "      <th></th>\n",
       "      <th>0</th>\n",
       "      <th>1</th>\n",
       "      <th>2</th>\n",
       "      <th>3</th>\n",
       "      <th>4</th>\n",
       "      <th>output</th>\n",
       "    </tr>\n",
       "  </thead>\n",
       "  <tbody>\n",
       "    <tr>\n",
       "      <th>0</th>\n",
       "      <td>1.487428</td>\n",
       "      <td>-0.791567</td>\n",
       "      <td>0.838061</td>\n",
       "      <td>2.167397</td>\n",
       "      <td>-0.792492</td>\n",
       "      <td>205.924652</td>\n",
       "    </tr>\n",
       "    <tr>\n",
       "      <th>1</th>\n",
       "      <td>-0.321565</td>\n",
       "      <td>-1.399697</td>\n",
       "      <td>0.865981</td>\n",
       "      <td>-0.173501</td>\n",
       "      <td>-0.637783</td>\n",
       "      <td>-41.369486</td>\n",
       "    </tr>\n",
       "    <tr>\n",
       "      <th>2</th>\n",
       "      <td>0.823536</td>\n",
       "      <td>-2.144911</td>\n",
       "      <td>0.895213</td>\n",
       "      <td>1.172942</td>\n",
       "      <td>-0.873635</td>\n",
       "      <td>83.375604</td>\n",
       "    </tr>\n",
       "    <tr>\n",
       "      <th>3</th>\n",
       "      <td>1.161581</td>\n",
       "      <td>0.236276</td>\n",
       "      <td>0.143616</td>\n",
       "      <td>-0.034172</td>\n",
       "      <td>0.481184</td>\n",
       "      <td>150.413538</td>\n",
       "    </tr>\n",
       "    <tr>\n",
       "      <th>4</th>\n",
       "      <td>1.190884</td>\n",
       "      <td>-0.402582</td>\n",
       "      <td>-0.639439</td>\n",
       "      <td>-0.266154</td>\n",
       "      <td>0.528545</td>\n",
       "      <td>82.527749</td>\n",
       "    </tr>\n",
       "    <tr>\n",
       "      <th>...</th>\n",
       "      <td>...</td>\n",
       "      <td>...</td>\n",
       "      <td>...</td>\n",
       "      <td>...</td>\n",
       "      <td>...</td>\n",
       "      <td>...</td>\n",
       "    </tr>\n",
       "    <tr>\n",
       "      <th>495</th>\n",
       "      <td>0.332280</td>\n",
       "      <td>-1.025444</td>\n",
       "      <td>-1.190166</td>\n",
       "      <td>0.365254</td>\n",
       "      <td>0.157276</td>\n",
       "      <td>-49.641114</td>\n",
       "    </tr>\n",
       "    <tr>\n",
       "      <th>496</th>\n",
       "      <td>0.992290</td>\n",
       "      <td>0.734290</td>\n",
       "      <td>1.324464</td>\n",
       "      <td>-1.377610</td>\n",
       "      <td>-0.234064</td>\n",
       "      <td>142.337483</td>\n",
       "    </tr>\n",
       "    <tr>\n",
       "      <th>497</th>\n",
       "      <td>-0.632556</td>\n",
       "      <td>1.154535</td>\n",
       "      <td>-0.458407</td>\n",
       "      <td>0.364470</td>\n",
       "      <td>-0.787289</td>\n",
       "      <td>-99.752938</td>\n",
       "    </tr>\n",
       "    <tr>\n",
       "      <th>498</th>\n",
       "      <td>-0.816636</td>\n",
       "      <td>-0.918476</td>\n",
       "      <td>-0.807449</td>\n",
       "      <td>-0.461847</td>\n",
       "      <td>-1.640488</td>\n",
       "      <td>-256.513928</td>\n",
       "    </tr>\n",
       "    <tr>\n",
       "      <th>499</th>\n",
       "      <td>0.679027</td>\n",
       "      <td>0.674999</td>\n",
       "      <td>0.798153</td>\n",
       "      <td>0.148987</td>\n",
       "      <td>-0.508094</td>\n",
       "      <td>108.651582</td>\n",
       "    </tr>\n",
       "  </tbody>\n",
       "</table>\n",
       "<p>500 rows × 6 columns</p>\n",
       "</div>"
      ],
      "text/plain": [
       "            0         1         2         3         4      output\n",
       "0    1.487428 -0.791567  0.838061  2.167397 -0.792492  205.924652\n",
       "1   -0.321565 -1.399697  0.865981 -0.173501 -0.637783  -41.369486\n",
       "2    0.823536 -2.144911  0.895213  1.172942 -0.873635   83.375604\n",
       "3    1.161581  0.236276  0.143616 -0.034172  0.481184  150.413538\n",
       "4    1.190884 -0.402582 -0.639439 -0.266154  0.528545   82.527749\n",
       "..        ...       ...       ...       ...       ...         ...\n",
       "495  0.332280 -1.025444 -1.190166  0.365254  0.157276  -49.641114\n",
       "496  0.992290  0.734290  1.324464 -1.377610 -0.234064  142.337483\n",
       "497 -0.632556  1.154535 -0.458407  0.364470 -0.787289  -99.752938\n",
       "498 -0.816636 -0.918476 -0.807449 -0.461847 -1.640488 -256.513928\n",
       "499  0.679027  0.674999  0.798153  0.148987 -0.508094  108.651582\n",
       "\n",
       "[500 rows x 6 columns]"
      ]
     },
     "execution_count": 128,
     "metadata": {},
     "output_type": "execute_result"
    }
   ],
   "source": [
    "df"
   ]
  }
 ],
 "metadata": {
  "kernelspec": {
   "display_name": "Python 3 (ipykernel)",
   "language": "python",
   "name": "python3"
  },
  "language_info": {
   "codemirror_mode": {
    "name": "ipython",
    "version": 3
   },
   "file_extension": ".py",
   "mimetype": "text/x-python",
   "name": "python",
   "nbconvert_exporter": "python",
   "pygments_lexer": "ipython3",
   "version": "3.12.4"
  }
 },
 "nbformat": 4,
 "nbformat_minor": 5
}
