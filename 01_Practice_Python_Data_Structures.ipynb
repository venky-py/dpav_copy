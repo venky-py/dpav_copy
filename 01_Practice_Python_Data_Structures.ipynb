{
 "cells": [
  {
   "cell_type": "code",
   "execution_count": 148,
   "id": "563d109b-d377-42e2-a358-4c0069be9f95",
   "metadata": {},
   "outputs": [],
   "source": [
    "num = [23,32,56,12,67,82,96,46,42,61,27,88,35]"
   ]
  },
  {
   "cell_type": "code",
   "execution_count": 149,
   "id": "4ce9bfb0-e166-4f5d-bfb2-1a659aaafc3d",
   "metadata": {},
   "outputs": [],
   "source": [
    "list1 = []"
   ]
  },
  {
   "cell_type": "code",
   "execution_count": 150,
   "id": "e3f75552-176b-41d0-a301-53985cd2aa2d",
   "metadata": {},
   "outputs": [],
   "source": [
    "for i in num:\n",
    "    if i%3 == 0:\n",
    "        list1.append(i)\n",
    "        "
   ]
  },
  {
   "cell_type": "code",
   "execution_count": 151,
   "id": "3574797f-2bd5-4852-a071-8b9266999d8d",
   "metadata": {},
   "outputs": [
    {
     "name": "stdout",
     "output_type": "stream",
     "text": [
      "[12, 96, 42, 27]\n"
     ]
    }
   ],
   "source": [
    "print(list1)"
   ]
  },
  {
   "cell_type": "code",
   "execution_count": 152,
   "id": "2a6f20dc-0f2e-4831-b47e-801269db2b62",
   "metadata": {},
   "outputs": [],
   "source": [
    "# num = [5,7,1,6,2,3,8,9,4,0]\n",
    "# output num = [5,7,1,6,2,0,3,4,8,9]"
   ]
  },
  {
   "cell_type": "code",
   "execution_count": 153,
   "id": "cbd122d0-c3b3-46f0-8498-112afd5f7145",
   "metadata": {},
   "outputs": [],
   "source": [
    "num = [5,7,1,6,2,3,8,9,4,0]"
   ]
  },
  {
   "cell_type": "code",
   "execution_count": 154,
   "id": "3b2d8164-a3f0-4e95-9375-de43a5780dbb",
   "metadata": {},
   "outputs": [],
   "source": [
    "num2 = num[len(num)//2:]"
   ]
  },
  {
   "cell_type": "code",
   "execution_count": 155,
   "id": "9fedd1a6-1fbb-4e58-92ff-53d0269b0be8",
   "metadata": {},
   "outputs": [],
   "source": [
    "num2.sort()"
   ]
  },
  {
   "cell_type": "code",
   "execution_count": 156,
   "id": "a891987f-c54e-4ea8-8b6b-1183e7cf0c5b",
   "metadata": {},
   "outputs": [
    {
     "data": {
      "text/plain": [
       "[0, 3, 4, 8, 9]"
      ]
     },
     "execution_count": 156,
     "metadata": {},
     "output_type": "execute_result"
    }
   ],
   "source": [
    "num2"
   ]
  },
  {
   "cell_type": "code",
   "execution_count": 157,
   "id": "6382dec2-687f-4029-975e-afedc8b11f65",
   "metadata": {},
   "outputs": [],
   "source": [
    "num1 = num[:len(num)//2]"
   ]
  },
  {
   "cell_type": "code",
   "execution_count": 158,
   "id": "ecbe8633-38e9-487c-aeb4-1073a84cb03b",
   "metadata": {},
   "outputs": [
    {
     "data": {
      "text/plain": [
       "[5, 7, 1, 6, 2]"
      ]
     },
     "execution_count": 158,
     "metadata": {},
     "output_type": "execute_result"
    }
   ],
   "source": [
    "num1"
   ]
  },
  {
   "cell_type": "code",
   "execution_count": 159,
   "id": "33d7d8e5-57f5-4022-9797-27bc826be511",
   "metadata": {},
   "outputs": [],
   "source": [
    "num = num1+num2"
   ]
  },
  {
   "cell_type": "code",
   "execution_count": 160,
   "id": "8a4ad98e-d67b-4c7b-be33-31cae668f585",
   "metadata": {},
   "outputs": [
    {
     "data": {
      "text/plain": [
       "[5, 7, 1, 6, 2, 0, 3, 4, 8, 9]"
      ]
     },
     "execution_count": 160,
     "metadata": {},
     "output_type": "execute_result"
    }
   ],
   "source": [
    "num"
   ]
  },
  {
   "cell_type": "code",
   "execution_count": 161,
   "id": "a2d4a0d3-da3b-45d9-ba9e-ea8769f7c33d",
   "metadata": {},
   "outputs": [],
   "source": [
    "data = [(1,'Ajay',67.89),(2,'Priya',72.56),(3,'Rajan',62.34),(4,'Nitin',78.34),(5,'Anita',62.10)]"
   ]
  },
  {
   "cell_type": "code",
   "execution_count": 162,
   "id": "e61e9903-5309-4d35-ad02-b7f397e444aa",
   "metadata": {},
   "outputs": [
    {
     "data": {
      "text/plain": [
       "78.34"
      ]
     },
     "execution_count": 162,
     "metadata": {},
     "output_type": "execute_result"
    }
   ],
   "source": [
    "list1 = []\n",
    "for i in range(0,len(data)):\n",
    "    list1.append(data[i][2])\n",
    "\n",
    "max(list1)"
   ]
  },
  {
   "cell_type": "code",
   "execution_count": 163,
   "id": "849fd37a-4b5d-4d62-8fb3-7e2359a2e799",
   "metadata": {},
   "outputs": [],
   "source": [
    "j = list1.index(max(list1))"
   ]
  },
  {
   "cell_type": "code",
   "execution_count": 164,
   "id": "bdf32468-bf8a-421c-b110-72ac7e3f2c9f",
   "metadata": {},
   "outputs": [
    {
     "data": {
      "text/plain": [
       "'Nitin'"
      ]
     },
     "execution_count": 164,
     "metadata": {},
     "output_type": "execute_result"
    }
   ],
   "source": [
    "data[j][1]"
   ]
  },
  {
   "cell_type": "code",
   "execution_count": 165,
   "id": "97218f90-ad29-4643-b9ee-476da28d3eda",
   "metadata": {},
   "outputs": [
    {
     "data": {
      "text/plain": [
       "'Nitin'"
      ]
     },
     "execution_count": 165,
     "metadata": {},
     "output_type": "execute_result"
    }
   ],
   "source": [
    "marks = 0\n",
    "topper = None\n",
    "for entry in data:\n",
    "    if entry[2]>marks:\n",
    "        marks = entry[2]\n",
    "        topper = entry[1]\n",
    "\n",
    "topper"
   ]
  },
  {
   "cell_type": "code",
   "execution_count": 166,
   "id": "8c092ba0-46f8-4d8f-a280-3f842ef47fe4",
   "metadata": {},
   "outputs": [],
   "source": [
    "before: [12,13,6,10,3,1,17,18,14,15]\n",
    "after: [12,1,6,10,3,13,15,18,14,17]"
   ]
  },
  {
   "cell_type": "code",
   "execution_count": 167,
   "id": "a51a23fb-ce3d-428a-867b-9b312f53583c",
   "metadata": {
    "scrolled": true
   },
   "outputs": [
    {
     "data": {
      "text/plain": [
       "[1, 3, 13, 15, 17]"
      ]
     },
     "execution_count": 167,
     "metadata": {},
     "output_type": "execute_result"
    }
   ],
   "source": [
    "list1 = [12,13,6,10,3,1,17,18,14,15]\n",
    "list2 = []\n",
    "for i in list1:\n",
    "    if i%2!=0:\n",
    "        list2.append(i)\n",
    "\n",
    "list2.sort()\n",
    "list2\n"
   ]
  },
  {
   "cell_type": "code",
   "execution_count": 191,
   "id": "43ffc509-63a9-482e-a584-07c66aa5fadf",
   "metadata": {},
   "outputs": [
    {
     "data": {
      "text/plain": [
       "[12, 1, 6, 10, 3, 13, 15, 18, 14, 17]"
      ]
     },
     "execution_count": 191,
     "metadata": {},
     "output_type": "execute_result"
    }
   ],
   "source": [
    "cnt=0\n",
    "for j in range(0,len(list1)):\n",
    "    if list1[j]%2!=0:\n",
    "        list1[j] = list2[cnt]\n",
    "        cnt+=1\n",
    "\n",
    "list1"
   ]
  },
  {
   "cell_type": "code",
   "execution_count": 195,
   "id": "db3db643-81f9-403f-90d9-980ae1ad897f",
   "metadata": {},
   "outputs": [
    {
     "data": {
      "text/plain": [
       "[12, 1, 6, 10, 3, 13, 15, 18, 14, 17]"
      ]
     },
     "execution_count": 195,
     "metadata": {},
     "output_type": "execute_result"
    }
   ],
   "source": [
    "index = 0\n",
    "while index<len(list1):\n",
    "    if list1[index]%2==1:\n",
    "        list1[index] = list2.pop(0)\n",
    "    index+=1\n",
    "\n",
    "list1"
   ]
  },
  {
   "cell_type": "code",
   "execution_count": null,
   "id": "7a629e54-a707-4db4-97d1-8c508c26a67b",
   "metadata": {},
   "outputs": [],
   "source": []
  }
 ],
 "metadata": {
  "kernelspec": {
   "display_name": "Python 3 (ipykernel)",
   "language": "python",
   "name": "python3"
  },
  "language_info": {
   "codemirror_mode": {
    "name": "ipython",
    "version": 3
   },
   "file_extension": ".py",
   "mimetype": "text/x-python",
   "name": "python",
   "nbconvert_exporter": "python",
   "pygments_lexer": "ipython3",
   "version": "3.12.4"
  }
 },
 "nbformat": 4,
 "nbformat_minor": 5
}
