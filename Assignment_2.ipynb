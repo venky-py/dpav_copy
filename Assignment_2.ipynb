{
 "cells": [
  {
   "cell_type": "markdown",
   "id": "3253a850-9279-40b0-beeb-d0d3898a7063",
   "metadata": {},
   "source": [
    "1. Write a function to calculate the determinant of a square NumPy matrix.\n",
    "2. Write a function to calculate the inverse of a square NumPy matrix.\n",
    "3. Write a function to calculate the eigenvalues and eigenvectors of a square NumPy matrix.\n",
    "4. Write a function to multiply two NumPy matrices.\n",
    "5. Write a function to add two NumPy matrices.\n",
    "6. Write a function to subtract two NumPy matrices.\n",
    "7. Write  function to transpose a Numpy matrix.\n",
    "8. Write a function to calculate the dot product of two numPy matrices."
   ]
  },
  {
   "cell_type": "code",
   "execution_count": 2,
   "id": "4d87142a-2c45-4de0-9402-bf1cb058f776",
   "metadata": {},
   "outputs": [],
   "source": [
    "import numpy as np"
   ]
  },
  {
   "cell_type": "code",
   "execution_count": 22,
   "id": "3ac7d9dc-d3c4-4b5b-8c66-ef52c09466b6",
   "metadata": {},
   "outputs": [],
   "source": [
    "M = np.array([[11,22,33],[44,55,66],[77,88,99]])"
   ]
  },
  {
   "cell_type": "code",
   "execution_count": 24,
   "id": "e17680b6-27e7-4d33-9575-03dda7807713",
   "metadata": {},
   "outputs": [
    {
     "data": {
      "text/plain": [
       "array([[11, 22, 33],\n",
       "       [44, 55, 66],\n",
       "       [77, 88, 99]])"
      ]
     },
     "execution_count": 24,
     "metadata": {},
     "output_type": "execute_result"
    }
   ],
   "source": [
    "M"
   ]
  },
  {
   "cell_type": "code",
   "execution_count": 26,
   "id": "34813094-06eb-4acb-a9e7-17aa6970d2bf",
   "metadata": {},
   "outputs": [],
   "source": [
    "def matrix_determinant(M):\n",
    "    return np.linalg.det(M)"
   ]
  },
  {
   "cell_type": "code",
   "execution_count": 28,
   "id": "288a4032-23ea-441d-991d-b535617395d4",
   "metadata": {},
   "outputs": [
    {
     "data": {
      "text/plain": [
       "3.961021986599773e-12"
      ]
     },
     "execution_count": 28,
     "metadata": {},
     "output_type": "execute_result"
    }
   ],
   "source": [
    "matrix_determinant(M)"
   ]
  },
  {
   "cell_type": "code",
   "execution_count": 30,
   "id": "49397c46-1dc3-4a0a-9aa6-a4416d6bc92f",
   "metadata": {},
   "outputs": [],
   "source": [
    "def matrix_inverse(M):\n",
    "    return np.linalg.inv(M)"
   ]
  },
  {
   "cell_type": "code",
   "execution_count": 32,
   "id": "78f8e698-c0bf-475d-a80d-250ac4847d13",
   "metadata": {},
   "outputs": [
    {
     "data": {
      "text/plain": [
       "array([[-9.16430157e+13,  1.83286031e+14, -9.16430157e+13],\n",
       "       [ 1.83286031e+14, -3.66572063e+14,  1.83286031e+14],\n",
       "       [-9.16430157e+13,  1.83286031e+14, -9.16430157e+13]])"
      ]
     },
     "execution_count": 32,
     "metadata": {},
     "output_type": "execute_result"
    }
   ],
   "source": [
    "matrix_inverse(M)"
   ]
  },
  {
   "cell_type": "code",
   "execution_count": 44,
   "id": "449164f1-b412-41ad-aecb-1ad4ac62317b",
   "metadata": {},
   "outputs": [],
   "source": [
    "def matrix_eigen(M):\n",
    "    value, vector = np.linalg.eig(M)\n",
    "    print(f\"eigen value: {value}, \\neigen vector: {vector}\") "
   ]
  },
  {
   "cell_type": "code",
   "execution_count": 46,
   "id": "894667d2-1c3b-4796-b6db-55ca12813240",
   "metadata": {},
   "outputs": [
    {
     "name": "stdout",
     "output_type": "stream",
     "text": [
      "eigen value: [ 1.77285284e+02 -1.22852837e+01 -7.29482038e-15], \n",
      "eigen vector: [[-0.23197069 -0.78583024  0.40824829]\n",
      " [-0.52532209 -0.08675134 -0.81649658]\n",
      " [-0.8186735   0.61232756  0.40824829]]\n"
     ]
    }
   ],
   "source": [
    "matrix_eigen(M)"
   ]
  },
  {
   "cell_type": "code",
   "execution_count": 48,
   "id": "e4be3edd-ab9d-403e-9aa0-df02acb530d3",
   "metadata": {},
   "outputs": [],
   "source": [
    "a = np.array([[1,2],[11,22]])\n",
    "b = np.array([[33,44],[7,8]])"
   ]
  },
  {
   "cell_type": "code",
   "execution_count": 50,
   "id": "0d00b278-31c9-4744-b1cd-d83d28d7fecf",
   "metadata": {},
   "outputs": [],
   "source": [
    "def matrix_product(M1, M2):\n",
    "    return M1@M2"
   ]
  },
  {
   "cell_type": "code",
   "execution_count": 52,
   "id": "95b90f90-2d09-418a-8efd-f24f4fc4ca5a",
   "metadata": {},
   "outputs": [
    {
     "data": {
      "text/plain": [
       "array([[ 47,  60],\n",
       "       [517, 660]])"
      ]
     },
     "execution_count": 52,
     "metadata": {},
     "output_type": "execute_result"
    }
   ],
   "source": [
    "matrix_product(a,b)"
   ]
  },
  {
   "cell_type": "code",
   "execution_count": 54,
   "id": "f43dde58-a48c-485d-b636-a7b0f0fdabac",
   "metadata": {},
   "outputs": [],
   "source": [
    "def matrix_addition(M1,M2):\n",
    "    return M1+M2"
   ]
  },
  {
   "cell_type": "code",
   "execution_count": 56,
   "id": "ebec011d-03e7-42b5-84e9-5606facc3910",
   "metadata": {},
   "outputs": [
    {
     "data": {
      "text/plain": [
       "array([[34, 46],\n",
       "       [18, 30]])"
      ]
     },
     "execution_count": 56,
     "metadata": {},
     "output_type": "execute_result"
    }
   ],
   "source": [
    "matrix_addition(a,b)"
   ]
  },
  {
   "cell_type": "code",
   "execution_count": 58,
   "id": "bcc504a6-977e-4aee-b9f5-ff35f68f70a9",
   "metadata": {},
   "outputs": [],
   "source": [
    "def matrix_subtraction(M1,M2):\n",
    "    return M1-M2"
   ]
  },
  {
   "cell_type": "code",
   "execution_count": 60,
   "id": "b315b3b1-b526-4327-89fb-9d84645a0a91",
   "metadata": {},
   "outputs": [
    {
     "data": {
      "text/plain": [
       "array([[-32, -42],\n",
       "       [  4,  14]])"
      ]
     },
     "execution_count": 60,
     "metadata": {},
     "output_type": "execute_result"
    }
   ],
   "source": [
    "matrix_subtraction(a,b)"
   ]
  },
  {
   "cell_type": "code",
   "execution_count": 62,
   "id": "d59b9dfd-2800-4f5b-9a5f-fb3d652cd0eb",
   "metadata": {},
   "outputs": [],
   "source": [
    "def matrix_transpose(M):\n",
    "    return M.T"
   ]
  },
  {
   "cell_type": "code",
   "execution_count": 64,
   "id": "5869d9e1-b0dd-4b6f-9810-47291d8b29d0",
   "metadata": {},
   "outputs": [
    {
     "data": {
      "text/plain": [
       "array([[11, 44, 77],\n",
       "       [22, 55, 88],\n",
       "       [33, 66, 99]])"
      ]
     },
     "execution_count": 64,
     "metadata": {},
     "output_type": "execute_result"
    }
   ],
   "source": [
    "matrix_transpose(M)"
   ]
  },
  {
   "cell_type": "code",
   "execution_count": 68,
   "id": "91df75a3-b5d5-40cd-8e1b-851d23fc0ff9",
   "metadata": {},
   "outputs": [],
   "source": [
    "def matrix_dot_product(M1, M2):\n",
    "    return np.dot(M1,M2)"
   ]
  },
  {
   "cell_type": "code",
   "execution_count": 70,
   "id": "1549d051-dddb-423a-bb57-6d5a28de83f4",
   "metadata": {},
   "outputs": [
    {
     "data": {
      "text/plain": [
       "array([[ 47,  60],\n",
       "       [517, 660]])"
      ]
     },
     "execution_count": 70,
     "metadata": {},
     "output_type": "execute_result"
    }
   ],
   "source": [
    "matrix_dot_product(a,b)"
   ]
  }
 ],
 "metadata": {
  "kernelspec": {
   "display_name": "Python 3 (ipykernel)",
   "language": "python",
   "name": "python3"
  },
  "language_info": {
   "codemirror_mode": {
    "name": "ipython",
    "version": 3
   },
   "file_extension": ".py",
   "mimetype": "text/x-python",
   "name": "python",
   "nbconvert_exporter": "python",
   "pygments_lexer": "ipython3",
   "version": "3.12.4"
  }
 },
 "nbformat": 4,
 "nbformat_minor": 5
}
