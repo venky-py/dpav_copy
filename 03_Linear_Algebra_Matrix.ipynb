{
 "cells": [
  {
   "cell_type": "code",
   "execution_count": 3,
   "id": "78784e6a-e5ea-4419-bd44-3ec5a1d20c04",
   "metadata": {},
   "outputs": [],
   "source": [
    "import numpy as np\n",
    "import matplotlib.pyplot as plt"
   ]
  },
  {
   "cell_type": "code",
   "execution_count": 4,
   "id": "901765b6-9862-4f55-bd76-376299b842f5",
   "metadata": {},
   "outputs": [],
   "source": [
    "M= np.array([[5,4,3],[1,7,8],[0,2,3],[7,5,1]])"
   ]
  },
  {
   "cell_type": "code",
   "execution_count": 5,
   "id": "3f919f7b-75cd-427a-84a2-42e7a60d0173",
   "metadata": {},
   "outputs": [
    {
     "data": {
      "text/plain": [
       "array([[5, 4, 3],\n",
       "       [1, 7, 8],\n",
       "       [0, 2, 3],\n",
       "       [7, 5, 1]])"
      ]
     },
     "execution_count": 5,
     "metadata": {},
     "output_type": "execute_result"
    }
   ],
   "source": [
    "M"
   ]
  },
  {
   "cell_type": "code",
   "execution_count": 6,
   "id": "8128ef91-cc71-49cf-8501-25b226ffa124",
   "metadata": {},
   "outputs": [
    {
     "data": {
      "text/plain": [
       "numpy.ndarray"
      ]
     },
     "execution_count": 6,
     "metadata": {},
     "output_type": "execute_result"
    }
   ],
   "source": [
    "type(M)"
   ]
  },
  {
   "cell_type": "code",
   "execution_count": 7,
   "id": "ce655d70-95cb-4ac4-9d1f-751390929a30",
   "metadata": {},
   "outputs": [
    {
     "data": {
      "text/plain": [
       "dtype('int32')"
      ]
     },
     "execution_count": 7,
     "metadata": {},
     "output_type": "execute_result"
    }
   ],
   "source": [
    "M.dtype"
   ]
  },
  {
   "cell_type": "code",
   "execution_count": 8,
   "id": "6aa8e8d3-e9c1-4248-919e-2419177267fc",
   "metadata": {},
   "outputs": [
    {
     "data": {
      "text/plain": [
       "array([[5, 4, 3],\n",
       "       [1, 7, 8],\n",
       "       [0, 2, 3],\n",
       "       [7, 5, 1]])"
      ]
     },
     "execution_count": 8,
     "metadata": {},
     "output_type": "execute_result"
    }
   ],
   "source": [
    "M"
   ]
  },
  {
   "cell_type": "code",
   "execution_count": 9,
   "id": "32048575-8bbb-492e-9a98-58f6a1acfaa4",
   "metadata": {},
   "outputs": [
    {
     "data": {
      "text/plain": [
       "array([[5, 4, 3],\n",
       "       [1, 7, 8],\n",
       "       [0, 2, 3],\n",
       "       [7, 5, 1]], dtype=int8)"
      ]
     },
     "execution_count": 9,
     "metadata": {},
     "output_type": "execute_result"
    }
   ],
   "source": [
    "M= np.array([[5,4,3],[1,7,8],[0,2,3],[7,5,1]], dtype = np.int8)\n",
    "M"
   ]
  },
  {
   "cell_type": "code",
   "execution_count": 10,
   "id": "a8475de3-cbf8-48ca-b45d-45d7b88b83b4",
   "metadata": {},
   "outputs": [
    {
     "data": {
      "text/plain": [
       "(4, 3)"
      ]
     },
     "execution_count": 10,
     "metadata": {},
     "output_type": "execute_result"
    }
   ],
   "source": [
    "#order of matrix\n",
    "M.shape"
   ]
  },
  {
   "cell_type": "code",
   "execution_count": 11,
   "id": "54197000-c036-43b8-a457-09afdb559652",
   "metadata": {},
   "outputs": [
    {
     "data": {
      "text/plain": [
       "12"
      ]
     },
     "execution_count": 11,
     "metadata": {},
     "output_type": "execute_result"
    }
   ],
   "source": [
    "M.size"
   ]
  },
  {
   "cell_type": "code",
   "execution_count": 12,
   "id": "e7315f39-2c43-46c4-a93a-dcc2de3bc0dc",
   "metadata": {},
   "outputs": [
    {
     "data": {
      "text/plain": [
       "2"
      ]
     },
     "execution_count": 12,
     "metadata": {},
     "output_type": "execute_result"
    }
   ],
   "source": [
    "M.ndim"
   ]
  },
  {
   "cell_type": "code",
   "execution_count": 13,
   "id": "d28bfd27-6f8d-4ca8-a1bb-a02d13e4d867",
   "metadata": {},
   "outputs": [
    {
     "data": {
      "text/plain": [
       "array([5, 4, 3], dtype=int8)"
      ]
     },
     "execution_count": 13,
     "metadata": {},
     "output_type": "execute_result"
    }
   ],
   "source": [
    "M[0]"
   ]
  },
  {
   "cell_type": "code",
   "execution_count": 14,
   "id": "5833e6f1-bc6c-4867-887e-2dd7844a551f",
   "metadata": {},
   "outputs": [
    {
     "data": {
      "text/plain": [
       "array([1, 7, 8], dtype=int8)"
      ]
     },
     "execution_count": 14,
     "metadata": {},
     "output_type": "execute_result"
    }
   ],
   "source": [
    "M[1]"
   ]
  },
  {
   "cell_type": "code",
   "execution_count": 15,
   "id": "e95a1229-1baa-461c-a9d8-a5be64b49b03",
   "metadata": {},
   "outputs": [
    {
     "data": {
      "text/plain": [
       "8"
      ]
     },
     "execution_count": 15,
     "metadata": {},
     "output_type": "execute_result"
    }
   ],
   "source": [
    "M[1][2]"
   ]
  },
  {
   "cell_type": "code",
   "execution_count": 16,
   "id": "c8c3f964-30d0-44c6-972f-8b49c5c81547",
   "metadata": {},
   "outputs": [
    {
     "data": {
      "text/plain": [
       "8"
      ]
     },
     "execution_count": 16,
     "metadata": {},
     "output_type": "execute_result"
    }
   ],
   "source": [
    "M[1,2]"
   ]
  },
  {
   "cell_type": "code",
   "execution_count": 17,
   "id": "f2c5d42b-3491-4d3b-a819-b1d35e7cc67b",
   "metadata": {},
   "outputs": [],
   "source": [
    "M[1,2] = 56"
   ]
  },
  {
   "cell_type": "code",
   "execution_count": 18,
   "id": "8b13b57d-dd48-4dc2-b534-ac5deb27af74",
   "metadata": {},
   "outputs": [
    {
     "data": {
      "text/plain": [
       "array([[ 5,  4,  3],\n",
       "       [ 1,  7, 56],\n",
       "       [ 0,  2,  3],\n",
       "       [ 7,  5,  1]], dtype=int8)"
      ]
     },
     "execution_count": 18,
     "metadata": {},
     "output_type": "execute_result"
    }
   ],
   "source": [
    "M"
   ]
  },
  {
   "cell_type": "code",
   "execution_count": 19,
   "id": "d74831f2-b0a7-43dc-9963-bd86661497fe",
   "metadata": {},
   "outputs": [
    {
     "name": "stdout",
     "output_type": "stream",
     "text": [
      "[[ 5  4  3]\n",
      " [ 1  7 56]\n",
      " [ 0  2  3]\n",
      " [ 7  5  1]]\n"
     ]
    }
   ],
   "source": [
    "print(M)"
   ]
  },
  {
   "cell_type": "code",
   "execution_count": 20,
   "id": "78f09504-cf88-41ed-b843-6fc6953b2cdd",
   "metadata": {},
   "outputs": [
    {
     "data": {
      "text/plain": [
       "array([[ 5,  4,  3,  1],\n",
       "       [ 7, 56,  0,  2],\n",
       "       [ 3,  7,  5,  1]], dtype=int8)"
      ]
     },
     "execution_count": 20,
     "metadata": {},
     "output_type": "execute_result"
    }
   ],
   "source": [
    "M.reshape(3,4)"
   ]
  },
  {
   "cell_type": "code",
   "execution_count": 21,
   "id": "791fcf76-4f88-4291-901e-6c99bafceed1",
   "metadata": {},
   "outputs": [
    {
     "data": {
      "text/plain": [
       "array([[ 5,  4],\n",
       "       [ 3,  1],\n",
       "       [ 7, 56],\n",
       "       [ 0,  2],\n",
       "       [ 3,  7],\n",
       "       [ 5,  1]], dtype=int8)"
      ]
     },
     "execution_count": 21,
     "metadata": {},
     "output_type": "execute_result"
    }
   ],
   "source": [
    "M.reshape(6,2)"
   ]
  },
  {
   "cell_type": "code",
   "execution_count": 22,
   "id": "4222519a-a94c-4609-ab60-c7359ba2d4e4",
   "metadata": {},
   "outputs": [
    {
     "data": {
      "text/plain": [
       "array([[ 5,  4,  3,  1,  7, 56,  0,  2,  3,  7,  5,  1]], dtype=int8)"
      ]
     },
     "execution_count": 22,
     "metadata": {},
     "output_type": "execute_result"
    }
   ],
   "source": [
    "M.reshape(1,12)"
   ]
  },
  {
   "cell_type": "code",
   "execution_count": 23,
   "id": "46a7d755-008e-4f5e-ba62-9bad71b38f04",
   "metadata": {},
   "outputs": [
    {
     "data": {
      "text/plain": [
       "array([[ 5,  4],\n",
       "       [ 3,  1],\n",
       "       [ 7, 56],\n",
       "       [ 0,  2],\n",
       "       [ 3,  7],\n",
       "       [ 5,  1]], dtype=int8)"
      ]
     },
     "execution_count": 23,
     "metadata": {},
     "output_type": "execute_result"
    }
   ],
   "source": [
    "M.reshape(-1,2)"
   ]
  },
  {
   "cell_type": "code",
   "execution_count": 24,
   "id": "c9a3482b-719c-4864-a41d-3f4c0b68e46a",
   "metadata": {},
   "outputs": [
    {
     "data": {
      "text/plain": [
       "array([[ 5,  4,  3,  1,  7, 56],\n",
       "       [ 0,  2,  3,  7,  5,  1]], dtype=int8)"
      ]
     },
     "execution_count": 24,
     "metadata": {},
     "output_type": "execute_result"
    }
   ],
   "source": [
    "M.reshape(2,-1)"
   ]
  },
  {
   "cell_type": "code",
   "execution_count": 25,
   "id": "98ffd6fb-48fa-4223-babb-19ed09c43007",
   "metadata": {},
   "outputs": [
    {
     "data": {
      "text/plain": [
       "array([ 5,  4,  3,  1,  7, 56,  0,  2,  3,  7,  5,  1], dtype=int8)"
      ]
     },
     "execution_count": 25,
     "metadata": {},
     "output_type": "execute_result"
    }
   ],
   "source": [
    "M.reshape(-1)"
   ]
  },
  {
   "cell_type": "code",
   "execution_count": 26,
   "id": "5c186b1a-f700-4df5-848f-24a1ebe6cddd",
   "metadata": {},
   "outputs": [
    {
     "data": {
      "text/plain": [
       "array([ 5,  4,  3,  1,  7, 56,  0,  2,  3,  7,  5,  1], dtype=int8)"
      ]
     },
     "execution_count": 26,
     "metadata": {},
     "output_type": "execute_result"
    }
   ],
   "source": [
    "M.flatten()"
   ]
  },
  {
   "cell_type": "code",
   "execution_count": 27,
   "id": "e88ee182-fe22-476d-9cd0-9976179579ed",
   "metadata": {},
   "outputs": [],
   "source": [
    "v1= np.array([3,4,2,1,6,5,4,7,8])"
   ]
  },
  {
   "cell_type": "code",
   "execution_count": 28,
   "id": "c2b8ed43-6dc5-40a8-9196-a0da1e9e383e",
   "metadata": {},
   "outputs": [
    {
     "data": {
      "text/plain": [
       "(9,)"
      ]
     },
     "execution_count": 28,
     "metadata": {},
     "output_type": "execute_result"
    }
   ],
   "source": [
    "v1.shape"
   ]
  },
  {
   "cell_type": "code",
   "execution_count": 29,
   "id": "091bfb1b-777b-4cbe-b7a4-42d7c8907469",
   "metadata": {},
   "outputs": [
    {
     "data": {
      "text/plain": [
       "array([[3, 4, 2],\n",
       "       [1, 6, 5],\n",
       "       [4, 7, 8]])"
      ]
     },
     "execution_count": 29,
     "metadata": {},
     "output_type": "execute_result"
    }
   ],
   "source": [
    "v1.reshape(3,3)"
   ]
  },
  {
   "cell_type": "code",
   "execution_count": 30,
   "id": "17966b53-648a-4cc1-8679-ded03588a48c",
   "metadata": {},
   "outputs": [
    {
     "data": {
      "text/plain": [
       "array([[1, 2, 3],\n",
       "       [4, 5, 6],\n",
       "       [7, 8, 9]])"
      ]
     },
     "execution_count": 30,
     "metadata": {},
     "output_type": "execute_result"
    }
   ],
   "source": [
    "np.arange(1,10).reshape(3,3)"
   ]
  },
  {
   "cell_type": "code",
   "execution_count": 31,
   "id": "9c42a63f-21e5-4432-b18b-5bf04a6db20b",
   "metadata": {},
   "outputs": [
    {
     "data": {
      "text/plain": [
       "array([[ 5.,  4.,  3.],\n",
       "       [ 1.,  7., 56.],\n",
       "       [ 0.,  2.,  3.],\n",
       "       [ 7.,  5.,  1.]], dtype=float16)"
      ]
     },
     "execution_count": 31,
     "metadata": {},
     "output_type": "execute_result"
    }
   ],
   "source": [
    "M.astype(np.float16)"
   ]
  },
  {
   "cell_type": "code",
   "execution_count": 32,
   "id": "a98e71c7-8a7a-4476-a3de-7e1b3aeb1656",
   "metadata": {},
   "outputs": [
    {
     "data": {
      "text/plain": [
       "array([[ True,  True,  True],\n",
       "       [ True,  True,  True],\n",
       "       [False,  True,  True],\n",
       "       [ True,  True,  True]])"
      ]
     },
     "execution_count": 32,
     "metadata": {},
     "output_type": "execute_result"
    }
   ],
   "source": [
    "M.astype(np.bool_)"
   ]
  },
  {
   "cell_type": "code",
   "execution_count": 33,
   "id": "9f4c4096-6b85-4006-b468-6eaa32c7f65f",
   "metadata": {},
   "outputs": [
    {
     "data": {
      "text/plain": [
       "array([['5', '4', '3'],\n",
       "       ['1', '7', '56'],\n",
       "       ['0', '2', '3'],\n",
       "       ['7', '5', '1']], dtype='<U4')"
      ]
     },
     "execution_count": 33,
     "metadata": {},
     "output_type": "execute_result"
    }
   ],
   "source": [
    "M.astype(np.unicode_)"
   ]
  },
  {
   "cell_type": "code",
   "execution_count": 34,
   "id": "618a5a76-23c9-4ec1-b82e-0663b02c1d16",
   "metadata": {},
   "outputs": [
    {
     "name": "stdout",
     "output_type": "stream",
     "text": [
      "5 4 3 \n",
      "1 7 56 \n",
      "0 2 3 \n",
      "7 5 1 \n"
     ]
    }
   ],
   "source": [
    "for i in range(4):\n",
    "    for j in range(3):\n",
    "        print(M[i][j], end=' ')\n",
    "    print()"
   ]
  },
  {
   "cell_type": "code",
   "execution_count": 35,
   "id": "a910cc9d-581a-4dba-82f5-c18ce12ca841",
   "metadata": {},
   "outputs": [
    {
     "data": {
      "text/plain": [
       "0"
      ]
     },
     "execution_count": 35,
     "metadata": {},
     "output_type": "execute_result"
    }
   ],
   "source": [
    "M.min()"
   ]
  },
  {
   "cell_type": "code",
   "execution_count": 36,
   "id": "122daf43-1d7c-4b01-aea6-4042a85421a0",
   "metadata": {},
   "outputs": [
    {
     "data": {
      "text/plain": [
       "56"
      ]
     },
     "execution_count": 36,
     "metadata": {},
     "output_type": "execute_result"
    }
   ],
   "source": [
    "M.max()"
   ]
  },
  {
   "cell_type": "code",
   "execution_count": 37,
   "id": "7b3d54ba-51d7-4a23-b172-e4fd22cf52ed",
   "metadata": {},
   "outputs": [
    {
     "data": {
      "text/plain": [
       "7.833333333333333"
      ]
     },
     "execution_count": 37,
     "metadata": {},
     "output_type": "execute_result"
    }
   ],
   "source": [
    "M.mean()"
   ]
  },
  {
   "cell_type": "code",
   "execution_count": 38,
   "id": "a3a7247e-7987-4bf4-8b2c-a3bdfdb859ab",
   "metadata": {},
   "outputs": [
    {
     "data": {
      "text/plain": [
       "14.684648068268059"
      ]
     },
     "execution_count": 38,
     "metadata": {},
     "output_type": "execute_result"
    }
   ],
   "source": [
    "M.std()"
   ]
  },
  {
   "cell_type": "code",
   "execution_count": 39,
   "id": "67a3f018-1446-4e67-b11a-b7d7c917fce9",
   "metadata": {},
   "outputs": [
    {
     "data": {
      "text/plain": [
       "215.63888888888883"
      ]
     },
     "execution_count": 39,
     "metadata": {},
     "output_type": "execute_result"
    }
   ],
   "source": [
    "M.var()"
   ]
  },
  {
   "cell_type": "code",
   "execution_count": 40,
   "id": "d611bf36-73c1-4ca0-abe0-dc80bf186486",
   "metadata": {},
   "outputs": [
    {
     "data": {
      "text/plain": [
       "3.5"
      ]
     },
     "execution_count": 40,
     "metadata": {},
     "output_type": "execute_result"
    }
   ],
   "source": [
    "np.median(M)"
   ]
  },
  {
   "cell_type": "code",
   "execution_count": 41,
   "id": "3e47c161-cd84-4c1e-8932-746c2870b7b0",
   "metadata": {},
   "outputs": [
    {
     "data": {
      "text/plain": [
       "94"
      ]
     },
     "execution_count": 41,
     "metadata": {},
     "output_type": "execute_result"
    }
   ],
   "source": [
    "M.sum()"
   ]
  },
  {
   "cell_type": "code",
   "execution_count": 42,
   "id": "3e93a3b4-c2c2-4aa0-b969-7c56db06bf0b",
   "metadata": {},
   "outputs": [],
   "source": [
    "Z=np.zeros([3,3], dtype= np.int8)"
   ]
  },
  {
   "cell_type": "code",
   "execution_count": 43,
   "id": "527f5e56-b4b8-4007-b974-479f9edcd1c0",
   "metadata": {},
   "outputs": [
    {
     "data": {
      "text/plain": [
       "array([[0, 0, 0],\n",
       "       [0, 0, 0],\n",
       "       [0, 0, 0]], dtype=int8)"
      ]
     },
     "execution_count": 43,
     "metadata": {},
     "output_type": "execute_result"
    }
   ],
   "source": [
    "Z"
   ]
  },
  {
   "cell_type": "code",
   "execution_count": 44,
   "id": "ada1e3f6-4166-4b92-b13e-1808c385fe11",
   "metadata": {},
   "outputs": [
    {
     "data": {
      "text/plain": [
       "array([[1, 1, 1],\n",
       "       [1, 1, 1],\n",
       "       [1, 1, 1]], dtype=int8)"
      ]
     },
     "execution_count": 44,
     "metadata": {},
     "output_type": "execute_result"
    }
   ],
   "source": [
    "O=np.ones([3,3], dtype= np.int8)\n",
    "O"
   ]
  },
  {
   "cell_type": "code",
   "execution_count": 45,
   "id": "df3c6494-6ca8-4d3c-b57f-6c1a8c8ca8c7",
   "metadata": {},
   "outputs": [],
   "source": [
    "S=np.arange(25).reshape(5,5)"
   ]
  },
  {
   "cell_type": "code",
   "execution_count": 46,
   "id": "2d4206f6-043f-45a5-97a0-e6e7be88f532",
   "metadata": {},
   "outputs": [
    {
     "data": {
      "text/plain": [
       "array([[ 0,  1,  2,  3,  4],\n",
       "       [ 5,  6,  7,  8,  9],\n",
       "       [10, 11, 12, 13, 14],\n",
       "       [15, 16, 17, 18, 19],\n",
       "       [20, 21, 22, 23, 24]])"
      ]
     },
     "execution_count": 46,
     "metadata": {},
     "output_type": "execute_result"
    }
   ],
   "source": [
    "S"
   ]
  },
  {
   "cell_type": "code",
   "execution_count": 47,
   "id": "2d7affb3-4493-4c67-bec6-99ef7ee30f6b",
   "metadata": {},
   "outputs": [
    {
     "data": {
      "text/plain": [
       "array([[ 7,  8],\n",
       "       [12, 13]])"
      ]
     },
     "execution_count": 47,
     "metadata": {},
     "output_type": "execute_result"
    }
   ],
   "source": [
    "S[1:3,2:4]"
   ]
  },
  {
   "cell_type": "code",
   "execution_count": 48,
   "id": "4e8a80ef-61bd-40d8-b29b-1fe2e5226f07",
   "metadata": {},
   "outputs": [
    {
     "data": {
      "text/plain": [
       "array([[ 2,  3],\n",
       "       [ 7,  8],\n",
       "       [12, 13]])"
      ]
     },
     "execution_count": 48,
     "metadata": {},
     "output_type": "execute_result"
    }
   ],
   "source": [
    "S[:3,2:4]"
   ]
  },
  {
   "cell_type": "code",
   "execution_count": 49,
   "id": "60f4a19b-0c27-43f5-8893-a938b06b520e",
   "metadata": {},
   "outputs": [
    {
     "data": {
      "text/plain": [
       "array([[ 7,  8,  9],\n",
       "       [12, 13, 14]])"
      ]
     },
     "execution_count": 49,
     "metadata": {},
     "output_type": "execute_result"
    }
   ],
   "source": [
    "S[1:3,2:]"
   ]
  },
  {
   "cell_type": "code",
   "execution_count": 50,
   "id": "a6299531-2607-4b55-894c-9d2aa267bb95",
   "metadata": {},
   "outputs": [
    {
     "data": {
      "text/plain": [
       "array([[ True, False, False],\n",
       "       [False,  True,  True],\n",
       "       [False, False, False],\n",
       "       [ True,  True, False]])"
      ]
     },
     "execution_count": 50,
     "metadata": {},
     "output_type": "execute_result"
    }
   ],
   "source": [
    "M>4"
   ]
  },
  {
   "cell_type": "code",
   "execution_count": 51,
   "id": "17c292cb-55c7-4b33-9fe5-1373f57f6f67",
   "metadata": {},
   "outputs": [
    {
     "data": {
      "text/plain": [
       "array([ 5,  7, 56,  7,  5], dtype=int8)"
      ]
     },
     "execution_count": 51,
     "metadata": {},
     "output_type": "execute_result"
    }
   ],
   "source": [
    "M[M>4]"
   ]
  },
  {
   "cell_type": "code",
   "execution_count": 52,
   "id": "e74b6620-1b65-438d-b384-9236e0f5085c",
   "metadata": {},
   "outputs": [
    {
     "data": {
      "text/plain": [
       "array([ 4, 56,  0,  2], dtype=int8)"
      ]
     },
     "execution_count": 52,
     "metadata": {},
     "output_type": "execute_result"
    }
   ],
   "source": [
    "M[M%2 == 0]"
   ]
  },
  {
   "cell_type": "code",
   "execution_count": 53,
   "id": "d87e7009-1d90-498a-a4bf-24a0e128e220",
   "metadata": {},
   "outputs": [
    {
     "data": {
      "text/plain": [
       "array([5, 3, 1, 7, 3, 7, 5, 1], dtype=int8)"
      ]
     },
     "execution_count": 53,
     "metadata": {},
     "output_type": "execute_result"
    }
   ],
   "source": [
    "M[M%2 == 1]"
   ]
  },
  {
   "cell_type": "code",
   "execution_count": 54,
   "id": "e45e0fd7-299e-4587-a477-1063bdd1549c",
   "metadata": {},
   "outputs": [],
   "source": [
    "M1 = np.array([[6,8,7],[4,1,3],[5,2,9]])"
   ]
  },
  {
   "cell_type": "code",
   "execution_count": 55,
   "id": "8b4e2880-9a2d-48d8-840f-a1916b050864",
   "metadata": {},
   "outputs": [
    {
     "data": {
      "text/plain": [
       "array([[6, 8, 7],\n",
       "       [4, 1, 3],\n",
       "       [5, 2, 9]])"
      ]
     },
     "execution_count": 55,
     "metadata": {},
     "output_type": "execute_result"
    }
   ],
   "source": [
    "M1"
   ]
  },
  {
   "cell_type": "code",
   "execution_count": 56,
   "id": "7e230f2e-dcdf-4a07-84f4-5a92116ae160",
   "metadata": {},
   "outputs": [],
   "source": [
    "for i in range(M1.shape[0]):\n",
    "    for j in range(M1.shape[1]):\n",
    "        if M1[i][j] %2 ==0:\n",
    "            M1[i][j] = 0"
   ]
  },
  {
   "cell_type": "code",
   "execution_count": 57,
   "id": "9b4a35e2-e8a0-4353-8a3f-b79d8cc2be13",
   "metadata": {},
   "outputs": [
    {
     "data": {
      "text/plain": [
       "array([[0, 0, 7],\n",
       "       [0, 1, 3],\n",
       "       [5, 0, 9]])"
      ]
     },
     "execution_count": 57,
     "metadata": {},
     "output_type": "execute_result"
    }
   ],
   "source": [
    "M1"
   ]
  },
  {
   "cell_type": "markdown",
   "id": "38d8bad2-8fea-4215-8b21-53d33432578e",
   "metadata": {},
   "source": [
    "<h5>Matrix Operations</h5>"
   ]
  },
  {
   "cell_type": "markdown",
   "id": "6a854d99-b241-4a69-b31c-4078df3fd918",
   "metadata": {},
   "source": [
    "Addition"
   ]
  },
  {
   "cell_type": "code",
   "execution_count": 60,
   "id": "dbcfef44-2871-46bd-bf92-66c44fc35554",
   "metadata": {},
   "outputs": [],
   "source": [
    "M1 = np.array([[5,4,3], [1,7,8], [0,2,3],[7,5,1]], dtype = np.int8)\n",
    "M2 = np.array([[2,8,1], [0,2,5], [1,9,4],[6,2,6]], dtype = np.int8)"
   ]
  },
  {
   "cell_type": "code",
   "execution_count": 61,
   "id": "7dffac6b-41f3-4918-957b-4c313d79d906",
   "metadata": {},
   "outputs": [
    {
     "data": {
      "text/plain": [
       "((4, 3), (4, 3))"
      ]
     },
     "execution_count": 61,
     "metadata": {},
     "output_type": "execute_result"
    }
   ],
   "source": [
    "M1.shape,M2.shape"
   ]
  },
  {
   "cell_type": "code",
   "execution_count": 62,
   "id": "16489390-74e5-4d92-87d3-e2e04d3e8c56",
   "metadata": {},
   "outputs": [
    {
     "data": {
      "text/plain": [
       "array([[ 7, 12,  4],\n",
       "       [ 1,  9, 13],\n",
       "       [ 1, 11,  7],\n",
       "       [13,  7,  7]], dtype=int8)"
      ]
     },
     "execution_count": 62,
     "metadata": {},
     "output_type": "execute_result"
    }
   ],
   "source": [
    "M3 = M1+M2\n",
    "M3"
   ]
  },
  {
   "cell_type": "code",
   "execution_count": 63,
   "id": "4bcbca8f-8b2d-4740-a7fd-824ec34e58b6",
   "metadata": {},
   "outputs": [
    {
     "data": {
      "text/plain": [
       "array([[15, 14, 13],\n",
       "       [11, 17, 18],\n",
       "       [10, 12, 13],\n",
       "       [17, 15, 11]], dtype=int8)"
      ]
     },
     "execution_count": 63,
     "metadata": {},
     "output_type": "execute_result"
    }
   ],
   "source": [
    "M1 + 10"
   ]
  },
  {
   "cell_type": "code",
   "execution_count": 64,
   "id": "597e9bde-48fe-4604-804e-62c7d69ae959",
   "metadata": {},
   "outputs": [
    {
     "data": {
      "text/plain": [
       "array([[ 7,  7,  4],\n",
       "       [ 3, 10,  9],\n",
       "       [ 2,  5,  4],\n",
       "       [ 9,  8,  2]])"
      ]
     },
     "execution_count": 64,
     "metadata": {},
     "output_type": "execute_result"
    }
   ],
   "source": [
    "M1 + [2,3,1]"
   ]
  },
  {
   "cell_type": "markdown",
   "id": "eeb3f1f8-f706-43c6-859f-474840300f83",
   "metadata": {},
   "source": [
    "Subtraction"
   ]
  },
  {
   "cell_type": "code",
   "execution_count": 66,
   "id": "1ec83025-2252-4bf3-960f-b686ff14850b",
   "metadata": {},
   "outputs": [
    {
     "data": {
      "text/plain": [
       "array([[ 3, -4,  2],\n",
       "       [ 1,  5,  3],\n",
       "       [-1, -7, -1],\n",
       "       [ 1,  3, -5]], dtype=int8)"
      ]
     },
     "execution_count": 66,
     "metadata": {},
     "output_type": "execute_result"
    }
   ],
   "source": [
    "M1-M2"
   ]
  },
  {
   "cell_type": "code",
   "execution_count": 67,
   "id": "6a4b34fd-f270-46be-a859-fbf74f69cf26",
   "metadata": {},
   "outputs": [
    {
     "data": {
      "text/plain": [
       "array([[-3,  4, -2],\n",
       "       [-1, -5, -3],\n",
       "       [ 1,  7,  1],\n",
       "       [-1, -3,  5]], dtype=int8)"
      ]
     },
     "execution_count": 67,
     "metadata": {},
     "output_type": "execute_result"
    }
   ],
   "source": [
    "M2-M1"
   ]
  },
  {
   "cell_type": "code",
   "execution_count": 68,
   "id": "7de442af-6220-47e2-954d-f18a912d6060",
   "metadata": {},
   "outputs": [
    {
     "data": {
      "text/plain": [
       "array([[3, 4, 2],\n",
       "       [1, 5, 3],\n",
       "       [1, 7, 1],\n",
       "       [1, 3, 5]], dtype=int8)"
      ]
     },
     "execution_count": 68,
     "metadata": {},
     "output_type": "execute_result"
    }
   ],
   "source": [
    "abs(M2-M1)"
   ]
  },
  {
   "cell_type": "code",
   "execution_count": 69,
   "id": "4dacf358-ec10-4022-85b5-d867131c1cb6",
   "metadata": {},
   "outputs": [],
   "source": [
    "M1 = np.array([[5,4,3], [1,7,8], [0,2,3],[7,5,1]], dtype = np.uint8)\n",
    "M2 = np.array([[2,8,1], [0,2,5], [1,9,4],[6,2,6]], dtype = np.uint8)"
   ]
  },
  {
   "cell_type": "code",
   "execution_count": 70,
   "id": "3a66c76c-8056-4a6b-ae31-0f5b0f431822",
   "metadata": {},
   "outputs": [
    {
     "data": {
      "text/plain": [
       "array([[5, 4, 3],\n",
       "       [1, 7, 8],\n",
       "       [0, 2, 3],\n",
       "       [7, 5, 1]], dtype=uint8)"
      ]
     },
     "execution_count": 70,
     "metadata": {},
     "output_type": "execute_result"
    }
   ],
   "source": [
    "M1"
   ]
  },
  {
   "cell_type": "code",
   "execution_count": 71,
   "id": "bca4b047-4bc9-4dc9-bdcd-6375b5ae50be",
   "metadata": {},
   "outputs": [
    {
     "data": {
      "text/plain": [
       "array([[  3, 252,   2],\n",
       "       [  1,   5,   3],\n",
       "       [255, 249, 255],\n",
       "       [  1,   3, 251]], dtype=uint8)"
      ]
     },
     "execution_count": 71,
     "metadata": {},
     "output_type": "execute_result"
    }
   ],
   "source": [
    "M1-M2"
   ]
  },
  {
   "cell_type": "markdown",
   "id": "973f84ba-0ecc-4326-88de-a4e31e056212",
   "metadata": {},
   "source": [
    "Scalar multiplication"
   ]
  },
  {
   "cell_type": "code",
   "execution_count": 73,
   "id": "3e4d86c5-8f68-4039-a59f-8e3f3035392f",
   "metadata": {},
   "outputs": [
    {
     "data": {
      "text/plain": [
       "array([[ 5,  4,  3],\n",
       "       [ 1,  7, 56],\n",
       "       [ 0,  2,  3],\n",
       "       [ 7,  5,  1]], dtype=int8)"
      ]
     },
     "execution_count": 73,
     "metadata": {},
     "output_type": "execute_result"
    }
   ],
   "source": [
    "M"
   ]
  },
  {
   "cell_type": "code",
   "execution_count": 74,
   "id": "51cad2d5-8d2b-4f7f-95d5-7984b55e7e58",
   "metadata": {},
   "outputs": [
    {
     "data": {
      "text/plain": [
       "array([[ 15,  12,   9],\n",
       "       [  3,  21, -88],\n",
       "       [  0,   6,   9],\n",
       "       [ 21,  15,   3]], dtype=int8)"
      ]
     },
     "execution_count": 74,
     "metadata": {},
     "output_type": "execute_result"
    }
   ],
   "source": [
    "3*M"
   ]
  },
  {
   "cell_type": "code",
   "execution_count": 75,
   "id": "610522e6-3b09-4592-b03a-a5c6010bce73",
   "metadata": {},
   "outputs": [
    {
     "data": {
      "text/plain": [
       "array([[21, 36, 12],\n",
       "       [ 3, 27, 39],\n",
       "       [ 3, 33, 21],\n",
       "       [39, 21, 21]], dtype=uint8)"
      ]
     },
     "execution_count": 75,
     "metadata": {},
     "output_type": "execute_result"
    }
   ],
   "source": [
    "3*(M1+M2)"
   ]
  },
  {
   "cell_type": "code",
   "execution_count": 76,
   "id": "d89a200d-bd38-4904-b7e2-4f4cb56708d7",
   "metadata": {},
   "outputs": [
    {
     "data": {
      "text/plain": [
       "array([[21, 36, 12],\n",
       "       [ 3, 27, 39],\n",
       "       [ 3, 33, 21],\n",
       "       [39, 21, 21]], dtype=uint8)"
      ]
     },
     "execution_count": 76,
     "metadata": {},
     "output_type": "execute_result"
    }
   ],
   "source": [
    "3*M1 + 3* M2"
   ]
  },
  {
   "cell_type": "code",
   "execution_count": 77,
   "id": "c8e371cf-b638-4808-a09b-423becdc83be",
   "metadata": {},
   "outputs": [
    {
     "data": {
      "text/plain": [
       "array([[35, 28, 21],\n",
       "       [ 7, 49, 56],\n",
       "       [ 0, 14, 21],\n",
       "       [49, 35,  7]], dtype=uint8)"
      ]
     },
     "execution_count": 77,
     "metadata": {},
     "output_type": "execute_result"
    }
   ],
   "source": [
    "(3+4)*M1"
   ]
  },
  {
   "cell_type": "code",
   "execution_count": 78,
   "id": "7036bde0-1747-4ef4-b649-f57185210d1d",
   "metadata": {},
   "outputs": [
    {
     "data": {
      "text/plain": [
       "array([[35, 28, 21],\n",
       "       [ 7, 49, 56],\n",
       "       [ 0, 14, 21],\n",
       "       [49, 35,  7]], dtype=uint8)"
      ]
     },
     "execution_count": 78,
     "metadata": {},
     "output_type": "execute_result"
    }
   ],
   "source": [
    "3*M1+4*M1"
   ]
  },
  {
   "cell_type": "code",
   "execution_count": 79,
   "id": "a9c35110-b19f-4b9c-a96a-2b9fbace81b7",
   "metadata": {},
   "outputs": [
    {
     "data": {
      "text/plain": [
       "array([[60, 48, 36],\n",
       "       [12, 84, 96],\n",
       "       [ 0, 24, 36],\n",
       "       [84, 60, 12]], dtype=uint8)"
      ]
     },
     "execution_count": 79,
     "metadata": {},
     "output_type": "execute_result"
    }
   ],
   "source": [
    "(3*4)*M1"
   ]
  },
  {
   "cell_type": "code",
   "execution_count": 80,
   "id": "1f4714cd-6569-43e5-945b-5d58747436db",
   "metadata": {},
   "outputs": [
    {
     "data": {
      "text/plain": [
       "array([[60, 48, 36],\n",
       "       [12, 84, 96],\n",
       "       [ 0, 24, 36],\n",
       "       [84, 60, 12]], dtype=uint8)"
      ]
     },
     "execution_count": 80,
     "metadata": {},
     "output_type": "execute_result"
    }
   ],
   "source": [
    "3*(4*M1)"
   ]
  },
  {
   "cell_type": "code",
   "execution_count": 81,
   "id": "92a128d3-7728-452a-8fe8-fd53718b2bc3",
   "metadata": {},
   "outputs": [
    {
     "data": {
      "text/plain": [
       "array([[60, 48, 36],\n",
       "       [12, 84, 96],\n",
       "       [ 0, 24, 36],\n",
       "       [84, 60, 12]], dtype=uint8)"
      ]
     },
     "execution_count": 81,
     "metadata": {},
     "output_type": "execute_result"
    }
   ],
   "source": [
    "4*(3*M1)"
   ]
  },
  {
   "cell_type": "code",
   "execution_count": 82,
   "id": "4286b2c4-f5bf-45d9-8072-68dc92b6b69d",
   "metadata": {},
   "outputs": [
    {
     "data": {
      "text/plain": [
       "array([[-15, -12,  -9],\n",
       "       [ -3, -21, -24],\n",
       "       [  0,  -6,  -9],\n",
       "       [-21, -15,  -3]], dtype=int16)"
      ]
     },
     "execution_count": 82,
     "metadata": {},
     "output_type": "execute_result"
    }
   ],
   "source": [
    "(-3)*M1"
   ]
  },
  {
   "cell_type": "code",
   "execution_count": 83,
   "id": "5c8c8523-2f0e-4016-80dd-551424a4b66e",
   "metadata": {},
   "outputs": [
    {
     "data": {
      "text/plain": [
       "array([[241, 244, 247],\n",
       "       [253, 235, 232],\n",
       "       [  0, 250, 247],\n",
       "       [235, 241, 253]], dtype=uint8)"
      ]
     },
     "execution_count": 83,
     "metadata": {},
     "output_type": "execute_result"
    }
   ],
   "source": [
    "-(3*M1)"
   ]
  },
  {
   "cell_type": "code",
   "execution_count": 84,
   "id": "29f1f94a-10a7-4433-acb9-f1ee2cb99ddf",
   "metadata": {},
   "outputs": [
    {
     "data": {
      "text/plain": [
       "array([[241, 244, 247],\n",
       "       [253, 235, 232],\n",
       "       [  0, 250, 247],\n",
       "       [235, 241, 253]], dtype=uint8)"
      ]
     },
     "execution_count": 84,
     "metadata": {},
     "output_type": "execute_result"
    }
   ],
   "source": [
    "3*(-M1)"
   ]
  },
  {
   "cell_type": "code",
   "execution_count": 85,
   "id": "0d96f002-cfdc-4390-a774-3cf13c880189",
   "metadata": {},
   "outputs": [
    {
     "data": {
      "text/plain": [
       "array([[-5, -4, -3],\n",
       "       [-1, -7, -8],\n",
       "       [ 0, -2, -3],\n",
       "       [-7, -5, -1]], dtype=int16)"
      ]
     },
     "execution_count": 85,
     "metadata": {},
     "output_type": "execute_result"
    }
   ],
   "source": [
    "-1 * M1"
   ]
  },
  {
   "cell_type": "code",
   "execution_count": 86,
   "id": "1e825e15-74a1-410c-92a9-77ffee3a1a9b",
   "metadata": {},
   "outputs": [
    {
     "data": {
      "text/plain": [
       "array([[5, 4, 3],\n",
       "       [1, 7, 8],\n",
       "       [0, 2, 3],\n",
       "       [7, 5, 1]], dtype=uint8)"
      ]
     },
     "execution_count": 86,
     "metadata": {},
     "output_type": "execute_result"
    }
   ],
   "source": [
    "1*M1"
   ]
  },
  {
   "cell_type": "markdown",
   "id": "5ac6ac2f-8bf3-4dee-be6b-750814af80c9",
   "metadata": {
    "jp-MarkdownHeadingCollapsed": true
   },
   "source": [
    "<h5>Matrix Multiplication</h5>"
   ]
  },
  {
   "cell_type": "code",
   "execution_count": 88,
   "id": "23b9ba08-547c-41fe-9605-be34ffebbfa5",
   "metadata": {},
   "outputs": [],
   "source": [
    "M1 = np.array([[5,4,3], [1,7,8]], dtype = np.int8)\n",
    "M2 = np.array([[2,8],[1,0],[2,5]], dtype = np.int8)"
   ]
  },
  {
   "cell_type": "code",
   "execution_count": 89,
   "id": "7994d029-77f9-4446-ad18-2f99b48cef69",
   "metadata": {},
   "outputs": [
    {
     "data": {
      "text/plain": [
       "array([[20, 55],\n",
       "       [25, 48]], dtype=int8)"
      ]
     },
     "execution_count": 89,
     "metadata": {},
     "output_type": "execute_result"
    }
   ],
   "source": [
    "np.matmul(M1, M2)"
   ]
  },
  {
   "cell_type": "code",
   "execution_count": 90,
   "id": "0142b02c-b85f-4f15-84f3-97888b3c705b",
   "metadata": {},
   "outputs": [
    {
     "data": {
      "text/plain": [
       "array([[20, 55],\n",
       "       [25, 48]], dtype=int8)"
      ]
     },
     "execution_count": 90,
     "metadata": {},
     "output_type": "execute_result"
    }
   ],
   "source": [
    "M1 @ M2"
   ]
  },
  {
   "cell_type": "code",
   "execution_count": 91,
   "id": "128f133b-e75d-4477-9e89-50dcf4b3da15",
   "metadata": {},
   "outputs": [
    {
     "data": {
      "text/plain": [
       "(array([[20, 55],\n",
       "        [25, 48]], dtype=int8),\n",
       " array([[18, 64, 70],\n",
       "        [ 5,  4,  3],\n",
       "        [15, 43, 46]], dtype=int8))"
      ]
     },
     "execution_count": 91,
     "metadata": {},
     "output_type": "execute_result"
    }
   ],
   "source": [
    "M1 @ M2, M2 @ M1"
   ]
  },
  {
   "cell_type": "code",
   "execution_count": 92,
   "id": "ca682c3f-3079-415a-9904-4143f41bec94",
   "metadata": {},
   "outputs": [],
   "source": [
    "A=np.array([[1,2], [3,4]])\n",
    "B=np.array([[5,6], [7,8]])\n",
    "C=np.array([[3,8], [1,6]])"
   ]
  },
  {
   "cell_type": "code",
   "execution_count": 93,
   "id": "0acdb9ee-f8f0-41a9-8ef0-5c8fe239c58b",
   "metadata": {},
   "outputs": [
    {
     "data": {
      "text/plain": [
       "(array([[ 79, 284],\n",
       "        [179, 644]]),\n",
       " array([[ 79, 284],\n",
       "        [179, 644]]))"
      ]
     },
     "execution_count": 93,
     "metadata": {},
     "output_type": "execute_result"
    }
   ],
   "source": [
    "A @ (B@C), (A@B)@C"
   ]
  },
  {
   "cell_type": "code",
   "execution_count": 94,
   "id": "b69a975f-9086-4bf5-b9bd-76329c60e1eb",
   "metadata": {},
   "outputs": [
    {
     "data": {
      "text/plain": [
       "(array([[24, 42],\n",
       "        [56, 98]]),\n",
       " array([[24, 42],\n",
       "        [56, 98]]))"
      ]
     },
     "execution_count": 94,
     "metadata": {},
     "output_type": "execute_result"
    }
   ],
   "source": [
    "A@(B+C), A @ B + A @ C"
   ]
  },
  {
   "cell_type": "code",
   "execution_count": 95,
   "id": "9c2c0ec7-d0bf-4113-982d-e0abf1a4f9b5",
   "metadata": {},
   "outputs": [
    {
     "data": {
      "text/plain": [
       "(array([[ 26,  96],\n",
       "        [ 42, 152]]),\n",
       " array([[ 26,  96],\n",
       "        [ 42, 152]]))"
      ]
     },
     "execution_count": 95,
     "metadata": {},
     "output_type": "execute_result"
    }
   ],
   "source": [
    "(A + B) @C, A@C + B@C"
   ]
  },
  {
   "cell_type": "markdown",
   "id": "dcf7318f-c489-40bf-8d94-29d230a3813d",
   "metadata": {},
   "source": [
    "<h5>Matrix Transpose</h5>"
   ]
  },
  {
   "cell_type": "code",
   "execution_count": 97,
   "id": "7f3c04ed-431d-46b1-80b5-775f9a179a04",
   "metadata": {},
   "outputs": [
    {
     "data": {
      "text/plain": [
       "array([[ 5,  4,  3],\n",
       "       [ 1,  7, 56],\n",
       "       [ 0,  2,  3],\n",
       "       [ 7,  5,  1]], dtype=int8)"
      ]
     },
     "execution_count": 97,
     "metadata": {},
     "output_type": "execute_result"
    }
   ],
   "source": [
    "M"
   ]
  },
  {
   "cell_type": "code",
   "execution_count": 98,
   "id": "00a9699c-0d13-4bc5-9718-6d5468b4a6b9",
   "metadata": {},
   "outputs": [
    {
     "data": {
      "text/plain": [
       "array([[ 5,  1,  0,  7],\n",
       "       [ 4,  7,  2,  5],\n",
       "       [ 3, 56,  3,  1]], dtype=int8)"
      ]
     },
     "execution_count": 98,
     "metadata": {},
     "output_type": "execute_result"
    }
   ],
   "source": [
    "np.transpose(M)"
   ]
  },
  {
   "cell_type": "code",
   "execution_count": 99,
   "id": "951108be-68ba-4b0d-bb78-ab801c2ea0dc",
   "metadata": {},
   "outputs": [
    {
     "data": {
      "text/plain": [
       "array([[ 5,  4,  3,  1],\n",
       "       [ 7, 56,  0,  2],\n",
       "       [ 3,  7,  5,  1]], dtype=int8)"
      ]
     },
     "execution_count": 99,
     "metadata": {},
     "output_type": "execute_result"
    }
   ],
   "source": [
    "M.reshape(3,4)"
   ]
  },
  {
   "cell_type": "code",
   "execution_count": 100,
   "id": "56e367eb-01d8-4c85-a53d-79c25c7c512a",
   "metadata": {},
   "outputs": [
    {
     "data": {
      "text/plain": [
       "array([[ 5,  1,  0,  7],\n",
       "       [ 4,  7,  2,  5],\n",
       "       [ 3, 56,  3,  1]], dtype=int8)"
      ]
     },
     "execution_count": 100,
     "metadata": {},
     "output_type": "execute_result"
    }
   ],
   "source": [
    "M.T"
   ]
  },
  {
   "cell_type": "code",
   "execution_count": 101,
   "id": "b9712335-e4af-47b5-b424-4f1069882095",
   "metadata": {},
   "outputs": [
    {
     "data": {
      "text/plain": [
       "(array([[ 5,  4,  3],\n",
       "        [ 1,  7, 56],\n",
       "        [ 0,  2,  3],\n",
       "        [ 7,  5,  1]], dtype=int8),\n",
       " array([[ 5,  4,  3],\n",
       "        [ 1,  7, 56],\n",
       "        [ 0,  2,  3],\n",
       "        [ 7,  5,  1]], dtype=int8))"
      ]
     },
     "execution_count": 101,
     "metadata": {},
     "output_type": "execute_result"
    }
   ],
   "source": [
    "M, M.T.T"
   ]
  },
  {
   "cell_type": "code",
   "execution_count": 102,
   "id": "2a8f9807-1261-4d1d-a9ce-a83d8550aebe",
   "metadata": {},
   "outputs": [
    {
     "data": {
      "text/plain": [
       "(array([[ 6, 10],\n",
       "        [ 8, 12]]),\n",
       " array([[ 6, 10],\n",
       "        [ 8, 12]]))"
      ]
     },
     "execution_count": 102,
     "metadata": {},
     "output_type": "execute_result"
    }
   ],
   "source": [
    "A.T +B.T, (A+B).T"
   ]
  },
  {
   "cell_type": "code",
   "execution_count": 103,
   "id": "a7691a90-0b20-43b8-abb3-83fb958155d7",
   "metadata": {},
   "outputs": [
    {
     "data": {
      "text/plain": [
       "(array([[ 15,   3,   0,  21],\n",
       "        [ 12,  21,   6,  15],\n",
       "        [  9, -88,   9,   3]], dtype=int8),\n",
       " array([[ 15,   3,   0,  21],\n",
       "        [ 12,  21,   6,  15],\n",
       "        [  9, -88,   9,   3]], dtype=int8))"
      ]
     },
     "execution_count": 103,
     "metadata": {},
     "output_type": "execute_result"
    }
   ],
   "source": [
    "(3 * M).T, 3*M.T"
   ]
  },
  {
   "cell_type": "code",
   "execution_count": 104,
   "id": "847b40c4-00a5-4967-87eb-ed8209029924",
   "metadata": {},
   "outputs": [
    {
     "data": {
      "text/plain": [
       "(array([[19, 43],\n",
       "        [22, 50]]),\n",
       " array([[19, 43],\n",
       "        [22, 50]]))"
      ]
     },
     "execution_count": 104,
     "metadata": {},
     "output_type": "execute_result"
    }
   ],
   "source": [
    "(A@B).T, B.T @ A.T"
   ]
  },
  {
   "cell_type": "markdown",
   "id": "bdeeb426-72f7-409c-bfdf-345036346fe6",
   "metadata": {},
   "source": [
    "<h5>Read the size of matrix and then matrix values from user and print original matrix and its transpose</h5>"
   ]
  },
  {
   "cell_type": "code",
   "execution_count": 106,
   "id": "fb4bc6b6-51a5-4346-8e99-b0d9e2196558",
   "metadata": {},
   "outputs": [
    {
     "name": "stdin",
     "output_type": "stream",
     "text": [
      "Enter number of rows:  1\n",
      "Enter number of columns:  1\n",
      "Enter element 0:  1\n"
     ]
    },
    {
     "name": "stdout",
     "output_type": "stream",
     "text": [
      "Original Matrix: \n",
      " [[1]]\n",
      "Transpose: \n",
      " [[1]]\n"
     ]
    }
   ],
   "source": [
    "row = int(input(\"Enter number of rows: \"))\n",
    "col = int(input(\"Enter number of columns: \"))\n",
    "list1 =[]\n",
    "for i in range(row*col):\n",
    "        list1.append(int(input(f\"Enter element {i}: \")))\n",
    "\n",
    "A = np.array(list1)\n",
    "B = A.reshape(row,col)\n",
    "\n",
    "print(\"Original Matrix: \\n\", B)\n",
    "C = B.T\n",
    "print(\"Transpose: \\n\", C)"
   ]
  },
  {
   "cell_type": "code",
   "execution_count": 107,
   "id": "1d550f7f-21c9-4baa-b6e4-713cc438def7",
   "metadata": {},
   "outputs": [
    {
     "name": "stdin",
     "output_type": "stream",
     "text": [
      "Enter number of rows:  1\n",
      "Enter number of columns:  1\n",
      "enter value 1\n"
     ]
    },
    {
     "name": "stdout",
     "output_type": "stream",
     "text": [
      "orignal matrix : \n",
      " [[1]]\n",
      "transpose matrix: \n",
      " [[1]]\n"
     ]
    }
   ],
   "source": [
    "row = int(input(\"Enter number of rows: \"))\n",
    "col = int(input(\"Enter number of columns: \"))\n",
    "M0= np.zeros([row,col], dtype=np.int16)\n",
    "for i in range(row):\n",
    "    for j in range(col):\n",
    "        num=int(input('enter value'))\n",
    "        M0[i,j]= num\n",
    "print(\"orignal matrix : \\n\", M0)\n",
    "print(\"transpose matrix: \\n\", M0.T) "
   ]
  },
  {
   "cell_type": "code",
   "execution_count": 108,
   "id": "5760cd3e-acfa-48d2-bc09-c0c75f904d00",
   "metadata": {},
   "outputs": [],
   "source": [
    "M1 = np.array([[5,4,3], [1,7,8], [0,2,3],[7,5,1]], dtype = np.int8)\n",
    "M2 = np.array([[2,8,1], [0,2,5], [1,9,4]], dtype = np.int8)"
   ]
  },
  {
   "cell_type": "code",
   "execution_count": 109,
   "id": "91f7b641-fd95-46f4-8937-58eb27e04b22",
   "metadata": {},
   "outputs": [
    {
     "data": {
      "text/plain": [
       "array([[2, 8, 1],\n",
       "       [0, 2, 5],\n",
       "       [1, 9, 4]], dtype=int8)"
      ]
     },
     "execution_count": 109,
     "metadata": {},
     "output_type": "execute_result"
    }
   ],
   "source": [
    "M2"
   ]
  },
  {
   "cell_type": "code",
   "execution_count": 110,
   "id": "3e2fce5b-e3d4-4b2b-ba10-32bcf5df3ef0",
   "metadata": {},
   "outputs": [
    {
     "name": "stdout",
     "output_type": "stream",
     "text": [
      "8\n"
     ]
    }
   ],
   "source": [
    "sum = 0\n",
    "for i in range(M2.shape[0]):\n",
    "    for j in range(M2.shape[1]):\n",
    "        if i==j:\n",
    "            sum+=M2[i][j]\n",
    "\n",
    "print(sum)\n",
    "        "
   ]
  },
  {
   "cell_type": "code",
   "execution_count": 111,
   "id": "a509a730-7bff-4452-97af-71aa472f6239",
   "metadata": {},
   "outputs": [],
   "source": [
    "add=0\n",
    "for i in range (min(M1.shape)):\n",
    "    add = M1[i,i] + add"
   ]
  },
  {
   "cell_type": "code",
   "execution_count": 112,
   "id": "8bc92123-74fa-4390-a13c-e5a55c893121",
   "metadata": {},
   "outputs": [
    {
     "data": {
      "text/plain": [
       "15"
      ]
     },
     "execution_count": 112,
     "metadata": {},
     "output_type": "execute_result"
    }
   ],
   "source": [
    "add"
   ]
  },
  {
   "cell_type": "code",
   "execution_count": 113,
   "id": "eecedfc3-c401-4a5a-aea2-584c396c6a38",
   "metadata": {},
   "outputs": [],
   "source": [
    "add=0\n",
    "for i in range (min(M2.shape)):\n",
    "    add = M2[i,i] + add"
   ]
  },
  {
   "cell_type": "code",
   "execution_count": 114,
   "id": "abe25666-5728-4d4a-a314-427c7051efed",
   "metadata": {},
   "outputs": [
    {
     "data": {
      "text/plain": [
       "8"
      ]
     },
     "execution_count": 114,
     "metadata": {},
     "output_type": "execute_result"
    }
   ],
   "source": [
    "add"
   ]
  },
  {
   "cell_type": "code",
   "execution_count": 115,
   "id": "bf1ac1be-3e07-4ad9-80be-cfd9b1b1028b",
   "metadata": {},
   "outputs": [
    {
     "data": {
      "text/plain": [
       "array([5, 7, 3], dtype=int8)"
      ]
     },
     "execution_count": 115,
     "metadata": {},
     "output_type": "execute_result"
    }
   ],
   "source": [
    "M1.diagonal()"
   ]
  },
  {
   "cell_type": "code",
   "execution_count": 116,
   "id": "5c94c6ae-5a58-4298-aa41-cfa2f39dcaaf",
   "metadata": {},
   "outputs": [
    {
     "data": {
      "text/plain": [
       "array([2, 2, 4], dtype=int8)"
      ]
     },
     "execution_count": 116,
     "metadata": {},
     "output_type": "execute_result"
    }
   ],
   "source": [
    "M2.diagonal()"
   ]
  },
  {
   "cell_type": "code",
   "execution_count": 117,
   "id": "a877f659-f922-4633-a6b5-1fdaa5310cf6",
   "metadata": {},
   "outputs": [
    {
     "data": {
      "text/plain": [
       "15"
      ]
     },
     "execution_count": 117,
     "metadata": {},
     "output_type": "execute_result"
    }
   ],
   "source": [
    "M1.diagonal().sum()"
   ]
  },
  {
   "cell_type": "code",
   "execution_count": 118,
   "id": "6caad883-9a7a-443c-9eb1-2d3b7f77ac23",
   "metadata": {},
   "outputs": [
    {
     "data": {
      "text/plain": [
       "8"
      ]
     },
     "execution_count": 118,
     "metadata": {},
     "output_type": "execute_result"
    }
   ],
   "source": [
    "M2.diagonal().sum()"
   ]
  },
  {
   "cell_type": "code",
   "execution_count": 119,
   "id": "a802cd85-a8ac-40b0-a3d7-c81ee95c71d0",
   "metadata": {},
   "outputs": [
    {
     "data": {
      "text/plain": [
       "15"
      ]
     },
     "execution_count": 119,
     "metadata": {},
     "output_type": "execute_result"
    }
   ],
   "source": [
    "M1.trace()"
   ]
  },
  {
   "cell_type": "code",
   "execution_count": 120,
   "id": "d1453b06-1b93-4355-8747-4cb37e4381c4",
   "metadata": {
    "scrolled": true
   },
   "outputs": [
    {
     "data": {
      "text/plain": [
       "8"
      ]
     },
     "execution_count": 120,
     "metadata": {},
     "output_type": "execute_result"
    }
   ],
   "source": [
    "np.trace(M2)"
   ]
  },
  {
   "cell_type": "code",
   "execution_count": 121,
   "id": "92fe7fec-e0c4-436c-8dbe-a20326288110",
   "metadata": {},
   "outputs": [
    {
     "data": {
      "text/plain": [
       "(45, 45)"
      ]
     },
     "execution_count": 121,
     "metadata": {},
     "output_type": "execute_result"
    }
   ],
   "source": [
    "np.trace(M1*3), 3*M1.trace()"
   ]
  },
  {
   "cell_type": "markdown",
   "id": "85805a41-2650-44a7-b1a8-37574e9f7d95",
   "metadata": {},
   "source": [
    "Determinant of matrix"
   ]
  },
  {
   "cell_type": "code",
   "execution_count": 123,
   "id": "282de433-e182-4a98-8784-b46fae36a531",
   "metadata": {},
   "outputs": [
    {
     "data": {
      "text/plain": [
       "array([[2, 8, 1],\n",
       "       [0, 2, 5],\n",
       "       [1, 9, 4]], dtype=int8)"
      ]
     },
     "execution_count": 123,
     "metadata": {},
     "output_type": "execute_result"
    }
   ],
   "source": [
    "M2"
   ]
  },
  {
   "cell_type": "code",
   "execution_count": 124,
   "id": "efaa75cb-afca-4570-bac7-dd988d3cf410",
   "metadata": {},
   "outputs": [
    {
     "data": {
      "text/plain": [
       "-36.0"
      ]
     },
     "execution_count": 124,
     "metadata": {},
     "output_type": "execute_result"
    }
   ],
   "source": [
    "np.linalg.det(M2)"
   ]
  },
  {
   "cell_type": "markdown",
   "id": "ad0cdb89-860f-4111-a8db-20670b57fbd5",
   "metadata": {},
   "source": [
    "Inverse of matrix"
   ]
  },
  {
   "cell_type": "code",
   "execution_count": 126,
   "id": "9abb0db6-862d-4338-91fc-db9d37519528",
   "metadata": {},
   "outputs": [
    {
     "data": {
      "text/plain": [
       "array([[2, 8, 1],\n",
       "       [0, 2, 5],\n",
       "       [1, 9, 4]], dtype=int8)"
      ]
     },
     "execution_count": 126,
     "metadata": {},
     "output_type": "execute_result"
    }
   ],
   "source": [
    "M2"
   ]
  },
  {
   "cell_type": "code",
   "execution_count": 127,
   "id": "15b54f4a-2768-47f5-81cd-ced278b3805b",
   "metadata": {},
   "outputs": [
    {
     "data": {
      "text/plain": [
       "array([[ 1.02777778,  0.63888889, -1.05555556],\n",
       "       [-0.13888889, -0.19444444,  0.27777778],\n",
       "       [ 0.05555556,  0.27777778, -0.11111111]])"
      ]
     },
     "execution_count": 127,
     "metadata": {},
     "output_type": "execute_result"
    }
   ],
   "source": [
    "np.linalg.inv(M2)"
   ]
  },
  {
   "cell_type": "code",
   "execution_count": 128,
   "id": "ce44fbd3-b888-459e-b0fe-50ca9f6ad1ae",
   "metadata": {},
   "outputs": [
    {
     "data": {
      "text/plain": [
       "array([[ 1.03,  0.64, -1.06],\n",
       "       [-0.14, -0.19,  0.28],\n",
       "       [ 0.06,  0.28, -0.11]])"
      ]
     },
     "execution_count": 128,
     "metadata": {},
     "output_type": "execute_result"
    }
   ],
   "source": [
    "%precision 2\n",
    "np.linalg.inv(M2)"
   ]
  },
  {
   "cell_type": "markdown",
   "id": "1a42dfb4-921d-4fa3-b652-58f6d518a71d",
   "metadata": {},
   "source": [
    "Rank of matrix"
   ]
  },
  {
   "cell_type": "code",
   "execution_count": 130,
   "id": "52ba7ced-c64c-4295-ad98-0b333e36a0c6",
   "metadata": {},
   "outputs": [
    {
     "data": {
      "text/plain": [
       "array([[5, 4, 3],\n",
       "       [1, 7, 8],\n",
       "       [0, 2, 3],\n",
       "       [7, 5, 1]], dtype=int8)"
      ]
     },
     "execution_count": 130,
     "metadata": {},
     "output_type": "execute_result"
    }
   ],
   "source": [
    "M1"
   ]
  },
  {
   "cell_type": "code",
   "execution_count": 131,
   "id": "c4c37ceb-45e0-4ef6-9a83-c76394fa56a4",
   "metadata": {},
   "outputs": [
    {
     "data": {
      "text/plain": [
       "3"
      ]
     },
     "execution_count": 131,
     "metadata": {},
     "output_type": "execute_result"
    }
   ],
   "source": [
    "np.linalg.matrix_rank(M1)"
   ]
  },
  {
   "cell_type": "code",
   "execution_count": 132,
   "id": "ad78acd2-b601-424e-8d58-47dd326effab",
   "metadata": {},
   "outputs": [],
   "source": [
    "M3 = np.array([[1,2,3],[4,5,12],[2,7,6]])"
   ]
  },
  {
   "cell_type": "code",
   "execution_count": 133,
   "id": "dda38aaa-0734-4049-b219-5a201cbe1f03",
   "metadata": {},
   "outputs": [
    {
     "data": {
      "text/plain": [
       "array([[ 1,  2,  3],\n",
       "       [ 4,  5, 12],\n",
       "       [ 2,  7,  6]])"
      ]
     },
     "execution_count": 133,
     "metadata": {},
     "output_type": "execute_result"
    }
   ],
   "source": [
    "M3"
   ]
  },
  {
   "cell_type": "code",
   "execution_count": 134,
   "id": "f97a4010-be22-480c-914e-b7dfa98ed741",
   "metadata": {},
   "outputs": [
    {
     "data": {
      "text/plain": [
       "2"
      ]
     },
     "execution_count": 134,
     "metadata": {},
     "output_type": "execute_result"
    }
   ],
   "source": [
    "np.linalg.matrix_rank(M3)"
   ]
  },
  {
   "cell_type": "code",
   "execution_count": 135,
   "id": "ee8fd62e-9f96-4301-977d-6098f61d9750",
   "metadata": {},
   "outputs": [
    {
     "data": {
      "text/plain": [
       "array([[ 1,  2,  3],\n",
       "       [ 4,  5, 12],\n",
       "       [ 2,  4,  6]])"
      ]
     },
     "execution_count": 135,
     "metadata": {},
     "output_type": "execute_result"
    }
   ],
   "source": [
    "M4 = np.array([[1,2,3],[4,5,12],[2,4,6]])\n",
    "M4"
   ]
  },
  {
   "cell_type": "code",
   "execution_count": 136,
   "id": "78455bed-8d74-48a5-8ffb-f42c54ae1efe",
   "metadata": {},
   "outputs": [
    {
     "data": {
      "text/plain": [
       "2"
      ]
     },
     "execution_count": 136,
     "metadata": {},
     "output_type": "execute_result"
    }
   ],
   "source": [
    "np.linalg.matrix_rank(M4)"
   ]
  },
  {
   "cell_type": "code",
   "execution_count": 137,
   "id": "b346f915-344d-4cfa-88ed-90ef474a8067",
   "metadata": {},
   "outputs": [
    {
     "data": {
      "text/plain": [
       "array([[ 1,  2,  3],\n",
       "       [ 4,  8, 12],\n",
       "       [ 2,  4,  6]])"
      ]
     },
     "execution_count": 137,
     "metadata": {},
     "output_type": "execute_result"
    }
   ],
   "source": [
    "M5 = np.array([[1,2,3],[4,8,12],[2,4,6]])\n",
    "M5"
   ]
  },
  {
   "cell_type": "code",
   "execution_count": 138,
   "id": "3d1c0e01-6733-4da3-8ce1-9a493bc8e107",
   "metadata": {},
   "outputs": [
    {
     "data": {
      "text/plain": [
       "1"
      ]
     },
     "execution_count": 138,
     "metadata": {},
     "output_type": "execute_result"
    }
   ],
   "source": [
    "np.linalg.matrix_rank(M5)"
   ]
  },
  {
   "cell_type": "code",
   "execution_count": 139,
   "id": "6b2f22df-727d-4aa1-9f3d-d4293d298590",
   "metadata": {},
   "outputs": [
    {
     "data": {
      "text/plain": [
       "array([[1, 2],\n",
       "       [1, 3],\n",
       "       [1, 5],\n",
       "       [1, 7],\n",
       "       [1, 9]])"
      ]
     },
     "execution_count": 139,
     "metadata": {},
     "output_type": "execute_result"
    }
   ],
   "source": [
    "M6 = np.array([[1,2],[1,3],[1,5],[1,7],[1,9]])\n",
    "M6"
   ]
  },
  {
   "cell_type": "code",
   "execution_count": 140,
   "id": "0f94aee2-1998-439c-80b9-9acb15905d47",
   "metadata": {},
   "outputs": [
    {
     "data": {
      "text/plain": [
       "2"
      ]
     },
     "execution_count": 140,
     "metadata": {},
     "output_type": "execute_result"
    }
   ],
   "source": [
    "np.linalg.matrix_rank(M6)"
   ]
  },
  {
   "cell_type": "markdown",
   "id": "6a445e85-e938-4736-82c3-d9080dc218b3",
   "metadata": {},
   "source": [
    "Types of matrices"
   ]
  },
  {
   "cell_type": "code",
   "execution_count": 142,
   "id": "2f69cbe9-4025-4fde-8390-d31fd7403419",
   "metadata": {},
   "outputs": [],
   "source": [
    "R= np.array([[3,4,5],[1,3,8]])"
   ]
  },
  {
   "cell_type": "code",
   "execution_count": 143,
   "id": "82c52ad4-e675-461f-97b5-30126fd6ccc5",
   "metadata": {},
   "outputs": [
    {
     "data": {
      "text/plain": [
       "array([[3, 4, 5],\n",
       "       [1, 3, 8]])"
      ]
     },
     "execution_count": 143,
     "metadata": {},
     "output_type": "execute_result"
    }
   ],
   "source": [
    "R"
   ]
  },
  {
   "cell_type": "code",
   "execution_count": 144,
   "id": "af209a1d-a14c-4bfd-846f-b19dde7e6d2b",
   "metadata": {},
   "outputs": [],
   "source": [
    "R=R.reshape(1,-1)"
   ]
  },
  {
   "cell_type": "code",
   "execution_count": 145,
   "id": "ce0cdb4c-f895-462b-929f-b15b0caf89d3",
   "metadata": {},
   "outputs": [
    {
     "data": {
      "text/plain": [
       "array([[3, 4, 5, 1, 3, 8]])"
      ]
     },
     "execution_count": 145,
     "metadata": {},
     "output_type": "execute_result"
    }
   ],
   "source": [
    "R"
   ]
  },
  {
   "cell_type": "markdown",
   "id": "36371b24-d2ee-4845-9a31-8bc458017e3c",
   "metadata": {},
   "source": [
    "Column matrix"
   ]
  },
  {
   "cell_type": "code",
   "execution_count": 147,
   "id": "3f3ea1e0-d81f-4fed-93ee-06a4a519b742",
   "metadata": {},
   "outputs": [],
   "source": [
    "C= np.array([[3,4,5],[1,3,8]])"
   ]
  },
  {
   "cell_type": "code",
   "execution_count": 148,
   "id": "fd37cb6b-1c5a-4752-8fc1-b7b117177914",
   "metadata": {},
   "outputs": [
    {
     "data": {
      "text/plain": [
       "array([[3, 4, 5],\n",
       "       [1, 3, 8]])"
      ]
     },
     "execution_count": 148,
     "metadata": {},
     "output_type": "execute_result"
    }
   ],
   "source": [
    "C"
   ]
  },
  {
   "cell_type": "code",
   "execution_count": 149,
   "id": "3ec3ec1d-062d-419e-b17c-4293cbb8750d",
   "metadata": {},
   "outputs": [
    {
     "data": {
      "text/plain": [
       "array([[3],\n",
       "       [4],\n",
       "       [5],\n",
       "       [1],\n",
       "       [3],\n",
       "       [8]])"
      ]
     },
     "execution_count": 149,
     "metadata": {},
     "output_type": "execute_result"
    }
   ],
   "source": [
    "C=C.reshape(-1,1)\n",
    "C"
   ]
  },
  {
   "cell_type": "code",
   "execution_count": 150,
   "id": "fc436135-d40f-49f8-83c2-e1cc8a5819b4",
   "metadata": {},
   "outputs": [
    {
     "data": {
      "text/plain": [
       "(6, 1)"
      ]
     },
     "execution_count": 150,
     "metadata": {},
     "output_type": "execute_result"
    }
   ],
   "source": [
    "C.shape"
   ]
  },
  {
   "cell_type": "code",
   "execution_count": 151,
   "id": "6151bae6-95bc-4653-919a-56caafa98216",
   "metadata": {},
   "outputs": [
    {
     "data": {
      "text/plain": [
       "array([[3, 4, 5, 1, 3, 8]])"
      ]
     },
     "execution_count": 151,
     "metadata": {},
     "output_type": "execute_result"
    }
   ],
   "source": [
    "C.T"
   ]
  },
  {
   "cell_type": "code",
   "execution_count": 152,
   "id": "b56ca3c1-101d-499f-aac9-e942481ee437",
   "metadata": {},
   "outputs": [
    {
     "data": {
      "text/plain": [
       "array([[3],\n",
       "       [4],\n",
       "       [5],\n",
       "       [1],\n",
       "       [3],\n",
       "       [8]])"
      ]
     },
     "execution_count": 152,
     "metadata": {},
     "output_type": "execute_result"
    }
   ],
   "source": [
    "R.T"
   ]
  },
  {
   "cell_type": "markdown",
   "id": "214c1714-994e-46e1-81b8-0725fbaef5b2",
   "metadata": {},
   "source": [
    "Square matrix"
   ]
  },
  {
   "cell_type": "code",
   "execution_count": 154,
   "id": "310ed12f-8b3a-4285-968c-c7eaae0e7eb2",
   "metadata": {},
   "outputs": [
    {
     "data": {
      "text/plain": [
       "array([[3, 4, 5],\n",
       "       [1, 3, 8],\n",
       "       [9, 0, 2]])"
      ]
     },
     "execution_count": 154,
     "metadata": {},
     "output_type": "execute_result"
    }
   ],
   "source": [
    "S= np.array([[3,4,5],[1,3,8],[9,0,2]])\n",
    "S"
   ]
  },
  {
   "cell_type": "code",
   "execution_count": 155,
   "id": "97834f2f-c8fc-4623-962a-16c029855cbc",
   "metadata": {},
   "outputs": [],
   "source": [
    "def isSquareMatrix(M):\n",
    "    if M.shape[0]==M.shape[1]:\n",
    "        print(\"Square Matrix\")\n",
    "    else:\n",
    "        print(\"Not a square matrix\")"
   ]
  },
  {
   "cell_type": "code",
   "execution_count": 156,
   "id": "f29bce3e-191c-4fab-b29f-97523063d5a9",
   "metadata": {},
   "outputs": [
    {
     "name": "stdout",
     "output_type": "stream",
     "text": [
      "Square Matrix\n"
     ]
    }
   ],
   "source": [
    "isSquareMatrix(S)"
   ]
  },
  {
   "cell_type": "code",
   "execution_count": 157,
   "id": "6a702ba1-d853-4c19-950f-288f184d2d97",
   "metadata": {},
   "outputs": [
    {
     "data": {
      "text/plain": [
       "array([[3, 4, 5, 5],\n",
       "       [1, 3, 8, 7],\n",
       "       [9, 0, 2, 1]])"
      ]
     },
     "execution_count": 157,
     "metadata": {},
     "output_type": "execute_result"
    }
   ],
   "source": [
    "S1= np.array([[3,4,5,5],[1,3,8,7],[9,0,2,1]])\n",
    "S1"
   ]
  },
  {
   "cell_type": "code",
   "execution_count": 158,
   "id": "38242392-3930-41db-a24f-e9c3b6976947",
   "metadata": {},
   "outputs": [
    {
     "name": "stdout",
     "output_type": "stream",
     "text": [
      "Not a square matrix\n"
     ]
    }
   ],
   "source": [
    "isSquareMatrix(S1)"
   ]
  },
  {
   "cell_type": "code",
   "execution_count": 159,
   "id": "1e4e10d5-b8ed-437e-89c3-94329279a2d9",
   "metadata": {},
   "outputs": [],
   "source": [
    "def isRectangularMatrix(M):\n",
    "    if M.shape[0]!=M.shape[1]:\n",
    "        print(\" Rectangular Matrix\")\n",
    "    else:\n",
    "        print(\"Not a Rectangular matrix\")"
   ]
  },
  {
   "cell_type": "code",
   "execution_count": 160,
   "id": "3c19e566-4adb-41c9-bb92-e6177b0131a7",
   "metadata": {},
   "outputs": [
    {
     "name": "stdout",
     "output_type": "stream",
     "text": [
      " Rectangular Matrix\n"
     ]
    }
   ],
   "source": [
    "isRectangularMatrix(S1)"
   ]
  },
  {
   "cell_type": "code",
   "execution_count": 161,
   "id": "9163ffac-3b46-4b6e-a48a-f5dc6ea56988",
   "metadata": {},
   "outputs": [
    {
     "name": "stdout",
     "output_type": "stream",
     "text": [
      "Not a Rectangular matrix\n"
     ]
    }
   ],
   "source": [
    "isRectangularMatrix(S)"
   ]
  },
  {
   "cell_type": "markdown",
   "id": "322c7979-cacb-4cf3-b525-149f23ba0594",
   "metadata": {},
   "source": [
    "Diagonal matrix"
   ]
  },
  {
   "cell_type": "code",
   "execution_count": 163,
   "id": "e584c084-e2c6-4179-a0c6-3cde5fe3dfdb",
   "metadata": {},
   "outputs": [
    {
     "data": {
      "text/plain": [
       "5"
      ]
     },
     "execution_count": 163,
     "metadata": {},
     "output_type": "execute_result"
    }
   ],
   "source": [
    "np.random.randint(1,10)"
   ]
  },
  {
   "cell_type": "markdown",
   "id": "e8afbe66-9087-4c28-ba1e-4e9b625f2397",
   "metadata": {},
   "source": [
    "Create a diagonal square matrix with n rows/colums\n",
    "Read value of n from user"
   ]
  },
  {
   "cell_type": "code",
   "execution_count": 165,
   "id": "c9461984-fd34-45de-a0a3-05d04347decd",
   "metadata": {},
   "outputs": [
    {
     "name": "stdin",
     "output_type": "stream",
     "text": [
      "Enter no of row/cols:  1\n"
     ]
    },
    {
     "data": {
      "text/plain": [
       "array([[50]], dtype=int16)"
      ]
     },
     "execution_count": 165,
     "metadata": {},
     "output_type": "execute_result"
    }
   ],
   "source": [
    "n = int(input(\"Enter no of row/cols: \"))\n",
    "\n",
    "M = np.zeros([n,n], dtype=np.int16)\n",
    "\n",
    "for i in range(n):\n",
    "    M[i,i]=np.random.randint(1,100)\n",
    "\n",
    "M"
   ]
  },
  {
   "cell_type": "code",
   "execution_count": 166,
   "id": "58c5ae31-1b79-43af-a2c6-a535e3fd2c06",
   "metadata": {},
   "outputs": [],
   "source": [
    "def isDiagonalMatrix(M):\n",
    "    status = 1\n",
    "    for i in range(M.shape[0]):\n",
    "        if M[i].sum() == M[i][i]:\n",
    "            continue\n",
    "        else:\n",
    "            status = 0\n",
    "            break\n",
    "\n",
    "    if status == 1:\n",
    "        print(\"Diagonal Matrix\")\n",
    "    else:\n",
    "        print(\"Not a diagonal matrix\")\n",
    "            \n",
    "            "
   ]
  },
  {
   "cell_type": "code",
   "execution_count": 167,
   "id": "315971f4-f5cf-47e4-9854-7e133ca4840f",
   "metadata": {},
   "outputs": [
    {
     "ename": "NameError",
     "evalue": "name 'isDiagonalMatrix' is not defined",
     "output_type": "error",
     "traceback": [
      "\u001b[1;31m---------------------------------------------------------------------------\u001b[0m",
      "\u001b[1;31mNameError\u001b[0m                                 Traceback (most recent call last)",
      "Cell \u001b[1;32mIn[167], line 1\u001b[0m\n\u001b[1;32m----> 1\u001b[0m \u001b[43misDiagonalMatrix\u001b[49m(S)\n",
      "\u001b[1;31mNameError\u001b[0m: name 'isDiagonalMatrix' is not defined"
     ]
    }
   ],
   "source": [
    "isDiagonalMatrix(S)"
   ]
  },
  {
   "cell_type": "code",
   "execution_count": null,
   "id": "81022ae6-64a5-4e65-b3c7-713e71c8dbec",
   "metadata": {},
   "outputs": [],
   "source": [
    "M"
   ]
  },
  {
   "cell_type": "code",
   "execution_count": null,
   "id": "773838fc-b40b-487d-b725-53c9ec2a386c",
   "metadata": {},
   "outputs": [],
   "source": [
    "isDiagonalMatrix(M)"
   ]
  },
  {
   "cell_type": "code",
   "execution_count": null,
   "id": "4ad545c8-9355-44c6-8cff-efae2a9d1697",
   "metadata": {},
   "outputs": [],
   "source": [
    "def isDiagonalMatrix(M):\n",
    "    if (M>0).flatten().sum() == M.shape[0]:\n",
    "        print(\"Diagonal\")\n",
    "    else:\n",
    "        print(\"No\")"
   ]
  },
  {
   "cell_type": "code",
   "execution_count": null,
   "id": "728fefca-27d3-48b0-8340-61a7c2eedd27",
   "metadata": {},
   "outputs": [],
   "source": [
    "isDiagonalMatrix(S)"
   ]
  },
  {
   "cell_type": "markdown",
   "id": "6a5370af-6cc4-4650-9f25-a5c294388d85",
   "metadata": {},
   "source": [
    "Identity matrix"
   ]
  },
  {
   "cell_type": "code",
   "execution_count": null,
   "id": "e162b44b-2b95-46f4-b6dd-d5871eb467e3",
   "metadata": {},
   "outputs": [],
   "source": [
    "I= np.zeros([4,4], dtype=np.int16)"
   ]
  },
  {
   "cell_type": "code",
   "execution_count": null,
   "id": "714c2ae2-ac6f-49ee-88d2-d8cd782244db",
   "metadata": {},
   "outputs": [],
   "source": [
    "I"
   ]
  },
  {
   "cell_type": "code",
   "execution_count": null,
   "id": "62ed9235-c50a-4995-87bb-8c328868244a",
   "metadata": {},
   "outputs": [],
   "source": [
    "for i in range(I.shape[0]):\n",
    "    I[i,i]= 1\n",
    "I"
   ]
  },
  {
   "cell_type": "code",
   "execution_count": null,
   "id": "8c501f86-90e2-4b63-b0ef-93a2929739f3",
   "metadata": {},
   "outputs": [],
   "source": [
    "def isIdentityMatrix(M):\n",
    "        if M.flatten().sum() == M.shape[0]:\n",
    "            return True\n",
    "        else:\n",
    "            return False"
   ]
  },
  {
   "cell_type": "code",
   "execution_count": null,
   "id": "ec9872d0-5850-4ca7-87cf-022cf29b3966",
   "metadata": {},
   "outputs": [],
   "source": [
    "isIdentityMatrix(I)"
   ]
  },
  {
   "cell_type": "markdown",
   "id": "5256d79b-87ca-4298-92e4-d8004c341e75",
   "metadata": {},
   "source": [
    "Symmetric Matrix"
   ]
  },
  {
   "cell_type": "code",
   "execution_count": null,
   "id": "f43f0f88-78b7-4356-8c70-a47f3d41b6ed",
   "metadata": {},
   "outputs": [],
   "source": [
    "A = np.array([[1,2,3],[2,0,5],[3,5,6]])"
   ]
  },
  {
   "cell_type": "code",
   "execution_count": null,
   "id": "214bea42-ccc6-4347-b0e6-0f5da3da593e",
   "metadata": {},
   "outputs": [],
   "source": [
    "A"
   ]
  },
  {
   "cell_type": "code",
   "execution_count": null,
   "id": "4cafe173-c078-42b8-af36-4f09e90d6589",
   "metadata": {},
   "outputs": [],
   "source": [
    "A, A.T"
   ]
  },
  {
   "cell_type": "code",
   "execution_count": null,
   "id": "9bf4050e-d9f9-4e44-b352-a7207465d465",
   "metadata": {},
   "outputs": [],
   "source": [
    "def issymmetricmatrix(M):\n",
    "    # status =1\n",
    "    # for i in range(M.shape[0]):\n",
    "    #     for j in range(M.shape[1]):\n",
    "    #         if M[i][j]==M[j][i]:\n",
    "    #             continue\n",
    "    #         else:\n",
    "    #             status = 0\n",
    "    #             break\n",
    "    # if status == 1:\n",
    "    #    return True\n",
    "    # else:\n",
    "    #     return False\n",
    "\n",
    "    if (M == M.T).flatten().sum() == M.size:\n",
    "        return True\n",
    "    else:\n",
    "        return False"
   ]
  },
  {
   "cell_type": "code",
   "execution_count": null,
   "id": "6f5e61e7-9edc-4855-836f-ae60a23b3b23",
   "metadata": {},
   "outputs": [],
   "source": [
    "issymmetricmatrix(S)"
   ]
  },
  {
   "cell_type": "markdown",
   "id": "1dbdce54-57c7-4485-bd81-5cfdedaea6de",
   "metadata": {},
   "source": [
    "Skew symmetric"
   ]
  },
  {
   "cell_type": "code",
   "execution_count": null,
   "id": "44d552c0-171f-4012-ab91-1c3c8b2b2922",
   "metadata": {},
   "outputs": [],
   "source": [
    "B = np.array([[0,3],[-3,0]])"
   ]
  },
  {
   "cell_type": "code",
   "execution_count": null,
   "id": "d3c024c3-2159-4453-8422-8e78332a1354",
   "metadata": {},
   "outputs": [],
   "source": [
    "B"
   ]
  },
  {
   "cell_type": "code",
   "execution_count": null,
   "id": "3da86c5b-0b9b-4369-a737-d182affb7dca",
   "metadata": {},
   "outputs": [],
   "source": [
    "-B, B.T"
   ]
  },
  {
   "cell_type": "code",
   "execution_count": null,
   "id": "5eae100d-94f6-4641-92a9-c89c5d509854",
   "metadata": {},
   "outputs": [],
   "source": [
    "-B == B.T"
   ]
  },
  {
   "cell_type": "code",
   "execution_count": null,
   "id": "9c01b487-3886-43b3-be84-cf1d6c7ae622",
   "metadata": {},
   "outputs": [],
   "source": [
    "def isskewsymmetric(M):\n",
    "    if (-M == M.T).flatten().sum() == M.size:\n",
    "        return True\n",
    "    else:\n",
    "        return False"
   ]
  },
  {
   "cell_type": "code",
   "execution_count": null,
   "id": "053a6669-bdf1-42eb-8b68-5a36fcc23fc0",
   "metadata": {},
   "outputs": [],
   "source": [
    "isskewsymmetric(B)"
   ]
  },
  {
   "cell_type": "code",
   "execution_count": null,
   "id": "d8153972-138b-4781-bcf3-81630a441b1d",
   "metadata": {},
   "outputs": [],
   "source": [
    "isskewsymmetric(A)"
   ]
  },
  {
   "cell_type": "markdown",
   "id": "cfd5052f-b0da-4a07-be0c-e70b6e0a91a2",
   "metadata": {},
   "source": [
    "Orthogonal Matrix"
   ]
  },
  {
   "cell_type": "code",
   "execution_count": null,
   "id": "5142589d-59ae-4b5e-8721-3c13f3bce8ed",
   "metadata": {},
   "outputs": [],
   "source": [
    "I"
   ]
  },
  {
   "cell_type": "code",
   "execution_count": null,
   "id": "38429811-4bd6-43ad-9e00-6c23ddc43d72",
   "metadata": {},
   "outputs": [],
   "source": [
    "I.T"
   ]
  },
  {
   "cell_type": "code",
   "execution_count": null,
   "id": "f1d187f0-b67e-4c8d-a41b-35f1be5f054e",
   "metadata": {},
   "outputs": [],
   "source": [
    "np.linalg.inv(I)"
   ]
  },
  {
   "cell_type": "code",
   "execution_count": null,
   "id": "89a22e96-a1e2-4f9b-9f73-bad4aaabf638",
   "metadata": {},
   "outputs": [],
   "source": [
    "Rm = np.array([[np.cos(50), -np.sin(50)], [np.sin(50), np.cos(50)]])\n",
    "Rm"
   ]
  },
  {
   "cell_type": "code",
   "execution_count": null,
   "id": "b8a6dbeb-f33f-4755-9380-799565d95ecd",
   "metadata": {},
   "outputs": [],
   "source": [
    "Rm.T"
   ]
  },
  {
   "cell_type": "code",
   "execution_count": null,
   "id": "d0d1ff63-83b1-4af8-8d4a-d0a056c56c41",
   "metadata": {},
   "outputs": [],
   "source": [
    "np.linalg.inv(Rm)"
   ]
  },
  {
   "cell_type": "code",
   "execution_count": 215,
   "id": "8429bb32-c875-40aa-a46e-c747fdb0f9bb",
   "metadata": {},
   "outputs": [],
   "source": [
    "P=np.array([[0,1,0],[1,0,0],[0,0,1]], dtype =np.int16)"
   ]
  },
  {
   "cell_type": "code",
   "execution_count": 217,
   "id": "a66ff8ec-ba66-4dac-8473-e1aec7d99a43",
   "metadata": {},
   "outputs": [
    {
     "data": {
      "text/plain": [
       "array([[0, 1, 0],\n",
       "       [1, 0, 0],\n",
       "       [0, 0, 1]], dtype=int16)"
      ]
     },
     "execution_count": 217,
     "metadata": {},
     "output_type": "execute_result"
    }
   ],
   "source": [
    "P"
   ]
  },
  {
   "cell_type": "code",
   "execution_count": 219,
   "id": "77aa1a10-c9aa-49d5-b13b-908fab8e4630",
   "metadata": {},
   "outputs": [
    {
     "data": {
      "text/plain": [
       "array([[0, 1, 0],\n",
       "       [1, 0, 0],\n",
       "       [0, 0, 1]], dtype=int16)"
      ]
     },
     "execution_count": 219,
     "metadata": {},
     "output_type": "execute_result"
    }
   ],
   "source": [
    "P.T"
   ]
  },
  {
   "cell_type": "code",
   "execution_count": 221,
   "id": "138be68f-ad31-414b-a46c-4dc19c832c2c",
   "metadata": {},
   "outputs": [
    {
     "data": {
      "text/plain": [
       "array([[0., 1., 0.],\n",
       "       [1., 0., 0.],\n",
       "       [0., 0., 1.]])"
      ]
     },
     "execution_count": 221,
     "metadata": {},
     "output_type": "execute_result"
    }
   ],
   "source": [
    "np.linalg.inv(P)"
   ]
  },
  {
   "cell_type": "code",
   "execution_count": 223,
   "id": "be2a84fa-2881-4ee2-a242-3af1500622ed",
   "metadata": {},
   "outputs": [
    {
     "data": {
      "text/plain": [
       "-1.00"
      ]
     },
     "execution_count": 223,
     "metadata": {},
     "output_type": "execute_result"
    }
   ],
   "source": [
    "np.linalg.det(P)"
   ]
  },
  {
   "cell_type": "code",
   "execution_count": null,
   "id": "533bd897-aee4-4d41-8c3f-b4518c1c953a",
   "metadata": {},
   "outputs": [],
   "source": [
    "I"
   ]
  },
  {
   "cell_type": "code",
   "execution_count": null,
   "id": "75ba1b56-2624-4d50-a9db-cc909bddf10d",
   "metadata": {},
   "outputs": [],
   "source": [
    "H= np.array([[5,4,1,3],[8,9,0,3],[2,1,4,9],[7,3,1,4]])"
   ]
  },
  {
   "cell_type": "code",
   "execution_count": null,
   "id": "7eaaf613-7239-4aa1-b2bf-fc067103694b",
   "metadata": {},
   "outputs": [],
   "source": [
    "H"
   ]
  },
  {
   "cell_type": "code",
   "execution_count": null,
   "id": "3b78c705-eca5-4552-83d5-f22d712fc08f",
   "metadata": {},
   "outputs": [],
   "source": [
    "H @ I"
   ]
  },
  {
   "cell_type": "markdown",
   "id": "af8c5276-f013-49ae-a4d9-a6b29f7834cc",
   "metadata": {},
   "source": [
    "Eigenvalues and Eigenvectors"
   ]
  },
  {
   "cell_type": "code",
   "execution_count": null,
   "id": "6d1a5711-0ffe-491f-b1c7-01702ae407ce",
   "metadata": {},
   "outputs": [],
   "source": [
    "A= np.array([[1,2],[3,4]], dtype = np.int8)"
   ]
  },
  {
   "cell_type": "code",
   "execution_count": null,
   "id": "91911eb1-4e03-4a35-a854-6f239bb43dad",
   "metadata": {},
   "outputs": [],
   "source": [
    "value, vector = np.linalg.eig(A)"
   ]
  },
  {
   "cell_type": "code",
   "execution_count": null,
   "id": "b3e180a1-74fc-4333-b37f-2577ad47ddf8",
   "metadata": {},
   "outputs": [],
   "source": [
    "value"
   ]
  },
  {
   "cell_type": "code",
   "execution_count": null,
   "id": "1209cad5-2c3e-4ef7-92aa-3cc19304155f",
   "metadata": {},
   "outputs": [],
   "source": [
    "vector"
   ]
  },
  {
   "cell_type": "code",
   "execution_count": null,
   "id": "e0250614-a649-4c0f-af26-06508b031a14",
   "metadata": {},
   "outputs": [],
   "source": [
    "A @ vector"
   ]
  },
  {
   "cell_type": "code",
   "execution_count": null,
   "id": "2cf0e47e-8257-4d75-94a3-990dcf89e1dd",
   "metadata": {},
   "outputs": [],
   "source": [
    "value * vector"
   ]
  },
  {
   "cell_type": "code",
   "execution_count": null,
   "id": "83f219f5-84c9-484f-ad82-8a7a74934749",
   "metadata": {},
   "outputs": [],
   "source": [
    "A= np.array([[1,2,3,4],[3,4,5,6],[1,7,3,9],[8,7,3,5]], dtype = np.int8)"
   ]
  },
  {
   "cell_type": "code",
   "execution_count": null,
   "id": "cd7ce4b3-425f-439f-85a4-11a84447c0f6",
   "metadata": {},
   "outputs": [],
   "source": [
    "A"
   ]
  },
  {
   "cell_type": "code",
   "execution_count": null,
   "id": "cf424d12-8712-4ea9-8bae-17ae62d2a70c",
   "metadata": {},
   "outputs": [],
   "source": [
    "value, vector = np.linalg.eig(A)"
   ]
  },
  {
   "cell_type": "code",
   "execution_count": null,
   "id": "a6654566-883e-4164-9bd1-1f196d47bd82",
   "metadata": {},
   "outputs": [],
   "source": [
    "vector.dtype"
   ]
  },
  {
   "cell_type": "code",
   "execution_count": null,
   "id": "b38c2196-051f-4490-9b1d-cd97a77d93e3",
   "metadata": {},
   "outputs": [],
   "source": []
  }
 ],
 "metadata": {
  "kernelspec": {
   "display_name": "Python 3 (ipykernel)",
   "language": "python",
   "name": "python3"
  },
  "language_info": {
   "codemirror_mode": {
    "name": "ipython",
    "version": 3
   },
   "file_extension": ".py",
   "mimetype": "text/x-python",
   "name": "python",
   "nbconvert_exporter": "python",
   "pygments_lexer": "ipython3",
   "version": "3.12.4"
  }
 },
 "nbformat": 4,
 "nbformat_minor": 5
}
