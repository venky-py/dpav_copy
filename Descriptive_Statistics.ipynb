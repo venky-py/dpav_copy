{
 "cells": [
  {
   "cell_type": "code",
   "execution_count": 118,
   "id": "2d17e10b-865f-4806-bc40-9e7d156e93d6",
   "metadata": {},
   "outputs": [],
   "source": [
    "import numpy as np\n",
    "import pandas as pd\n",
    "import statistics as sts\n",
    "import matplotlib.pyplot as plt\n",
    "import seaborn as sns"
   ]
  },
  {
   "cell_type": "markdown",
   "id": "72adbc69-6783-4350-973d-2c87ee16590c",
   "metadata": {},
   "source": [
    "Measure of central tendency"
   ]
  },
  {
   "cell_type": "markdown",
   "id": "b0881794-ad61-4572-90fb-34536d81463f",
   "metadata": {},
   "source": [
    "Mean"
   ]
  },
  {
   "cell_type": "code",
   "execution_count": 121,
   "id": "04c9bee7-7ed9-486c-9a28-1d45a7d86e41",
   "metadata": {},
   "outputs": [],
   "source": [
    "runs = np.array([67,34,12,62,98,123,54,22,16,54,11,6,103])"
   ]
  },
  {
   "cell_type": "code",
   "execution_count": 122,
   "id": "73e90f8b-7c1d-4b6d-97e3-2789632871bb",
   "metadata": {},
   "outputs": [
    {
     "data": {
      "text/plain": [
       "50.92307692307692"
      ]
     },
     "execution_count": 122,
     "metadata": {},
     "output_type": "execute_result"
    }
   ],
   "source": [
    "runs.mean()"
   ]
  },
  {
   "cell_type": "code",
   "execution_count": 123,
   "id": "3a2652ef-1033-468e-a3dc-efe78b1c0115",
   "metadata": {},
   "outputs": [
    {
     "data": {
      "text/plain": [
       "50.92307692307692"
      ]
     },
     "execution_count": 123,
     "metadata": {},
     "output_type": "execute_result"
    }
   ],
   "source": [
    "np.mean(runs)"
   ]
  },
  {
   "cell_type": "markdown",
   "id": "43fac34f-c09e-40a3-8bf8-81674afcf19b",
   "metadata": {},
   "source": [
    "Median"
   ]
  },
  {
   "cell_type": "code",
   "execution_count": 125,
   "id": "c714a0ff-d1f4-4bb4-95a5-bb6d5ffecf08",
   "metadata": {},
   "outputs": [],
   "source": [
    "iq = np.array([103,105,100,84,95,115,88,98,101,99,110])"
   ]
  },
  {
   "cell_type": "code",
   "execution_count": 126,
   "id": "bf8cd042-b785-4434-a14f-87b72a226a2e",
   "metadata": {},
   "outputs": [
    {
     "data": {
      "text/plain": [
       "100.0"
      ]
     },
     "execution_count": 126,
     "metadata": {},
     "output_type": "execute_result"
    }
   ],
   "source": [
    "np.median(iq)"
   ]
  },
  {
   "cell_type": "markdown",
   "id": "ed11e233-bbc4-4591-88a5-3cb5da229ade",
   "metadata": {},
   "source": [
    "Mode"
   ]
  },
  {
   "cell_type": "code",
   "execution_count": 128,
   "id": "7e9587bf-3bc8-40f1-b5b6-607e5e20b883",
   "metadata": {},
   "outputs": [],
   "source": [
    "cars = ['R','W','W','Bk','W','R','G','W','W','Bl','Bk','W','R','W','Bk','G','Bl','W','R','R','Bl','W','W','Bk']"
   ]
  },
  {
   "cell_type": "code",
   "execution_count": 129,
   "id": "53bd30e5-e543-4c23-a031-3b07875a9c1d",
   "metadata": {},
   "outputs": [],
   "source": [
    "cars = pd.Series(cars)"
   ]
  },
  {
   "cell_type": "code",
   "execution_count": 130,
   "id": "f6026cd0-0826-459d-b164-c9e261e423bd",
   "metadata": {},
   "outputs": [
    {
     "data": {
      "text/plain": [
       "'W'"
      ]
     },
     "execution_count": 130,
     "metadata": {},
     "output_type": "execute_result"
    }
   ],
   "source": [
    "sts.mode(cars)"
   ]
  },
  {
   "cell_type": "markdown",
   "id": "9e4f56d8-d98d-4fb0-b05b-c4da59e1123b",
   "metadata": {},
   "source": [
    "Degree of change in mean, median and mode"
   ]
  },
  {
   "cell_type": "code",
   "execution_count": 132,
   "id": "24d44ef2-6774-40ea-945c-de62578c69d2",
   "metadata": {},
   "outputs": [],
   "source": [
    "runs = np.array([67,34,12,62,98,123,54,22,16,54,11,6,103])"
   ]
  },
  {
   "cell_type": "code",
   "execution_count": 133,
   "id": "cd8903e1-49ad-4972-9e9b-9d4a58a8cda7",
   "metadata": {},
   "outputs": [
    {
     "data": {
      "text/plain": [
       "50.92307692307692"
      ]
     },
     "execution_count": 133,
     "metadata": {},
     "output_type": "execute_result"
    }
   ],
   "source": [
    "runs.mean()"
   ]
  },
  {
   "cell_type": "code",
   "execution_count": 134,
   "id": "5356172e-c5cd-4722-b43b-500062a3d283",
   "metadata": {},
   "outputs": [
    {
     "data": {
      "text/plain": [
       "54.0"
      ]
     },
     "execution_count": 134,
     "metadata": {},
     "output_type": "execute_result"
    }
   ],
   "source": [
    "np.median(runs)"
   ]
  },
  {
   "cell_type": "code",
   "execution_count": 135,
   "id": "ce390edf-9ea2-4957-9300-f534f63dc2f7",
   "metadata": {},
   "outputs": [
    {
     "data": {
      "text/plain": [
       "54"
      ]
     },
     "execution_count": 135,
     "metadata": {},
     "output_type": "execute_result"
    }
   ],
   "source": [
    "sts.mode(runs)"
   ]
  },
  {
   "cell_type": "code",
   "execution_count": 136,
   "id": "4dd27161-cfbd-4f2a-86c3-033b716c75b0",
   "metadata": {},
   "outputs": [],
   "source": [
    "runs = np.array([67,34,12,62,98,123,54,22,16,54,11,6,103,225])"
   ]
  },
  {
   "cell_type": "code",
   "execution_count": 137,
   "id": "f2558ac0-4728-4dca-96fa-882197d87657",
   "metadata": {},
   "outputs": [
    {
     "data": {
      "text/plain": [
       "63.357142857142854"
      ]
     },
     "execution_count": 137,
     "metadata": {},
     "output_type": "execute_result"
    }
   ],
   "source": [
    "np.mean(runs)"
   ]
  },
  {
   "cell_type": "code",
   "execution_count": 138,
   "id": "7a21ba90-2ec3-4881-8bfe-b6ffc559006c",
   "metadata": {},
   "outputs": [
    {
     "data": {
      "text/plain": [
       "54"
      ]
     },
     "execution_count": 138,
     "metadata": {},
     "output_type": "execute_result"
    }
   ],
   "source": [
    "sts.mode(runs)"
   ]
  },
  {
   "cell_type": "code",
   "execution_count": 139,
   "id": "8c96e5b3-c5b7-4fed-82b5-79fc9218aecb",
   "metadata": {},
   "outputs": [
    {
     "data": {
      "text/plain": [
       "54.0"
      ]
     },
     "execution_count": 139,
     "metadata": {},
     "output_type": "execute_result"
    }
   ],
   "source": [
    "np.median(runs)"
   ]
  },
  {
   "cell_type": "markdown",
   "id": "b05bb57c-b446-483c-b961-1a89aebde6cb",
   "metadata": {},
   "source": [
    "<h4>Types of Dispersion</h4>"
   ]
  },
  {
   "cell_type": "markdown",
   "id": "a02e12b4-a785-46bc-9e4f-a5566dba438c",
   "metadata": {},
   "source": [
    "Mean Absolute Deviation"
   ]
  },
  {
   "cell_type": "code",
   "execution_count": 142,
   "id": "58629148-c2aa-4d8e-b0a6-03e7293c7637",
   "metadata": {},
   "outputs": [],
   "source": [
    "num = np.array([67,44,23,64,17,42,59,81,52])"
   ]
  },
  {
   "cell_type": "code",
   "execution_count": 143,
   "id": "78eb75bd-13ca-4c44-ae7c-528a24483a49",
   "metadata": {},
   "outputs": [],
   "source": [
    "mad = np.mean(abs(num - num.mean()))"
   ]
  },
  {
   "cell_type": "code",
   "execution_count": 144,
   "id": "bc67b085-6164-4510-9a2b-bec937dce34d",
   "metadata": {},
   "outputs": [
    {
     "data": {
      "text/plain": [
       "16.34567901234568"
      ]
     },
     "execution_count": 144,
     "metadata": {},
     "output_type": "execute_result"
    }
   ],
   "source": [
    "mad"
   ]
  },
  {
   "cell_type": "markdown",
   "id": "5341e320-e0df-4d2a-ba37-a51ac66653e4",
   "metadata": {},
   "source": [
    "Variance"
   ]
  },
  {
   "cell_type": "code",
   "execution_count": 146,
   "id": "7722eeb3-2cb6-4dfa-9247-0d487130bfae",
   "metadata": {},
   "outputs": [
    {
     "data": {
      "text/plain": [
       "383.2098765432099"
      ]
     },
     "execution_count": 146,
     "metadata": {},
     "output_type": "execute_result"
    }
   ],
   "source": [
    "variance = np.mean((num-num.mean())**2)\n",
    "variance"
   ]
  },
  {
   "cell_type": "code",
   "execution_count": 147,
   "id": "a7b9257c-fa06-4673-a196-44bf382469e6",
   "metadata": {},
   "outputs": [
    {
     "data": {
      "text/plain": [
       "383.2098765432099"
      ]
     },
     "execution_count": 147,
     "metadata": {},
     "output_type": "execute_result"
    }
   ],
   "source": [
    "num.var()"
   ]
  },
  {
   "cell_type": "markdown",
   "id": "e0d45140-31e9-4dc2-adc5-f51f9d3c721f",
   "metadata": {},
   "source": [
    "Standard Deviation"
   ]
  },
  {
   "cell_type": "code",
   "execution_count": 149,
   "id": "3a975cd5-a6b9-43f8-b9cb-44ac51c2919f",
   "metadata": {},
   "outputs": [
    {
     "data": {
      "text/plain": [
       "19.57574715159577"
      ]
     },
     "execution_count": 149,
     "metadata": {},
     "output_type": "execute_result"
    }
   ],
   "source": [
    "std = np.sqrt(np.mean((num-num.mean())**2))\n",
    "std"
   ]
  },
  {
   "cell_type": "code",
   "execution_count": 150,
   "id": "a1122597-c0b0-453d-9140-1e9c1a02a274",
   "metadata": {},
   "outputs": [
    {
     "data": {
      "text/plain": [
       "19.57574715159577"
      ]
     },
     "execution_count": 150,
     "metadata": {},
     "output_type": "execute_result"
    }
   ],
   "source": [
    "num.std()"
   ]
  },
  {
   "cell_type": "markdown",
   "id": "ed33e50d-f959-43c1-92e0-4b683e9cc5d0",
   "metadata": {},
   "source": [
    "Range"
   ]
  },
  {
   "cell_type": "code",
   "execution_count": 152,
   "id": "adcca475-3da9-4f57-acf0-604a7e25d78a",
   "metadata": {},
   "outputs": [
    {
     "data": {
      "text/plain": [
       "64"
      ]
     },
     "execution_count": 152,
     "metadata": {},
     "output_type": "execute_result"
    }
   ],
   "source": [
    "num.max() - num.min()"
   ]
  },
  {
   "cell_type": "markdown",
   "id": "6000a90d-1740-4548-92c8-a5993a40d7d7",
   "metadata": {},
   "source": [
    "Symmetrical Data (skewness = 0)"
   ]
  },
  {
   "cell_type": "code",
   "execution_count": 208,
   "id": "4b1c5639-512e-4a71-ad3c-3ad740e8be32",
   "metadata": {},
   "outputs": [],
   "source": [
    "iq = np.array([85,90,90,95,95,95,95,100,100,100,100,100,105,105,105,105,110,110,115])"
   ]
  },
  {
   "cell_type": "code",
   "execution_count": 210,
   "id": "b7b2f16b-d057-48e1-b7d0-481efaa00c0b",
   "metadata": {},
   "outputs": [
    {
     "data": {
      "text/plain": [
       "<Axes: ylabel='Density'>"
      ]
     },
     "execution_count": 210,
     "metadata": {},
     "output_type": "execute_result"
    },
    {
     "data": {
      "image/png": "[encoded data removed]",
      "text/plain": [
       "<Figure size 640x480 with 1 Axes>"
      ]
     },
     "metadata": {},
     "output_type": "display_data"
    }
   ],
   "source": [
    "sns.kdeplot(iq)"
   ]
  },
  {
   "cell_type": "code",
   "execution_count": 212,
   "id": "3fc6edf8-211d-4ae5-ac27-5441fd68360e",
   "metadata": {},
   "outputs": [
    {
     "data": {
      "text/plain": [
       "100.0"
      ]
     },
     "execution_count": 212,
     "metadata": {},
     "output_type": "execute_result"
    }
   ],
   "source": [
    "iq.mean()"
   ]
  },
  {
   "cell_type": "code",
   "execution_count": 214,
   "id": "9ab6ea64-f6e3-42ae-a98f-dc8bbd6d266e",
   "metadata": {},
   "outputs": [
    {
     "data": {
      "text/plain": [
       "100.0"
      ]
     },
     "execution_count": 214,
     "metadata": {},
     "output_type": "execute_result"
    }
   ],
   "source": [
    "np.median(iq)"
   ]
  },
  {
   "cell_type": "code",
   "execution_count": 216,
   "id": "ea7206f1-532f-4f78-a256-36ed6de87fde",
   "metadata": {},
   "outputs": [
    {
     "data": {
      "text/plain": [
       "100"
      ]
     },
     "execution_count": 216,
     "metadata": {},
     "output_type": "execute_result"
    }
   ],
   "source": [
    "sts.mode(iq)"
   ]
  },
  {
   "cell_type": "markdown",
   "id": "0588f8b6-df08-476c-a947-711c2b550ce3",
   "metadata": {},
   "source": [
    "Skewness"
   ]
  },
  {
   "cell_type": "code",
   "execution_count": 221,
   "id": "1338a4d3-7377-4c13-9719-491bd04c83d4",
   "metadata": {},
   "outputs": [],
   "source": [
    "from scipy.stats import skew"
   ]
  },
  {
   "cell_type": "code",
   "execution_count": 223,
   "id": "731d10e9-0721-4a2b-93c5-6ab77f886043",
   "metadata": {},
   "outputs": [
    {
     "data": {
      "text/plain": [
       "0.0"
      ]
     },
     "execution_count": 223,
     "metadata": {},
     "output_type": "execute_result"
    }
   ],
   "source": [
    "skew(iq)"
   ]
  },
  {
   "cell_type": "code",
   "execution_count": 225,
   "id": "38c96cc8-b5ba-439a-aa2d-5132961e4cec",
   "metadata": {},
   "outputs": [],
   "source": [
    "iq1 = np.array([95,95,95,95,95,95,95,100,100,100,100,100,105,105,105,105,110,110,115])"
   ]
  },
  {
   "cell_type": "code",
   "execution_count": 227,
   "id": "93add817-d048-44d0-af76-a7f98a2dc312",
   "metadata": {},
   "outputs": [
    {
     "data": {
      "text/plain": [
       "<Axes: ylabel='Density'>"
      ]
     },
     "execution_count": 227,
     "metadata": {},
     "output_type": "execute_result"
    },
    {
     "data": {
      "image/png": "[encoded data removed]",
      "text/plain": [
       "<Figure size 640x480 with 1 Axes>"
      ]
     },
     "metadata": {},
     "output_type": "display_data"
    }
   ],
   "source": [
    "sns.kdeplot(iq1)"
   ]
  },
  {
   "cell_type": "code",
   "execution_count": 232,
   "id": "ccea48a1-adac-4171-993a-474d8174e37f",
   "metadata": {},
   "outputs": [
    {
     "data": {
      "text/plain": [
       "0.6982180443186918"
      ]
     },
     "execution_count": 232,
     "metadata": {},
     "output_type": "execute_result"
    }
   ],
   "source": [
    "skew(iq1)"
   ]
  },
  {
   "cell_type": "code",
   "execution_count": 234,
   "id": "a8736113-9485-4857-879d-6b3b8d3d5da7",
   "metadata": {},
   "outputs": [
    {
     "data": {
      "text/plain": [
       "(95, 100.0, 101.05263157894737)"
      ]
     },
     "execution_count": 234,
     "metadata": {},
     "output_type": "execute_result"
    }
   ],
   "source": [
    "sts.mode(iq1), np.median(iq1), np.mean(iq1)"
   ]
  },
  {
   "cell_type": "code",
   "execution_count": 252,
   "id": "b4a3970f-21e4-48cf-869d-9efaf7e95bbb",
   "metadata": {},
   "outputs": [],
   "source": [
    "iq2 = np.array([85,90,90,95,95,95,95,100,100,100,100,100,105,105,105,105,105,105,105])"
   ]
  },
  {
   "cell_type": "code",
   "execution_count": 254,
   "id": "42f07021-ee08-4bb9-80c3-144193bf7df1",
   "metadata": {},
   "outputs": [
    {
     "data": {
      "text/plain": [
       "<Axes: ylabel='Density'>"
      ]
     },
     "execution_count": 254,
     "metadata": {},
     "output_type": "execute_result"
    },
    {
     "data": {
      "image/png": "[encoded data removed]",
      "text/plain": [
       "<Figure size 640x480 with 1 Axes>"
      ]
     },
     "metadata": {},
     "output_type": "display_data"
    }
   ],
   "source": [
    "sns.kdeplot(iq2)"
   ]
  },
  {
   "cell_type": "code",
   "execution_count": 256,
   "id": "fc3c5b19-f56b-49e4-9bde-c195d9522cb0",
   "metadata": {},
   "outputs": [
    {
     "data": {
      "text/plain": [
       "-0.6982180443186915"
      ]
     },
     "execution_count": 256,
     "metadata": {},
     "output_type": "execute_result"
    }
   ],
   "source": [
    "skew(iq2)"
   ]
  },
  {
   "cell_type": "code",
   "execution_count": 258,
   "id": "178ac19f-ea4a-455f-9c8b-d0229176dbc9",
   "metadata": {},
   "outputs": [
    {
     "data": {
      "text/plain": [
       "(105, 100.0, 98.94736842105263)"
      ]
     },
     "execution_count": 258,
     "metadata": {},
     "output_type": "execute_result"
    }
   ],
   "source": [
    "sts.mode(iq2), np.median(iq2), np.mean(iq2)"
   ]
  },
  {
   "cell_type": "markdown",
   "id": "89dbc6ea-e75c-427a-ab7b-1248c04440ae",
   "metadata": {},
   "source": [
    "Kurtosis"
   ]
  },
  {
   "cell_type": "code",
   "execution_count": 261,
   "id": "01686b8c-e93c-4712-af89-763dd30bcb5c",
   "metadata": {},
   "outputs": [],
   "source": [
    "iq = np.array([85,90,90,95,95,95,100,100,100,100,105,105,105,110,110,115])"
   ]
  },
  {
   "cell_type": "code",
   "execution_count": 263,
   "id": "4d1c460b-ec74-48a7-8099-d1fc40c6e4c3",
   "metadata": {},
   "outputs": [],
   "source": [
    "from scipy.stats import kurtosis"
   ]
  },
  {
   "cell_type": "code",
   "execution_count": 265,
   "id": "94447304-b314-4cf6-b31d-268ed08d5d29",
   "metadata": {},
   "outputs": [
    {
     "data": {
      "text/plain": [
       "-0.6800000000000002"
      ]
     },
     "execution_count": 265,
     "metadata": {},
     "output_type": "execute_result"
    }
   ],
   "source": [
    "kurtosis(iq)"
   ]
  },
  {
   "cell_type": "code",
   "execution_count": 267,
   "id": "a391d18f-7ea6-416f-ab89-72611704e770",
   "metadata": {},
   "outputs": [],
   "source": [
    "iq3 = np.array([85,90,90,100,100,100,100,100,100,100,100,100,100,110,110,115])"
   ]
  },
  {
   "cell_type": "code",
   "execution_count": 269,
   "id": "c2f8f9a7-082c-418f-b159-6d973feaa864",
   "metadata": {},
   "outputs": [
    {
     "data": {
      "text/plain": [
       "0.12802768166089962"
      ]
     },
     "execution_count": 269,
     "metadata": {},
     "output_type": "execute_result"
    }
   ],
   "source": [
    "kurtosis(iq3)"
   ]
  },
  {
   "cell_type": "code",
   "execution_count": 271,
   "id": "434f2dd0-af5a-46a4-82a8-19202ce088fa",
   "metadata": {},
   "outputs": [],
   "source": [
    "iq4 = np.array([85,90,90,95,95,95,98,99,101,102,105,105,105,110,110,115])"
   ]
  },
  {
   "cell_type": "code",
   "execution_count": 273,
   "id": "ff932d62-e6d5-4d22-8af0-3996030eb6ca",
   "metadata": {},
   "outputs": [
    {
     "data": {
      "text/plain": [
       "-0.7251798843250663"
      ]
     },
     "execution_count": 273,
     "metadata": {},
     "output_type": "execute_result"
    }
   ],
   "source": [
    "kurtosis(iq4)"
   ]
  },
  {
   "cell_type": "code",
   "execution_count": 277,
   "id": "faa43233-5f76-4aef-a56a-f1f6e3ace4b2",
   "metadata": {},
   "outputs": [
    {
     "data": {
      "text/plain": [
       "<Axes: ylabel='Density'>"
      ]
     },
     "execution_count": 277,
     "metadata": {},
     "output_type": "execute_result"
    },
    {
     "data": {
      "image/png": "[encoded data removed]",
      "text/plain": [
       "<Figure size 640x480 with 1 Axes>"
      ]
     },
     "metadata": {},
     "output_type": "display_data"
    }
   ],
   "source": [
    "sns.kdeplot(iq3)\n",
    "sns.kdeplot(iq)\n",
    "sns.kdeplot(iq4)"
   ]
  }
 ],
 "metadata": {
  "kernelspec": {
   "display_name": "Python 3 (ipykernel)",
   "language": "python",
   "name": "python3"
  },
  "language_info": {
   "codemirror_mode": {
    "name": "ipython",
    "version": 3
   },
   "file_extension": ".py",
   "mimetype": "text/x-python",
   "name": "python",
   "nbconvert_exporter": "python",
   "pygments_lexer": "ipython3",
   "version": "3.12.4"
  }
 },
 "nbformat": 4,
 "nbformat_minor": 5
}
