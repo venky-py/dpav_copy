{
 "cells": [
  {
   "cell_type": "code",
   "execution_count": 1,
   "id": "35b2fa2f-de57-4437-bed8-4e6a8f68eeba",
   "metadata": {},
   "outputs": [],
   "source": [
    "import pandas as pd\n",
    "import numpy as np\n",
    "import matplotlib.pyplot as plt"
   ]
  },
  {
   "cell_type": "code",
   "execution_count": 3,
   "id": "5bb203f4-1ba8-4f18-9657-eff04c34b026",
   "metadata": {},
   "outputs": [],
   "source": [
    "from scipy import stats"
   ]
  },
  {
   "cell_type": "code",
   "execution_count": 5,
   "id": "49a3eefe-fe31-4c60-ab46-3b91f9db0e06",
   "metadata": {},
   "outputs": [],
   "source": [
    "# Given values for the z -test\n",
    "mean_new_drug = 10 # mean improvement for new drug group\n",
    "mean_placebo= 5   # mean improvement for placebo group\n",
    "std_new_drug= 5 # standard deviation for new drug group\n",
    "std_placebo = 5 # standard deviation for placebo group\n",
    "n_new_drug = 50 # sample size for new drug group\n",
    "n_placebo= 50 # sample size for placebo group"
   ]
  },
  {
   "cell_type": "code",
   "execution_count": 9,
   "id": "75b36727-481b-489e-912e-827f0b3c3b32",
   "metadata": {},
   "outputs": [],
   "source": [
    "# calculate the Z- score\n",
    "z= (mean_new_drug-mean_placebo)/np.sqrt((std_new_drug**2/n_new_drug)+(std_placebo**2/n_placebo))"
   ]
  },
  {
   "cell_type": "code",
   "execution_count": 11,
   "id": "ab226c20-bef6-4d7a-b308-2c8d8efae47d",
   "metadata": {},
   "outputs": [],
   "source": [
    "# calculate the p-value(two-tailed test)\n",
    "p_value=2*(1-stats.norm.cdf(abs(z)))"
   ]
  },
  {
   "cell_type": "code",
   "execution_count": 13,
   "id": "0d8f45ca-36d5-4342-b5b9-3d9b686649a7",
   "metadata": {},
   "outputs": [
    {
     "name": "stdout",
     "output_type": "stream",
     "text": [
      "Z-score:5.0\n",
      "P-value:5.733031438470704e-07\n"
     ]
    }
   ],
   "source": [
    "# output the results\n",
    "print(f\"Z-score:{z}\")\n",
    "print(f\"P-value:{p_value}\")"
   ]
  },
  {
   "cell_type": "code",
   "execution_count": 15,
   "id": "d4633046-fce9-4f78-92ca-c72459b54892",
   "metadata": {},
   "outputs": [
    {
     "name": "stdout",
     "output_type": "stream",
     "text": [
      "Rejected the null hypothesis (there is a significant difference between the groups)\n"
     ]
    }
   ],
   "source": [
    "#Decision based on a significance level (alpha)\n",
    "alpha = 0.05\n",
    "if p_value < alpha:\n",
    "    print(\"Rejected the null hypothesis (there is a significant difference between the groups)\")\n",
    "else:\n",
    "    print(\"Fail to reject the null hypothesis (no significant difference between the groups)\")"
   ]
  },
  {
   "cell_type": "code",
   "execution_count": 23,
   "id": "c06b4abf-56be-489f-85e7-b52e894329f0",
   "metadata": {},
   "outputs": [],
   "source": [
    "# sample data- Average population weight in kgs\n",
    "data = [78,62,80,75,61,74,79,93,77,95,67,88,54,69]"
   ]
  },
  {
   "cell_type": "code",
   "execution_count": 25,
   "id": "99976d72-8e97-473d-b061-366afbb61e1e",
   "metadata": {},
   "outputs": [],
   "source": [
    "# Define the null hypothesis (average population weight =80)\n",
    "null_mean= 80"
   ]
  },
  {
   "cell_type": "code",
   "execution_count": 27,
   "id": "5891529d-5a05-47fe-b57e-432ae6363eb3",
   "metadata": {},
   "outputs": [
    {
     "data": {
      "text/plain": [
       "14"
      ]
     },
     "execution_count": 27,
     "metadata": {},
     "output_type": "execute_result"
    }
   ],
   "source": [
    "len(data)"
   ]
  },
  {
   "cell_type": "code",
   "execution_count": 29,
   "id": "9afebc3d-214f-4bfe-a1e2-44571b5db4d6",
   "metadata": {},
   "outputs": [],
   "source": [
    "#Calculate the sample mean and standard deviation\n",
    "sample_mean=np.mean(data)\n",
    "sample_std=np.std(data)"
   ]
  },
  {
   "cell_type": "code",
   "execution_count": 31,
   "id": "b476a72e-4bae-4477-9e21-6b47da4d29fe",
   "metadata": {},
   "outputs": [
    {
     "data": {
      "text/plain": [
       "75.14285714285714"
      ]
     },
     "execution_count": 31,
     "metadata": {},
     "output_type": "execute_result"
    }
   ],
   "source": [
    "sample_mean"
   ]
  },
  {
   "cell_type": "code",
   "execution_count": 33,
   "id": "ea178e1b-dec2-4d66-80f9-7a5fe3ff8292",
   "metadata": {},
   "outputs": [
    {
     "data": {
      "text/plain": [
       "11.506874608915581"
      ]
     },
     "execution_count": 33,
     "metadata": {},
     "output_type": "execute_result"
    }
   ],
   "source": [
    "sample_std"
   ]
  },
  {
   "cell_type": "code",
   "execution_count": 35,
   "id": "cc972313-377c-4903-bdf7-c0c341f2f963",
   "metadata": {},
   "outputs": [],
   "source": [
    "# calculate the z -score \n",
    "z_score= (sample_mean-null_mean)/sample_std"
   ]
  },
  {
   "cell_type": "code",
   "execution_count": 37,
   "id": "2a1c4c98-300f-4cb8-b0b2-a1fb4b8c39da",
   "metadata": {},
   "outputs": [
    {
     "data": {
      "text/plain": [
       "-0.4221079156784696"
      ]
     },
     "execution_count": 37,
     "metadata": {},
     "output_type": "execute_result"
    }
   ],
   "source": [
    "z_score"
   ]
  },
  {
   "cell_type": "code",
   "execution_count": 41,
   "id": "b86fa9b8-9ca7-48b9-960b-1e9097b30c27",
   "metadata": {},
   "outputs": [],
   "source": [
    "# Calculate the two-tailed p-value using z-score\n",
    "p_value= 2*(1-stats.norm.cdf(abs(z_score)))"
   ]
  },
  {
   "cell_type": "code",
   "execution_count": 43,
   "id": "eed0360e-b88f-433e-98d8-9dec678821b6",
   "metadata": {},
   "outputs": [
    {
     "data": {
      "text/plain": [
       "0.6729462504556214"
      ]
     },
     "execution_count": 43,
     "metadata": {},
     "output_type": "execute_result"
    }
   ],
   "source": [
    "p_value"
   ]
  },
  {
   "cell_type": "code",
   "execution_count": 45,
   "id": "6f2eb144-4110-48d1-89b0-6074195bf445",
   "metadata": {},
   "outputs": [],
   "source": [
    "# Define significance level (alpha)- commonly used value is 0.05 (5%)\n",
    "alpha = 0.05"
   ]
  },
  {
   "cell_type": "code",
   "execution_count": 47,
   "id": "6818223d-9b30-4838-b590-54d8f44782a4",
   "metadata": {},
   "outputs": [
    {
     "name": "stdout",
     "output_type": "stream",
     "text": [
      "Fail to reject the null hypothesis. There is not enough evidence to conclusion the average weight is statistically different from 80 at a significant level of 0.05\n"
     ]
    }
   ],
   "source": [
    "# Interpretation\n",
    "if p_value < alpha:\n",
    "    print(\"Reject the null hypothesis. The average weight is statistically different from 80 at a significance level of \",alpha)\n",
    "else:\n",
    "    print(\"Fail to reject the null hypothesis. There is not enough evidence to conclusion the average weight is statistically different from 80 at a significant level of\", alpha)"
   ]
  },
  {
   "cell_type": "code",
   "execution_count": 49,
   "id": "e5a4c210-e97d-49da-80ef-b4d3b078971c",
   "metadata": {},
   "outputs": [],
   "source": [
    "from statsmodels.stats.weightstats import ztest"
   ]
  },
  {
   "cell_type": "code",
   "execution_count": 51,
   "id": "ea14172e-0638-4704-8c0c-ac078eb30cdf",
   "metadata": {},
   "outputs": [],
   "source": [
    "# enter IQ levels for 20 patients\n",
    "data =[88,92,94,94,96,97,97,97,99,99,\n",
    "      105,109,109,109,110,112,112,113,114,115]"
   ]
  },
  {
   "cell_type": "code",
   "execution_count": 53,
   "id": "c211a22f-2758-4cc2-8335-9e6c60e0a1e1",
   "metadata": {},
   "outputs": [
    {
     "data": {
      "text/plain": [
       "(1.5976240527147705, 0.1101266701438426)"
      ]
     },
     "execution_count": 53,
     "metadata": {},
     "output_type": "execute_result"
    }
   ],
   "source": [
    "# perform one sample z-test\n",
    "ztest(data, value=100)"
   ]
  },
  {
   "cell_type": "markdown",
   "id": "ffe067d7-b152-4b6e-a1d9-83556ddb7258",
   "metadata": {},
   "source": [
    "The test statistic for the one sample z-test is 1.5976 and the corresponding p-value is 0.1101.\n",
    "Since this p-value is not less than 0.05, we do not have sufficient evidence to reject the null hypothesis.\n",
    "In other words, the new drug does not significantly affect IQ level."
   ]
  },
  {
   "cell_type": "code",
   "execution_count": 57,
   "id": "3f26b05f-b6fc-44a3-84c8-edbc1aeaa0d7",
   "metadata": {},
   "outputs": [],
   "source": [
    "# Chi-Square test"
   ]
  },
  {
   "cell_type": "code",
   "execution_count": 59,
   "id": "0e5e1e5c-1a35-4955-a266-132cc84b22c5",
   "metadata": {},
   "outputs": [],
   "source": [
    "from scipy.stats import chi2_contingency\n",
    "import numpy as np"
   ]
  },
  {
   "cell_type": "code",
   "execution_count": 61,
   "id": "40ee836d-8f51-4576-b23b-03cd966f4ac4",
   "metadata": {},
   "outputs": [],
   "source": [
    "# defining the table\n",
    "data = np.array([[207,282,241],[234,242,232]])"
   ]
  },
  {
   "cell_type": "code",
   "execution_count": 63,
   "id": "dc2a97cb-f52b-4b9b-b617-ae207fac69f0",
   "metadata": {},
   "outputs": [
    {
     "data": {
      "text/plain": [
       "array([[207, 282, 241],\n",
       "       [234, 242, 232]])"
      ]
     },
     "execution_count": 63,
     "metadata": {},
     "output_type": "execute_result"
    }
   ],
   "source": [
    "data"
   ]
  },
  {
   "cell_type": "code",
   "execution_count": 65,
   "id": "8b656ddd-26c5-44c9-ae47-30932521f7b9",
   "metadata": {},
   "outputs": [
    {
     "data": {
      "text/plain": [
       "array([441, 524, 473])"
      ]
     },
     "execution_count": 65,
     "metadata": {},
     "output_type": "execute_result"
    }
   ],
   "source": [
    "data.sum(axis=0)"
   ]
  },
  {
   "cell_type": "code",
   "execution_count": 67,
   "id": "4339b489-52ab-4547-96c5-15cedd757418",
   "metadata": {},
   "outputs": [
    {
     "data": {
      "text/plain": [
       "array([730, 708])"
      ]
     },
     "execution_count": 67,
     "metadata": {},
     "output_type": "execute_result"
    }
   ],
   "source": [
    "data.sum(axis=1)"
   ]
  },
  {
   "cell_type": "code",
   "execution_count": 69,
   "id": "f414a823-6863-499e-886c-433f5f20cbfa",
   "metadata": {},
   "outputs": [],
   "source": [
    "stat, p, dof, expected = chi2_contingency(data)"
   ]
  },
  {
   "cell_type": "code",
   "execution_count": 71,
   "id": "b2cf8f70-af4c-4b8b-814a-1b26014dfc17",
   "metadata": {},
   "outputs": [
    {
     "data": {
      "text/plain": [
       "2"
      ]
     },
     "execution_count": 71,
     "metadata": {},
     "output_type": "execute_result"
    }
   ],
   "source": [
    "dof"
   ]
  },
  {
   "cell_type": "code",
   "execution_count": 73,
   "id": "c384a157-ccec-444b-a892-775e4f214caa",
   "metadata": {},
   "outputs": [
    {
     "data": {
      "text/plain": [
       "4.542228269825232"
      ]
     },
     "execution_count": 73,
     "metadata": {},
     "output_type": "execute_result"
    }
   ],
   "source": [
    "stat"
   ]
  },
  {
   "cell_type": "code",
   "execution_count": 75,
   "id": "5451606d-d40a-4e4d-aef0-15871d507360",
   "metadata": {},
   "outputs": [
    {
     "data": {
      "text/plain": [
       "0.1031971404730939"
      ]
     },
     "execution_count": 75,
     "metadata": {},
     "output_type": "execute_result"
    }
   ],
   "source": [
    "p"
   ]
  },
  {
   "cell_type": "code",
   "execution_count": 77,
   "id": "351d42db-f795-4d12-b870-b95de51e0ea9",
   "metadata": {},
   "outputs": [
    {
     "data": {
      "text/plain": [
       "array([[223.87343533, 266.00834492, 240.11821975],\n",
       "       [217.12656467, 257.99165508, 232.88178025]])"
      ]
     },
     "execution_count": 77,
     "metadata": {},
     "output_type": "execute_result"
    }
   ],
   "source": [
    "expected"
   ]
  },
  {
   "cell_type": "code",
   "execution_count": 81,
   "id": "b47ea630-7f50-4427-8b0b-1f1ef754c9d6",
   "metadata": {},
   "outputs": [
    {
     "name": "stdout",
     "output_type": "stream",
     "text": [
      "p value is 0.1031971404730939\n",
      "Independent (H0 holds true)\n"
     ]
    }
   ],
   "source": [
    "# interpret p-value\n",
    "alpha = 0.05\n",
    "print(\"p value is \"+ str(p))\n",
    "if p <= alpha:\n",
    "    print('dependent (reject H0)')\n",
    "else:\n",
    "    print('Independent (H0 holds true)')"
   ]
  },
  {
   "cell_type": "code",
   "execution_count": 83,
   "id": "756102e1-54bd-4d7d-bd3c-c9a58779f3bb",
   "metadata": {},
   "outputs": [],
   "source": [
    "data1 = np.array([[5,10,5],\n",
    "                  [15,5,0],\n",
    "                  [5,10,15]])"
   ]
  },
  {
   "cell_type": "code",
   "execution_count": 85,
   "id": "7700946e-b4ec-4d47-96a0-b400c27a0ea3",
   "metadata": {},
   "outputs": [
    {
     "data": {
      "text/plain": [
       "array([[ 5, 10,  5],\n",
       "       [15,  5,  0],\n",
       "       [ 5, 10, 15]])"
      ]
     },
     "execution_count": 85,
     "metadata": {},
     "output_type": "execute_result"
    }
   ],
   "source": [
    "data1"
   ]
  },
  {
   "cell_type": "code",
   "execution_count": 101,
   "id": "a54357a6-a784-4046-84b3-99ead27356e6",
   "metadata": {},
   "outputs": [
    {
     "data": {
      "text/plain": [
       "array([25, 25, 20])"
      ]
     },
     "execution_count": 101,
     "metadata": {},
     "output_type": "execute_result"
    }
   ],
   "source": [
    "data1.sum(axis=0)"
   ]
  },
  {
   "cell_type": "code",
   "execution_count": 103,
   "id": "1c8a7427-0f97-4108-9350-454dbe4bd260",
   "metadata": {},
   "outputs": [
    {
     "data": {
      "text/plain": [
       "array([20, 20, 30])"
      ]
     },
     "execution_count": 103,
     "metadata": {},
     "output_type": "execute_result"
    }
   ],
   "source": [
    "data1.sum(axis=1)"
   ]
  },
  {
   "cell_type": "code",
   "execution_count": 89,
   "id": "f280b4da-fe10-499e-9ded-703807aae300",
   "metadata": {},
   "outputs": [],
   "source": [
    "stat, p, dof, expected = chi2_contingency(data1)"
   ]
  },
  {
   "cell_type": "code",
   "execution_count": 93,
   "id": "6b53ba7b-2c88-4401-b851-03370d1dae4d",
   "metadata": {},
   "outputs": [
    {
     "data": {
      "text/plain": [
       "24.791666666666668"
      ]
     },
     "execution_count": 93,
     "metadata": {},
     "output_type": "execute_result"
    }
   ],
   "source": [
    "stat"
   ]
  },
  {
   "cell_type": "code",
   "execution_count": 95,
   "id": "1372c55c-4cfa-41af-a1b8-a8ba8d7c2067",
   "metadata": {},
   "outputs": [
    {
     "data": {
      "text/plain": [
       "5.540229051644113e-05"
      ]
     },
     "execution_count": 95,
     "metadata": {},
     "output_type": "execute_result"
    }
   ],
   "source": [
    "p"
   ]
  },
  {
   "cell_type": "code",
   "execution_count": 97,
   "id": "52e83611-132c-44e6-a0ef-beeb4d8cde04",
   "metadata": {},
   "outputs": [
    {
     "data": {
      "text/plain": [
       "4"
      ]
     },
     "execution_count": 97,
     "metadata": {},
     "output_type": "execute_result"
    }
   ],
   "source": [
    "dof"
   ]
  },
  {
   "cell_type": "code",
   "execution_count": 99,
   "id": "bb8c273a-6f49-4177-9d58-e322c07a0409",
   "metadata": {},
   "outputs": [
    {
     "data": {
      "text/plain": [
       "array([[ 7.14285714,  7.14285714,  5.71428571],\n",
       "       [ 7.14285714,  7.14285714,  5.71428571],\n",
       "       [10.71428571, 10.71428571,  8.57142857]])"
      ]
     },
     "execution_count": 99,
     "metadata": {},
     "output_type": "execute_result"
    }
   ],
   "source": [
    "expected"
   ]
  },
  {
   "cell_type": "code",
   "execution_count": 91,
   "id": "0352ca40-743a-4e9b-a73c-9b7f078b362a",
   "metadata": {},
   "outputs": [
    {
     "name": "stdout",
     "output_type": "stream",
     "text": [
      "p value is 5.540229051644113e-05\n",
      "dependent (reject H0)\n"
     ]
    }
   ],
   "source": [
    "alpha = 0.05\n",
    "print(\"p value is \"+ str(p))\n",
    "if p <= alpha:\n",
    "    print('dependent (reject H0)')\n",
    "else:\n",
    "    print('Independent (H0 holds true)')"
   ]
  },
  {
   "cell_type": "code",
   "execution_count": 105,
   "id": "8d568882-c35f-4bc8-936b-be0761da54e6",
   "metadata": {},
   "outputs": [],
   "source": [
    "data2 = np.array([[15,5,5],\n",
    "                  [10,10,15],\n",
    "                  [2,3,5]])"
   ]
  },
  {
   "cell_type": "code",
   "execution_count": 107,
   "id": "a3dd1126-1b7c-4a4d-811f-e85e5793472f",
   "metadata": {},
   "outputs": [],
   "source": [
    "stat, p, dof, expected = chi2_contingency(data2)"
   ]
  },
  {
   "cell_type": "code",
   "execution_count": 109,
   "id": "edcde6de-b92e-4ee7-9cfa-63aa0c1468c8",
   "metadata": {},
   "outputs": [
    {
     "data": {
      "text/plain": [
       "8.07777777777778"
      ]
     },
     "execution_count": 109,
     "metadata": {},
     "output_type": "execute_result"
    }
   ],
   "source": [
    "stat"
   ]
  },
  {
   "cell_type": "code",
   "execution_count": 111,
   "id": "55b9ad8d-171c-44c6-a20c-1c391129d16c",
   "metadata": {},
   "outputs": [
    {
     "data": {
      "text/plain": [
       "0.08877028710376675"
      ]
     },
     "execution_count": 111,
     "metadata": {},
     "output_type": "execute_result"
    }
   ],
   "source": [
    "p"
   ]
  },
  {
   "cell_type": "code",
   "execution_count": 113,
   "id": "0f4ba65a-2451-46ef-8255-0ecdcff35724",
   "metadata": {},
   "outputs": [
    {
     "data": {
      "text/plain": [
       "4"
      ]
     },
     "execution_count": 113,
     "metadata": {},
     "output_type": "execute_result"
    }
   ],
   "source": [
    "dof"
   ]
  },
  {
   "cell_type": "code",
   "execution_count": 115,
   "id": "fc2e7be4-dd14-4dab-9c4f-9877ebbcf9c3",
   "metadata": {},
   "outputs": [
    {
     "data": {
      "text/plain": [
       "array([[ 9.64285714,  6.42857143,  8.92857143],\n",
       "       [13.5       ,  9.        , 12.5       ],\n",
       "       [ 3.85714286,  2.57142857,  3.57142857]])"
      ]
     },
     "execution_count": 115,
     "metadata": {},
     "output_type": "execute_result"
    }
   ],
   "source": [
    "expected"
   ]
  },
  {
   "cell_type": "code",
   "execution_count": 117,
   "id": "8c18fd35-032a-41b1-94ad-4603a47eb2c5",
   "metadata": {},
   "outputs": [
    {
     "name": "stdout",
     "output_type": "stream",
     "text": [
      "p value is 0.08877028710376675\n",
      "Independent (H0 holds true)\n"
     ]
    }
   ],
   "source": [
    "alpha = 0.05\n",
    "print(\"p value is \"+ str(p))\n",
    "if p <= alpha:\n",
    "    print('dependent (reject H0)')\n",
    "else:\n",
    "    print('Independent (H0 holds true)')"
   ]
  },
  {
   "cell_type": "code",
   "execution_count": 121,
   "id": "9d2256aa-28f3-432d-978e-dbe778ab6534",
   "metadata": {},
   "outputs": [],
   "source": [
    "data3 = np.array([[20,5],\n",
    "                  [10,15]])"
   ]
  },
  {
   "cell_type": "code",
   "execution_count": 123,
   "id": "4cf3beda-c2a8-4a6a-b4e1-c4a2e7fdf6af",
   "metadata": {},
   "outputs": [],
   "source": [
    "stat, p, dof, expected = chi2_contingency(data3)"
   ]
  },
  {
   "cell_type": "code",
   "execution_count": 129,
   "id": "f35b5f6f-8641-4807-8544-4af62c4589bb",
   "metadata": {},
   "outputs": [
    {
     "data": {
      "text/plain": [
       "6.75"
      ]
     },
     "execution_count": 129,
     "metadata": {},
     "output_type": "execute_result"
    }
   ],
   "source": [
    "stat"
   ]
  },
  {
   "cell_type": "code",
   "execution_count": 125,
   "id": "4b88f41f-c6bf-49fa-b607-0d9ecc886ead",
   "metadata": {},
   "outputs": [
    {
     "data": {
      "text/plain": [
       "0.0093747684594349"
      ]
     },
     "execution_count": 125,
     "metadata": {},
     "output_type": "execute_result"
    }
   ],
   "source": [
    "p"
   ]
  },
  {
   "cell_type": "code",
   "execution_count": 127,
   "id": "cbc0a8ca-ebe5-4c7a-a72c-9f9afe1d462f",
   "metadata": {},
   "outputs": [
    {
     "name": "stdout",
     "output_type": "stream",
     "text": [
      "p value is 0.0093747684594349\n",
      "dependent (reject H0)\n"
     ]
    }
   ],
   "source": [
    "alpha = 0.05\n",
    "print(\"p value is \"+ str(p))\n",
    "if p <= alpha:\n",
    "    print('dependent (reject H0)')\n",
    "else:\n",
    "    print('Independent (H0 holds true)')"
   ]
  }
 ],
 "metadata": {
  "kernelspec": {
   "display_name": "Python 3 (ipykernel)",
   "language": "python",
   "name": "python3"
  },
  "language_info": {
   "codemirror_mode": {
    "name": "ipython",
    "version": 3
   },
   "file_extension": ".py",
   "mimetype": "text/x-python",
   "name": "python",
   "nbconvert_exporter": "python",
   "pygments_lexer": "ipython3",
   "version": "3.12.4"
  }
 },
 "nbformat": 4,
 "nbformat_minor": 5
}
