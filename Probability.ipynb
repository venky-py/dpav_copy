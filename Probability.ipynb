{
 "cells": [
  {
   "cell_type": "markdown",
   "id": "c61b0c23-ab10-491c-8de1-4170cc3abc6e",
   "metadata": {},
   "source": [
    "Theoritical Probability"
   ]
  },
  {
   "cell_type": "code",
   "execution_count": 2,
   "id": "e74d4a1e-5101-4776-8880-19d0745ff62f",
   "metadata": {},
   "outputs": [],
   "source": [
    "def coin_flip_probability():\n",
    "    # Calculates the probability of head in a fair coin flip.\n",
    "    heads_probability =1/2\n",
    "    return heads_probability"
   ]
  },
  {
   "cell_type": "code",
   "execution_count": 4,
   "id": "de0ca1e8-66a4-4fb1-9bf3-7cef1fd02ea6",
   "metadata": {},
   "outputs": [],
   "source": [
    "def rolling_dice_probability(number):\n",
    "    # Calculates the probability of rolling a specific number on a fair die.\n",
    "    if number not in range(1,7):\n",
    "        raise ValueError(\"Number must be between 1 and 6\")\n",
    "    probability =1/6\n",
    "    return probability"
   ]
  },
  {
   "cell_type": "code",
   "execution_count": 6,
   "id": "56fa5db7-a706-4e4d-bb1f-1dadb89feebe",
   "metadata": {},
   "outputs": [],
   "source": [
    "coin_flip_result= coin_flip_probability()\n",
    "rolling_dice_result= rolling_dice_probability(3)"
   ]
  },
  {
   "cell_type": "code",
   "execution_count": 10,
   "id": "f7b3de64-f235-4a11-9aef-8479732dff90",
   "metadata": {},
   "outputs": [
    {
     "name": "stdout",
     "output_type": "stream",
     "text": [
      "Coin flip probability: 0.5\n",
      "Rolling a dice probability: 0.17\n"
     ]
    }
   ],
   "source": [
    "print('Coin flip probability:', coin_flip_result)\n",
    "print('Rolling a dice probability: %.2f' %rolling_dice_result)"
   ]
  },
  {
   "cell_type": "markdown",
   "id": "9e83c154-aee6-4ab1-96e9-a0e4e99a05dd",
   "metadata": {},
   "source": [
    "Experimental probability"
   ]
  },
  {
   "cell_type": "code",
   "execution_count": 214,
   "id": "11a46f62-2413-46bd-9402-5b89f5f7cc2b",
   "metadata": {},
   "outputs": [],
   "source": [
    "import numpy as np\n",
    "import pandas as pd\n",
    "import matplotlib.pyplot as plt\n",
    "import seaborn as sns"
   ]
  },
  {
   "cell_type": "code",
   "execution_count": 31,
   "id": "009b7c6f-7484-4d55-80d0-79c7eb5441cb",
   "metadata": {},
   "outputs": [
    {
     "data": {
      "text/plain": [
       "'tails'"
      ]
     },
     "execution_count": 31,
     "metadata": {},
     "output_type": "execute_result"
    }
   ],
   "source": [
    "np.random.choice(['heads','tails'])"
   ]
  },
  {
   "cell_type": "code",
   "execution_count": 37,
   "id": "f078eb27-ebad-4879-9764-de4546c549ed",
   "metadata": {},
   "outputs": [],
   "source": [
    "def simulate_coin_flips(num_flips):\n",
    "    \"\"\"simulates coin flips and returns a list of results(head or tails)\"\"\"\n",
    "    results=[]\n",
    "    for _ in range(num_flips):\n",
    "        flip= np.random.choice([\"heads\",\"tails\"])\n",
    "        results.append(flip)\n",
    "    return results "
   ]
  },
  {
   "cell_type": "code",
   "execution_count": 45,
   "id": "e59e07a0-c70d-46fe-abaf-774a13c353b0",
   "metadata": {},
   "outputs": [
    {
     "data": {
      "text/plain": [
       "heads    514\n",
       "tails    486\n",
       "Name: count, dtype: int64"
      ]
     },
     "execution_count": 45,
     "metadata": {},
     "output_type": "execute_result"
    }
   ],
   "source": [
    "pd.Series(simulate_coin_flips(1000)).value_counts()"
   ]
  },
  {
   "cell_type": "code",
   "execution_count": 47,
   "id": "4bcf0dd1-fb8c-4359-9ffc-c86611c6ed75",
   "metadata": {},
   "outputs": [],
   "source": [
    "def calculate_experimental_probability(results, event):\n",
    "    # Calculates the experimental probability of aspecific event (heads or tails)\n",
    "    event_count=results.count(event)\n",
    "    total_flips=len(results)\n",
    "    probability=event_count/total_flips\n",
    "    return probability\n"
   ]
  },
  {
   "cell_type": "code",
   "execution_count": 53,
   "id": "f738c9e8-d72d-4ac1-a77b-b4d00fec4004",
   "metadata": {},
   "outputs": [
    {
     "data": {
      "text/plain": [
       "0.499572"
      ]
     },
     "execution_count": 53,
     "metadata": {},
     "output_type": "execute_result"
    }
   ],
   "source": [
    "results=simulate_coin_flips(1000)\n",
    "calculate_experimental_probability(results, 'tails')"
   ]
  },
  {
   "cell_type": "code",
   "execution_count": 55,
   "id": "e4fa6083-6c52-4347-a758-2006123c7540",
   "metadata": {},
   "outputs": [
    {
     "data": {
      "text/plain": [
       "'0'"
      ]
     },
     "execution_count": 55,
     "metadata": {},
     "output_type": "execute_result"
    }
   ],
   "source": [
    "np.random.choice([0,0,0,1,1,1,1,2,2,4,6,'W'])"
   ]
  },
  {
   "cell_type": "code",
   "execution_count": 59,
   "id": "a829d48c-7fe5-4d7d-873c-501b69670d23",
   "metadata": {},
   "outputs": [],
   "source": [
    "runs = [np.random.choice([0,0,0,1,1,1,1,2,2,4,6,'W']) for x in range(100)]"
   ]
  },
  {
   "cell_type": "code",
   "execution_count": 187,
   "id": "69d069b0-44d1-4f41-84bc-a897d00eea1c",
   "metadata": {},
   "outputs": [],
   "source": [
    "total = []\n",
    "for j in range(10):\n",
    "    runs = [np.random.choice([0,0,0,0,0,1,1,1,1,1,1,2,2,2,4,4,6,'W']) for x in range(100)]\n",
    "    sum = 0\n",
    "    for i in runs:\n",
    "        if i=='W':\n",
    "            break\n",
    "        else:\n",
    "            sum+=int(i)\n",
    "    total.append(sum)"
   ]
  },
  {
   "cell_type": "code",
   "execution_count": 189,
   "id": "f2cb3810-b672-45a6-a7de-21fab94863e6",
   "metadata": {},
   "outputs": [
    {
     "name": "stdout",
     "output_type": "stream",
     "text": [
      "Average: 27.3, \n",
      "Runs per match: [1, 26, 1, 8, 54, 59, 44, 73, 7, 0]\n"
     ]
    }
   ],
   "source": [
    "print(f\"Average: {np.sum(total)/10}, \\nRuns per match: {total}\")"
   ]
  },
  {
   "cell_type": "markdown",
   "id": "a67c5960-6e64-4390-a1c0-7167725f614c",
   "metadata": {},
   "source": [
    "Axiomatic Probability"
   ]
  },
  {
   "cell_type": "code",
   "execution_count": 193,
   "id": "37389f09-5353-4bb5-b64a-529a4a4ae9d3",
   "metadata": {},
   "outputs": [],
   "source": [
    "#sample space\n",
    "S= ['Heads','Tails']"
   ]
  },
  {
   "cell_type": "code",
   "execution_count": 195,
   "id": "22e91319-70b2-4ae1-b760-64f81a55c3f7",
   "metadata": {},
   "outputs": [],
   "source": [
    "#Define the probabilities of a events A and B\n",
    "P_A= 0.5 # Probability of getting Heads\n",
    "P_B= 0.5 # Probability of getting Tails"
   ]
  },
  {
   "cell_type": "code",
   "execution_count": 197,
   "id": "8e381f0b-858b-4e54-bb8d-8a2f90fb44c6",
   "metadata": {},
   "outputs": [],
   "source": [
    "# Axiom 1: Non-negativity\n",
    "assert P_A >= 0 and P_B >= 0, \"Axiom 1 (Non-negativity)violated\""
   ]
  },
  {
   "cell_type": "code",
   "execution_count": 199,
   "id": "4443a93d-9283-4e05-be12-831206c71786",
   "metadata": {},
   "outputs": [],
   "source": [
    "# Axiom 2: Unit Measure\n",
    "P_S= P_A+P_B\n",
    "assert P_S== 1 , \"Axiom 2 (Unit Measure)violated\"\n"
   ]
  },
  {
   "cell_type": "code",
   "execution_count": 201,
   "id": "816cebc4-524c-4f01-b9d1-160db650edc4",
   "metadata": {},
   "outputs": [],
   "source": [
    "#Axiom 3: Additivity (Since A and B are mutually exclusive)\n",
    "P_A_union_B= P_A + P_B\n",
    "assert P_A_union_B==P_S , \"Axiom 3 (Additivity)violated\"\n"
   ]
  },
  {
   "cell_type": "code",
   "execution_count": 203,
   "id": "722db24a-a82b-4e65-b46e-895a64a24641",
   "metadata": {},
   "outputs": [
    {
     "name": "stdout",
     "output_type": "stream",
     "text": [
      "All axioms of probability are satisfied.\n"
     ]
    }
   ],
   "source": [
    "#print the results\n",
    "print(\"All axioms of probability are satisfied.\")"
   ]
  },
  {
   "cell_type": "markdown",
   "id": "dcad3175-d8e4-4ea3-81d7-5426c5590dec",
   "metadata": {},
   "source": [
    "Normal Distribution"
   ]
  },
  {
   "cell_type": "code",
   "execution_count": 228,
   "id": "dc96dca1-28ef-4556-91f7-7adea8791faa",
   "metadata": {},
   "outputs": [],
   "source": [
    "normal_distribution = np.random.normal(0,1,1000)"
   ]
  },
  {
   "cell_type": "code",
   "execution_count": 230,
   "id": "584b6961-0f91-48c4-aa7e-ff8b069fbb17",
   "metadata": {},
   "outputs": [
    {
     "data": {
      "text/plain": [
       "array([-1.17543045e-01, -1.21873279e+00, -2.02791445e+00,  5.72351670e-01,\n",
       "       -6.18554923e-01,  8.26764538e-01,  9.79614094e-01,  3.49051365e-01,\n",
       "       -1.19791059e+00,  6.11022913e-01,  1.55260338e+00,  3.49412811e-01,\n",
       "       -1.19879894e-01, -1.55441750e+00,  2.55693669e-01,  6.52109969e-01,\n",
       "        1.44046992e-01,  1.52974060e+00, -9.27044433e-02, -8.39946926e-01,\n",
       "        4.90055212e-01, -1.40796181e+00, -9.00908751e-01,  1.92385119e+00,\n",
       "       -2.91736790e-01, -5.79054765e-01, -8.10840878e-01, -1.28927450e+00,\n",
       "        7.21353389e-01,  1.59119379e+00, -7.72439029e-02,  1.08788344e+00,\n",
       "        9.71570098e-01, -1.54056713e+00, -1.14614603e+00, -6.72310894e-01,\n",
       "       -2.48617874e-01,  1.82163941e+00,  1.65637940e+00, -2.73483804e-01,\n",
       "        2.39987296e+00, -1.00066297e+00,  1.11748080e+00, -4.52153994e-01,\n",
       "       -2.65393286e+00,  4.20471413e-01,  1.02191828e+00, -7.36365323e-01,\n",
       "       -3.05230206e-01,  1.36050380e-01, -8.75677978e-01, -3.51532499e-01,\n",
       "       -1.19093239e-02,  6.19842621e-01, -5.75492409e-01, -3.32151022e-01,\n",
       "        7.43883563e-01, -6.46325669e-01, -2.25598215e-01,  5.69296539e-01,\n",
       "        1.45786725e+00,  3.53692307e-02,  6.60730892e-01,  7.73186395e-01,\n",
       "       -3.59593394e-02, -3.47594333e-01, -6.32311799e-01, -1.76601596e+00,\n",
       "        4.62741971e-01, -9.82437673e-01, -8.50751822e-01, -5.57440021e-01,\n",
       "       -6.32658702e-01,  1.09155455e+00,  1.15014396e+00,  5.49132456e-01,\n",
       "        3.03301263e+00,  7.05697427e-01, -5.23887934e-01,  3.01029461e+00,\n",
       "       -1.43977268e+00, -7.07168960e-01,  6.40859782e-01,  2.11837077e-01,\n",
       "        1.60607285e-01,  7.67849506e-01, -5.24049149e-01,  4.01798384e-01,\n",
       "        4.27192243e-02, -1.58451257e+00, -1.30340830e+00, -3.89853575e-02,\n",
       "       -1.28063282e-01,  5.10299124e-01,  1.93064703e+00,  3.19423574e-01,\n",
       "       -5.36992014e-01, -6.03469507e-01,  1.19852214e-01,  1.06966450e+00,\n",
       "       -1.02319598e-01, -4.08531343e-01,  5.61530355e-01,  7.32309702e-01,\n",
       "        9.54648476e-01, -4.93012992e-01,  5.15753730e-01, -9.21491091e-01,\n",
       "        4.84990741e-01,  1.10670386e+00, -6.57700614e-01,  1.86434459e+00,\n",
       "       -2.13981018e+00, -5.04885035e-01,  3.07624405e-01,  4.74078671e-02,\n",
       "        8.53736552e-01, -4.48041667e-01,  1.18791747e+00, -1.17608668e+00,\n",
       "        6.16828608e-01, -7.48371695e-01,  6.89445592e-01, -5.65239065e-01,\n",
       "       -2.34519999e-01,  5.71653051e-01,  8.49978949e-01, -2.19419489e+00,\n",
       "        5.89041971e-01,  5.13220526e-01, -1.83338221e+00, -1.54796050e-02,\n",
       "        7.52916155e-01, -1.01079136e+00,  2.32569060e-01,  1.58925058e+00,\n",
       "       -7.10886873e-01,  1.49124864e+00,  8.22460806e-05,  5.67232589e-01,\n",
       "       -6.87494819e-01, -2.37422729e-01, -5.45718021e-01, -1.65876466e+00,\n",
       "        1.08554657e+00, -7.41141624e-01,  1.46532097e-01,  4.08397103e-01,\n",
       "       -2.45263313e-02, -3.37960394e-02, -1.04795802e+00, -1.17916443e+00,\n",
       "       -1.33099258e-01,  2.18378593e+00,  3.74548035e-01, -8.15238355e-01,\n",
       "        1.35598423e+00, -5.04464622e-01, -1.24757784e+00, -2.95602101e-01,\n",
       "        4.90887041e-01,  6.90475581e-01,  7.86074248e-01, -5.60403737e-01,\n",
       "       -6.46540677e-01, -8.30382425e-01, -3.48337179e-01,  1.29066358e-01,\n",
       "        2.79514740e-01, -3.02244054e-01,  2.88293531e-01,  6.01028035e-02,\n",
       "       -1.29225219e-01,  1.99605307e+00,  1.58941494e+00, -4.52275027e-01,\n",
       "       -2.27973823e+00,  2.32851786e-01, -3.21185466e-01, -1.10947369e+00,\n",
       "       -4.46552056e-01, -7.57356785e-01,  9.15467066e-01, -1.54844761e-01,\n",
       "        2.60676124e+00,  1.22352381e+00, -1.08025170e+00, -7.75557749e-01,\n",
       "        1.31840971e-01, -1.64540292e-01, -3.88755522e-01,  8.07937840e-01,\n",
       "       -7.83657272e-01, -1.20466996e-01, -1.13181661e+00, -9.75451468e-01,\n",
       "        7.14839220e-01, -1.07821655e+00, -1.07598553e+00, -1.14900033e+00,\n",
       "       -9.58783631e-01, -8.60252132e-01, -1.23483775e+00, -3.46143153e-01,\n",
       "       -9.55659785e-01,  7.29837507e-01, -1.40728234e-01, -1.40398819e+00,\n",
       "        4.92953768e-01, -1.89747898e+00, -6.34571461e-02,  2.98117195e-01,\n",
       "       -1.26687420e+00,  1.97345623e-01,  1.10649451e+00,  3.94198362e-01,\n",
       "       -8.51153037e-01, -1.02999615e+00,  1.09151838e+00,  1.17593172e+00,\n",
       "       -8.23555598e-01,  2.04243522e+00, -1.43100918e+00,  1.13778709e+00,\n",
       "        6.38147077e-01,  1.02732744e+00,  6.80180432e-01, -1.23696961e+00,\n",
       "        7.31102846e-01, -6.14256694e-01,  9.73313149e-01, -1.01831981e+00,\n",
       "       -1.01878156e+00,  1.19316479e+00, -1.14517116e+00, -3.60126004e-01,\n",
       "        2.20888948e+00,  1.32026509e-01, -7.37298851e-01, -4.31127510e-01,\n",
       "        3.43970033e-01, -8.23357397e-01,  2.08597728e-01, -3.53974736e-01,\n",
       "       -9.41612460e-01, -6.39244844e-01, -2.84668701e+00, -9.32326088e-01,\n",
       "       -1.88651975e-01,  9.35417200e-01,  4.98469384e-02, -8.51487461e-01,\n",
       "        3.51070443e+00, -8.13417062e-01,  1.32809275e+00,  5.38554998e-01,\n",
       "        1.40810614e+00, -9.34406094e-01, -9.94882571e-01, -3.68498733e-01,\n",
       "       -1.28445012e+00,  2.35192783e+00, -5.43644590e-01, -1.78735882e-01,\n",
       "       -6.75427848e-01,  4.63552620e-01,  1.01858832e+00, -1.62126530e+00,\n",
       "        7.25305083e-01,  6.62230271e-01,  1.93373708e-02, -2.72270814e-01,\n",
       "        1.33332780e+00,  2.71499158e-01, -5.11240318e-01, -1.31745471e+00,\n",
       "       -1.45904172e+00,  1.96928987e-01, -8.51958115e-03,  1.17079244e+00,\n",
       "        8.74645482e-01,  2.37749912e-01,  1.04006294e+00,  5.82999665e-01,\n",
       "        1.06729086e+00,  1.67632253e-01,  5.79707866e-01,  4.10270395e-01,\n",
       "        5.07012405e-01,  1.06074893e-01,  2.67907554e-01, -9.95300300e-01,\n",
       "       -5.05194294e-01, -4.49550452e-01, -5.92022111e-01, -1.03174535e+00,\n",
       "       -8.65912178e-01, -4.91625358e-01, -1.11316437e+00, -2.12111331e-01,\n",
       "        4.01521076e-01,  3.28698705e-02,  1.32748857e+00,  1.09324609e+00,\n",
       "       -2.03173404e+00,  7.35390363e-01,  5.19571236e-01,  2.85279784e+00,\n",
       "       -2.07933943e-01,  4.72415679e-01, -2.15790631e-02, -6.68682996e-01,\n",
       "       -4.55020044e-01, -6.03470724e-01, -1.25773752e+00,  2.01208198e+00,\n",
       "        6.44972006e-01,  1.07537944e+00, -4.59274571e-01,  1.00135346e+00,\n",
       "       -9.13559404e-01,  1.58262375e-01,  4.25235404e-01,  5.98673305e-01,\n",
       "       -1.05088062e+00,  6.12434111e-01,  3.00238732e-01, -8.61478640e-03,\n",
       "       -1.68986767e+00,  4.23931028e-01,  3.14027024e-01, -1.46981451e+00,\n",
       "       -1.29572321e+00, -1.38577451e+00, -7.63155297e-01,  7.49658882e-01,\n",
       "        5.85440110e-02, -8.28029054e-01,  1.41881824e+00, -3.56137369e-01,\n",
       "        2.59037453e-01,  2.52439080e+00, -1.00275744e+00,  1.65810512e+00,\n",
       "       -2.86997497e-01, -2.08961263e-01,  3.14507247e-02, -8.35431160e-01,\n",
       "       -1.35885770e+00,  8.50754078e-01,  7.89659159e-01,  1.23861373e-01,\n",
       "       -6.44096350e-01, -6.50206762e-01,  6.24016469e-01, -1.90114327e+00,\n",
       "        2.79449201e+00,  1.53067680e+00,  1.86267297e+00,  6.77022218e-01,\n",
       "       -7.15015452e-01, -1.76931112e+00, -4.54993849e-01,  7.33832602e-01,\n",
       "       -1.74229629e+00,  8.32890071e-01,  6.88971161e-03,  9.24074220e-01,\n",
       "       -4.40930085e-01, -1.83759367e-02, -8.76172571e-01,  6.08618019e-01,\n",
       "        1.54026103e+00, -1.47891554e+00, -2.50470532e-01, -1.71194359e-01,\n",
       "       -8.90133184e-01,  8.18423083e-01,  8.89090095e-01,  2.51935972e+00,\n",
       "       -8.23716892e-01, -1.46395991e+00,  2.93451417e-01, -1.09540726e-01,\n",
       "       -6.92858636e-01,  8.22452635e-01,  1.47028741e+00, -2.46680002e-01,\n",
       "       -7.13114595e-01,  6.88598702e-01,  1.42445853e-01,  1.56216420e-01,\n",
       "        1.22387020e+00, -3.17345391e-01,  1.53954745e+00,  5.74980756e-01,\n",
       "        1.87944099e-01, -1.06807685e+00, -1.27360909e+00,  1.62262690e+00,\n",
       "       -2.60964304e-02, -2.07610053e+00, -1.97769358e-01, -4.67881810e-01,\n",
       "        8.07835801e-01,  1.11653498e+00,  3.01494688e-01, -1.52057750e-01,\n",
       "        2.90389225e-01,  2.81394341e-01, -2.10256707e+00,  3.64454454e-02,\n",
       "        9.85147715e-02, -4.39956752e-01,  9.81289376e-01, -1.35758914e+00,\n",
       "       -8.64839279e-01,  1.06166425e+00,  1.02193891e+00, -6.86498220e-01,\n",
       "       -7.97834815e-01, -9.15970899e-01,  1.68967266e-01,  1.96300341e+00,\n",
       "        9.37122278e-01, -1.62566570e+00, -5.76556294e-01, -6.15648883e-01,\n",
       "        1.43026404e+00, -7.92525653e-02,  1.26083110e+00, -6.49693128e-01,\n",
       "       -1.67507190e+00, -1.20756173e+00,  1.04936291e-01, -7.25882555e-01,\n",
       "       -4.41665427e-01,  1.44874288e+00,  1.88634531e+00, -1.20650402e+00,\n",
       "       -1.71499228e-01,  8.33483364e-01,  1.18471717e+00,  1.08622589e-01,\n",
       "       -3.04458185e-01,  7.85092893e-01, -2.36205729e-02,  1.33469129e-01,\n",
       "       -1.30922560e+00, -4.82577067e-01, -5.56513646e-01, -5.77119416e-01,\n",
       "        1.62109577e+00, -1.34207361e+00,  7.60617953e-01,  4.46538580e-02,\n",
       "        8.69265584e-01,  4.75809943e-01, -1.03877204e+00,  1.42475205e+00,\n",
       "       -3.60207827e-01,  3.68297068e-01, -5.91590034e-01,  1.88580074e+00,\n",
       "       -1.98968529e-01, -1.20150720e-01, -6.10288013e-01, -4.90916687e-01,\n",
       "       -1.44207539e+00,  1.59387397e-01, -7.94941945e-01, -1.11373110e+00,\n",
       "       -5.57654332e-01, -1.26720753e+00, -4.39530482e-01, -1.06443191e+00,\n",
       "       -8.36844436e-01, -7.94639724e-01, -1.11391511e+00, -1.17871871e+00,\n",
       "       -9.99746355e-01, -1.64481406e+00,  1.38874403e+00, -5.10380652e-01,\n",
       "        1.99692063e-02,  8.19228161e-01, -1.69457144e+00,  3.56990745e-01,\n",
       "        8.63343464e-01,  3.77272310e-01, -1.05120268e+00,  1.29429820e+00,\n",
       "        1.04364012e+00, -2.55745667e-01, -7.01656802e-01,  8.52111167e-01,\n",
       "        1.84272280e+00,  1.21940805e-02, -1.65651704e+00, -1.74330343e-01,\n",
       "        7.21089803e-01,  1.67082948e+00, -2.26631828e+00, -8.22051303e-01,\n",
       "       -9.43379262e-01, -9.35599458e-01,  1.84201890e-01,  1.31156836e+00,\n",
       "        4.39693759e-01, -7.19988691e-01,  2.33859634e+00,  2.26692241e-01,\n",
       "       -1.63265421e+00, -8.12669756e-01, -4.66034031e-01, -5.52618678e-01,\n",
       "        3.31954227e-01,  1.84143313e+00,  1.31437902e+00,  5.48767715e-01,\n",
       "       -5.70917639e-01,  2.59787453e-01, -1.13221821e+00, -9.38625039e-01,\n",
       "        9.34257156e-01, -4.25099520e-01,  8.59358285e-01, -1.36591052e+00,\n",
       "       -6.26400016e-01,  2.30219126e-01, -4.17641553e-01, -1.13288064e+00,\n",
       "       -1.64601791e+00,  1.96467976e-01,  3.07407612e-01, -6.28447684e-01,\n",
       "        2.92110076e-01, -1.67684740e+00,  1.22595268e+00,  8.21895210e-01,\n",
       "        1.43232434e-01,  2.33587794e-01,  2.09039419e-01, -9.07333948e-01,\n",
       "        9.37943691e-01,  1.39451102e-01,  1.75407056e+00, -2.21426972e-01,\n",
       "       -1.19449738e-01, -9.50104387e-01, -5.52827536e-01,  4.94650448e-01,\n",
       "        1.86783112e+00,  1.96936685e-01,  1.57393408e-02,  2.27881258e-02,\n",
       "        1.12835813e+00,  5.22057706e-01, -6.42731170e-01,  5.83107587e-01,\n",
       "        6.26591928e-02,  7.44406793e-01, -1.94088549e-02,  9.87548279e-01,\n",
       "       -2.10561626e+00, -1.83891889e+00,  7.85255518e-01,  1.19612206e+00,\n",
       "       -2.39444425e+00, -1.07508776e+00, -5.56526232e-01,  6.35017891e-01,\n",
       "       -1.41327651e+00,  3.82382506e-02, -3.25447269e-01,  2.12087682e+00,\n",
       "       -3.36364989e-02,  9.83009649e-01, -1.51732624e+00, -1.94680795e-01,\n",
       "        1.01529444e+00, -1.02283322e+00,  1.96893132e+00, -4.55318260e-02,\n",
       "        2.22042616e+00, -7.84365695e-01,  1.34340780e+00, -1.39916393e+00,\n",
       "       -9.12948624e-01,  1.60941936e+00,  1.76207847e+00, -1.09896092e+00,\n",
       "       -4.23568576e-01,  5.04483026e-01, -1.12687370e+00, -9.38201988e-01,\n",
       "       -1.99337524e+00, -6.53673020e-01,  3.08493996e+00,  1.95575415e+00,\n",
       "        1.67125565e+00,  6.89964905e-01,  3.73535613e-01,  7.29035618e-01,\n",
       "        1.44000161e-01,  1.66475383e+00,  1.08129847e+00,  5.96332641e-01,\n",
       "       -8.42964507e-01,  2.21307136e-02, -7.49390100e-02,  2.11633791e-01,\n",
       "       -3.61565949e-01,  2.09482905e-01,  8.82822780e-01,  3.19401990e-01,\n",
       "        7.74015275e-01,  1.46607141e+00,  7.94805983e-01,  1.46517169e+00,\n",
       "       -4.60785580e-01,  1.09738177e+00,  1.97981215e-01,  9.85641117e-03,\n",
       "        5.33420731e-01,  1.45286124e+00,  4.82433501e-01, -5.98590258e-01,\n",
       "        1.16485843e+00,  1.06044804e+00, -1.01687329e+00, -1.30752171e+00,\n",
       "        6.80907331e-01,  3.61891828e-01, -3.69277883e-01,  1.08258982e+00,\n",
       "        4.29607783e-01,  2.03786801e+00,  1.44756736e-01,  2.02416622e+00,\n",
       "        1.25091262e-01, -2.29011994e-01,  4.47248639e-02,  3.02814413e-02,\n",
       "       -3.98481333e-01,  1.37980592e-01,  6.50610369e-02, -1.17994257e+00,\n",
       "       -1.81159826e+00,  8.61793239e-01,  1.33819581e+00, -4.56465356e-01,\n",
       "        3.87613638e-01, -7.62477722e-01, -2.65713738e-01, -4.25304651e-01,\n",
       "        2.73688539e-02, -1.66572954e+00, -2.09856658e-01,  2.26649788e-01,\n",
       "        1.23485058e+00,  2.83755950e-02, -1.07767260e-01,  2.93612038e-01,\n",
       "       -8.94874587e-01,  5.64679184e-01, -7.03911084e-01,  1.83318279e+00,\n",
       "        1.71488364e-02, -8.65184197e-01, -5.85392825e-01, -1.65080587e-01,\n",
       "       -1.07348305e+00, -1.22008788e+00,  1.12199698e+00,  3.20985080e-01,\n",
       "       -6.43610191e-01,  1.10446829e+00, -7.49876991e-01,  1.96401516e-01,\n",
       "        4.81720826e-01,  1.71757339e+00, -4.95016349e-01, -9.61449214e-01,\n",
       "        7.07565652e-01, -1.69051030e+00,  1.66897418e-02, -4.81415516e-02,\n",
       "        1.39141217e-01, -5.65121013e-01,  2.31628508e+00,  5.17168280e-02,\n",
       "       -1.05193164e+00,  7.81381345e-01, -7.41288874e-01,  3.51471743e-01,\n",
       "       -1.16539415e-01, -2.81373326e+00,  6.11283923e-01, -8.56332499e-01,\n",
       "        1.39395845e+00,  5.08125143e-01,  1.24423640e+00,  9.32892457e-01,\n",
       "       -1.16924338e+00,  7.60747149e-01,  9.57904220e-01,  9.20998309e-01,\n",
       "       -9.59340579e-01, -6.99128422e-01, -1.13864662e-01,  8.39387234e-01,\n",
       "       -1.53666567e+00, -8.80651351e-01,  9.83900549e-01, -3.22384139e-01,\n",
       "        9.31536819e-01, -2.62689962e-01,  6.70401898e-01, -8.28406860e-01,\n",
       "        8.61169520e-02, -1.31883077e+00,  8.09801640e-01, -4.27084038e-01,\n",
       "       -1.82510153e+00,  3.27093314e-01,  1.12911448e+00,  6.82401425e-01,\n",
       "       -1.54942350e+00, -5.03060421e-01, -6.84387781e-01, -9.56360399e-01,\n",
       "       -6.83296523e-01,  8.89717494e-01,  7.33176249e-01,  1.90253332e-01,\n",
       "       -1.52880246e+00, -7.96011408e-01,  1.62507854e+00, -1.26328958e+00,\n",
       "        3.93761814e-02, -3.93022393e-01, -9.70110755e-01, -4.19200806e-01,\n",
       "       -1.13304705e+00, -3.23061538e-01, -7.71262061e-01, -1.46230340e+00,\n",
       "       -7.68919606e-01, -7.78441938e-01,  1.45679473e+00,  8.41911005e-03,\n",
       "        2.76799819e-01, -1.67524704e+00,  1.36918512e+00, -2.09287428e-02,\n",
       "        3.29804124e-01, -1.58264551e+00, -5.50726097e-01,  1.68039527e+00,\n",
       "       -4.62002965e-01,  6.70802727e-01, -1.26118986e+00, -7.40872173e-02,\n",
       "        1.51422887e+00, -3.18653909e-01, -7.81390800e-01, -1.15627583e-01,\n",
       "        6.65998740e-01, -1.35810564e+00, -7.14465200e-01, -3.11723089e-01,\n",
       "        7.40789895e-01, -1.65408322e+00, -7.67796779e-01, -1.02120268e+00,\n",
       "        5.45427292e-01, -1.68460699e+00, -1.52825693e+00, -5.09262632e-01,\n",
       "       -9.91541351e-01, -1.51076233e+00,  1.05346433e+00, -1.46130868e+00,\n",
       "        1.13021861e+00, -5.74871136e-01, -8.90254770e-02, -4.31857971e-01,\n",
       "        1.30468908e-01, -8.03652418e-01, -1.72935343e-01, -5.34129935e-01,\n",
       "        4.58938970e-01,  8.87517170e-01, -1.19936547e+00,  6.58320741e-01,\n",
       "       -1.78739822e+00, -2.85877093e-01,  1.23196234e+00, -7.60174934e-01,\n",
       "        5.94184525e-01, -4.88083410e-02,  2.80777489e-03,  2.15285259e-01,\n",
       "       -8.02925033e-01,  4.78133062e-02, -2.68297586e-01,  8.18031201e-01,\n",
       "       -9.70555355e-01, -1.03315617e+00,  4.85294793e-01,  8.80446147e-01,\n",
       "       -3.15228262e-01,  4.30017531e-01, -3.98628516e-01, -1.34552165e-01,\n",
       "       -1.38349604e+00, -4.66985192e-01, -8.21166339e-01, -8.35096233e-01,\n",
       "       -1.19366378e+00, -1.06635835e+00, -3.61204583e-01,  7.08204797e-01,\n",
       "       -5.70715533e-01,  2.54181559e-01,  6.62511823e-01,  1.57795139e-01,\n",
       "       -1.91541885e+00,  8.78072760e-01,  1.18631124e+00,  1.15195329e+00,\n",
       "       -1.89015898e+00, -4.67232392e-01, -2.04643715e+00,  2.85146504e-01,\n",
       "       -2.69739623e-01,  9.30928307e-01,  1.96106320e+00, -1.43585839e-01,\n",
       "        8.50297054e-01,  2.73849000e-01,  1.05439904e+00, -2.22542482e-01,\n",
       "        7.25933555e-01,  8.24723331e-01, -2.23149558e+00, -2.84907137e+00,\n",
       "       -6.68756446e-01,  1.94434738e+00,  1.09009850e+00,  1.34690434e-01,\n",
       "       -7.88477024e-01,  1.07546943e+00, -1.99784729e-01,  1.10256812e+00,\n",
       "       -2.05635999e+00,  1.14211713e+00, -6.20100253e-02,  5.85695705e-01,\n",
       "       -7.27166234e-01, -5.99949079e-01, -1.17066672e+00,  1.76369245e-01,\n",
       "       -1.60877362e+00, -1.07750212e+00, -7.02048883e-01, -1.36453444e-01,\n",
       "       -1.17081788e+00, -2.24193024e-01, -7.13982422e-01, -6.29414328e-01,\n",
       "       -2.34497634e-01,  1.44943870e+00, -4.92492204e-01,  2.06106557e+00,\n",
       "        5.97141100e-01,  9.88751398e-01,  1.44808285e+00, -6.57998545e-01,\n",
       "       -1.76220677e-01, -8.05295072e-01,  3.32010038e-01, -1.30084941e+00,\n",
       "        1.88051933e-03,  8.87988922e-03, -3.95376999e-01,  5.37600758e-01,\n",
       "        5.96155889e-02, -3.83118233e-01, -1.09976034e+00,  7.94349793e-01,\n",
       "       -4.33219937e-01,  4.60326057e-01,  7.91547780e-02,  1.26915017e+00,\n",
       "        2.18194135e-01,  1.05994972e-01, -2.41660376e+00,  9.70232152e-01,\n",
       "        2.10235476e-01,  3.26080153e-01,  4.19067507e-01, -5.76093853e-01,\n",
       "        2.40098747e-01, -8.43991670e-01, -1.26467874e+00, -1.04592550e+00,\n",
       "       -6.06327112e-01, -9.56901061e-01,  1.49937983e-01, -4.88400252e-02,\n",
       "        2.35368944e-01, -3.68241286e-01, -2.95391937e-01, -9.17391013e-01,\n",
       "       -1.27862350e+00, -4.32739409e-01,  2.56536592e-01,  4.49060039e-01,\n",
       "       -2.29104817e-01,  6.34044172e-01,  5.35308209e-01,  5.03262714e-01,\n",
       "       -1.07174741e+00,  1.14747976e+00, -9.62878899e-01, -1.34926041e+00,\n",
       "       -6.04681597e-01, -1.94438623e+00,  1.26411948e-01,  1.66668139e-01,\n",
       "       -1.59889784e-01,  1.17276482e+00,  1.16480724e+00, -1.98019234e+00,\n",
       "        7.58650450e-01, -1.19030185e+00,  1.28805504e+00,  8.54213317e-01,\n",
       "       -1.50399571e+00, -1.16533634e-01, -1.19458934e+00,  1.45265953e+00,\n",
       "        1.04894997e+00, -7.17830528e-01, -2.14095703e-01,  6.58487357e-01,\n",
       "       -1.87368832e+00, -4.58835046e-01, -2.44326483e+00, -1.54942621e+00,\n",
       "        1.36961655e+00, -1.52086660e-01,  4.04650344e-01, -2.66094034e-01,\n",
       "       -5.73853967e-02, -1.57301445e-01, -8.70371822e-01,  1.63240263e+00,\n",
       "       -7.05661725e-01, -6.49505798e-01, -3.30026613e-01,  1.70089253e-01,\n",
       "       -4.60033896e-01,  6.88935268e-01,  2.55020367e+00,  1.15739697e-01,\n",
       "       -7.56939294e-01,  6.73036520e-01,  6.15819317e-02, -1.20162934e-01,\n",
       "        2.14759401e-01,  9.40781934e-01, -5.27806988e-01, -1.08071413e+00,\n",
       "        1.36684214e+00, -9.16825430e-01,  5.99152319e-02, -2.65057085e-01,\n",
       "       -1.83846808e+00,  9.02231645e-01,  4.41899937e-01, -1.75476854e-01,\n",
       "        2.08910886e-01,  1.04556161e+00, -2.41708852e-01,  7.20195779e-01,\n",
       "        3.22434219e-01,  1.96051029e+00, -2.83264443e-01,  3.19043678e-01,\n",
       "       -2.39442032e+00,  3.12453898e-01, -4.32359352e-01,  7.32633838e-01,\n",
       "        8.63983509e-01, -8.17754720e-01, -6.95818540e-01,  2.13546186e-01])"
      ]
     },
     "execution_count": 230,
     "metadata": {},
     "output_type": "execute_result"
    }
   ],
   "source": [
    "normal_distribution"
   ]
  },
  {
   "cell_type": "code",
   "execution_count": 232,
   "id": "54a77d99-2fd0-480d-899a-c5a1124dc69c",
   "metadata": {},
   "outputs": [
    {
     "data": {
      "text/plain": [
       "(array([ 11.,  45., 127., 229., 240., 185., 108.,  41.,  10.,   4.]),\n",
       " array([-2.84907137, -2.21309379, -1.57711621, -0.94113863, -0.30516105,\n",
       "         0.33081653,  0.96679411,  1.60277169,  2.23874927,  2.87472685,\n",
       "         3.51070443]),\n",
       " <BarContainer object of 10 artists>)"
      ]
     },
     "execution_count": 232,
     "metadata": {},
     "output_type": "execute_result"
    },
    {
     "data": {
      "image/png": "[encoded data removed]",
      "text/plain": [
       "<Figure size 640x480 with 1 Axes>"
      ]
     },
     "metadata": {},
     "output_type": "display_data"
    }
   ],
   "source": [
    "plt.hist(normal_distribution)"
   ]
  },
  {
   "cell_type": "code",
   "execution_count": 234,
   "id": "0c13ffc0-c63a-46b2-805a-9b1ca9602867",
   "metadata": {},
   "outputs": [
    {
     "data": {
      "text/plain": [
       "<Axes: ylabel='Density'>"
      ]
     },
     "execution_count": 234,
     "metadata": {},
     "output_type": "execute_result"
    },
    {
     "data": {
      "image/png": "[encoded data removed]",
      "text/plain": [
       "<Figure size 640x480 with 1 Axes>"
      ]
     },
     "metadata": {},
     "output_type": "display_data"
    }
   ],
   "source": [
    "sns.kdeplot(normal_distribution)"
   ]
  },
  {
   "cell_type": "code",
   "execution_count": 236,
   "id": "15a4dd69-17dc-4884-b41b-455ce74c6b02",
   "metadata": {},
   "outputs": [
    {
     "data": {
      "text/plain": [
       "<Axes: ylabel='Count'>"
      ]
     },
     "execution_count": 236,
     "metadata": {},
     "output_type": "execute_result"
    },
    {
     "data": {
      "image/png": "[encoded data removed]",
      "text/plain": [
       "<Figure size 640x480 with 1 Axes>"
      ]
     },
     "metadata": {},
     "output_type": "display_data"
    }
   ],
   "source": [
    "sns.histplot(normal_distribution, kde=True)"
   ]
  },
  {
   "cell_type": "markdown",
   "id": "12400ba0-ea10-4e21-b8b9-165768289528",
   "metadata": {},
   "source": [
    "Binomial Distribution"
   ]
  },
  {
   "cell_type": "code",
   "execution_count": 239,
   "id": "75da207c-2bd1-48a1-b9e9-0a9168d49bf9",
   "metadata": {},
   "outputs": [],
   "source": [
    "# Calculate the probability of getting 7 heads in 10 flips of a coin.\n",
    "p= 0.5 # probability of heads\n",
    "n= 10 # number of experiments"
   ]
  },
  {
   "cell_type": "code",
   "execution_count": 249,
   "id": "b581ee86-bb30-4ce6-b2d4-917ded3b0263",
   "metadata": {},
   "outputs": [
    {
     "name": "stdout",
     "output_type": "stream",
     "text": [
      "7\n"
     ]
    }
   ],
   "source": [
    "probability = np.random.binomial(n, p)\n",
    "print(probability)"
   ]
  },
  {
   "cell_type": "markdown",
   "id": "66242245-0cd9-43bf-9cf5-126ea0c9aae1",
   "metadata": {},
   "source": [
    "Poisson Distribution"
   ]
  },
  {
   "cell_type": "code",
   "execution_count": 252,
   "id": "ecef5460-8d2a-4e7e-87b1-4996fd1c2ed2",
   "metadata": {},
   "outputs": [
    {
     "name": "stdout",
     "output_type": "stream",
     "text": [
      "5\n"
     ]
    }
   ],
   "source": [
    "# Calculate the probability of getting 5 customers in  store in one hour,\n",
    "# given that the average average number of customers in 5 per hour.\n",
    "lamb= 5 # mean number of customers in one hour\n",
    "\n",
    "probability= np.random.poisson(lamb)\n",
    "print(probability)"
   ]
  },
  {
   "cell_type": "code",
   "execution_count": 256,
   "id": "dd510d48-a350-4e23-9782-a5a91473602b",
   "metadata": {},
   "outputs": [],
   "source": [
    "events= [np.random.poisson(lamb) for x in range(1000) ]"
   ]
  },
  {
   "cell_type": "code",
   "execution_count": 258,
   "id": "2f5936e5-02aa-4b47-a70b-db667d4b0018",
   "metadata": {},
   "outputs": [
    {
     "data": {
      "text/plain": [
       "(array([ 41.,  79., 332., 182., 254.,  48.,  39.,  14.,  10.,   1.]),\n",
       " array([ 0. ,  1.5,  3. ,  4.5,  6. ,  7.5,  9. , 10.5, 12. , 13.5, 15. ]),\n",
       " <BarContainer object of 10 artists>)"
      ]
     },
     "execution_count": 258,
     "metadata": {},
     "output_type": "execute_result"
    },
    {
     "data": {
      "image/png": "[encoded data removed]",
      "text/plain": [
       "<Figure size 640x480 with 1 Axes>"
      ]
     },
     "metadata": {},
     "output_type": "display_data"
    }
   ],
   "source": [
    "plt.xticks(range(1,21))\n",
    "plt.hist(events)"
   ]
  },
  {
   "cell_type": "code",
   "execution_count": 260,
   "id": "0b4e9f65-b20d-439b-b744-41945445344d",
   "metadata": {},
   "outputs": [
    {
     "data": {
      "text/plain": [
       "<Axes: ylabel='Density'>"
      ]
     },
     "execution_count": 260,
     "metadata": {},
     "output_type": "execute_result"
    },
    {
     "data": {
      "image/png": "[encoded data removed]",
      "text/plain": [
       "<Figure size 640x480 with 1 Axes>"
      ]
     },
     "metadata": {},
     "output_type": "display_data"
    }
   ],
   "source": [
    "sns.kdeplot(events)"
   ]
  },
  {
   "cell_type": "code",
   "execution_count": 262,
   "id": "abdccc58-12e1-4372-be87-5e539c9408c1",
   "metadata": {},
   "outputs": [
    {
     "data": {
      "text/plain": [
       "0.182"
      ]
     },
     "execution_count": 262,
     "metadata": {},
     "output_type": "execute_result"
    }
   ],
   "source": [
    "events.count(5)/1000"
   ]
  },
  {
   "cell_type": "code",
   "execution_count": 264,
   "id": "3d51f221-567d-48f3-8e02-cfb451c0e98c",
   "metadata": {},
   "outputs": [
    {
     "data": {
      "text/plain": [
       "0.182"
      ]
     },
     "execution_count": 264,
     "metadata": {},
     "output_type": "execute_result"
    }
   ],
   "source": [
    "events.count(4)/1000"
   ]
  },
  {
   "cell_type": "code",
   "execution_count": 266,
   "id": "fd8eca07-72f4-4a0d-a387-4dadb2c52662",
   "metadata": {},
   "outputs": [
    {
     "data": {
      "text/plain": [
       "0.011"
      ]
     },
     "execution_count": 266,
     "metadata": {},
     "output_type": "execute_result"
    }
   ],
   "source": [
    "events.count(0)/1000"
   ]
  },
  {
   "cell_type": "code",
   "execution_count": 268,
   "id": "64fda82e-f8dd-46d9-a228-e162de65e7e7",
   "metadata": {},
   "outputs": [
    {
     "data": {
      "text/plain": [
       "0.012"
      ]
     },
     "execution_count": 268,
     "metadata": {},
     "output_type": "execute_result"
    }
   ],
   "source": [
    "events.count(10)/1000"
   ]
  },
  {
   "cell_type": "code",
   "execution_count": null,
   "id": "a53537af-731a-41f5-86a1-d21e7ac9584e",
   "metadata": {},
   "outputs": [],
   "source": []
  }
 ],
 "metadata": {
  "kernelspec": {
   "display_name": "Python 3 (ipykernel)",
   "language": "python",
   "name": "python3"
  },
  "language_info": {
   "codemirror_mode": {
    "name": "ipython",
    "version": 3
   },
   "file_extension": ".py",
   "mimetype": "text/x-python",
   "name": "python",
   "nbconvert_exporter": "python",
   "pygments_lexer": "ipython3",
   "version": "3.12.4"
  }
 },
 "nbformat": 4,
 "nbformat_minor": 5
}
