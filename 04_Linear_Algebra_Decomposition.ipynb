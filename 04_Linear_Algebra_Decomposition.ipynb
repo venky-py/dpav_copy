{
 "cells": [
  {
   "cell_type": "code",
   "execution_count": 25,
   "id": "83303b03-0c04-4dc1-a7da-8cf2da67981a",
   "metadata": {},
   "outputs": [],
   "source": [
    "import numpy as np"
   ]
  },
  {
   "cell_type": "markdown",
   "id": "4a777c54-5a60-4158-9f9e-bbaba1b18bc2",
   "metadata": {},
   "source": [
    "LU decomposition "
   ]
  },
  {
   "cell_type": "code",
   "execution_count": 3,
   "id": "8596ad4e-5be4-4d94-80a3-a27b6cf542aa",
   "metadata": {},
   "outputs": [],
   "source": [
    "S= np. array([[3,6,4],[8,1,2],[0,5,7]])"
   ]
  },
  {
   "cell_type": "code",
   "execution_count": 5,
   "id": "6d830e78-f081-4feb-b2cd-63b859d07105",
   "metadata": {},
   "outputs": [
    {
     "data": {
      "text/plain": [
       "array([[3, 6, 4],\n",
       "       [8, 1, 2],\n",
       "       [0, 5, 7]])"
      ]
     },
     "execution_count": 5,
     "metadata": {},
     "output_type": "execute_result"
    }
   ],
   "source": [
    "S"
   ]
  },
  {
   "cell_type": "code",
   "execution_count": 7,
   "id": "4b2b0985-0e1b-4e45-aaaf-abf1d6560a0d",
   "metadata": {},
   "outputs": [],
   "source": [
    "from scipy.linalg import lu"
   ]
  },
  {
   "cell_type": "code",
   "execution_count": 11,
   "id": "3900f633-ec87-4487-90f8-df94975c2edf",
   "metadata": {},
   "outputs": [],
   "source": [
    "P,L,U = lu(S)"
   ]
  },
  {
   "cell_type": "code",
   "execution_count": 13,
   "id": "2c5f56fe-8aaf-4de2-a4cc-fa25ef2c1f39",
   "metadata": {},
   "outputs": [
    {
     "data": {
      "text/plain": [
       "array([[0., 1., 0.],\n",
       "       [1., 0., 0.],\n",
       "       [0., 0., 1.]])"
      ]
     },
     "execution_count": 13,
     "metadata": {},
     "output_type": "execute_result"
    }
   ],
   "source": [
    "P"
   ]
  },
  {
   "cell_type": "code",
   "execution_count": 15,
   "id": "77f74160-502d-472b-9fa9-e9911163292f",
   "metadata": {},
   "outputs": [
    {
     "data": {
      "text/plain": [
       "array([[1.        , 0.        , 0.        ],\n",
       "       [0.375     , 1.        , 0.        ],\n",
       "       [0.        , 0.88888889, 1.        ]])"
      ]
     },
     "execution_count": 15,
     "metadata": {},
     "output_type": "execute_result"
    }
   ],
   "source": [
    "L"
   ]
  },
  {
   "cell_type": "code",
   "execution_count": 17,
   "id": "24c1dc21-0488-4200-a48c-6c757b22aa1f",
   "metadata": {},
   "outputs": [
    {
     "data": {
      "text/plain": [
       "array([[8.        , 1.        , 2.        ],\n",
       "       [0.        , 5.625     , 3.25      ],\n",
       "       [0.        , 0.        , 4.11111111]])"
      ]
     },
     "execution_count": 17,
     "metadata": {},
     "output_type": "execute_result"
    }
   ],
   "source": [
    "U"
   ]
  },
  {
   "cell_type": "code",
   "execution_count": 19,
   "id": "2f72d541-be66-47a3-91b2-928e09d7713f",
   "metadata": {},
   "outputs": [
    {
     "data": {
      "text/plain": [
       "array([[8., 1., 2.],\n",
       "       [3., 6., 4.],\n",
       "       [0., 5., 7.]])"
      ]
     },
     "execution_count": 19,
     "metadata": {},
     "output_type": "execute_result"
    }
   ],
   "source": [
    "L @ U"
   ]
  },
  {
   "cell_type": "code",
   "execution_count": 23,
   "id": "0f362b6c-3a39-4c2e-b161-4556b3968acb",
   "metadata": {},
   "outputs": [
    {
     "data": {
      "text/plain": [
       "(array([[3., 6., 4.],\n",
       "        [8., 1., 2.],\n",
       "        [0., 5., 7.]]),\n",
       " array([[3, 6, 4],\n",
       "        [8, 1, 2],\n",
       "        [0, 5, 7]]))"
      ]
     },
     "execution_count": 23,
     "metadata": {},
     "output_type": "execute_result"
    }
   ],
   "source": [
    "P@L@U, S"
   ]
  },
  {
   "cell_type": "markdown",
   "id": "c8f94eeb-62a4-4139-84b6-5b69cda1c7b6",
   "metadata": {},
   "source": [
    "QR decomposition"
   ]
  },
  {
   "cell_type": "code",
   "execution_count": 28,
   "id": "349beeca-f977-4f5a-bb95-d91564d5c933",
   "metadata": {},
   "outputs": [],
   "source": [
    "from scipy.linalg import qr"
   ]
  },
  {
   "cell_type": "code",
   "execution_count": 30,
   "id": "b5ae23fc-3a4f-449c-976a-4f81aa5dc5cd",
   "metadata": {},
   "outputs": [],
   "source": [
    "A= np.array([[4,2,1,6],[8,0,2,9],[5,7,3,1]])"
   ]
  },
  {
   "cell_type": "code",
   "execution_count": 32,
   "id": "cdc321fa-9a62-4f58-85c4-564ce7b3f68f",
   "metadata": {},
   "outputs": [
    {
     "data": {
      "text/plain": [
       "array([[4, 2, 1, 6],\n",
       "       [8, 0, 2, 9],\n",
       "       [5, 7, 3, 1]])"
      ]
     },
     "execution_count": 32,
     "metadata": {},
     "output_type": "execute_result"
    }
   ],
   "source": [
    "A"
   ]
  },
  {
   "cell_type": "code",
   "execution_count": 34,
   "id": "631f5c1e-e40b-4ef9-8ca4-ff6277edd76c",
   "metadata": {},
   "outputs": [],
   "source": [
    "Q, R =qr(A)"
   ]
  },
  {
   "cell_type": "code",
   "execution_count": 36,
   "id": "e770255c-bffc-421e-9f1b-b8f25499cd93",
   "metadata": {},
   "outputs": [
    {
     "data": {
      "text/plain": [
       "array([[-0.39036003,  0.06083466, -0.9186502 ],\n",
       "       [-0.78072006, -0.55071378,  0.29528042],\n",
       "       [-0.48795004,  0.83247431,  0.26247149]])"
      ]
     },
     "execution_count": 36,
     "metadata": {},
     "output_type": "execute_result"
    }
   ],
   "source": [
    "Q"
   ]
  },
  {
   "cell_type": "code",
   "execution_count": 38,
   "id": "a396e034-a499-402a-985e-84f33413c1e5",
   "metadata": {},
   "outputs": [
    {
     "data": {
      "text/plain": [
       "array([[-10.24695077,  -4.19637031,  -3.41565026,  -9.85659074],\n",
       "       [  0.        ,   5.94898951,   1.45683005,  -3.7589417 ],\n",
       "       [  0.        ,   0.        ,   0.4593251 ,  -2.59190592]])"
      ]
     },
     "execution_count": 38,
     "metadata": {},
     "output_type": "execute_result"
    }
   ],
   "source": [
    "R"
   ]
  },
  {
   "cell_type": "code",
   "execution_count": 40,
   "id": "45748a79-6eea-4938-a75b-266aeca7863a",
   "metadata": {},
   "outputs": [
    {
     "data": {
      "text/plain": [
       "array([[4.e+00, 2.e+00, 1.e+00, 6.e+00],\n",
       "       [8.e+00, 9.e-16, 2.e+00, 9.e+00],\n",
       "       [5.e+00, 7.e+00, 3.e+00, 1.e+00]])"
      ]
     },
     "execution_count": 40,
     "metadata": {},
     "output_type": "execute_result"
    }
   ],
   "source": [
    "%precision 0\n",
    "Q @ R"
   ]
  },
  {
   "cell_type": "markdown",
   "id": "712a2818-3efe-4d7a-9d70-d4a6be1725b1",
   "metadata": {},
   "source": [
    "Correlation techniques"
   ]
  },
  {
   "cell_type": "code",
   "execution_count": 43,
   "id": "655cbe17-4a00-4f55-a954-88b2983604aa",
   "metadata": {},
   "outputs": [],
   "source": [
    "X= np.array([4,11,15,21,28,34,39,35,47,55])\n",
    "Y= np.array([10,22,31,36,48,51,58,61,69,77])\n",
    "Z= np.array([92,83,89,56,61,56,48,41,26,19])"
   ]
  },
  {
   "cell_type": "code",
   "execution_count": 51,
   "id": "d6374731-87ad-4374-bf0b-52ee2eb0229e",
   "metadata": {},
   "outputs": [],
   "source": [
    "num= len(X) * (np.sum(X*Y)) - (np.sum(X) * np.sum(Y))\n",
    "den = np.sqrt((len(X) *np.sum(X**2 ) -(np.sum(X)**2))* ((len(Y)*np.sum(Y**2)-(np.sum(Y)**2))))                             "
   ]
  },
  {
   "cell_type": "code",
   "execution_count": 53,
   "id": "15e6f504-ff5f-486f-a567-8a43d7e8613e",
   "metadata": {},
   "outputs": [
    {
     "data": {
      "text/plain": [
       "0.988286"
      ]
     },
     "execution_count": 53,
     "metadata": {},
     "output_type": "execute_result"
    }
   ],
   "source": [
    "%precision 6\n",
    "num/den"
   ]
  },
  {
   "cell_type": "code",
   "execution_count": 55,
   "id": "4aaf93cc-dbee-4da3-b183-fa30f9797850",
   "metadata": {},
   "outputs": [],
   "source": [
    "num= len(X) * (np.sum(X*Z)) - (np.sum(X) * np.sum(Z))\n",
    "den = np.sqrt((len(X) *np.sum(X**2 ) -(np.sum(X)**2))* ((len(Z)*np.sum(Z**2)-(np.sum(Z)**2))))  "
   ]
  },
  {
   "cell_type": "code",
   "execution_count": 57,
   "id": "7ea4b2c0-440d-4026-95b4-8d74a2f7f996",
   "metadata": {},
   "outputs": [
    {
     "data": {
      "text/plain": [
       "-0.959855"
      ]
     },
     "execution_count": 57,
     "metadata": {},
     "output_type": "execute_result"
    }
   ],
   "source": [
    "num/den"
   ]
  },
  {
   "cell_type": "code",
   "execution_count": 69,
   "id": "d9ec6b9e-93ca-49ab-8e87-b47094db2965",
   "metadata": {},
   "outputs": [],
   "source": [
    "p = np.array([56,44,27,65,38,61,23,75,36,58])"
   ]
  },
  {
   "cell_type": "code",
   "execution_count": 71,
   "id": "6eca7aa6-1153-41b7-8820-1d0abd4b86b0",
   "metadata": {},
   "outputs": [],
   "source": [
    "num= len(X) * (np.sum(X*p)) - (np.sum(X) * np.sum(p))\n",
    "den = np.sqrt((len(X) *np.sum(X**2 ) -(np.sum(X)**2))* ((len(p)*np.sum(p**2)-(np.sum(p)**2))))  "
   ]
  },
  {
   "cell_type": "code",
   "execution_count": 73,
   "id": "8db4d747-73b6-4a48-8f49-af31f50db707",
   "metadata": {},
   "outputs": [
    {
     "data": {
      "text/plain": [
       "0.024336"
      ]
     },
     "execution_count": 73,
     "metadata": {},
     "output_type": "execute_result"
    }
   ],
   "source": [
    "num/den"
   ]
  },
  {
   "cell_type": "code",
   "execution_count": 75,
   "id": "1b44ea30-14a9-4b3f-b9d9-84bb96b8acc3",
   "metadata": {},
   "outputs": [],
   "source": [
    "num= len(X) * (np.sum(Y*p)) - (np.sum(Y) * np.sum(p))\n",
    "den = np.sqrt((len(Y) *np.sum(Y**2 ) -(np.sum(Y)**2))* ((len(p)*np.sum(p**2)-(np.sum(p)**2))))"
   ]
  },
  {
   "cell_type": "code",
   "execution_count": 77,
   "id": "b2acd28d-2ac3-43ef-b166-de47d3303eb6",
   "metadata": {},
   "outputs": [
    {
     "data": {
      "text/plain": [
       "0.041168"
      ]
     },
     "execution_count": 77,
     "metadata": {},
     "output_type": "execute_result"
    }
   ],
   "source": [
    "num/den"
   ]
  },
  {
   "cell_type": "code",
   "execution_count": 79,
   "id": "b844da52-16e3-4d35-86a1-de4220e4c156",
   "metadata": {},
   "outputs": [],
   "source": [
    "num= len(X) * (np.sum(Z*p)) - (np.sum(Z) * np.sum(p))\n",
    "den = np.sqrt((len(Z) *np.sum(Z**2 ) -(np.sum(Z)**2))* ((len(p)*np.sum(p**2)-(np.sum(p)**2))))"
   ]
  },
  {
   "cell_type": "code",
   "execution_count": 81,
   "id": "d4f5e613-5348-4eaa-8f8f-a88d08b371ff",
   "metadata": {},
   "outputs": [
    {
     "data": {
      "text/plain": [
       "-0.200311"
      ]
     },
     "execution_count": 81,
     "metadata": {},
     "output_type": "execute_result"
    }
   ],
   "source": [
    "num/den"
   ]
  },
  {
   "cell_type": "code",
   "execution_count": 85,
   "id": "440d69e9-bb32-466e-9c12-86ef930499d4",
   "metadata": {},
   "outputs": [],
   "source": [
    "import matplotlib.pyplot as plt"
   ]
  },
  {
   "cell_type": "code",
   "execution_count": 87,
   "id": "f5ab2cca-b76f-4cf3-b033-70ad0e2696ac",
   "metadata": {},
   "outputs": [
    {
     "data": {
      "text/plain": [
       "<matplotlib.collections.PathCollection at 0x17ddd58e1b0>"
      ]
     },
     "execution_count": 87,
     "metadata": {},
     "output_type": "execute_result"
    },
    {
     "data": {
      "image/png": "[encoded data removed]",
      "text/plain": [
       "<Figure size 640x480 with 1 Axes>"
      ]
     },
     "metadata": {},
     "output_type": "display_data"
    }
   ],
   "source": [
    "plt.scatter(X,Y)"
   ]
  },
  {
   "cell_type": "code",
   "execution_count": 89,
   "id": "dd9cdceb-684b-4acf-92a2-8ba4baba6061",
   "metadata": {},
   "outputs": [
    {
     "data": {
      "text/plain": [
       "<matplotlib.collections.PathCollection at 0x17ddd674350>"
      ]
     },
     "execution_count": 89,
     "metadata": {},
     "output_type": "execute_result"
    },
    {
     "data": {
      "image/png": "[encoded data removed]",
      "text/plain": [
       "<Figure size 640x480 with 1 Axes>"
      ]
     },
     "metadata": {},
     "output_type": "display_data"
    }
   ],
   "source": [
    "plt.scatter(X,Z)"
   ]
  },
  {
   "cell_type": "code",
   "execution_count": 95,
   "id": "f6e42f62-4f0c-4568-ab8d-4f343d48864a",
   "metadata": {},
   "outputs": [
    {
     "data": {
      "text/plain": [
       "<matplotlib.collections.PathCollection at 0x17ddd70a360>"
      ]
     },
     "execution_count": 95,
     "metadata": {},
     "output_type": "execute_result"
    },
    {
     "data": {
      "image/png": "[encoded data removed]",
      "text/plain": [
       "<Figure size 640x480 with 1 Axes>"
      ]
     },
     "metadata": {},
     "output_type": "display_data"
    }
   ],
   "source": [
    "plt.scatter(X,p)"
   ]
  },
  {
   "cell_type": "code",
   "execution_count": 97,
   "id": "fa16a897-a69b-4854-91ed-c5e4c786b4ed",
   "metadata": {},
   "outputs": [
    {
     "data": {
      "text/plain": [
       "array([[1.      , 0.988286],\n",
       "       [0.988286, 1.      ]])"
      ]
     },
     "execution_count": 97,
     "metadata": {},
     "output_type": "execute_result"
    }
   ],
   "source": [
    "np.corrcoef(X,Y)"
   ]
  },
  {
   "cell_type": "code",
   "execution_count": 99,
   "id": "407c4bd8-6cb8-4d7f-bf66-c41cffb115ce",
   "metadata": {},
   "outputs": [
    {
     "data": {
      "text/plain": [
       "array([[ 1.      , -0.959855],\n",
       "       [-0.959855,  1.      ]])"
      ]
     },
     "execution_count": 99,
     "metadata": {},
     "output_type": "execute_result"
    }
   ],
   "source": [
    "np.corrcoef(X,Z)"
   ]
  },
  {
   "cell_type": "code",
   "execution_count": 101,
   "id": "c2eccbea-8134-420d-8320-6df51fc49153",
   "metadata": {},
   "outputs": [
    {
     "data": {
      "text/plain": [
       "array([[1.      , 0.024336],\n",
       "       [0.024336, 1.      ]])"
      ]
     },
     "execution_count": 101,
     "metadata": {},
     "output_type": "execute_result"
    }
   ],
   "source": [
    "np.corrcoef(X,p)"
   ]
  },
  {
   "cell_type": "code",
   "execution_count": 103,
   "id": "ee98eb71-a0d4-4cf1-b967-166565ac8a55",
   "metadata": {},
   "outputs": [
    {
     "data": {
      "text/plain": [
       "array([[ 1.      , -0.952646],\n",
       "       [-0.952646,  1.      ]])"
      ]
     },
     "execution_count": 103,
     "metadata": {},
     "output_type": "execute_result"
    }
   ],
   "source": [
    "np.corrcoef(Z,Y)"
   ]
  },
  {
   "cell_type": "code",
   "execution_count": 105,
   "id": "a846c7be-40d3-411c-ad53-e57dd99b652e",
   "metadata": {},
   "outputs": [],
   "source": [
    "from scipy.stats import pearsonr"
   ]
  },
  {
   "cell_type": "code",
   "execution_count": 107,
   "id": "e34f7558-dfbc-47fb-a26b-666910b5ee3e",
   "metadata": {},
   "outputs": [
    {
     "data": {
      "text/plain": [
       "PearsonRResult(statistic=0.9882860979054641, pvalue=8.122066363682317e-08)"
      ]
     },
     "execution_count": 107,
     "metadata": {},
     "output_type": "execute_result"
    }
   ],
   "source": [
    "pearsonr (X,Y)"
   ]
  },
  {
   "cell_type": "code",
   "execution_count": 109,
   "id": "f6c756a4-372d-4a58-a39e-8e4edbbcfec1",
   "metadata": {},
   "outputs": [
    {
     "data": {
      "text/plain": [
       "PearsonRResult(statistic=-0.9598548032528608, pvalue=1.0825184043341518e-05)"
      ]
     },
     "execution_count": 109,
     "metadata": {},
     "output_type": "execute_result"
    }
   ],
   "source": [
    "pearsonr (X,Z)"
   ]
  },
  {
   "cell_type": "code",
   "execution_count": 111,
   "id": "ce2c9a57-4775-45e4-aad8-8da6f32898a2",
   "metadata": {},
   "outputs": [
    {
     "data": {
      "text/plain": [
       "PearsonRResult(statistic=-0.9526458313358077, pvalue=2.0773787296016262e-05)"
      ]
     },
     "execution_count": 111,
     "metadata": {},
     "output_type": "execute_result"
    }
   ],
   "source": [
    "pearsonr (Z,Y)"
   ]
  },
  {
   "cell_type": "code",
   "execution_count": 113,
   "id": "7978d7f1-1137-421b-852c-d9789736fbe5",
   "metadata": {},
   "outputs": [
    {
     "data": {
      "text/plain": [
       "PearsonRResult(statistic=0.024336195591384058, pvalue=0.9467960896459808)"
      ]
     },
     "execution_count": 113,
     "metadata": {},
     "output_type": "execute_result"
    }
   ],
   "source": [
    "pearsonr (X,p)"
   ]
  },
  {
   "cell_type": "code",
   "execution_count": 115,
   "id": "6cd9a177-47de-4d6e-8864-9cad98c72bb1",
   "metadata": {},
   "outputs": [],
   "source": [
    "a = np.arange(1,11)\n",
    "b= np.arange(10,101,10)"
   ]
  },
  {
   "cell_type": "code",
   "execution_count": 117,
   "id": "ea247d9c-f110-4cf0-950d-e0bbc3fe6afb",
   "metadata": {},
   "outputs": [
    {
     "data": {
      "text/plain": [
       "array([ 1,  2,  3,  4,  5,  6,  7,  8,  9, 10])"
      ]
     },
     "execution_count": 117,
     "metadata": {},
     "output_type": "execute_result"
    }
   ],
   "source": [
    "a"
   ]
  },
  {
   "cell_type": "code",
   "execution_count": 119,
   "id": "c5ab829e-c550-45a8-bfdf-cfe34352525d",
   "metadata": {},
   "outputs": [
    {
     "data": {
      "text/plain": [
       "array([ 10,  20,  30,  40,  50,  60,  70,  80,  90, 100])"
      ]
     },
     "execution_count": 119,
     "metadata": {},
     "output_type": "execute_result"
    }
   ],
   "source": [
    "b"
   ]
  },
  {
   "cell_type": "code",
   "execution_count": 121,
   "id": "5fa2aa31-3a47-4a72-b65b-8a1b471f2f36",
   "metadata": {},
   "outputs": [
    {
     "data": {
      "text/plain": [
       "PearsonRResult(statistic=1.0, pvalue=0.0)"
      ]
     },
     "execution_count": 121,
     "metadata": {},
     "output_type": "execute_result"
    }
   ],
   "source": [
    "pearsonr (a,b)"
   ]
  },
  {
   "cell_type": "markdown",
   "id": "153da235-c407-49d2-8e45-dcbccdd25268",
   "metadata": {},
   "source": [
    "Variance"
   ]
  },
  {
   "cell_type": "code",
   "execution_count": 124,
   "id": "bfd71243-b216-4ef1-9e0e-a4b07f28297b",
   "metadata": {},
   "outputs": [],
   "source": [
    "num= np.array([67,23,54,17,53,28,55,34,84])"
   ]
  },
  {
   "cell_type": "code",
   "execution_count": 130,
   "id": "e5484a98-a20e-409c-9d3c-ca7e56e8ed6f",
   "metadata": {},
   "outputs": [],
   "source": [
    "avg = np.average(num)"
   ]
  },
  {
   "cell_type": "code",
   "execution_count": 142,
   "id": "9575ab3b-7e9d-433d-b88b-d2cdcd3d4b06",
   "metadata": {},
   "outputs": [],
   "source": [
    "variance = np.sum((num-avg)**2)/np.size(num)"
   ]
  },
  {
   "cell_type": "code",
   "execution_count": 144,
   "id": "4203a3d6-1243-450d-9c39-c50dd9262d43",
   "metadata": {},
   "outputs": [
    {
     "data": {
      "text/plain": [
       "435.209877"
      ]
     },
     "execution_count": 144,
     "metadata": {},
     "output_type": "execute_result"
    }
   ],
   "source": [
    "variance"
   ]
  },
  {
   "cell_type": "code",
   "execution_count": 146,
   "id": "c3170136-9153-4b1b-9ceb-8154667e8407",
   "metadata": {},
   "outputs": [
    {
     "data": {
      "text/plain": [
       "435.209877"
      ]
     },
     "execution_count": 146,
     "metadata": {},
     "output_type": "execute_result"
    }
   ],
   "source": [
    "num.var()"
   ]
  },
  {
   "cell_type": "code",
   "execution_count": 148,
   "id": "390d3cd2-1631-447a-83b0-bb1114224bed",
   "metadata": {},
   "outputs": [
    {
     "data": {
      "text/plain": [
       "46.111111"
      ]
     },
     "execution_count": 148,
     "metadata": {},
     "output_type": "execute_result"
    }
   ],
   "source": [
    "avg"
   ]
  },
  {
   "cell_type": "code",
   "execution_count": 150,
   "id": "adc1eadf-68f8-4453-a60c-e9fae431cb13",
   "metadata": {},
   "outputs": [
    {
     "data": {
      "text/plain": [
       "20.861684"
      ]
     },
     "execution_count": 150,
     "metadata": {},
     "output_type": "execute_result"
    }
   ],
   "source": [
    "np.sqrt(variance)"
   ]
  },
  {
   "cell_type": "code",
   "execution_count": 152,
   "id": "e3c94202-c57f-49f9-a56b-06207d4aa78c",
   "metadata": {},
   "outputs": [
    {
     "data": {
      "text/plain": [
       "20.861684"
      ]
     },
     "execution_count": 152,
     "metadata": {},
     "output_type": "execute_result"
    }
   ],
   "source": [
    "num.std()"
   ]
  },
  {
   "cell_type": "code",
   "execution_count": 160,
   "id": "021719f4-2859-4cea-a9e6-5c399f13884f",
   "metadata": {},
   "outputs": [
    {
     "data": {
      "text/plain": [
       "<matplotlib.collections.PathCollection at 0x17ddf95d3a0>"
      ]
     },
     "execution_count": 160,
     "metadata": {},
     "output_type": "execute_result"
    },
    {
     "data": {
      "image/png": "[encoded data removed]",
      "text/plain": [
       "<Figure size 640x480 with 1 Axes>"
      ]
     },
     "metadata": {},
     "output_type": "display_data"
    }
   ],
   "source": [
    "plt.scatter(num, range(len(num)))\n",
    "plt.scatter([num.mean()],[4.5])"
   ]
  },
  {
   "cell_type": "markdown",
   "id": "ad1c6651-27f3-4d0f-bbce-cf619e5698a9",
   "metadata": {},
   "source": [
    "Z- score"
   ]
  },
  {
   "cell_type": "code",
   "execution_count": 170,
   "id": "df70646c-f7a9-4d10-a958-083361869701",
   "metadata": {},
   "outputs": [],
   "source": [
    "def zscore(n):\n",
    "    z = (n-n.mean()) / n.std()\n",
    "    return z"
   ]
  },
  {
   "cell_type": "code",
   "execution_count": 166,
   "id": "28a10f30-5194-4346-b321-a48ec8b97ed3",
   "metadata": {},
   "outputs": [
    {
     "data": {
      "text/plain": [
       "array([67, 23, 54, 17, 53, 28, 55, 34, 84])"
      ]
     },
     "execution_count": 166,
     "metadata": {},
     "output_type": "execute_result"
    }
   ],
   "source": [
    "num"
   ]
  },
  {
   "cell_type": "code",
   "execution_count": 172,
   "id": "58d4c0b7-4d8d-43ee-b99e-bcdc92272883",
   "metadata": {},
   "outputs": [
    {
     "data": {
      "text/plain": [
       "array([ 1.001304, -1.107826,  0.378152, -1.395434,  0.330217, -0.868152,\n",
       "        0.426087, -0.580543,  1.816195])"
      ]
     },
     "execution_count": 172,
     "metadata": {},
     "output_type": "execute_result"
    }
   ],
   "source": [
    "zscore(num)"
   ]
  },
  {
   "cell_type": "code",
   "execution_count": 174,
   "id": "3861cb71-e0df-49ff-8643-7e21d4789a4f",
   "metadata": {},
   "outputs": [
    {
     "data": {
      "text/plain": [
       "-0.000000"
      ]
     },
     "execution_count": 174,
     "metadata": {},
     "output_type": "execute_result"
    }
   ],
   "source": [
    "zscore(num).mean()"
   ]
  },
  {
   "cell_type": "code",
   "execution_count": 176,
   "id": "dc8c66f2-8ed4-49ae-a267-734f40306589",
   "metadata": {},
   "outputs": [],
   "source": [
    "num1=np.arange(1,11)\n",
    "num2=np.arange(10,101,10)"
   ]
  },
  {
   "cell_type": "code",
   "execution_count": 178,
   "id": "74388433-84e9-4f73-a02e-428abf4762b8",
   "metadata": {},
   "outputs": [],
   "source": [
    "num3=np.arange(100,1001,100)"
   ]
  },
  {
   "cell_type": "code",
   "execution_count": 180,
   "id": "3e07b33b-1fcd-4c27-a1a5-f20a24b95297",
   "metadata": {},
   "outputs": [
    {
     "data": {
      "text/plain": [
       "array([ 1,  2,  3,  4,  5,  6,  7,  8,  9, 10])"
      ]
     },
     "execution_count": 180,
     "metadata": {},
     "output_type": "execute_result"
    }
   ],
   "source": [
    "num1"
   ]
  },
  {
   "cell_type": "code",
   "execution_count": 182,
   "id": "daa4ae6a-1270-4559-ba9d-7f6d6a415a43",
   "metadata": {},
   "outputs": [
    {
     "data": {
      "text/plain": [
       "array([ 10,  20,  30,  40,  50,  60,  70,  80,  90, 100])"
      ]
     },
     "execution_count": 182,
     "metadata": {},
     "output_type": "execute_result"
    }
   ],
   "source": [
    "num2"
   ]
  },
  {
   "cell_type": "code",
   "execution_count": 184,
   "id": "dc10cf0a-1b34-495a-bd87-4b4edd4eb6e7",
   "metadata": {},
   "outputs": [
    {
     "data": {
      "text/plain": [
       "array([ 100,  200,  300,  400,  500,  600,  700,  800,  900, 1000])"
      ]
     },
     "execution_count": 184,
     "metadata": {},
     "output_type": "execute_result"
    }
   ],
   "source": [
    "num3"
   ]
  },
  {
   "cell_type": "code",
   "execution_count": 186,
   "id": "e76fdfed-d67c-4051-ba3a-96ebddb13c52",
   "metadata": {},
   "outputs": [
    {
     "data": {
      "text/plain": [
       "array([-1.566699, -1.218544, -0.870388, -0.522233, -0.174078,  0.174078,\n",
       "        0.522233,  0.870388,  1.218544,  1.566699])"
      ]
     },
     "execution_count": 186,
     "metadata": {},
     "output_type": "execute_result"
    }
   ],
   "source": [
    "zscore(num1)"
   ]
  },
  {
   "cell_type": "code",
   "execution_count": 188,
   "id": "b9eaf9d6-44fe-4884-859e-451dfa74d1fe",
   "metadata": {},
   "outputs": [
    {
     "data": {
      "text/plain": [
       "array([-1.566699, -1.218544, -0.870388, -0.522233, -0.174078,  0.174078,\n",
       "        0.522233,  0.870388,  1.218544,  1.566699])"
      ]
     },
     "execution_count": 188,
     "metadata": {},
     "output_type": "execute_result"
    }
   ],
   "source": [
    "zscore(num2)"
   ]
  },
  {
   "cell_type": "code",
   "execution_count": 190,
   "id": "7076ee45-1da1-4fff-83bf-0844fa6264e3",
   "metadata": {},
   "outputs": [
    {
     "data": {
      "text/plain": [
       "array([-1.566699, -1.218544, -0.870388, -0.522233, -0.174078,  0.174078,\n",
       "        0.522233,  0.870388,  1.218544,  1.566699])"
      ]
     },
     "execution_count": 190,
     "metadata": {},
     "output_type": "execute_result"
    }
   ],
   "source": [
    "zscore(num3)"
   ]
  },
  {
   "cell_type": "code",
   "execution_count": 196,
   "id": "753b3f15-0f0f-446f-918d-abc6ddcece7a",
   "metadata": {},
   "outputs": [
    {
     "data": {
      "text/plain": [
       "1.000000"
      ]
     },
     "execution_count": 196,
     "metadata": {},
     "output_type": "execute_result"
    }
   ],
   "source": [
    "zscore(num3).std()"
   ]
  },
  {
   "cell_type": "code",
   "execution_count": 192,
   "id": "33657aad-b8bc-4687-99bb-20991035caf2",
   "metadata": {},
   "outputs": [
    {
     "data": {
      "text/plain": [
       "<matplotlib.collections.PathCollection at 0x17ddfa20fe0>"
      ]
     },
     "execution_count": 192,
     "metadata": {},
     "output_type": "execute_result"
    },
    {
     "data": {
      "image/png": "[encoded data removed]",
      "text/plain": [
       "<Figure size 640x480 with 2 Axes>"
      ]
     },
     "metadata": {},
     "output_type": "display_data"
    }
   ],
   "source": [
    "plt.subplot(1,2,1)\n",
    "plt.scatter(num, range(len(num)))\n",
    "plt.subplot(1,2,2)\n",
    "plt.scatter(num, range(len(num)))"
   ]
  },
  {
   "cell_type": "code",
   "execution_count": 198,
   "id": "a994da7f-5896-4d53-a241-df09c7143859",
   "metadata": {},
   "outputs": [
    {
     "data": {
      "text/plain": [
       "1.000000"
      ]
     },
     "execution_count": 198,
     "metadata": {},
     "output_type": "execute_result"
    }
   ],
   "source": [
    "zscore(num).std()"
   ]
  },
  {
   "cell_type": "code",
   "execution_count": 200,
   "id": "0160ad43-ed3f-4f72-82c8-08ef1ba893bf",
   "metadata": {},
   "outputs": [],
   "source": [
    "M= np.array([[45,2,23000],[67,4,18000],[52,5,25600],[49,3,24500],[63,6,21900]], dtype=np.int16)"
   ]
  },
  {
   "cell_type": "code",
   "execution_count": 202,
   "id": "4aca8174-f6c1-4fe7-a315-8e0753759362",
   "metadata": {},
   "outputs": [
    {
     "data": {
      "text/plain": [
       "array([[   45,     2, 23000],\n",
       "       [   67,     4, 18000],\n",
       "       [   52,     5, 25600],\n",
       "       [   49,     3, 24500],\n",
       "       [   63,     6, 21900]], dtype=int16)"
      ]
     },
     "execution_count": 202,
     "metadata": {},
     "output_type": "execute_result"
    }
   ],
   "source": [
    "M"
   ]
  },
  {
   "cell_type": "code",
   "execution_count": 206,
   "id": "efecebb0-86da-418a-bda1-08e72209a334",
   "metadata": {},
   "outputs": [],
   "source": [
    "from sklearn.preprocessing import StandardScaler"
   ]
  },
  {
   "cell_type": "code",
   "execution_count": 210,
   "id": "ecba9a04-4602-4ffa-a109-552cba38fbc1",
   "metadata": {},
   "outputs": [],
   "source": [
    "scaler =StandardScaler()"
   ]
  },
  {
   "cell_type": "code",
   "execution_count": 216,
   "id": "ebf7c905-e1d8-4a4d-bf3e-47451c45faca",
   "metadata": {},
   "outputs": [],
   "source": [
    "M_scaled= scaler.fit_transform(M)"
   ]
  },
  {
   "cell_type": "code",
   "execution_count": 218,
   "id": "2b06072d-1afd-460a-9eb2-ab480383ecc4",
   "metadata": {},
   "outputs": [
    {
     "data": {
      "text/plain": [
       "array([[-1.214286, -1.414214,  0.152454],\n",
       "       [ 1.404762,  0.      , -1.753224],\n",
       "       [-0.380952,  0.707107,  1.143407],\n",
       "       [-0.738095, -0.707107,  0.724158],\n",
       "       [ 0.928571,  1.414214, -0.266795]])"
      ]
     },
     "execution_count": 218,
     "metadata": {},
     "output_type": "execute_result"
    }
   ],
   "source": [
    "M_scaled"
   ]
  },
  {
   "cell_type": "code",
   "execution_count": 244,
   "id": "f062e2a6-534c-4c15-9ce6-7d9dc03525bf",
   "metadata": {},
   "outputs": [
    {
     "data": {
      "text/plain": [
       "array([8.400000e+00, 1.414214e+00, 2.623738e+03])"
      ]
     },
     "execution_count": 244,
     "metadata": {},
     "output_type": "execute_result"
    }
   ],
   "source": [
    "M.std(axis=0)"
   ]
  },
  {
   "cell_type": "code",
   "execution_count": 242,
   "id": "a91cff8a-e74e-4621-8223-c204e277f776",
   "metadata": {},
   "outputs": [
    {
     "data": {
      "text/plain": [
       "array([1., 1., 1.])"
      ]
     },
     "execution_count": 242,
     "metadata": {},
     "output_type": "execute_result"
    }
   ],
   "source": [
    "M_scaled.std(axis=0)"
   ]
  },
  {
   "cell_type": "code",
   "execution_count": 246,
   "id": "45579dc7-fc0a-4d12-b5a2-6b24cd5ea023",
   "metadata": {},
   "outputs": [
    {
     "data": {
      "text/plain": [
       "array([-3.330669e-16,  0.000000e+00, -4.440892e-17])"
      ]
     },
     "execution_count": 246,
     "metadata": {},
     "output_type": "execute_result"
    }
   ],
   "source": [
    "M_scaled.mean(axis=0)"
   ]
  },
  {
   "cell_type": "code",
   "execution_count": 248,
   "id": "93d91861-c150-48e1-8d53-7e142ea67aee",
   "metadata": {},
   "outputs": [
    {
     "data": {
      "text/plain": [
       "array([[ 0.727066, -1.130336,  0.424901,  0.705773, -0.727405],\n",
       "       [-1.130336,  2.503338, -1.18455 , -1.195105,  1.006654],\n",
       "       [ 0.424901, -1.18455 ,  0.616317,  0.481196, -0.337864],\n",
       "       [ 0.705773, -1.195105,  0.481196,  0.697944, -0.689808],\n",
       "       [-0.727405,  1.006654, -0.337864, -0.689808,  0.748423]])"
      ]
     },
     "execution_count": 248,
     "metadata": {},
     "output_type": "execute_result"
    }
   ],
   "source": [
    "np.cov(M_scaled)"
   ]
  },
  {
   "cell_type": "code",
   "execution_count": 250,
   "id": "1bd384bc-7317-4d9a-ba37-691c00595088",
   "metadata": {},
   "outputs": [],
   "source": [
    "x= np.array([4,4,4,4,4,4,4,4,4,4,4]) "
   ]
  },
  {
   "cell_type": "code",
   "execution_count": 252,
   "id": "232bed57-6877-4085-91e9-740ead635f81",
   "metadata": {},
   "outputs": [
    {
     "data": {
      "text/plain": [
       "0.000000"
      ]
     },
     "execution_count": 252,
     "metadata": {},
     "output_type": "execute_result"
    }
   ],
   "source": [
    "x.var()"
   ]
  },
  {
   "cell_type": "code",
   "execution_count": 254,
   "id": "84541083-3a33-4c95-937a-fa61e255bfd6",
   "metadata": {},
   "outputs": [
    {
     "data": {
      "text/plain": [
       "0.000000"
      ]
     },
     "execution_count": 254,
     "metadata": {},
     "output_type": "execute_result"
    }
   ],
   "source": [
    "x.std()"
   ]
  },
  {
   "cell_type": "code",
   "execution_count": null,
   "id": "76614db1-ea1a-440d-abf0-cd12fb3471f0",
   "metadata": {},
   "outputs": [],
   "source": [
    "Principal Component Analysis"
   ]
  },
  {
   "cell_type": "code",
   "execution_count": 256,
   "id": "87ca115a-ce3f-4b43-b2f6-4db222cda596",
   "metadata": {},
   "outputs": [],
   "source": [
    "M= np.array([[45,2,23000,405],[67,4,18000,410],[52,5,25600,567],[49,3,24500,398],[63,6,21900,411],[55,8,26800,500],\n",
    "             [51,2,26700,465],[60,7,28000,489]], dtype=np.int16)"
   ]
  },
  {
   "cell_type": "code",
   "execution_count": 258,
   "id": "4554cec5-362e-44b3-b3c5-d6d392457964",
   "metadata": {},
   "outputs": [
    {
     "data": {
      "text/plain": [
       "array([[   45,     2, 23000,   405],\n",
       "       [   67,     4, 18000,   410],\n",
       "       [   52,     5, 25600,   567],\n",
       "       [   49,     3, 24500,   398],\n",
       "       [   63,     6, 21900,   411],\n",
       "       [   55,     8, 26800,   500],\n",
       "       [   51,     2, 26700,   465],\n",
       "       [   60,     7, 28000,   489]], dtype=int16)"
      ]
     },
     "execution_count": 258,
     "metadata": {},
     "output_type": "execute_result"
    }
   ],
   "source": [
    "M"
   ]
  },
  {
   "cell_type": "markdown",
   "id": "f3ca89a9-db73-4f69-aa94-3896f3974a74",
   "metadata": {},
   "source": [
    "1.Standardization"
   ]
  },
  {
   "cell_type": "code",
   "execution_count": 261,
   "id": "a3db766f-43cf-4f01-ad9b-1553d09decb9",
   "metadata": {},
   "outputs": [],
   "source": [
    "std= np.std(M, axis=0)\n",
    "mean=np.mean(M, axis=0)"
   ]
  },
  {
   "cell_type": "code",
   "execution_count": 263,
   "id": "2c81c4e9-140c-4188-9feb-de36fdd24c8c",
   "metadata": {},
   "outputs": [],
   "source": [
    "M_standardized =(M - mean) / std"
   ]
  },
  {
   "cell_type": "code",
   "execution_count": 265,
   "id": "65f5bb52-2fbd-4340-a580-47de5a7948b7",
   "metadata": {},
   "outputs": [
    {
     "data": {
      "text/plain": [
       "array([[-1.461492, -1.239591, -0.429898, -0.896125],\n",
       "       [ 1.675369, -0.295141, -2.067607, -0.807619],\n",
       "       [-0.4634  ,  0.177084,  0.42171 ,  1.971475],\n",
       "       [-0.891154, -0.767366,  0.061414, -1.020034],\n",
       "       [ 1.105031,  0.649309, -0.790194, -0.789918],\n",
       "       [-0.035646,  1.59376 ,  0.81476 ,  0.785492],\n",
       "       [-0.605985, -1.239591,  0.782006,  0.165949],\n",
       "       [ 0.677277,  1.121535,  1.20781 ,  0.590779]])"
      ]
     },
     "execution_count": 265,
     "metadata": {},
     "output_type": "execute_result"
    }
   ],
   "source": [
    "M_standardized "
   ]
  },
  {
   "cell_type": "code",
   "execution_count": 267,
   "id": "aceb67cb-2917-43ce-be11-c48980de5cdf",
   "metadata": {},
   "outputs": [
    {
     "data": {
      "text/plain": [
       "array([1., 1., 1., 1.])"
      ]
     },
     "execution_count": 267,
     "metadata": {},
     "output_type": "execute_result"
    }
   ],
   "source": [
    "M_standardized.std(axis=0) "
   ]
  },
  {
   "cell_type": "markdown",
   "id": "0bbe214c-d689-4813-a265-b1d285c4bdda",
   "metadata": {},
   "source": [
    "2. Compute covariance matrix"
   ]
  },
  {
   "cell_type": "code",
   "execution_count": 270,
   "id": "62109ded-4c54-430c-b893-a627d21e4982",
   "metadata": {},
   "outputs": [],
   "source": [
    "covariance_matrix= np.cov(M_standardized.T)"
   ]
  },
  {
   "cell_type": "code",
   "execution_count": 272,
   "id": "7023bedd-7cce-40ff-9ef3-5fdf7306b54c",
   "metadata": {},
   "outputs": [
    {
     "data": {
      "text/plain": [
       "array([[ 1.142857,  0.584346, -0.520565, -0.092754],\n",
       "       [ 0.584346,  1.142857,  0.334481,  0.525272],\n",
       "       [-0.520565,  0.334481,  1.142857,  0.704475],\n",
       "       [-0.092754,  0.525272,  0.704475,  1.142857]])"
      ]
     },
     "execution_count": 272,
     "metadata": {},
     "output_type": "execute_result"
    }
   ],
   "source": [
    "covariance_matrix"
   ]
  },
  {
   "cell_type": "markdown",
   "id": "4f266f02-8a8a-48c2-93c9-fdfa8cea6a6c",
   "metadata": {},
   "source": [
    "3.Calculate eigenvector and eigenvalues"
   ]
  },
  {
   "cell_type": "code",
   "execution_count": 279,
   "id": "c6703219-7b5a-4531-95c1-5bc9e8eaefc7",
   "metadata": {},
   "outputs": [],
   "source": [
    "eigenvalues, eigenvectors= np.linalg.eig(covariance_matrix)"
   ]
  },
  {
   "cell_type": "code",
   "execution_count": 281,
   "id": "4dac1456-191f-4669-9f3b-a2847f3d49b2",
   "metadata": {},
   "outputs": [
    {
     "data": {
      "text/plain": [
       "array([2.208185, 1.777396, 0.17479 , 0.411057])"
      ]
     },
     "execution_count": 281,
     "metadata": {},
     "output_type": "execute_result"
    }
   ],
   "source": [
    "eigenvalues"
   ]
  },
  {
   "cell_type": "code",
   "execution_count": 283,
   "id": "b072f71a-68d6-40bc-8dde-50ba44e4b50c",
   "metadata": {},
   "outputs": [
    {
     "data": {
      "text/plain": [
       "array([[ 0.111852,  0.765685,  0.6231  ,  0.113849],\n",
       "       [-0.44695 ,  0.568497, -0.539574, -0.431169],\n",
       "       [-0.616923, -0.299783,  0.563299, -0.460685],\n",
       "       [-0.638068,  0.025854, -0.057446,  0.767399]])"
      ]
     },
     "execution_count": 283,
     "metadata": {},
     "output_type": "execute_result"
    }
   ],
   "source": [
    "eigenvectors"
   ]
  },
  {
   "cell_type": "markdown",
   "id": "f5f90b54-0d11-4f2d-82f5-25a2396969e2",
   "metadata": {},
   "source": [
    "Sort eigenvalues and eigenvectors"
   ]
  },
  {
   "cell_type": "code",
   "execution_count": 288,
   "id": "0d9304d4-9e8d-42dc-a854-df6661545f0c",
   "metadata": {},
   "outputs": [],
   "source": [
    "sorted_index = np.argsort(eigenvalues)[::-1]"
   ]
  },
  {
   "cell_type": "code",
   "execution_count": 290,
   "id": "19cd3c02-cbb0-40da-894e-13a973471cbc",
   "metadata": {},
   "outputs": [
    {
     "data": {
      "text/plain": [
       "array([0, 1, 3, 2], dtype=int64)"
      ]
     },
     "execution_count": 290,
     "metadata": {},
     "output_type": "execute_result"
    }
   ],
   "source": [
    "sorted_index"
   ]
  },
  {
   "cell_type": "code",
   "execution_count": 292,
   "id": "f80615ab-9baa-4e27-9278-9b31e7eecd92",
   "metadata": {},
   "outputs": [
    {
     "data": {
      "text/plain": [
       "array([2.208185, 1.777396, 0.411057, 0.17479 ])"
      ]
     },
     "execution_count": 292,
     "metadata": {},
     "output_type": "execute_result"
    }
   ],
   "source": [
    "sorted_eigenvalues = eigenvalues[sorted_index]\n",
    "sorted_eigenvalues"
   ]
  },
  {
   "cell_type": "code",
   "execution_count": 296,
   "id": "c6e944b2-54ba-47be-92f6-edaf38fd03a6",
   "metadata": {},
   "outputs": [
    {
     "data": {
      "text/plain": [
       "array([[ 0.111852,  0.765685,  0.113849,  0.6231  ],\n",
       "       [-0.44695 ,  0.568497, -0.431169, -0.539574],\n",
       "       [-0.616923, -0.299783, -0.460685,  0.563299],\n",
       "       [-0.638068,  0.025854,  0.767399, -0.057446]])"
      ]
     },
     "execution_count": 296,
     "metadata": {},
     "output_type": "execute_result"
    }
   ],
   "source": [
    "sorted_eigenvectors = eigenvectors[:, sorted_index]\n",
    "sorted_eigenvectors"
   ]
  },
  {
   "cell_type": "markdown",
   "id": "a61d9087-5500-471d-bd1d-a1dfad873b3c",
   "metadata": {},
   "source": [
    "Combine feature vectors"
   ]
  },
  {
   "cell_type": "code",
   "execution_count": 299,
   "id": "ed4bc1c7-9de2-46ae-ac9d-97766cb3a07a",
   "metadata": {},
   "outputs": [],
   "source": [
    "M_pca = np.dot(M_standardized, sorted_eigenvectors)"
   ]
  },
  {
   "cell_type": "code",
   "execution_count": 301,
   "id": "08206590-d715-4653-9e9f-5890520a12bb",
   "metadata": {},
   "outputs": [
    {
     "data": {
      "text/plain": [
       "array([[ 1.227568, -1.718038, -0.121554, -0.432487],\n",
       "       [ 2.110177,  1.713971,  0.650745,  0.084888],\n",
       "       [-1.649078, -0.329597,  1.189521, -0.26    ],\n",
       "       [ 0.85626 , -1.163371, -0.581658, -0.048036],\n",
       "       [ 0.824901,  1.4317  , -0.396306, -0.061543],\n",
       "       [-1.72016 ,  0.654811, -0.4638  , -0.468333],\n",
       "       [-0.10207 , -1.398838,  0.232573,  0.722232],\n",
       "       [-1.547598,  0.809363, -0.509521,  0.46328 ]])"
      ]
     },
     "execution_count": 301,
     "metadata": {},
     "output_type": "execute_result"
    }
   ],
   "source": [
    "M_pca"
   ]
  },
  {
   "cell_type": "code",
   "execution_count": 307,
   "id": "6f2bf0bb-52af-4943-a8ac-2d403394d41c",
   "metadata": {},
   "outputs": [
    {
     "data": {
      "text/plain": [
       "PearsonRResult(statistic=-3.469446951953614e-16, pvalue=0.9999999999999991)"
      ]
     },
     "execution_count": 307,
     "metadata": {},
     "output_type": "execute_result"
    }
   ],
   "source": [
    "pearsonr(M_pca[:,0],M_pca[:,1])"
   ]
  },
  {
   "cell_type": "code",
   "execution_count": 309,
   "id": "8d092d13-61ff-466e-a199-56b2bcfbe329",
   "metadata": {},
   "outputs": [
    {
     "data": {
      "text/plain": [
       "PearsonRResult(statistic=-1.942890293094024e-16, pvalue=0.9999999999999996)"
      ]
     },
     "execution_count": 309,
     "metadata": {},
     "output_type": "execute_result"
    }
   ],
   "source": [
    "pearsonr(M_pca[:,1],M_pca[:,2])"
   ]
  },
  {
   "cell_type": "code",
   "execution_count": 311,
   "id": "aa5ea3db-c463-4538-90e7-c81d08c36cdb",
   "metadata": {},
   "outputs": [
    {
     "data": {
      "text/plain": [
       "PearsonRResult(statistic=-1.1102230246251565e-16, pvalue=1.0)"
      ]
     },
     "execution_count": 311,
     "metadata": {},
     "output_type": "execute_result"
    }
   ],
   "source": [
    "pearsonr(M_pca[:,3],M_pca[:,2])"
   ]
  },
  {
   "cell_type": "code",
   "execution_count": 315,
   "id": "a8013c7e-c432-42d2-a8c7-3d8d5b387366",
   "metadata": {},
   "outputs": [
    {
     "data": {
      "text/plain": [
       "array([1.932162, 1.555222, 0.359675, 0.152941])"
      ]
     },
     "execution_count": 315,
     "metadata": {},
     "output_type": "execute_result"
    }
   ],
   "source": [
    "M_pca.var(axis=0)"
   ]
  },
  {
   "cell_type": "markdown",
   "id": "a3d30723-ed27-4031-a5ca-11262bc17e72",
   "metadata": {},
   "source": [
    "PCA using library"
   ]
  },
  {
   "cell_type": "code",
   "execution_count": 322,
   "id": "795fc203-90d2-4c91-ab83-7f3f06fb6150",
   "metadata": {},
   "outputs": [
    {
     "data": {
      "text/plain": [
       "array([[   45,     2, 23000,   405],\n",
       "       [   67,     4, 18000,   410],\n",
       "       [   52,     5, 25600,   567],\n",
       "       [   49,     3, 24500,   398],\n",
       "       [   63,     6, 21900,   411],\n",
       "       [   55,     8, 26800,   500],\n",
       "       [   51,     2, 26700,   465],\n",
       "       [   60,     7, 28000,   489]], dtype=int16)"
      ]
     },
     "execution_count": 322,
     "metadata": {},
     "output_type": "execute_result"
    }
   ],
   "source": [
    "M"
   ]
  },
  {
   "cell_type": "code",
   "execution_count": 324,
   "id": "1f2796db-aa6f-4f3f-8d37-89f60dac9863",
   "metadata": {},
   "outputs": [],
   "source": [
    "from sklearn.decomposition import PCA"
   ]
  },
  {
   "cell_type": "code",
   "execution_count": 326,
   "id": "ac03e522-3dc1-4519-89a7-26e613e087e6",
   "metadata": {},
   "outputs": [],
   "source": [
    "pca =PCA()"
   ]
  },
  {
   "cell_type": "code",
   "execution_count": 328,
   "id": "9de54f61-c7a0-4008-9a70-0af4cd31d18a",
   "metadata": {},
   "outputs": [],
   "source": [
    "M_pca_new = pca.fit_transform(M_standardized)"
   ]
  },
  {
   "cell_type": "code",
   "execution_count": 332,
   "id": "655ff3e9-5595-4a16-9a2f-5b59ce30c911",
   "metadata": {},
   "outputs": [
    {
     "data": {
      "text/plain": [
       "array([[ 1.227568,  1.718038, -0.121554, -0.432487],\n",
       "       [ 2.110177, -1.713971,  0.650745,  0.084888],\n",
       "       [-1.649078,  0.329597,  1.189521, -0.26    ],\n",
       "       [ 0.85626 ,  1.163371, -0.581658, -0.048036],\n",
       "       [ 0.824901, -1.4317  , -0.396306, -0.061543],\n",
       "       [-1.72016 , -0.654811, -0.4638  , -0.468333],\n",
       "       [-0.10207 ,  1.398838,  0.232573,  0.722232],\n",
       "       [-1.547598, -0.809363, -0.509521,  0.46328 ]])"
      ]
     },
     "execution_count": 332,
     "metadata": {},
     "output_type": "execute_result"
    }
   ],
   "source": [
    "M_pca_new"
   ]
  },
  {
   "cell_type": "code",
   "execution_count": 334,
   "id": "323d31b0-ea0a-404c-be6b-845acb40843e",
   "metadata": {},
   "outputs": [
    {
     "data": {
      "text/plain": [
       "array([[ 1.227568, -1.718038, -0.121554, -0.432487],\n",
       "       [ 2.110177,  1.713971,  0.650745,  0.084888],\n",
       "       [-1.649078, -0.329597,  1.189521, -0.26    ],\n",
       "       [ 0.85626 , -1.163371, -0.581658, -0.048036],\n",
       "       [ 0.824901,  1.4317  , -0.396306, -0.061543],\n",
       "       [-1.72016 ,  0.654811, -0.4638  , -0.468333],\n",
       "       [-0.10207 , -1.398838,  0.232573,  0.722232],\n",
       "       [-1.547598,  0.809363, -0.509521,  0.46328 ]])"
      ]
     },
     "execution_count": 334,
     "metadata": {},
     "output_type": "execute_result"
    }
   ],
   "source": [
    "M_pca"
   ]
  },
  {
   "cell_type": "code",
   "execution_count": 338,
   "id": "9261d3d6-b829-453c-b876-cd3aadaff45d",
   "metadata": {},
   "outputs": [],
   "source": [
    "var = pca.explained_variance_ratio_"
   ]
  },
  {
   "cell_type": "code",
   "execution_count": 340,
   "id": "2f23eb4e-749e-4f41-8ffe-55e209f016ef",
   "metadata": {},
   "outputs": [
    {
     "data": {
      "text/plain": [
       "array([0.48304 , 0.388805, 0.089919, 0.038235])"
      ]
     },
     "execution_count": 340,
     "metadata": {},
     "output_type": "execute_result"
    }
   ],
   "source": [
    "var"
   ]
  },
  {
   "cell_type": "code",
   "execution_count": 342,
   "id": "f487fb4a-479a-4dea-ba02-55451dd7fbbb",
   "metadata": {},
   "outputs": [
    {
     "data": {
      "text/plain": [
       "[<matplotlib.lines.Line2D at 0x17de1134c50>]"
      ]
     },
     "execution_count": 342,
     "metadata": {},
     "output_type": "execute_result"
    },
    {
     "data": {
      "image/png": "[encoded data removed]",
      "text/plain": [
       "<Figure size 640x480 with 1 Axes>"
      ]
     },
     "metadata": {},
     "output_type": "display_data"
    }
   ],
   "source": [
    "plt.xlabel('Principal Components')\n",
    "plt.ylabel('variances')\n",
    "plt.grid()\n",
    "plt.bar(range(4), var)\n",
    "plt.plot(range(4),var, color='y', marker='o')"
   ]
  },
  {
   "cell_type": "code",
   "execution_count": 344,
   "id": "ab431620-6c19-4628-931a-b5ce1f82a1a0",
   "metadata": {},
   "outputs": [],
   "source": [
    "pca= PCA(n_components=2)"
   ]
  },
  {
   "cell_type": "code",
   "execution_count": 346,
   "id": "5b0d3fe7-303e-432a-b599-adbda984b7dc",
   "metadata": {},
   "outputs": [],
   "source": [
    "M_pca2 = pca.fit_transform(M_standardized)"
   ]
  },
  {
   "cell_type": "code",
   "execution_count": 348,
   "id": "999fe737-6ebd-485a-8442-34b784ef8296",
   "metadata": {},
   "outputs": [
    {
     "data": {
      "text/plain": [
       "array([[ 1.227568,  1.718038],\n",
       "       [ 2.110177, -1.713971],\n",
       "       [-1.649078,  0.329597],\n",
       "       [ 0.85626 ,  1.163371],\n",
       "       [ 0.824901, -1.4317  ],\n",
       "       [-1.72016 , -0.654811],\n",
       "       [-0.10207 ,  1.398838],\n",
       "       [-1.547598, -0.809363]])"
      ]
     },
     "execution_count": 348,
     "metadata": {},
     "output_type": "execute_result"
    }
   ],
   "source": [
    "M_pca2"
   ]
  },
  {
   "cell_type": "code",
   "execution_count": 356,
   "id": "5528821c-df41-466b-afe8-a37e8dc8149f",
   "metadata": {},
   "outputs": [],
   "source": [
    "var1 = pca.explained_variance_ratio_"
   ]
  },
  {
   "cell_type": "code",
   "execution_count": 360,
   "id": "7b3da421-9bc9-4d75-96d6-5fafbfc83632",
   "metadata": {},
   "outputs": [
    {
     "data": {
      "text/plain": [
       "[<matplotlib.lines.Line2D at 0x17de1c68140>]"
      ]
     },
     "execution_count": 360,
     "metadata": {},
     "output_type": "execute_result"
    },
    {
     "data": {
      "image/png": "[encoded data removed]",
      "text/plain": [
       "<Figure size 640x480 with 1 Axes>"
      ]
     },
     "metadata": {},
     "output_type": "display_data"
    }
   ],
   "source": [
    "plt.xlabel('Principal Components')\n",
    "plt.ylabel('variances')\n",
    "plt.grid()\n",
    "plt.bar(range(2), var1)\n",
    "plt.plot(range(2),var1, color='y', marker='o')"
   ]
  },
  {
   "cell_type": "code",
   "execution_count": 366,
   "id": "22a65499-44db-4ae8-b542-0e93a54d51db",
   "metadata": {},
   "outputs": [
    {
     "data": {
      "text/plain": [
       "<matplotlib.collections.PathCollection at 0x17de1c4f560>"
      ]
     },
     "execution_count": 366,
     "metadata": {},
     "output_type": "execute_result"
    },
    {
     "data": {
      "image/png": "[encoded data removed]",
      "text/plain": [
       "<Figure size 640x480 with 1 Axes>"
      ]
     },
     "metadata": {},
     "output_type": "display_data"
    }
   ],
   "source": [
    "plt.scatter(M_pca2[:,0], M_pca2[:,1])"
   ]
  },
  {
   "cell_type": "code",
   "execution_count": null,
   "id": "8ceb3824-0c3d-43a3-b10f-c041124de3b2",
   "metadata": {},
   "outputs": [],
   "source": []
  }
 ],
 "metadata": {
  "kernelspec": {
   "display_name": "Python 3 (ipykernel)",
   "language": "python",
   "name": "python3"
  },
  "language_info": {
   "codemirror_mode": {
    "name": "ipython",
    "version": 3
   },
   "file_extension": ".py",
   "mimetype": "text/x-python",
   "name": "python",
   "nbconvert_exporter": "python",
   "pygments_lexer": "ipython3",
   "version": "3.12.4"
  }
 },
 "nbformat": 4,
 "nbformat_minor": 5
}
