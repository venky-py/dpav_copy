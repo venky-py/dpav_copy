{
 "cells": [
  {
   "cell_type": "code",
   "execution_count": 1,
   "id": "7e60ce4d-118f-45fb-8496-04588c13a235",
   "metadata": {},
   "outputs": [],
   "source": [
    "import numpy as np"
   ]
  },
  {
   "cell_type": "code",
   "execution_count": 2,
   "id": "109c3b45-0c3e-4e87-8ab7-cc24c897291e",
   "metadata": {},
   "outputs": [],
   "source": [
    "v1 = np.array([56,33,16,43,27,65,37,86,26,18])"
   ]
  },
  {
   "cell_type": "code",
   "execution_count": 3,
   "id": "8c0d8c27-c251-4b8e-a04c-33c914a62769",
   "metadata": {},
   "outputs": [
    {
     "name": "stdout",
     "output_type": "stream",
     "text": [
      "[56 33 16 43 27 65 37 86 26 18]\n"
     ]
    }
   ],
   "source": [
    "print(v1)"
   ]
  },
  {
   "cell_type": "code",
   "execution_count": 4,
   "id": "a84af204-fc4e-4097-a8e2-8b11a2ae953a",
   "metadata": {},
   "outputs": [
    {
     "data": {
      "text/plain": [
       "numpy.ndarray"
      ]
     },
     "execution_count": 4,
     "metadata": {},
     "output_type": "execute_result"
    }
   ],
   "source": [
    "type(v1)"
   ]
  },
  {
   "cell_type": "code",
   "execution_count": 5,
   "id": "87f49f26-371e-4975-8265-3b2893274254",
   "metadata": {},
   "outputs": [
    {
     "data": {
      "text/plain": [
       "dtype('int32')"
      ]
     },
     "execution_count": 5,
     "metadata": {},
     "output_type": "execute_result"
    }
   ],
   "source": [
    "v1.dtype"
   ]
  },
  {
   "cell_type": "code",
   "execution_count": 6,
   "id": "567e382f-7354-4966-8ae9-46b7366906fd",
   "metadata": {},
   "outputs": [
    {
     "data": {
      "text/plain": [
       "16"
      ]
     },
     "execution_count": 6,
     "metadata": {},
     "output_type": "execute_result"
    }
   ],
   "source": [
    "v1.min()"
   ]
  },
  {
   "cell_type": "code",
   "execution_count": 7,
   "id": "abaeafc2-655c-4f49-a488-dbcfbc0537ae",
   "metadata": {},
   "outputs": [
    {
     "data": {
      "text/plain": [
       "1"
      ]
     },
     "execution_count": 7,
     "metadata": {},
     "output_type": "execute_result"
    }
   ],
   "source": [
    "v1.ndim"
   ]
  },
  {
   "cell_type": "code",
   "execution_count": 8,
   "id": "1b9bb003-1ca4-41eb-93f4-593e0eba799d",
   "metadata": {},
   "outputs": [
    {
     "data": {
      "text/plain": [
       "(10,)"
      ]
     },
     "execution_count": 8,
     "metadata": {},
     "output_type": "execute_result"
    }
   ],
   "source": [
    "v1.shape"
   ]
  },
  {
   "cell_type": "code",
   "execution_count": 9,
   "id": "dcc097a0-37af-4444-97fc-6a932f3ca7ef",
   "metadata": {},
   "outputs": [
    {
     "data": {
      "text/plain": [
       "10"
      ]
     },
     "execution_count": 9,
     "metadata": {},
     "output_type": "execute_result"
    }
   ],
   "source": [
    "v1.size"
   ]
  },
  {
   "cell_type": "code",
   "execution_count": 10,
   "id": "b4510f19-8dc8-4c03-94b7-3279c65be8a1",
   "metadata": {},
   "outputs": [],
   "source": [
    "v1 = np.array([56,33,16,43,27,65,37,86,26,18], dtype = np.int8)"
   ]
  },
  {
   "cell_type": "code",
   "execution_count": 11,
   "id": "477f122a-7c5d-487e-9fac-7db69f2d4bd0",
   "metadata": {},
   "outputs": [
    {
     "data": {
      "text/plain": [
       "dtype('int8')"
      ]
     },
     "execution_count": 11,
     "metadata": {},
     "output_type": "execute_result"
    }
   ],
   "source": [
    "v1.dtype"
   ]
  },
  {
   "cell_type": "code",
   "execution_count": 12,
   "id": "448d47fb-3f90-49af-b81e-021c17d1df0e",
   "metadata": {},
   "outputs": [],
   "source": [
    "from sys import getsizeof"
   ]
  },
  {
   "cell_type": "code",
   "execution_count": 13,
   "id": "fa69a3f7-0a4d-402b-8f46-97a7aea16d16",
   "metadata": {},
   "outputs": [
    {
     "data": {
      "text/plain": [
       "122"
      ]
     },
     "execution_count": 13,
     "metadata": {},
     "output_type": "execute_result"
    }
   ],
   "source": [
    "getsizeof(v1)"
   ]
  },
  {
   "cell_type": "code",
   "execution_count": 14,
   "id": "4e2e7177-a444-42d0-af0f-03b4c9c38f99",
   "metadata": {},
   "outputs": [],
   "source": [
    "# array creation routines"
   ]
  },
  {
   "cell_type": "code",
   "execution_count": 15,
   "id": "c6b7d315-9673-443d-9d6a-9560a0c5a959",
   "metadata": {},
   "outputs": [],
   "source": [
    "v2 = np.arange(10)"
   ]
  },
  {
   "cell_type": "code",
   "execution_count": 16,
   "id": "4bb780e7-2dcf-4dbf-9856-d40654c3e2f6",
   "metadata": {},
   "outputs": [
    {
     "data": {
      "text/plain": [
       "array([0, 1, 2, 3, 4, 5, 6, 7, 8, 9])"
      ]
     },
     "execution_count": 16,
     "metadata": {},
     "output_type": "execute_result"
    }
   ],
   "source": [
    "v2"
   ]
  },
  {
   "cell_type": "code",
   "execution_count": 17,
   "id": "8d07e3f4-aae1-457a-86f6-effd70712548",
   "metadata": {},
   "outputs": [
    {
     "data": {
      "text/plain": [
       "array([4, 5, 6, 7, 8, 9])"
      ]
     },
     "execution_count": 17,
     "metadata": {},
     "output_type": "execute_result"
    }
   ],
   "source": [
    "v2 = np.arange(4,10)\n",
    "v2"
   ]
  },
  {
   "cell_type": "code",
   "execution_count": 18,
   "id": "6a6923e8-2a80-478c-9c59-68a2773883c6",
   "metadata": {},
   "outputs": [
    {
     "data": {
      "text/plain": [
       "array([ 4,  7, 10, 13, 16, 19])"
      ]
     },
     "execution_count": 18,
     "metadata": {},
     "output_type": "execute_result"
    }
   ],
   "source": [
    "v2=np.arange(4,20,3)\n",
    "v2"
   ]
  },
  {
   "cell_type": "code",
   "execution_count": 19,
   "id": "d1652949-8101-428f-a907-cb77712cbc3c",
   "metadata": {},
   "outputs": [
    {
     "data": {
      "text/plain": [
       "array([10,  9,  8,  7,  6,  5,  4,  3,  2,  1])"
      ]
     },
     "execution_count": 19,
     "metadata": {},
     "output_type": "execute_result"
    }
   ],
   "source": [
    "v2=np.arange(10,0,-1)\n",
    "v2"
   ]
  },
  {
   "cell_type": "code",
   "execution_count": 20,
   "id": "8fad977c-5416-4e54-b607-b3fadadce941",
   "metadata": {},
   "outputs": [
    {
     "data": {
      "text/plain": [
       "array([1. , 1.5, 2. , 2.5, 3. , 3.5, 4. , 4.5, 5. , 5.5, 6. , 6.5, 7. ,\n",
       "       7.5, 8. , 8.5, 9. , 9.5])"
      ]
     },
     "execution_count": 20,
     "metadata": {},
     "output_type": "execute_result"
    }
   ],
   "source": [
    "v2=np.arange(1,10,0.5)\n",
    "v2"
   ]
  },
  {
   "cell_type": "code",
   "execution_count": 21,
   "id": "60621f95-9598-40e3-9b8f-59ec4aa0dc07",
   "metadata": {},
   "outputs": [
    {
     "data": {
      "text/plain": [
       "dtype('float64')"
      ]
     },
     "execution_count": 21,
     "metadata": {},
     "output_type": "execute_result"
    }
   ],
   "source": [
    "v2.dtype"
   ]
  },
  {
   "cell_type": "code",
   "execution_count": 22,
   "id": "3fa755d1-5ce6-4043-b005-5ae2f2452317",
   "metadata": {},
   "outputs": [
    {
     "data": {
      "text/plain": [
       "dtype('float64')"
      ]
     },
     "execution_count": 22,
     "metadata": {},
     "output_type": "execute_result"
    }
   ],
   "source": [
    "v3=np.array([56,78,34.23,79,41,19])\n",
    "v3.dtype"
   ]
  },
  {
   "cell_type": "code",
   "execution_count": 23,
   "id": "8d89f1b4-62f5-437b-97d8-21eb02fa2d46",
   "metadata": {},
   "outputs": [
    {
     "data": {
      "text/plain": [
       "array([56.  , 78.  , 34.23, 79.  , 41.  , 19.  ])"
      ]
     },
     "execution_count": 23,
     "metadata": {},
     "output_type": "execute_result"
    }
   ],
   "source": [
    "v3"
   ]
  },
  {
   "cell_type": "code",
   "execution_count": 24,
   "id": "c803795e-2ebe-48d9-b7ad-89ddf0067aa6",
   "metadata": {},
   "outputs": [
    {
     "data": {
      "text/plain": [
       "dtype('<U32')"
      ]
     },
     "execution_count": 24,
     "metadata": {},
     "output_type": "execute_result"
    }
   ],
   "source": [
    "v4=np.array([56,78,34.23,79,41,19,'pune'])\n",
    "v4.dtype"
   ]
  },
  {
   "cell_type": "code",
   "execution_count": 25,
   "id": "d3c54120-ff6e-4c53-9b89-65e90e31a12e",
   "metadata": {},
   "outputs": [
    {
     "data": {
      "text/plain": [
       "array(['56', '78', '34.23', '79', '41', '19', 'pune'], dtype='<U32')"
      ]
     },
     "execution_count": 25,
     "metadata": {},
     "output_type": "execute_result"
    }
   ],
   "source": [
    "v4"
   ]
  },
  {
   "cell_type": "code",
   "execution_count": 26,
   "id": "d51f13dd-8859-4714-90e3-095fd1c3652b",
   "metadata": {},
   "outputs": [
    {
     "data": {
      "text/plain": [
       "dtype('float64')"
      ]
     },
     "execution_count": 26,
     "metadata": {},
     "output_type": "execute_result"
    }
   ],
   "source": [
    "v5=np.array([56,78,34.23,79,41,19,True])\n",
    "v5.dtype"
   ]
  },
  {
   "cell_type": "code",
   "execution_count": 27,
   "id": "3ec9b3c0-c527-455e-b29a-0e72e5cae268",
   "metadata": {},
   "outputs": [
    {
     "data": {
      "text/plain": [
       "array([56.  , 78.  , 34.23, 79.  , 41.  , 19.  ,  1.  ])"
      ]
     },
     "execution_count": 27,
     "metadata": {},
     "output_type": "execute_result"
    }
   ],
   "source": [
    "v5"
   ]
  },
  {
   "cell_type": "code",
   "execution_count": 28,
   "id": "d7169785-ffd3-4064-9b61-1a063eb449f2",
   "metadata": {},
   "outputs": [],
   "source": [
    "z = np.zeros(10)"
   ]
  },
  {
   "cell_type": "code",
   "execution_count": 29,
   "id": "a5078761-adbe-4e13-99d4-877cdab240f7",
   "metadata": {},
   "outputs": [
    {
     "data": {
      "text/plain": [
       "array([0., 0., 0., 0., 0., 0., 0., 0., 0., 0.])"
      ]
     },
     "execution_count": 29,
     "metadata": {},
     "output_type": "execute_result"
    }
   ],
   "source": [
    "z"
   ]
  },
  {
   "cell_type": "code",
   "execution_count": 30,
   "id": "a55ab644-aba0-414e-99fe-09adde416b60",
   "metadata": {},
   "outputs": [],
   "source": [
    "z = np.zeros(10, dtype = np.int8)"
   ]
  },
  {
   "cell_type": "code",
   "execution_count": 31,
   "id": "014aaaca-0ac6-44db-a7d2-005b48d7bc0d",
   "metadata": {},
   "outputs": [
    {
     "data": {
      "text/plain": [
       "array([0, 0, 0, 0, 0, 0, 0, 0, 0, 0], dtype=int8)"
      ]
     },
     "execution_count": 31,
     "metadata": {},
     "output_type": "execute_result"
    }
   ],
   "source": [
    "z"
   ]
  },
  {
   "cell_type": "code",
   "execution_count": 32,
   "id": "697c10ae-2195-4dc3-828e-62908be303e3",
   "metadata": {},
   "outputs": [],
   "source": [
    "o = np.ones(10, dtype = np.int8)"
   ]
  },
  {
   "cell_type": "code",
   "execution_count": 33,
   "id": "d34e65f4-995e-4721-837a-b888619deeed",
   "metadata": {},
   "outputs": [
    {
     "data": {
      "text/plain": [
       "array([1, 1, 1, 1, 1, 1, 1, 1, 1, 1], dtype=int8)"
      ]
     },
     "execution_count": 33,
     "metadata": {},
     "output_type": "execute_result"
    }
   ],
   "source": [
    "o"
   ]
  },
  {
   "cell_type": "code",
   "execution_count": 34,
   "id": "bdcffb11-337e-4e6f-8a6e-04d510a7d286",
   "metadata": {},
   "outputs": [
    {
     "data": {
      "text/plain": [
       "array([ 1.        ,  1.69230769,  2.38461538,  3.07692308,  3.76923077,\n",
       "        4.46153846,  5.15384615,  5.84615385,  6.53846154,  7.23076923,\n",
       "        7.92307692,  8.61538462,  9.30769231, 10.        ])"
      ]
     },
     "execution_count": 34,
     "metadata": {},
     "output_type": "execute_result"
    }
   ],
   "source": [
    "v7=np.linspace(1,10,14)\n",
    "v7"
   ]
  },
  {
   "cell_type": "code",
   "execution_count": 35,
   "id": "71fc570a-18f3-4044-b415-2ecb140fbcb1",
   "metadata": {},
   "outputs": [],
   "source": [
    "import matplotlib.pyplot as plt"
   ]
  },
  {
   "cell_type": "code",
   "execution_count": 36,
   "id": "61285af3-1836-4ade-95c7-e2dc186e23d8",
   "metadata": {},
   "outputs": [
    {
     "data": {
      "text/plain": [
       "[<matplotlib.lines.Line2D at 0x2c899f56270>]"
      ]
     },
     "execution_count": 36,
     "metadata": {},
     "output_type": "execute_result"
    },
    {
     "data": {
      "image/png": "[encoded data removed]",
      "text/plain": [
       "<Figure size 640x480 with 1 Axes>"
      ]
     },
     "metadata": {},
     "output_type": "display_data"
    }
   ],
   "source": [
    "plt.plot(v7, marker='.')"
   ]
  },
  {
   "cell_type": "code",
   "execution_count": 37,
   "id": "e12917d7-87ca-4695-adde-7ffcefc6a524",
   "metadata": {},
   "outputs": [],
   "source": [
    "v8= np.array([0,5])\n",
    "v9= np.array([0,8])"
   ]
  },
  {
   "cell_type": "code",
   "execution_count": 38,
   "id": "894dc970-4624-459c-990a-0fe64eb83106",
   "metadata": {},
   "outputs": [
    {
     "data": {
      "text/plain": [
       "[<matplotlib.lines.Line2D at 0x2c89a0063f0>]"
      ]
     },
     "execution_count": 38,
     "metadata": {},
     "output_type": "execute_result"
    },
    {
     "data": {
      "image/png": "[encoded data removed]",
      "text/plain": [
       "<Figure size 640x480 with 1 Axes>"
      ]
     },
     "metadata": {},
     "output_type": "display_data"
    }
   ],
   "source": [
    "plt.plot(v8)\n",
    "plt.plot(v9)"
   ]
  },
  {
   "cell_type": "code",
   "execution_count": 39,
   "id": "481ab7bc-01bd-45a6-854c-e6123003e984",
   "metadata": {},
   "outputs": [
    {
     "data": {
      "text/plain": [
       "40"
      ]
     },
     "execution_count": 39,
     "metadata": {},
     "output_type": "execute_result"
    }
   ],
   "source": [
    "v8.dot(v9)"
   ]
  },
  {
   "cell_type": "code",
   "execution_count": 40,
   "id": "0c313f43-4ae4-49cf-a22b-13fd402d44cc",
   "metadata": {},
   "outputs": [
    {
     "data": {
      "text/plain": [
       "40"
      ]
     },
     "execution_count": 40,
     "metadata": {},
     "output_type": "execute_result"
    }
   ],
   "source": [
    "np.dot(v8, v9)"
   ]
  },
  {
   "cell_type": "markdown",
   "id": "02269d37-470c-4231-91de-17fba71d7d6e",
   "metadata": {},
   "source": [
    "equal vectors"
   ]
  },
  {
   "cell_type": "code",
   "execution_count": 42,
   "id": "b089f7cf-8065-4b7f-b926-81df37b2d0b2",
   "metadata": {},
   "outputs": [],
   "source": [
    "v1= np.arange(1,11)"
   ]
  },
  {
   "cell_type": "code",
   "execution_count": 43,
   "id": "1ce4cd09-51f4-4ab2-adcd-f28a7b9e6744",
   "metadata": {},
   "outputs": [],
   "source": [
    "v2=v1"
   ]
  },
  {
   "cell_type": "code",
   "execution_count": 44,
   "id": "c9b6fa44-31a9-4ce3-8f39-85ad34ec2541",
   "metadata": {},
   "outputs": [
    {
     "data": {
      "text/plain": [
       "array([ 1,  2,  3,  4,  5,  6,  7,  8,  9, 10])"
      ]
     },
     "execution_count": 44,
     "metadata": {},
     "output_type": "execute_result"
    }
   ],
   "source": [
    "v1"
   ]
  },
  {
   "cell_type": "code",
   "execution_count": 45,
   "id": "9eae1cbc-d38f-4d1b-b64e-7366cc698142",
   "metadata": {},
   "outputs": [],
   "source": [
    "v2[4]=4.5"
   ]
  },
  {
   "cell_type": "code",
   "execution_count": 46,
   "id": "0079cbd8-23c7-4dd8-a085-59e0785a98e6",
   "metadata": {},
   "outputs": [
    {
     "data": {
      "text/plain": [
       "array([ 1,  2,  3,  4,  4,  6,  7,  8,  9, 10])"
      ]
     },
     "execution_count": 46,
     "metadata": {},
     "output_type": "execute_result"
    }
   ],
   "source": [
    "v1"
   ]
  },
  {
   "cell_type": "code",
   "execution_count": 47,
   "id": "73061031-8816-444f-ac7e-c680e8624e70",
   "metadata": {},
   "outputs": [],
   "source": [
    "v1[5]=15"
   ]
  },
  {
   "cell_type": "code",
   "execution_count": 48,
   "id": "74b0c617-6452-47a4-b142-f27d842bfe4b",
   "metadata": {},
   "outputs": [
    {
     "data": {
      "text/plain": [
       "array([ 1,  2,  3,  4,  4, 15,  7,  8,  9, 10])"
      ]
     },
     "execution_count": 48,
     "metadata": {},
     "output_type": "execute_result"
    }
   ],
   "source": [
    "v1"
   ]
  },
  {
   "cell_type": "code",
   "execution_count": 49,
   "id": "bfb4d7f2-49e9-4dbf-9683-81f5be02ff51",
   "metadata": {},
   "outputs": [
    {
     "data": {
      "text/plain": [
       "3060600452176"
      ]
     },
     "execution_count": 49,
     "metadata": {},
     "output_type": "execute_result"
    }
   ],
   "source": [
    "id(v1)"
   ]
  },
  {
   "cell_type": "code",
   "execution_count": 50,
   "id": "52f5da07-10b1-44d3-a4b5-97967fb2ddf0",
   "metadata": {},
   "outputs": [
    {
     "data": {
      "text/plain": [
       "3060600452176"
      ]
     },
     "execution_count": 50,
     "metadata": {},
     "output_type": "execute_result"
    }
   ],
   "source": [
    "id(v2)"
   ]
  },
  {
   "cell_type": "code",
   "execution_count": 51,
   "id": "ea8c5b8a-d7ce-4929-a98b-857d734ce063",
   "metadata": {},
   "outputs": [],
   "source": [
    "v1= np.arange(1,11)"
   ]
  },
  {
   "cell_type": "code",
   "execution_count": 52,
   "id": "17ca28c5-03d4-4d6a-b013-6b673ca7907a",
   "metadata": {},
   "outputs": [
    {
     "data": {
      "text/plain": [
       "(3060567396432, 3060625383248)"
      ]
     },
     "execution_count": 52,
     "metadata": {},
     "output_type": "execute_result"
    }
   ],
   "source": [
    "v2=v1.copy()\n",
    "id(v1), id(v2)"
   ]
  },
  {
   "cell_type": "code",
   "execution_count": 53,
   "id": "44825813-68ea-4dd2-88c8-d44cfe69609c",
   "metadata": {},
   "outputs": [
    {
     "data": {
      "text/plain": [
       "array([ 1,  2,  3,  4,  5,  6,  7,  8,  9, 10])"
      ]
     },
     "execution_count": 53,
     "metadata": {},
     "output_type": "execute_result"
    }
   ],
   "source": [
    "v2"
   ]
  },
  {
   "cell_type": "code",
   "execution_count": 54,
   "id": "4d2b9c71-5ba4-4b7c-a315-f5e546886aa8",
   "metadata": {},
   "outputs": [
    {
     "data": {
      "text/plain": [
       "array([ True,  True,  True,  True,  True,  True,  True,  True,  True,\n",
       "        True])"
      ]
     },
     "execution_count": 54,
     "metadata": {},
     "output_type": "execute_result"
    }
   ],
   "source": [
    "v1==v2"
   ]
  },
  {
   "cell_type": "code",
   "execution_count": 55,
   "id": "17abdc8f-78bd-4d5c-b744-e8044174c6f6",
   "metadata": {},
   "outputs": [],
   "source": [
    "def isEqual(v1, v2):\n",
    "    status = 1\n",
    "    for i in range(0,len(v1)):\n",
    "        if v1[i]==v2[i]:\n",
    "            continue\n",
    "        else:\n",
    "            status = 0\n",
    "            break\n",
    "    if status == 1:\n",
    "        print(\"Equal\")\n",
    "    else:\n",
    "        print(\"Not Equal\")"
   ]
  },
  {
   "cell_type": "code",
   "execution_count": 56,
   "id": "407b8d58-60da-40b9-b8f8-5caec27c640f",
   "metadata": {},
   "outputs": [
    {
     "name": "stdout",
     "output_type": "stream",
     "text": [
      "Equal\n"
     ]
    }
   ],
   "source": [
    "isEqual(v1,v2)"
   ]
  },
  {
   "cell_type": "code",
   "execution_count": 57,
   "id": "4c54be3b-47a9-4b9f-8d1b-e710a8c39454",
   "metadata": {},
   "outputs": [],
   "source": [
    "v3 = np.arange(1,21,2)"
   ]
  },
  {
   "cell_type": "code",
   "execution_count": 58,
   "id": "52c000f0-b1e4-441b-aea1-f5560e84bade",
   "metadata": {},
   "outputs": [
    {
     "name": "stdout",
     "output_type": "stream",
     "text": [
      "[ 1  3  5  7  9 11 13 15 17 19]\n"
     ]
    }
   ],
   "source": [
    "print(v3)"
   ]
  },
  {
   "cell_type": "code",
   "execution_count": 59,
   "id": "88ad6869-020e-4b60-a701-b5e49d046d57",
   "metadata": {},
   "outputs": [
    {
     "name": "stdout",
     "output_type": "stream",
     "text": [
      "Not Equal\n"
     ]
    }
   ],
   "source": [
    "isEqual(v1,v3)"
   ]
  },
  {
   "cell_type": "code",
   "execution_count": 60,
   "id": "cc0baaa8-1902-4ba2-b316-91c55fde5622",
   "metadata": {},
   "outputs": [],
   "source": [
    "def isEqual(v1,v2):\n",
    "    if sum(v1 == v2) == len(v2):\n",
    "        return True\n",
    "    else:\n",
    "        return False"
   ]
  },
  {
   "cell_type": "code",
   "execution_count": 61,
   "id": "a29fb69e-2418-437c-85a9-38b79bb4a70d",
   "metadata": {},
   "outputs": [
    {
     "data": {
      "text/plain": [
       "False"
      ]
     },
     "execution_count": 61,
     "metadata": {},
     "output_type": "execute_result"
    }
   ],
   "source": [
    "isEqual(v1,v3)"
   ]
  },
  {
   "cell_type": "code",
   "execution_count": 62,
   "id": "033a965e-9be3-4535-a58a-c0a79a3800d9",
   "metadata": {},
   "outputs": [
    {
     "data": {
      "text/plain": [
       "True"
      ]
     },
     "execution_count": 62,
     "metadata": {},
     "output_type": "execute_result"
    }
   ],
   "source": [
    "isEqual(v1,v2)"
   ]
  },
  {
   "cell_type": "markdown",
   "id": "3938e245-c79c-4abb-9022-4878d483efe9",
   "metadata": {},
   "source": [
    "# Negative Vectors"
   ]
  },
  {
   "cell_type": "code",
   "execution_count": 64,
   "id": "422375e4-a99a-4ae3-a7ba-e05581e922b1",
   "metadata": {},
   "outputs": [],
   "source": [
    "v1 = np.arange(1, 11)"
   ]
  },
  {
   "cell_type": "code",
   "execution_count": 65,
   "id": "632845e5-4536-4ae1-a539-eb4dbea84d55",
   "metadata": {},
   "outputs": [],
   "source": [
    "v2 = np.arange(10, 0, -1)"
   ]
  },
  {
   "cell_type": "code",
   "execution_count": 66,
   "id": "aee51b00-3373-4e8a-a282-4fc282b21ab8",
   "metadata": {},
   "outputs": [
    {
     "data": {
      "text/plain": [
       "array([ 1,  2,  3,  4,  5,  6,  7,  8,  9, 10])"
      ]
     },
     "execution_count": 66,
     "metadata": {},
     "output_type": "execute_result"
    }
   ],
   "source": [
    "v1"
   ]
  },
  {
   "cell_type": "code",
   "execution_count": 67,
   "id": "7c553e99-9a39-4343-acb8-263141c8289c",
   "metadata": {},
   "outputs": [
    {
     "data": {
      "text/plain": [
       "array([10,  9,  8,  7,  6,  5,  4,  3,  2,  1])"
      ]
     },
     "execution_count": 67,
     "metadata": {},
     "output_type": "execute_result"
    }
   ],
   "source": [
    "v2"
   ]
  },
  {
   "cell_type": "code",
   "execution_count": 68,
   "id": "ce8b3647-41e9-4b02-9f09-dde6dc01da62",
   "metadata": {},
   "outputs": [],
   "source": [
    "def isNegativeVectors(v1, v2):\n",
    "    v3 = list(v2)\n",
    "    v3.reverse()\n",
    "    if sum(v1 == np.array(v3)) == len(v2):\n",
    "        return True\n",
    "    else:\n",
    "        return False"
   ]
  },
  {
   "cell_type": "code",
   "execution_count": 69,
   "id": "5f6592dc-602b-4e4b-a269-734b511f6d42",
   "metadata": {},
   "outputs": [
    {
     "data": {
      "text/plain": [
       "True"
      ]
     },
     "execution_count": 69,
     "metadata": {},
     "output_type": "execute_result"
    }
   ],
   "source": [
    "isNegativeVectors(v1, v2)"
   ]
  },
  {
   "cell_type": "markdown",
   "id": "9fb9fd44-f60c-4043-a4d3-c6b333bf2afc",
   "metadata": {},
   "source": [
    "Parallel vectors"
   ]
  },
  {
   "cell_type": "code",
   "execution_count": 176,
   "id": "3be26a3d-c31a-4d98-bbbe-90a587856a3a",
   "metadata": {},
   "outputs": [],
   "source": [
    "v1=np.arange(1,11)\n",
    "\n",
    "v2=np.arrange(2,12)\n"
   ]
  },
  {
   "cell_type": "code",
   "execution_count": 142,
   "id": "54b2250b-a831-497a-9a3f-87c8bf31482f",
   "metadata": {},
   "outputs": [
    {
     "data": {
      "text/plain": [
       "[<matplotlib.lines.Line2D at 0x2c8980ce900>]"
      ]
     },
     "execution_count": 142,
     "metadata": {},
     "output_type": "execute_result"
    },
    {
     "data": {
      "image/png": "[encoded data removed]",
      "text/plain": [
       "<Figure size 640x480 with 1 Axes>"
      ]
     },
     "metadata": {},
     "output_type": "display_data"
    }
   ],
   "source": [
    "plt.plot(v1)\n",
    "plt.plot"
   ]
  },
  {
   "cell_type": "code",
   "execution_count": 180,
   "id": "735df073-771f-467f-96ec-64ee42d05edb",
   "metadata": {},
   "outputs": [],
   "source": [
    "# v3 = np.arange(1,11)\n",
    "v3 = np.array([1,10])\n",
    "# v4 = np.arange(10,0,-1)\n",
    "v4 = np.array([10,1])"
   ]
  },
  {
   "cell_type": "code",
   "execution_count": 182,
   "id": "8f77adcb-b381-401d-b1e5-7371e3897771",
   "metadata": {},
   "outputs": [
    {
     "data": {
      "text/plain": [
       "[<matplotlib.lines.Line2D at 0x2c89d07fa70>]"
      ]
     },
     "execution_count": 182,
     "metadata": {},
     "output_type": "execute_result"
    },
    {
     "data": {
      "image/png": "[encoded data removed]",
      "text/plain": [
       "<Figure size 500x500 with 1 Axes>"
      ]
     },
     "metadata": {},
     "output_type": "display_data"
    }
   ],
   "source": [
    "plt.figure(figsize=(5,5))\n",
    "plt.plot(v3)\n",
    "plt.plot(v4)"
   ]
  },
  {
   "cell_type": "markdown",
   "id": "f7ceac33-c7fb-45c7-9f3f-7bf8f8522dc0",
   "metadata": {},
   "source": [
    "co initial vectors"
   ]
  },
  {
   "cell_type": "code",
   "execution_count": 186,
   "id": "3b85e055-5d97-4d51-9fa8-aa0ca96272ff",
   "metadata": {},
   "outputs": [],
   "source": [
    "v5 = np.arange(1,11)\n",
    "v6 = np.arange(1,21,2)"
   ]
  },
  {
   "cell_type": "code",
   "execution_count": 188,
   "id": "81b56c68-20b5-443d-8757-67090f8df1f1",
   "metadata": {},
   "outputs": [
    {
     "data": {
      "text/plain": [
       "[<matplotlib.lines.Line2D at 0x2c899fd39b0>]"
      ]
     },
     "execution_count": 188,
     "metadata": {},
     "output_type": "execute_result"
    },
    {
     "data": {
      "image/png": "[encoded data removed]",
      "text/plain": [
       "<Figure size 640x480 with 1 Axes>"
      ]
     },
     "metadata": {},
     "output_type": "display_data"
    }
   ],
   "source": [
    "plt.plot(v5)\n",
    "plt.plot(v6)"
   ]
  },
  {
   "cell_type": "markdown",
   "id": "4bfdc8ee-67f0-4d4e-a1cf-2b2a0ddc06be",
   "metadata": {},
   "source": [
    "vector operations"
   ]
  },
  {
   "cell_type": "code",
   "execution_count": 190,
   "id": "38277797-e905-433b-9bf1-fd24a5e2fd04",
   "metadata": {},
   "outputs": [],
   "source": [
    "v6= np.array([34,11,24,64,67,38,22,42,16])"
   ]
  },
  {
   "cell_type": "code",
   "execution_count": 192,
   "id": "05deaa22-05ae-4a7d-98ea-a45611e87395",
   "metadata": {},
   "outputs": [],
   "source": [
    "x=[34,11,24,64,67,38,22,42,16]"
   ]
  },
  {
   "cell_type": "code",
   "execution_count": 194,
   "id": "5b520644-736c-4c7c-b281-030f25ece2a0",
   "metadata": {},
   "outputs": [
    {
     "data": {
      "text/plain": [
       "[34, 11, 24, 64, 67, 38, 22, 42, 16, 34, 11, 24, 64, 67, 38, 22, 42, 16]"
      ]
     },
     "execution_count": 194,
     "metadata": {},
     "output_type": "execute_result"
    }
   ],
   "source": [
    "x*2"
   ]
  },
  {
   "cell_type": "code",
   "execution_count": 198,
   "id": "0613afa4-f2f2-44f2-bb03-6ba318e6a9c7",
   "metadata": {},
   "outputs": [
    {
     "data": {
      "text/plain": [
       "array([ 68,  22,  48, 128, 134,  76,  44,  84,  32])"
      ]
     },
     "execution_count": 198,
     "metadata": {},
     "output_type": "execute_result"
    }
   ],
   "source": [
    "v6*2"
   ]
  },
  {
   "cell_type": "code",
   "execution_count": 200,
   "id": "81777b7e-77d9-40ab-9f46-fdf9dfee4285",
   "metadata": {},
   "outputs": [],
   "source": [
    "v1=np.arange(1,11)\n",
    "v2=v1*2"
   ]
  },
  {
   "cell_type": "code",
   "execution_count": 202,
   "id": "aad9a2a8-f36a-42bb-9c10-26a443351d89",
   "metadata": {},
   "outputs": [
    {
     "data": {
      "text/plain": [
       "[<matplotlib.lines.Line2D at 0x2c89d132a80>]"
      ]
     },
     "execution_count": 202,
     "metadata": {},
     "output_type": "execute_result"
    },
    {
     "data": {
      "image/png": "[encoded data removed]",
      "text/plain": [
       "<Figure size 640x480 with 1 Axes>"
      ]
     },
     "metadata": {},
     "output_type": "display_data"
    }
   ],
   "source": [
    "plt.plot(v1)\n",
    "plt.plot(v2)"
   ]
  },
  {
   "cell_type": "code",
   "execution_count": 204,
   "id": "c013993b-4b60-47df-9323-d403532496a1",
   "metadata": {},
   "outputs": [],
   "source": [
    "v3=v1+2"
   ]
  },
  {
   "cell_type": "code",
   "execution_count": 206,
   "id": "071a0ee9-86e1-41e7-8be4-4fb6c38adb3e",
   "metadata": {},
   "outputs": [
    {
     "data": {
      "text/plain": [
       "array([ 3,  4,  5,  6,  7,  8,  9, 10, 11, 12])"
      ]
     },
     "execution_count": 206,
     "metadata": {},
     "output_type": "execute_result"
    }
   ],
   "source": [
    "v3"
   ]
  },
  {
   "cell_type": "code",
   "execution_count": 208,
   "id": "cff7dd3b-b3e1-4da3-b101-a9b94215d0a9",
   "metadata": {},
   "outputs": [
    {
     "data": {
      "text/plain": [
       "[<matplotlib.lines.Line2D at 0x2c89d187a70>]"
      ]
     },
     "execution_count": 208,
     "metadata": {},
     "output_type": "execute_result"
    },
    {
     "data": {
      "image/png": "[encoded data removed]",
      "text/plain": [
       "<Figure size 640x480 with 1 Axes>"
      ]
     },
     "metadata": {},
     "output_type": "display_data"
    }
   ],
   "source": [
    "plt.plot(v1)\n",
    "plt.plot(v3)"
   ]
  },
  {
   "cell_type": "code",
   "execution_count": 210,
   "id": "3671b1a2-e377-4838-8c5d-50e61ba963dd",
   "metadata": {},
   "outputs": [],
   "source": [
    "v4=v1+3\n",
    "v5=v1+4"
   ]
  },
  {
   "cell_type": "code",
   "execution_count": 212,
   "id": "f50306db-3227-4a78-b617-2e6dfa013a63",
   "metadata": {},
   "outputs": [
    {
     "data": {
      "text/plain": [
       "[<matplotlib.lines.Line2D at 0x2c89d1f3080>]"
      ]
     },
     "execution_count": 212,
     "metadata": {},
     "output_type": "execute_result"
    },
    {
     "data": {
      "image/png": "[encoded data removed]",
      "text/plain": [
       "<Figure size 640x480 with 1 Axes>"
      ]
     },
     "metadata": {},
     "output_type": "display_data"
    }
   ],
   "source": [
    "plt.plot(v1)\n",
    "plt.plot(v3)\n",
    "plt.plot(v4)\n",
    "plt.plot(v5)"
   ]
  },
  {
   "cell_type": "code",
   "execution_count": 216,
   "id": "1407a48e-88b8-49c4-be8e-b841780d788f",
   "metadata": {},
   "outputs": [],
   "source": [
    "v1=np.array([34,11,24,64,67,38,22,42,16])"
   ]
  },
  {
   "cell_type": "code",
   "execution_count": 218,
   "id": "6de0c1c7-96d8-49cc-8508-5337365fc2b2",
   "metadata": {},
   "outputs": [
    {
     "data": {
      "text/plain": [
       "array([ True, False, False,  True,  True,  True, False,  True, False])"
      ]
     },
     "execution_count": 218,
     "metadata": {},
     "output_type": "execute_result"
    }
   ],
   "source": [
    "v1>30"
   ]
  },
  {
   "cell_type": "code",
   "execution_count": 220,
   "id": "903cc46f-ef4b-4f74-8cf2-f6d2f3f3f8eb",
   "metadata": {},
   "outputs": [
    {
     "data": {
      "text/plain": [
       "array([34, 64, 67, 38, 42])"
      ]
     },
     "execution_count": 220,
     "metadata": {},
     "output_type": "execute_result"
    }
   ],
   "source": [
    "v1[v1>30]"
   ]
  },
  {
   "cell_type": "code",
   "execution_count": 222,
   "id": "1396f19c-a7df-4a29-b07e-fb0bb9b7008d",
   "metadata": {},
   "outputs": [
    {
     "data": {
      "text/plain": [
       "array([34, 11, 24, 64, 67, 38, 22, 42, 16])"
      ]
     },
     "execution_count": 222,
     "metadata": {},
     "output_type": "execute_result"
    }
   ],
   "source": [
    "v1"
   ]
  },
  {
   "cell_type": "code",
   "execution_count": 224,
   "id": "3b65e2f3-1976-47f8-804c-05e12e35a1fa",
   "metadata": {},
   "outputs": [
    {
     "data": {
      "text/plain": [
       "array([ 79,  22,  56, 120, 143,  63,  39,  89, 100])"
      ]
     },
     "execution_count": 224,
     "metadata": {},
     "output_type": "execute_result"
    }
   ],
   "source": [
    "v2=np.array([45,11,32,56,76,25,17,47,84])\n",
    "v1+v2"
   ]
  },
  {
   "cell_type": "code",
   "execution_count": 226,
   "id": "86c69080-8407-40bf-b12a-a129e10f975c",
   "metadata": {},
   "outputs": [],
   "source": [
    "v3=np.arange(1,11)\n",
    "v4=np.arange(1,21,2)"
   ]
  },
  {
   "cell_type": "code",
   "execution_count": 234,
   "id": "7e036b3c-e3e3-4597-aab9-4e44076aec35",
   "metadata": {},
   "outputs": [],
   "source": [
    "v5= v3+v4"
   ]
  },
  {
   "cell_type": "code",
   "execution_count": 236,
   "id": "b1245564-5b2f-43f7-95b5-ff2454dba4c7",
   "metadata": {},
   "outputs": [
    {
     "data": {
      "text/plain": [
       "[<matplotlib.lines.Line2D at 0x2c89d19b4d0>]"
      ]
     },
     "execution_count": 236,
     "metadata": {},
     "output_type": "execute_result"
    },
    {
     "data": {
      "image/png": "[encoded data removed]",
      "text/plain": [
       "<Figure size 640x480 with 1 Axes>"
      ]
     },
     "metadata": {},
     "output_type": "display_data"
    }
   ],
   "source": [
    "plt.plot(v3)\n",
    "plt.plot(v4)\n",
    "plt.plot(v5)"
   ]
  },
  {
   "cell_type": "code",
   "execution_count": 238,
   "id": "da382de9-c054-4567-bbcd-2b16ef89d7a1",
   "metadata": {},
   "outputs": [
    {
     "data": {
      "text/plain": [
       "array([-11,   0,  -8,   8,  -9,  13,   5,  -5, -68])"
      ]
     },
     "execution_count": 238,
     "metadata": {},
     "output_type": "execute_result"
    }
   ],
   "source": [
    "v1-v2"
   ]
  },
  {
   "cell_type": "code",
   "execution_count": 240,
   "id": "c2e5d7c7-20c1-455d-8652-1457f6640888",
   "metadata": {},
   "outputs": [
    {
     "data": {
      "text/plain": [
       "array([1530,  121,  768, 3584, 5092,  950,  374, 1974, 1344])"
      ]
     },
     "execution_count": 240,
     "metadata": {},
     "output_type": "execute_result"
    }
   ],
   "source": [
    "v1*v2"
   ]
  },
  {
   "cell_type": "code",
   "execution_count": 242,
   "id": "0df8bddb-9324-4f7f-94b4-1904ed9f0177",
   "metadata": {},
   "outputs": [
    {
     "data": {
      "text/plain": [
       "array([0.75555556, 1.        , 0.75      , 1.14285714, 0.88157895,\n",
       "       1.52      , 1.29411765, 0.89361702, 0.19047619])"
      ]
     },
     "execution_count": 242,
     "metadata": {},
     "output_type": "execute_result"
    }
   ],
   "source": [
    "v1/v2"
   ]
  },
  {
   "cell_type": "code",
   "execution_count": 244,
   "id": "a82e7b2e-7c5d-467f-b1b5-d65e83e8f2e4",
   "metadata": {},
   "outputs": [
    {
     "data": {
      "text/plain": [
       "array([False, False, False,  True, False,  True,  True, False, False])"
      ]
     },
     "execution_count": 244,
     "metadata": {},
     "output_type": "execute_result"
    }
   ],
   "source": [
    "v1>v2"
   ]
  },
  {
   "cell_type": "markdown",
   "id": "1a27d1d6-bb9a-4327-aa2a-9b37204c6840",
   "metadata": {},
   "source": [
    "Cosine Similiarity"
   ]
  },
  {
   "cell_type": "code",
   "execution_count": 247,
   "id": "48edc0de-b663-4edc-9fb5-5d108c31703f",
   "metadata": {},
   "outputs": [],
   "source": [
    "v1= np.array([1,2,3,4,5])\n",
    "v2= np.array([8,9,2,1,0])"
   ]
  },
  {
   "cell_type": "code",
   "execution_count": 253,
   "id": "29e7afb2-9a28-4ff0-91e0-0562a7f8532b",
   "metadata": {},
   "outputs": [],
   "source": [
    "cos_sim =np.dot(v1,v2) / (np.linalg.norm(v1) * np.linalg.norm(v2))"
   ]
  },
  {
   "cell_type": "code",
   "execution_count": 255,
   "id": "7ded66c0-9beb-4209-96b0-99fc5643093c",
   "metadata": {},
   "outputs": [
    {
     "data": {
      "text/plain": [
       "0.39634695544548987"
      ]
     },
     "execution_count": 255,
     "metadata": {},
     "output_type": "execute_result"
    }
   ],
   "source": [
    "cos_sim"
   ]
  },
  {
   "cell_type": "code",
   "execution_count": 259,
   "id": "78cb709b-a49b-45c6-b78d-8fa74868ca5d",
   "metadata": {},
   "outputs": [
    {
     "data": {
      "text/plain": [
       "0.9953580081169136"
      ]
     },
     "execution_count": 259,
     "metadata": {},
     "output_type": "execute_result"
    }
   ],
   "source": [
    "v2=np.array([1,2,4,6,7])\n",
    "cos_sim =np.dot(v1,v2) / (np.linalg.norm(v1) * np.linalg.norm(v2))\n",
    "cos_sim"
   ]
  },
  {
   "cell_type": "code",
   "execution_count": 261,
   "id": "b47ec158-cd38-4fc8-9de9-b05656fabb89",
   "metadata": {},
   "outputs": [
    {
     "data": {
      "text/plain": [
       "-0.9847319278346618"
      ]
     },
     "execution_count": 261,
     "metadata": {},
     "output_type": "execute_result"
    }
   ],
   "source": [
    "v2 = np.array([0,-1,-2,-3,-4])\n",
    "cos_sim =np.dot(v1,v2) / (np.linalg.norm(v1) * np.linalg.norm(v2))\n",
    "cos_sim"
   ]
  },
  {
   "cell_type": "code",
   "execution_count": 263,
   "id": "1be52915-d995-48a8-b89c-7b069893c9eb",
   "metadata": {},
   "outputs": [
    {
     "data": {
      "text/plain": [
       "0.0"
      ]
     },
     "execution_count": 263,
     "metadata": {},
     "output_type": "execute_result"
    }
   ],
   "source": [
    "v1 = np.array([0,1])\n",
    "v2 = np.array([1,0])\n",
    "cos_sim =np.dot(v1,v2) / (np.linalg.norm(v1) * np.linalg.norm(v2))\n",
    "cos_sim"
   ]
  },
  {
   "cell_type": "code",
   "execution_count": 265,
   "id": "6aa62149-3b3b-4419-9002-cba6448d768c",
   "metadata": {},
   "outputs": [
    {
     "data": {
      "text/plain": [
       "1.0"
      ]
     },
     "execution_count": 265,
     "metadata": {},
     "output_type": "execute_result"
    }
   ],
   "source": [
    "v1 = np.array([1,2,3,4,5])\n",
    "v2 = np.array([1,2,3,4,5])\n",
    "cos_sim =np.dot(v1,v2) / (np.linalg.norm(v1) * np.linalg.norm(v2))\n",
    "cos_sim"
   ]
  }
 ],
 "metadata": {
  "kernelspec": {
   "display_name": "Python 3 (ipykernel)",
   "language": "python",
   "name": "python3"
  },
  "language_info": {
   "codemirror_mode": {
    "name": "ipython",
    "version": 3
   },
   "file_extension": ".py",
   "mimetype": "text/x-python",
   "name": "python",
   "nbconvert_exporter": "python",
   "pygments_lexer": "ipython3",
   "version": "3.12.4"
  }
 },
 "nbformat": 4,
 "nbformat_minor": 5
}
